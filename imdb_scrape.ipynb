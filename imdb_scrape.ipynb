{
 "cells": [
  {
   "cell_type": "code",
   "execution_count": 5,
   "metadata": {
    "ExecuteTime": {
     "end_time": "2019-02-02T17:44:35.281136Z",
     "start_time": "2019-02-02T17:44:34.776889Z"
    }
   },
   "outputs": [],
   "source": [
    "\n",
    "import urllib.request, urllib.parse, urllib.error\n",
    "import json\n",
    "from bs4 import BeautifulSoup\n",
    "import requests\n",
    "import re\n",
    "import os\n",
    "import pandas as pd\n",
    "import numpy as np\n"
   ]
  },
  {
   "cell_type": "code",
   "execution_count": 324,
   "metadata": {
    "ExecuteTime": {
     "end_time": "2019-02-02T14:33:07.082091Z",
     "start_time": "2019-02-02T14:33:07.066136Z"
    }
   },
   "outputs": [],
   "source": [
    "\n",
    "movid=pd.read_csv(\"C:\\\\Users\\\\Jayant\\\\Desktop\\\\ml-latest-small\\\\links.csv\",delimiter=',')\n",
    "# movname=pd.read_csv(\"\")\n",
    "del movid[\"tmdbId\"]\n",
    "finalmovid=movid[0:1000]\n",
    "\n"
   ]
  },
  {
   "cell_type": "code",
   "execution_count": 366,
   "metadata": {
    "ExecuteTime": {
     "end_time": "2019-02-02T16:44:35.299963Z",
     "start_time": "2019-02-02T16:44:35.292025Z"
    }
   },
   "outputs": [],
   "source": [
    "data1=pd.read_csv(\"C:\\\\Users\\\\Jayant\\\\Desktop\\\\title_imdb.csv\",delimiter=',')"
   ]
  },
  {
   "cell_type": "code",
   "execution_count": 368,
   "metadata": {
    "ExecuteTime": {
     "end_time": "2019-02-02T16:44:52.758499Z",
     "start_time": "2019-02-02T16:44:52.750520Z"
    }
   },
   "outputs": [
    {
     "data": {
      "text/html": [
       "<div>\n",
       "<style scoped>\n",
       "    .dataframe tbody tr th:only-of-type {\n",
       "        vertical-align: middle;\n",
       "    }\n",
       "\n",
       "    .dataframe tbody tr th {\n",
       "        vertical-align: top;\n",
       "    }\n",
       "\n",
       "    .dataframe thead th {\n",
       "        text-align: right;\n",
       "    }\n",
       "</style>\n",
       "<table border=\"1\" class=\"dataframe\">\n",
       "  <thead>\n",
       "    <tr style=\"text-align: right;\">\n",
       "      <th></th>\n",
       "      <th>movieId</th>\n",
       "      <th>imdbId</th>\n",
       "    </tr>\n",
       "  </thead>\n",
       "  <tbody>\n",
       "    <tr>\n",
       "      <th>0</th>\n",
       "      <td>1</td>\n",
       "      <td>114709</td>\n",
       "    </tr>\n",
       "    <tr>\n",
       "      <th>1</th>\n",
       "      <td>2</td>\n",
       "      <td>113497</td>\n",
       "    </tr>\n",
       "    <tr>\n",
       "      <th>2</th>\n",
       "      <td>3</td>\n",
       "      <td>113228</td>\n",
       "    </tr>\n",
       "    <tr>\n",
       "      <th>3</th>\n",
       "      <td>4</td>\n",
       "      <td>114885</td>\n",
       "    </tr>\n",
       "    <tr>\n",
       "      <th>4</th>\n",
       "      <td>5</td>\n",
       "      <td>113041</td>\n",
       "    </tr>\n",
       "  </tbody>\n",
       "</table>\n",
       "</div>"
      ],
      "text/plain": [
       "   movieId  imdbId\n",
       "0        1  114709\n",
       "1        2  113497\n",
       "2        3  113228\n",
       "3        4  114885\n",
       "4        5  113041"
      ]
     },
     "execution_count": 368,
     "metadata": {},
     "output_type": "execute_result"
    }
   ],
   "source": [
    "data1.head()"
   ]
  },
  {
   "cell_type": "code",
   "execution_count": 314,
   "metadata": {
    "ExecuteTime": {
     "end_time": "2019-02-02T14:06:35.746733Z",
     "start_time": "2019-02-02T14:06:33.940133Z"
    }
   },
   "outputs": [],
   "source": [
    "\n",
    "url=\"https://www.imdb.com/title/tt0\"+str(id_each)\n",
    "response = requests.get(url)\n",
    "soup=BeautifulSoup(response.text,'html.parser')"
   ]
  },
  {
   "cell_type": "code",
   "execution_count": 315,
   "metadata": {
    "ExecuteTime": {
     "end_time": "2019-02-02T14:06:36.464662Z",
     "start_time": "2019-02-02T14:06:36.406575Z"
    }
   },
   "outputs": [],
   "source": [
    "lister_items = soup.find_all(\"div\", class_=[\"title_wrapper\",\"imdbRating\",\"slate_wrapper\",\"titleReviewBar\",\"plot_summary_wrapper\"])\n"
   ]
  },
  {
   "cell_type": "code",
   "execution_count": 316,
   "metadata": {
    "ExecuteTime": {
     "end_time": "2019-02-02T14:06:37.262246Z",
     "start_time": "2019-02-02T14:06:37.257261Z"
    }
   },
   "outputs": [
    {
     "data": {
      "text/plain": [
       "'A hopeless romantic Chicago Transit Authority token collector is mistaken for the fiancée of a coma patient.'"
      ]
     },
     "execution_count": 316,
     "metadata": {},
     "output_type": "execute_result"
    }
   ],
   "source": [
    "#plot\n",
    "#attribute eror\n",
    "lister_items[3].find('div',class_=\"summary_text\").text.strip()"
   ]
  },
  {
   "cell_type": "code",
   "execution_count": 317,
   "metadata": {
    "ExecuteTime": {
     "end_time": "2019-02-02T14:06:39.304905Z",
     "start_time": "2019-02-02T14:06:39.299918Z"
    }
   },
   "outputs": [
    {
     "data": {
      "text/plain": [
       "'While You Were Sleeping (1995)'"
      ]
     },
     "execution_count": 317,
     "metadata": {},
     "output_type": "execute_result"
    }
   ],
   "source": [
    "lister_items[1].h1.text.replace(u'\\xa0', u' ').strip()\n",
    "#name"
   ]
  },
  {
   "cell_type": "code",
   "execution_count": 331,
   "metadata": {
    "ExecuteTime": {
     "end_time": "2019-02-02T14:39:34.640294Z",
     "start_time": "2019-02-02T14:39:34.634279Z"
    }
   },
   "outputs": [
    {
     "data": {
      "text/plain": [
       "1995"
      ]
     },
     "execution_count": 331,
     "metadata": {},
     "output_type": "execute_result"
    }
   ],
   "source": [
    "year=lister_items[1].find('span',id=\"titleYear\").a.text\n",
    "int(year)\n",
    "#release year\n",
    "#attribute error"
   ]
  },
  {
   "cell_type": "code",
   "execution_count": 319,
   "metadata": {
    "ExecuteTime": {
     "end_time": "2019-02-02T14:06:40.946166Z",
     "start_time": "2019-02-02T14:06:40.940185Z"
    }
   },
   "outputs": [
    {
     "data": {
      "text/plain": [
       "6.7"
      ]
     },
     "execution_count": 319,
     "metadata": {},
     "output_type": "execute_result"
    }
   ],
   "source": [
    "#imdb rating\n",
    "float(lister_items[0].strong.text)\n"
   ]
  },
  {
   "cell_type": "code",
   "execution_count": 320,
   "metadata": {
    "ExecuteTime": {
     "end_time": "2019-02-02T14:06:41.814787Z",
     "start_time": "2019-02-02T14:06:41.809801Z"
    }
   },
   "outputs": [
    {
     "data": {
      "text/plain": [
       "67"
      ]
     },
     "execution_count": 320,
     "metadata": {},
     "output_type": "execute_result"
    }
   ],
   "source": [
    "int(lister_items[4].find('span').text)\n",
    "#metascore\n",
    "\n",
    "#if exists then proceed\n",
    "#valueerror attrubuteerror"
   ]
  },
  {
   "cell_type": "code",
   "execution_count": 321,
   "metadata": {
    "ExecuteTime": {
     "end_time": "2019-02-02T14:06:43.853571Z",
     "start_time": "2019-02-02T14:06:43.848620Z"
    }
   },
   "outputs": [
    {
     "data": {
      "text/plain": [
       "['Comedy', 'Drama', 'Romance']"
      ]
     },
     "execution_count": 321,
     "metadata": {},
     "output_type": "execute_result"
    }
   ],
   "source": [
    "#genres\n",
    "\n",
    "covr=lister_items[1].find_all(href=re.compile(\"genres\"))\n",
    "genres=[covr[i].text for i in range(len(covr))]\n",
    "genres"
   ]
  },
  {
   "cell_type": "code",
   "execution_count": null,
   "metadata": {},
   "outputs": [],
   "source": []
  },
  {
   "cell_type": "code",
   "execution_count": 322,
   "metadata": {
    "ExecuteTime": {
     "end_time": "2019-02-02T14:06:46.349191Z",
     "start_time": "2019-02-02T14:06:46.344169Z"
    }
   },
   "outputs": [
    {
     "data": {
      "text/plain": [
       "82913"
      ]
     },
     "execution_count": 322,
     "metadata": {},
     "output_type": "execute_result"
    }
   ],
   "source": [
    "votes=lister_items[0].find_all('span',itemprop=\"ratingCount\")[0].text.strip()\n",
    "int(votes.replace(\",\", \"\"))"
   ]
  },
  {
   "cell_type": "code",
   "execution_count": 332,
   "metadata": {
    "ExecuteTime": {
     "end_time": "2019-02-02T14:40:16.733362Z",
     "start_time": "2019-02-02T14:40:16.728405Z"
    }
   },
   "outputs": [
    {
     "data": {
      "text/plain": [
       "'https://m.media-amazon.com/images/M/MV5BMTU5NjU4NDUzMl5BMl5BanBnXkFtZTgwMjc4NDgzMTE@._V1_UX182_CR0,0,182,268_AL__QL50.jpg'"
      ]
     },
     "execution_count": 332,
     "metadata": {},
     "output_type": "execute_result"
    }
   ],
   "source": [
    "#poster\n",
    "#typeerror\n",
    "lister_items[2].a.img[\"src\"].strip()\n"
   ]
  },
  {
   "cell_type": "code",
   "execution_count": null,
   "metadata": {},
   "outputs": [],
   "source": []
  },
  {
   "cell_type": "code",
   "execution_count": null,
   "metadata": {},
   "outputs": [],
   "source": []
  },
  {
   "cell_type": "code",
   "execution_count": 370,
   "metadata": {
    "ExecuteTime": {
     "end_time": "2019-02-02T16:47:20.846338Z",
     "start_time": "2019-02-02T16:47:20.843310Z"
    }
   },
   "outputs": [],
   "source": [
    "# Lists to store the scraped data in\n",
    "imdb_id=[]\n",
    "movid=[]\n",
    "\n",
    "names = []\n",
    "plot=[]\n",
    "genres=[]\n",
    "\n",
    "year = []\n",
    "imdb_ratings = []\n",
    "metascores = []\n",
    "votes = []\n",
    "urlimg=[]\n",
    "\n",
    "  "
   ]
  },
  {
   "cell_type": "code",
   "execution_count": 369,
   "metadata": {
    "ExecuteTime": {
     "end_time": "2019-02-02T16:45:24.639486Z",
     "start_time": "2019-02-02T16:45:24.628515Z"
    }
   },
   "outputs": [
    {
     "data": {
      "text/html": [
       "<div>\n",
       "<style scoped>\n",
       "    .dataframe tbody tr th:only-of-type {\n",
       "        vertical-align: middle;\n",
       "    }\n",
       "\n",
       "    .dataframe tbody tr th {\n",
       "        vertical-align: top;\n",
       "    }\n",
       "\n",
       "    .dataframe thead th {\n",
       "        text-align: right;\n",
       "    }\n",
       "</style>\n",
       "<table border=\"1\" class=\"dataframe\">\n",
       "  <thead>\n",
       "    <tr style=\"text-align: right;\">\n",
       "      <th></th>\n",
       "      <th>movieId</th>\n",
       "      <th>imdbId</th>\n",
       "    </tr>\n",
       "  </thead>\n",
       "  <tbody>\n",
       "    <tr>\n",
       "      <th>9487</th>\n",
       "      <td>170289</td>\n",
       "      <td>410650</td>\n",
       "    </tr>\n",
       "    <tr>\n",
       "      <th>7688</th>\n",
       "      <td>89492</td>\n",
       "      <td>1210166</td>\n",
       "    </tr>\n",
       "    <tr>\n",
       "      <th>5710</th>\n",
       "      <td>27822</td>\n",
       "      <td>374102</td>\n",
       "    </tr>\n",
       "    <tr>\n",
       "      <th>4117</th>\n",
       "      <td>5902</td>\n",
       "      <td>268126</td>\n",
       "    </tr>\n",
       "    <tr>\n",
       "      <th>7144</th>\n",
       "      <td>71462</td>\n",
       "      <td>1313104</td>\n",
       "    </tr>\n",
       "  </tbody>\n",
       "</table>\n",
       "</div>"
      ],
      "text/plain": [
       "      movieId   imdbId\n",
       "9487   170289   410650\n",
       "7688    89492  1210166\n",
       "5710    27822   374102\n",
       "4117     5902   268126\n",
       "7144    71462  1313104"
      ]
     },
     "execution_count": 369,
     "metadata": {},
     "output_type": "execute_result"
    }
   ],
   "source": [
    "data=data1.sample(frac=1)\n",
    "data.head()"
   ]
  },
  {
   "cell_type": "code",
   "execution_count": 354,
   "metadata": {
    "ExecuteTime": {
     "end_time": "2019-02-02T15:43:42.017820Z",
     "start_time": "2019-02-02T15:43:42.013795Z"
    }
   },
   "outputs": [],
   "source": [
    "from time import sleep\n",
    "from random import randint"
   ]
  },
  {
   "cell_type": "code",
   "execution_count": null,
   "metadata": {
    "scrolled": true
   },
   "outputs": [],
   "source": [
    "count=300\n",
    "\n",
    "for idm, row in data.iterrows():\n",
    "    \n",
    "    print(row['movieId'], row['imdbId'])\n",
    "    if count<=0:\n",
    "        break\n",
    "        \n",
    "    sleep(randint(1,3))\n",
    "    \n",
    "    url=\"https://www.imdb.com/title/tt0\"+str(row['imdbId'])\n",
    "    response = requests.get(url)\n",
    "    soup=BeautifulSoup(response.text,'html.parser')\n",
    "    lister_items = soup.find_all(\"div\", class_=[\"title_wrapper\",\"imdbRating\",\"slate_wrapper\",\"titleReviewBar\",\"plot_summary_wrapper\"])\n",
    "    \n",
    "    try:\n",
    "        movieid=row['movieId']\n",
    "        imdbid= row['imdbId']\n",
    "        \n",
    "        name=lister_items[1].h1.text.replace(u'\\xa0', u' ').strip()#name\n",
    "        yr=int(lister_items[1].find('span',id=\"titleYear\").a.text)#year\n",
    "        imd_r=float(lister_items[0].strong.text)#imdbrating\n",
    "        met_r=int(lister_items[4].find('span').text)#metascore\n",
    "        \n",
    "        covr=lister_items[1].find_all(href=re.compile(\"genres\"))##\n",
    "        \n",
    "        genr=[covr[i].text for i in range(len(covr))]#genres\n",
    "        temp_vt=lister_items[0].find_all('span',itemprop=\"ratingCount\")[0].text.strip()##\n",
    "        vots=int(temp_vt.replace(\",\", \"\"))#votes\n",
    "        smallstory=lister_items[3].find('div',class_=\"summary_text\").text.strip()#plot\n",
    "        \n",
    "        urlimgtemp=lister_items[2].a.img[\"src\"].strip()#image url\n",
    "    \n",
    "    except:\n",
    "        continue\n",
    "          \n",
    "        \n",
    "    else:\n",
    "        count=count-1\n",
    "        print(\"okay\",count,name)\n",
    "        imdb_id.append(imdbid)\n",
    "        movid.append(movieid)\n",
    "        names.append(name)\n",
    "        plot.append(smallstory)\n",
    "        genres.append(genr)\n",
    "        year.append(yr)\n",
    "        imdb_ratings.append(imd_r)\n",
    "        metascores.append(met_r)\n",
    "        votes.append(vots)\n",
    "        urlimg.append(urlimgtemp)\n",
    "\n",
    "print(\"Done..\")\n",
    "        \n",
    "    \n",
    "        \n",
    "       \n",
    "        \n",
    "\n",
    "    \n",
    "   "
   ]
  },
  {
   "cell_type": "code",
   "execution_count": 363,
   "metadata": {
    "ExecuteTime": {
     "end_time": "2019-02-02T16:40:42.911876Z",
     "start_time": "2019-02-02T16:40:42.906889Z"
    }
   },
   "outputs": [],
   "source": []
  },
  {
   "cell_type": "code",
   "execution_count": 365,
   "metadata": {
    "ExecuteTime": {
     "end_time": "2019-02-02T16:42:00.449617Z",
     "start_time": "2019-02-02T16:41:58.330729Z"
    },
    "scrolled": true
   },
   "outputs": [],
   "source": []
  },
  {
   "cell_type": "code",
   "execution_count": 393,
   "metadata": {
    "ExecuteTime": {
     "end_time": "2019-02-02T17:29:26.006173Z",
     "start_time": "2019-02-02T17:29:25.977251Z"
    }
   },
   "outputs": [
    {
     "name": "stdout",
     "output_type": "stream",
     "text": [
      "<class 'pandas.core.frame.DataFrame'>\n",
      "RangeIndex: 300 entries, 0 to 299\n",
      "Data columns (total 10 columns):\n",
      "genres       300 non-null object\n",
      "imdb         300 non-null float64\n",
      "imdb_id      300 non-null int64\n",
      "metascore    300 non-null int64\n",
      "movid        300 non-null int64\n",
      "movie        300 non-null object\n",
      "plot         300 non-null object\n",
      "votes        300 non-null int64\n",
      "year         300 non-null int64\n",
      "zurl         300 non-null object\n",
      "dtypes: float64(1), int64(5), object(4)\n",
      "memory usage: 23.5+ KB\n",
      "None\n"
     ]
    },
    {
     "data": {
      "text/html": [
       "<div>\n",
       "<style scoped>\n",
       "    .dataframe tbody tr th:only-of-type {\n",
       "        vertical-align: middle;\n",
       "    }\n",
       "\n",
       "    .dataframe tbody tr th {\n",
       "        vertical-align: top;\n",
       "    }\n",
       "\n",
       "    .dataframe thead th {\n",
       "        text-align: right;\n",
       "    }\n",
       "</style>\n",
       "<table border=\"1\" class=\"dataframe\">\n",
       "  <thead>\n",
       "    <tr style=\"text-align: right;\">\n",
       "      <th></th>\n",
       "      <th>genres</th>\n",
       "      <th>imdb</th>\n",
       "      <th>imdb_id</th>\n",
       "      <th>metascore</th>\n",
       "      <th>movid</th>\n",
       "      <th>movie</th>\n",
       "      <th>plot</th>\n",
       "      <th>votes</th>\n",
       "      <th>year</th>\n",
       "      <th>zurl</th>\n",
       "    </tr>\n",
       "  </thead>\n",
       "  <tbody>\n",
       "    <tr>\n",
       "      <th>0</th>\n",
       "      <td>[Biography, Drama, Sport]</td>\n",
       "      <td>7.6</td>\n",
       "      <td>1210166</td>\n",
       "      <td>87</td>\n",
       "      <td>89492</td>\n",
       "      <td>Moneyball (2011)</td>\n",
       "      <td>Oakland A's general manager Billy Beane's succ...</td>\n",
       "      <td>320711</td>\n",
       "      <td>2011</td>\n",
       "      <td>https://m.media-amazon.com/images/M/MV5BMjAxOT...</td>\n",
       "    </tr>\n",
       "    <tr>\n",
       "      <th>1</th>\n",
       "      <td>[Adventure, Drama, Horror]</td>\n",
       "      <td>5.7</td>\n",
       "      <td>374102</td>\n",
       "      <td>63</td>\n",
       "      <td>27822</td>\n",
       "      <td>Open Water (2003)</td>\n",
       "      <td>Based on the true story of two scuba divers ac...</td>\n",
       "      <td>47529</td>\n",
       "      <td>2003</td>\n",
       "      <td>https://m.media-amazon.com/images/M/MV5BNjQ5OD...</td>\n",
       "    </tr>\n",
       "    <tr>\n",
       "      <th>2</th>\n",
       "      <td>[Comedy, Drama]</td>\n",
       "      <td>7.7</td>\n",
       "      <td>268126</td>\n",
       "      <td>83</td>\n",
       "      <td>5902</td>\n",
       "      <td>Adaptation. (2002)</td>\n",
       "      <td>A lovelorn screenwriter becomes desperate as h...</td>\n",
       "      <td>163178</td>\n",
       "      <td>2002</td>\n",
       "      <td>https://m.media-amazon.com/images/M/MV5BZjIwZW...</td>\n",
       "    </tr>\n",
       "    <tr>\n",
       "      <th>3</th>\n",
       "      <td>[Documentary, Crime]</td>\n",
       "      <td>8.4</td>\n",
       "      <td>1313104</td>\n",
       "      <td>84</td>\n",
       "      <td>71462</td>\n",
       "      <td>The Cove (2009)</td>\n",
       "      <td>Using state-of-the-art equipment, a group of a...</td>\n",
       "      <td>44744</td>\n",
       "      <td>2009</td>\n",
       "      <td>https://m.media-amazon.com/images/M/MV5BMzM3NT...</td>\n",
       "    </tr>\n",
       "    <tr>\n",
       "      <th>4</th>\n",
       "      <td>[Comedy, Romance]</td>\n",
       "      <td>6.4</td>\n",
       "      <td>2784678</td>\n",
       "      <td>81</td>\n",
       "      <td>118924</td>\n",
       "      <td>Top Five (2014)</td>\n",
       "      <td>A comedian tries to make it as a serious actor...</td>\n",
       "      <td>24539</td>\n",
       "      <td>2014</td>\n",
       "      <td>https://m.media-amazon.com/images/M/MV5BMjIzNT...</td>\n",
       "    </tr>\n",
       "  </tbody>\n",
       "</table>\n",
       "</div>"
      ],
      "text/plain": [
       "                       genres  imdb  imdb_id  metascore   movid  \\\n",
       "0   [Biography, Drama, Sport]   7.6  1210166         87   89492   \n",
       "1  [Adventure, Drama, Horror]   5.7   374102         63   27822   \n",
       "2             [Comedy, Drama]   7.7   268126         83    5902   \n",
       "3        [Documentary, Crime]   8.4  1313104         84   71462   \n",
       "4           [Comedy, Romance]   6.4  2784678         81  118924   \n",
       "\n",
       "                movie                                               plot  \\\n",
       "0    Moneyball (2011)  Oakland A's general manager Billy Beane's succ...   \n",
       "1   Open Water (2003)  Based on the true story of two scuba divers ac...   \n",
       "2  Adaptation. (2002)  A lovelorn screenwriter becomes desperate as h...   \n",
       "3     The Cove (2009)  Using state-of-the-art equipment, a group of a...   \n",
       "4     Top Five (2014)  A comedian tries to make it as a serious actor...   \n",
       "\n",
       "    votes  year                                               zurl  \n",
       "0  320711  2011  https://m.media-amazon.com/images/M/MV5BMjAxOT...  \n",
       "1   47529  2003  https://m.media-amazon.com/images/M/MV5BNjQ5OD...  \n",
       "2  163178  2002  https://m.media-amazon.com/images/M/MV5BZjIwZW...  \n",
       "3   44744  2009  https://m.media-amazon.com/images/M/MV5BMzM3NT...  \n",
       "4   24539  2014  https://m.media-amazon.com/images/M/MV5BMjIzNT...  "
      ]
     },
     "execution_count": 393,
     "metadata": {},
     "output_type": "execute_result"
    }
   ],
   "source": [
    "finaldf = pd.DataFrame({'movid':movid,'imdb_id':imdb_id,'movie': names,\n",
    "                       'year': year,\n",
    "                       'imdb': imdb_ratings,\n",
    "                       'metascore': metascores,\n",
    "                       'votes': votes,'genres':genres,'plot':plot,'zurl':urlimg})\n",
    "print(finaldf.info())\n",
    "finaldf.head()"
   ]
  },
  {
   "cell_type": "code",
   "execution_count": 6,
   "metadata": {
    "ExecuteTime": {
     "end_time": "2019-02-02T17:44:44.168850Z",
     "start_time": "2019-02-02T17:44:44.154849Z"
    }
   },
   "outputs": [],
   "source": [
    "#finaldf.to_csv(\"precog_imdb300.csv\")\n",
    "finaldf=pd.read_csv(\"C:\\\\Users\\\\Jayant\\\\Desktop\\\\precog\\\\precog_imdb300.csv\",delimiter=',')"
   ]
  },
  {
   "cell_type": "code",
   "execution_count": 7,
   "metadata": {
    "ExecuteTime": {
     "end_time": "2019-02-02T17:44:50.354876Z",
     "start_time": "2019-02-02T17:44:50.350883Z"
    }
   },
   "outputs": [],
   "source": [
    "def save_poster(title,poster_url):\n",
    "   \n",
    "    poster_file_extension=poster_url.split('.')[-1]\n",
    "   \n",
    "    poster_data = urllib.request.urlopen(poster_url).read()\n",
    "        \n",
    "    savelocation=os.getcwd()+'\\\\'+'Posters'+'\\\\'\n",
    "   \n",
    "    if not os.path.isdir(savelocation):\n",
    "        os.mkdir(savelocation)\n",
    "    \n",
    "    filename=savelocation+str(title)+'.'+poster_file_extension\n",
    "    filename=filename.strip()\n",
    "    jj=open(filename,'wb')\n",
    "    jj.write(poster_data)\n",
    "    jj.close()"
   ]
  },
  {
   "cell_type": "code",
   "execution_count": 8,
   "metadata": {
    "ExecuteTime": {
     "end_time": "2019-02-02T17:47:34.362851Z",
     "start_time": "2019-02-02T17:45:11.242631Z"
    },
    "scrolled": false
   },
   "outputs": [
    {
     "name": "stdout",
     "output_type": "stream",
     "text": [
      "Are We There Yet? (2005)\n",
      "Why Him? (2016)\n"
     ]
    }
   ],
   "source": [
    "for ini,ekk in finaldf.iterrows(): \n",
    "    title=ekk['movie']\n",
    "    poster_url=ekk['zurl']\n",
    "    try:\n",
    "        save_poster(title,poster_url)\n",
    "    except:\n",
    "        print(title)\n",
    "        continue\n",
    "        \n",
    "    "
   ]
  },
  {
   "cell_type": "code",
   "execution_count": null,
   "metadata": {},
   "outputs": [],
   "source": []
  }
 ],
 "metadata": {
  "kernelspec": {
   "display_name": "Python 3",
   "language": "python",
   "name": "python3"
  },
  "varInspector": {
   "cols": {
    "lenName": 16,
    "lenType": 16,
    "lenVar": 40
   },
   "kernels_config": {
    "python": {
     "delete_cmd_postfix": "",
     "delete_cmd_prefix": "del ",
     "library": "var_list.py",
     "varRefreshCmd": "print(var_dic_list())"
    },
    "r": {
     "delete_cmd_postfix": ") ",
     "delete_cmd_prefix": "rm(",
     "library": "var_list.r",
     "varRefreshCmd": "cat(var_dic_list()) "
    }
   },
   "types_to_exclude": [
    "module",
    "function",
    "builtin_function_or_method",
    "instance",
    "_Feature"
   ],
   "window_display": false
  }
 },
 "nbformat": 4,
 "nbformat_minor": 2
}
