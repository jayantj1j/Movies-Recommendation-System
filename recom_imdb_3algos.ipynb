{
 "cells": [
  {
   "cell_type": "code",
   "execution_count": 1,
   "metadata": {
    "ExecuteTime": {
     "end_time": "2019-02-15T14:18:29.436536Z",
     "start_time": "2019-02-15T14:18:01.741919Z"
    }
   },
   "outputs": [],
   "source": [
    "import pandas as pd\n",
    "import numpy as np\n",
    "from sklearn.metrics.pairwise import linear_kernel, cosine_similarity\n"
   ]
  },
  {
   "cell_type": "code",
   "execution_count": null,
   "metadata": {},
   "outputs": [],
   "source": [
    "from pymongo import MongoClient\n",
    "import urllib.parse\n",
    "\n",
    "username = urllib.parse.quote_plus('jayantj1j')\n",
    "\n",
    "mypass=input(\"enter password\")\n",
    "password = urllib.parse.quote_plus(mypass)\n",
    "client=MongoClient(\"mongodb://%s:%s@mflix-shard-00-00-sgqip.mongodb.net:27017,mflix-shard-00-01-sgqip.mongodb.net:27017,mflix-shard-00-02-sgqip.mongodb.net:27017/mflix?ssl=true&replicaSet=mflix-shard-0&authSource=admin&retryWrites=true\" % (username, password))\n",
    "print(client.imdb)\n",
    "collection = client.imdb\n",
    "data = pd.DataFrame(list(collection.mflix.imdb.find()))\n",
    "\n",
    "data\n"
   ]
  },
  {
   "cell_type": "code",
   "execution_count": null,
   "metadata": {},
   "outputs": [],
   "source": [
    "import pymongo\n",
    "import pandas as pd\n",
    "from pymongo import MongoClient\n",
    "client = MongoClient()\n",
    "db = client.database_name\n",
    "collection = db.collection_name\n",
    "data = pd.DataFrame(list(collection.find()))"
   ]
  },
  {
   "cell_type": "code",
   "execution_count": 3,
   "metadata": {
    "ExecuteTime": {
     "end_time": "2019-02-15T09:01:10.650984Z",
     "start_time": "2019-02-15T09:01:10.628001Z"
    }
   },
   "outputs": [],
   "source": [
    "mov=pd.read_csv(\"C:\\\\Users\\\\Jayant\\\\Desktop\\\\precog\\\\precog_imdb300.csv\")\n",
    "del mov[\"Unnamed: 0\"]"
   ]
  },
  {
   "cell_type": "code",
   "execution_count": 4,
   "metadata": {
    "ExecuteTime": {
     "end_time": "2019-02-15T09:01:12.963560Z",
     "start_time": "2019-02-15T09:01:12.946605Z"
    },
    "scrolled": true
   },
   "outputs": [
    {
     "data": {
      "text/html": [
       "<div>\n",
       "<style scoped>\n",
       "    .dataframe tbody tr th:only-of-type {\n",
       "        vertical-align: middle;\n",
       "    }\n",
       "\n",
       "    .dataframe tbody tr th {\n",
       "        vertical-align: top;\n",
       "    }\n",
       "\n",
       "    .dataframe thead th {\n",
       "        text-align: right;\n",
       "    }\n",
       "</style>\n",
       "<table border=\"1\" class=\"dataframe\">\n",
       "  <thead>\n",
       "    <tr style=\"text-align: right;\">\n",
       "      <th></th>\n",
       "      <th>genres</th>\n",
       "      <th>imdb</th>\n",
       "      <th>imdb_id</th>\n",
       "      <th>metascore</th>\n",
       "      <th>movid</th>\n",
       "      <th>movie</th>\n",
       "      <th>plot</th>\n",
       "      <th>votes</th>\n",
       "      <th>year</th>\n",
       "    </tr>\n",
       "  </thead>\n",
       "  <tbody>\n",
       "    <tr>\n",
       "      <th>0</th>\n",
       "      <td>['Biography', 'Drama', 'Sport']</td>\n",
       "      <td>7.6</td>\n",
       "      <td>1210166</td>\n",
       "      <td>87</td>\n",
       "      <td>89492</td>\n",
       "      <td>Moneyball (2011)</td>\n",
       "      <td>Oakland A's general manager Billy Beane's succ...</td>\n",
       "      <td>320711</td>\n",
       "      <td>2011</td>\n",
       "    </tr>\n",
       "    <tr>\n",
       "      <th>1</th>\n",
       "      <td>['Adventure', 'Drama', 'Horror']</td>\n",
       "      <td>5.7</td>\n",
       "      <td>374102</td>\n",
       "      <td>63</td>\n",
       "      <td>27822</td>\n",
       "      <td>Open Water (2003)</td>\n",
       "      <td>Based on the true story of two scuba divers ac...</td>\n",
       "      <td>47529</td>\n",
       "      <td>2003</td>\n",
       "    </tr>\n",
       "    <tr>\n",
       "      <th>2</th>\n",
       "      <td>['Comedy', 'Drama']</td>\n",
       "      <td>7.7</td>\n",
       "      <td>268126</td>\n",
       "      <td>83</td>\n",
       "      <td>5902</td>\n",
       "      <td>Adaptation. (2002)</td>\n",
       "      <td>A lovelorn screenwriter becomes desperate as h...</td>\n",
       "      <td>163178</td>\n",
       "      <td>2002</td>\n",
       "    </tr>\n",
       "    <tr>\n",
       "      <th>3</th>\n",
       "      <td>['Documentary', 'Crime']</td>\n",
       "      <td>8.4</td>\n",
       "      <td>1313104</td>\n",
       "      <td>84</td>\n",
       "      <td>71462</td>\n",
       "      <td>The Cove (2009)</td>\n",
       "      <td>Using state-of-the-art equipment, a group of a...</td>\n",
       "      <td>44744</td>\n",
       "      <td>2009</td>\n",
       "    </tr>\n",
       "    <tr>\n",
       "      <th>4</th>\n",
       "      <td>['Comedy', 'Romance']</td>\n",
       "      <td>6.4</td>\n",
       "      <td>2784678</td>\n",
       "      <td>81</td>\n",
       "      <td>118924</td>\n",
       "      <td>Top Five (2014)</td>\n",
       "      <td>A comedian tries to make it as a serious actor...</td>\n",
       "      <td>24539</td>\n",
       "      <td>2014</td>\n",
       "    </tr>\n",
       "  </tbody>\n",
       "</table>\n",
       "</div>"
      ],
      "text/plain": [
       "                             genres  imdb  imdb_id  metascore   movid  \\\n",
       "0   ['Biography', 'Drama', 'Sport']   7.6  1210166         87   89492   \n",
       "1  ['Adventure', 'Drama', 'Horror']   5.7   374102         63   27822   \n",
       "2               ['Comedy', 'Drama']   7.7   268126         83    5902   \n",
       "3          ['Documentary', 'Crime']   8.4  1313104         84   71462   \n",
       "4             ['Comedy', 'Romance']   6.4  2784678         81  118924   \n",
       "\n",
       "                movie                                               plot  \\\n",
       "0    Moneyball (2011)  Oakland A's general manager Billy Beane's succ...   \n",
       "1   Open Water (2003)  Based on the true story of two scuba divers ac...   \n",
       "2  Adaptation. (2002)  A lovelorn screenwriter becomes desperate as h...   \n",
       "3     The Cove (2009)  Using state-of-the-art equipment, a group of a...   \n",
       "4     Top Five (2014)  A comedian tries to make it as a serious actor...   \n",
       "\n",
       "    votes  year  \n",
       "0  320711  2011  \n",
       "1   47529  2003  \n",
       "2  163178  2002  \n",
       "3   44744  2009  \n",
       "4   24539  2014  "
      ]
     },
     "execution_count": 4,
     "metadata": {},
     "output_type": "execute_result"
    }
   ],
   "source": [
    "mov.head()"
   ]
  },
  {
   "cell_type": "code",
   "execution_count": 355,
   "metadata": {
    "ExecuteTime": {
     "end_time": "2019-02-08T19:19:46.857507Z",
     "start_time": "2019-02-08T19:19:46.845571Z"
    }
   },
   "outputs": [
    {
     "data": {
      "text/plain": [
       "0    ['Biography', 'Drama', 'Sport']\n",
       "Name: genres, dtype: object"
      ]
     },
     "execution_count": 355,
     "metadata": {},
     "output_type": "execute_result"
    }
   ],
   "source": [
    "mov[mov['movie']=='Moneyball (2011)']['genres']"
   ]
  },
  {
   "cell_type": "code",
   "execution_count": 4,
   "metadata": {
    "ExecuteTime": {
     "end_time": "2019-02-05T12:13:51.262564Z",
     "start_time": "2019-02-05T12:13:51.258573Z"
    }
   },
   "outputs": [],
   "source": [
    "del mov['Unnamed: 0']\n"
   ]
  },
  {
   "cell_type": "code",
   "execution_count": 6,
   "metadata": {
    "ExecuteTime": {
     "end_time": "2019-02-05T12:13:55.019843Z",
     "start_time": "2019-02-05T12:13:55.013857Z"
    }
   },
   "outputs": [],
   "source": [
    "mov=mov[['movid','imdb_id','movie',\n",
    " \n",
    " 'imdb',\n",
    " \n",
    " 'metascore','year','genres',\n",
    " \n",
    " 'plot',\n",
    " 'votes',\n",
    " ]]"
   ]
  },
  {
   "cell_type": "code",
   "execution_count": 11,
   "metadata": {
    "ExecuteTime": {
     "end_time": "2019-02-05T12:14:16.142856Z",
     "start_time": "2019-02-05T12:14:16.129888Z"
    }
   },
   "outputs": [
    {
     "data": {
      "text/html": [
       "<div>\n",
       "<style scoped>\n",
       "    .dataframe tbody tr th:only-of-type {\n",
       "        vertical-align: middle;\n",
       "    }\n",
       "\n",
       "    .dataframe tbody tr th {\n",
       "        vertical-align: top;\n",
       "    }\n",
       "\n",
       "    .dataframe thead th {\n",
       "        text-align: right;\n",
       "    }\n",
       "</style>\n",
       "<table border=\"1\" class=\"dataframe\">\n",
       "  <thead>\n",
       "    <tr style=\"text-align: right;\">\n",
       "      <th></th>\n",
       "      <th>movid</th>\n",
       "      <th>imdb_id</th>\n",
       "      <th>movie</th>\n",
       "      <th>imdb</th>\n",
       "      <th>metascore</th>\n",
       "      <th>year</th>\n",
       "      <th>genres</th>\n",
       "      <th>plot</th>\n",
       "      <th>votes</th>\n",
       "    </tr>\n",
       "  </thead>\n",
       "  <tbody>\n",
       "    <tr>\n",
       "      <th>0</th>\n",
       "      <td>89492</td>\n",
       "      <td>1210166</td>\n",
       "      <td>Moneyball (2011)</td>\n",
       "      <td>7.6</td>\n",
       "      <td>87</td>\n",
       "      <td>2011</td>\n",
       "      <td>[Biography, Drama, Sport]</td>\n",
       "      <td>Oakland A's general manager Billy Beane's succ...</td>\n",
       "      <td>320711</td>\n",
       "    </tr>\n",
       "    <tr>\n",
       "      <th>1</th>\n",
       "      <td>27822</td>\n",
       "      <td>374102</td>\n",
       "      <td>Open Water (2003)</td>\n",
       "      <td>5.7</td>\n",
       "      <td>63</td>\n",
       "      <td>2003</td>\n",
       "      <td>[Adventure, Drama, Horror]</td>\n",
       "      <td>Based on the true story of two scuba divers ac...</td>\n",
       "      <td>47529</td>\n",
       "    </tr>\n",
       "    <tr>\n",
       "      <th>2</th>\n",
       "      <td>5902</td>\n",
       "      <td>268126</td>\n",
       "      <td>Adaptation. (2002)</td>\n",
       "      <td>7.7</td>\n",
       "      <td>83</td>\n",
       "      <td>2002</td>\n",
       "      <td>[Comedy, Drama]</td>\n",
       "      <td>A lovelorn screenwriter becomes desperate as h...</td>\n",
       "      <td>163178</td>\n",
       "    </tr>\n",
       "    <tr>\n",
       "      <th>3</th>\n",
       "      <td>71462</td>\n",
       "      <td>1313104</td>\n",
       "      <td>The Cove (2009)</td>\n",
       "      <td>8.4</td>\n",
       "      <td>84</td>\n",
       "      <td>2009</td>\n",
       "      <td>[Documentary, Crime]</td>\n",
       "      <td>Using state-of-the-art equipment, a group of a...</td>\n",
       "      <td>44744</td>\n",
       "    </tr>\n",
       "    <tr>\n",
       "      <th>4</th>\n",
       "      <td>118924</td>\n",
       "      <td>2784678</td>\n",
       "      <td>Top Five (2014)</td>\n",
       "      <td>6.4</td>\n",
       "      <td>81</td>\n",
       "      <td>2014</td>\n",
       "      <td>[Comedy, Romance]</td>\n",
       "      <td>A comedian tries to make it as a serious actor...</td>\n",
       "      <td>24539</td>\n",
       "    </tr>\n",
       "  </tbody>\n",
       "</table>\n",
       "</div>"
      ],
      "text/plain": [
       "    movid  imdb_id               movie  imdb  metascore  year  \\\n",
       "0   89492  1210166    Moneyball (2011)   7.6         87  2011   \n",
       "1   27822   374102   Open Water (2003)   5.7         63  2003   \n",
       "2    5902   268126  Adaptation. (2002)   7.7         83  2002   \n",
       "3   71462  1313104     The Cove (2009)   8.4         84  2009   \n",
       "4  118924  2784678     Top Five (2014)   6.4         81  2014   \n",
       "\n",
       "                       genres  \\\n",
       "0   [Biography, Drama, Sport]   \n",
       "1  [Adventure, Drama, Horror]   \n",
       "2             [Comedy, Drama]   \n",
       "3        [Documentary, Crime]   \n",
       "4           [Comedy, Romance]   \n",
       "\n",
       "                                                plot   votes  \n",
       "0  Oakland A's general manager Billy Beane's succ...  320711  \n",
       "1  Based on the true story of two scuba divers ac...   47529  \n",
       "2  A lovelorn screenwriter becomes desperate as h...  163178  \n",
       "3  Using state-of-the-art equipment, a group of a...   44744  \n",
       "4  A comedian tries to make it as a serious actor...   24539  "
      ]
     },
     "execution_count": 11,
     "metadata": {},
     "output_type": "execute_result"
    }
   ],
   "source": [
    "mov.head()"
   ]
  },
  {
   "cell_type": "code",
   "execution_count": null,
   "metadata": {},
   "outputs": [],
   "source": [
    "mov['genres']=mov['genres'].apply(ast.literal_eval)\n",
    "#mov['genres'].apply(', '.join)\n",
    "mov"
   ]
  },
  {
   "cell_type": "code",
   "execution_count": 8,
   "metadata": {
    "ExecuteTime": {
     "end_time": "2019-02-05T12:14:02.005964Z",
     "start_time": "2019-02-05T12:14:02.001977Z"
    },
    "scrolled": true
   },
   "outputs": [],
   "source": [
    "import ast"
   ]
  },
  {
   "cell_type": "code",
   "execution_count": 51,
   "metadata": {
    "ExecuteTime": {
     "end_time": "2019-02-04T17:11:17.099621Z",
     "start_time": "2019-02-04T17:11:17.088598Z"
    }
   },
   "outputs": [],
   "source": [
    "#mov.to_csv('file_namejj.csv')\n"
   ]
  },
  {
   "cell_type": "code",
   "execution_count": 13,
   "metadata": {
    "ExecuteTime": {
     "end_time": "2019-02-05T12:14:26.145790Z",
     "start_time": "2019-02-05T12:14:26.123797Z"
    }
   },
   "outputs": [
    {
     "data": {
      "text/html": [
       "<div>\n",
       "<style scoped>\n",
       "    .dataframe tbody tr th:only-of-type {\n",
       "        vertical-align: middle;\n",
       "    }\n",
       "\n",
       "    .dataframe tbody tr th {\n",
       "        vertical-align: top;\n",
       "    }\n",
       "\n",
       "    .dataframe thead th {\n",
       "        text-align: right;\n",
       "    }\n",
       "</style>\n",
       "<table border=\"1\" class=\"dataframe\">\n",
       "  <thead>\n",
       "    <tr style=\"text-align: right;\">\n",
       "      <th></th>\n",
       "      <th>movid</th>\n",
       "      <th>imdb_id</th>\n",
       "      <th>movie</th>\n",
       "      <th>imdb</th>\n",
       "      <th>metascore</th>\n",
       "      <th>year</th>\n",
       "      <th>genres</th>\n",
       "      <th>plot</th>\n",
       "      <th>votes</th>\n",
       "    </tr>\n",
       "  </thead>\n",
       "  <tbody>\n",
       "    <tr>\n",
       "      <th>0</th>\n",
       "      <td>89492</td>\n",
       "      <td>1210166</td>\n",
       "      <td>Moneyball (2011)</td>\n",
       "      <td>7.6</td>\n",
       "      <td>87</td>\n",
       "      <td>2011</td>\n",
       "      <td>Biography, Drama, Sport</td>\n",
       "      <td>Oakland A's general manager Billy Beane's succ...</td>\n",
       "      <td>320711</td>\n",
       "    </tr>\n",
       "    <tr>\n",
       "      <th>1</th>\n",
       "      <td>27822</td>\n",
       "      <td>374102</td>\n",
       "      <td>Open Water (2003)</td>\n",
       "      <td>5.7</td>\n",
       "      <td>63</td>\n",
       "      <td>2003</td>\n",
       "      <td>Adventure, Drama, Horror</td>\n",
       "      <td>Based on the true story of two scuba divers ac...</td>\n",
       "      <td>47529</td>\n",
       "    </tr>\n",
       "    <tr>\n",
       "      <th>2</th>\n",
       "      <td>5902</td>\n",
       "      <td>268126</td>\n",
       "      <td>Adaptation. (2002)</td>\n",
       "      <td>7.7</td>\n",
       "      <td>83</td>\n",
       "      <td>2002</td>\n",
       "      <td>Comedy, Drama</td>\n",
       "      <td>A lovelorn screenwriter becomes desperate as h...</td>\n",
       "      <td>163178</td>\n",
       "    </tr>\n",
       "    <tr>\n",
       "      <th>3</th>\n",
       "      <td>71462</td>\n",
       "      <td>1313104</td>\n",
       "      <td>The Cove (2009)</td>\n",
       "      <td>8.4</td>\n",
       "      <td>84</td>\n",
       "      <td>2009</td>\n",
       "      <td>Documentary, Crime</td>\n",
       "      <td>Using state-of-the-art equipment, a group of a...</td>\n",
       "      <td>44744</td>\n",
       "    </tr>\n",
       "    <tr>\n",
       "      <th>4</th>\n",
       "      <td>118924</td>\n",
       "      <td>2784678</td>\n",
       "      <td>Top Five (2014)</td>\n",
       "      <td>6.4</td>\n",
       "      <td>81</td>\n",
       "      <td>2014</td>\n",
       "      <td>Comedy, Romance</td>\n",
       "      <td>A comedian tries to make it as a serious actor...</td>\n",
       "      <td>24539</td>\n",
       "    </tr>\n",
       "  </tbody>\n",
       "</table>\n",
       "</div>"
      ],
      "text/plain": [
       "    movid  imdb_id               movie  imdb  metascore  year  \\\n",
       "0   89492  1210166    Moneyball (2011)   7.6         87  2011   \n",
       "1   27822   374102   Open Water (2003)   5.7         63  2003   \n",
       "2    5902   268126  Adaptation. (2002)   7.7         83  2002   \n",
       "3   71462  1313104     The Cove (2009)   8.4         84  2009   \n",
       "4  118924  2784678     Top Five (2014)   6.4         81  2014   \n",
       "\n",
       "                     genres  \\\n",
       "0   Biography, Drama, Sport   \n",
       "1  Adventure, Drama, Horror   \n",
       "2             Comedy, Drama   \n",
       "3        Documentary, Crime   \n",
       "4           Comedy, Romance   \n",
       "\n",
       "                                                plot   votes  \n",
       "0  Oakland A's general manager Billy Beane's succ...  320711  \n",
       "1  Based on the true story of two scuba divers ac...   47529  \n",
       "2  A lovelorn screenwriter becomes desperate as h...  163178  \n",
       "3  Using state-of-the-art equipment, a group of a...   44744  \n",
       "4  A comedian tries to make it as a serious actor...   24539  "
      ]
     },
     "execution_count": 13,
     "metadata": {},
     "output_type": "execute_result"
    }
   ],
   "source": [
    "data=pd.read_csv(\"C:\\\\Users\\\\Jayant\\\\Desktop\\\\precog\\\\rearr_imdb300.csv\")\n",
    "del data['Unnamed: 0']\n",
    "data['genres']=data['genres'].apply(ast.literal_eval)\n",
    "\n",
    "data['genres']=data['genres'].apply(lambda x: ', '.join(x))\n",
    "data.head()"
   ]
  },
  {
   "cell_type": "code",
   "execution_count": 14,
   "metadata": {
    "ExecuteTime": {
     "end_time": "2019-02-05T12:14:32.733393Z",
     "start_time": "2019-02-05T12:14:32.727409Z"
    }
   },
   "outputs": [
    {
     "data": {
      "text/plain": [
       "['Drama', ' History']"
      ]
     },
     "execution_count": 14,
     "metadata": {},
     "output_type": "execute_result"
    }
   ],
   "source": [
    "data['genres'][10].split(',')"
   ]
  },
  {
   "cell_type": "code",
   "execution_count": 15,
   "metadata": {
    "ExecuteTime": {
     "end_time": "2019-02-05T12:14:35.475169Z",
     "start_time": "2019-02-05T12:14:35.468149Z"
    }
   },
   "outputs": [],
   "source": [
    "a=set()\n",
    "for i in range(300):\n",
    "    temp= data['genres'][i].split(',')\n",
    "    for j in range(len(temp)):\n",
    "        #ll=temp[j].strip()\n",
    "        a.add(temp[j].strip())\n",
    "        \n",
    "   "
   ]
  },
  {
   "cell_type": "code",
   "execution_count": 16,
   "metadata": {
    "ExecuteTime": {
     "end_time": "2019-02-05T12:14:38.196908Z",
     "start_time": "2019-02-05T12:14:38.190957Z"
    }
   },
   "outputs": [
    {
     "data": {
      "text/plain": [
       "{'Action',\n",
       " 'Adventure',\n",
       " 'Animation',\n",
       " 'Biography',\n",
       " 'Comedy',\n",
       " 'Crime',\n",
       " 'Documentary',\n",
       " 'Drama',\n",
       " 'Family',\n",
       " 'Fantasy',\n",
       " 'History',\n",
       " 'Horror',\n",
       " 'Music',\n",
       " 'Musical',\n",
       " 'Mystery',\n",
       " 'Romance',\n",
       " 'Sci-Fi',\n",
       " 'Sport',\n",
       " 'Thriller',\n",
       " 'War',\n",
       " 'Western'}"
      ]
     },
     "execution_count": 16,
     "metadata": {},
     "output_type": "execute_result"
    }
   ],
   "source": [
    "a"
   ]
  },
  {
   "cell_type": "code",
   "execution_count": 17,
   "metadata": {
    "ExecuteTime": {
     "end_time": "2019-02-05T12:14:40.940224Z",
     "start_time": "2019-02-05T12:14:40.933208Z"
    }
   },
   "outputs": [],
   "source": [
    "i_cols = ['movid', 'movie' ,'year', 'Action',\n",
    " 'Adventure',\n",
    " 'Animation',\n",
    " 'Biography',\n",
    " 'Comedy',\n",
    " 'Crime',\n",
    " 'Documentary',\n",
    " 'Drama',\n",
    " 'Family',\n",
    " 'Fantasy',\n",
    " 'History',\n",
    " 'Horror',\n",
    " 'Music',\n",
    " 'Musical',\n",
    " 'Mystery',\n",
    " 'Romance',\n",
    " 'Sci-Fi',\n",
    " 'Sport',\n",
    " 'Thriller',\n",
    " 'War',\n",
    " 'Western']"
   ]
  },
  {
   "cell_type": "code",
   "execution_count": 18,
   "metadata": {
    "ExecuteTime": {
     "end_time": "2019-02-05T12:14:43.187611Z",
     "start_time": "2019-02-05T12:14:43.173620Z"
    }
   },
   "outputs": [],
   "source": [
    "features= pd.DataFrame({'movid':data.movid,'movie': data.movie,\n",
    "                       'year': data.year\n",
    "                       })\n",
    "for x in a:\n",
    "    \n",
    "    features.insert(1,x, 0)"
   ]
  },
  {
   "cell_type": "code",
   "execution_count": 19,
   "metadata": {
    "ExecuteTime": {
     "end_time": "2019-02-05T12:14:47.271237Z",
     "start_time": "2019-02-05T12:14:47.252286Z"
    }
   },
   "outputs": [
    {
     "data": {
      "text/html": [
       "<div>\n",
       "<style scoped>\n",
       "    .dataframe tbody tr th:only-of-type {\n",
       "        vertical-align: middle;\n",
       "    }\n",
       "\n",
       "    .dataframe tbody tr th {\n",
       "        vertical-align: top;\n",
       "    }\n",
       "\n",
       "    .dataframe thead th {\n",
       "        text-align: right;\n",
       "    }\n",
       "</style>\n",
       "<table border=\"1\" class=\"dataframe\">\n",
       "  <thead>\n",
       "    <tr style=\"text-align: right;\">\n",
       "      <th></th>\n",
       "      <th>movid</th>\n",
       "      <th>Fantasy</th>\n",
       "      <th>Adventure</th>\n",
       "      <th>Western</th>\n",
       "      <th>Romance</th>\n",
       "      <th>Mystery</th>\n",
       "      <th>Documentary</th>\n",
       "      <th>Musical</th>\n",
       "      <th>History</th>\n",
       "      <th>Family</th>\n",
       "      <th>...</th>\n",
       "      <th>Thriller</th>\n",
       "      <th>Music</th>\n",
       "      <th>Sci-Fi</th>\n",
       "      <th>Action</th>\n",
       "      <th>War</th>\n",
       "      <th>Sport</th>\n",
       "      <th>Biography</th>\n",
       "      <th>Crime</th>\n",
       "      <th>movie</th>\n",
       "      <th>year</th>\n",
       "    </tr>\n",
       "  </thead>\n",
       "  <tbody>\n",
       "    <tr>\n",
       "      <th>0</th>\n",
       "      <td>89492</td>\n",
       "      <td>0</td>\n",
       "      <td>0</td>\n",
       "      <td>0</td>\n",
       "      <td>0</td>\n",
       "      <td>0</td>\n",
       "      <td>0</td>\n",
       "      <td>0</td>\n",
       "      <td>0</td>\n",
       "      <td>0</td>\n",
       "      <td>...</td>\n",
       "      <td>0</td>\n",
       "      <td>0</td>\n",
       "      <td>0</td>\n",
       "      <td>0</td>\n",
       "      <td>0</td>\n",
       "      <td>0</td>\n",
       "      <td>0</td>\n",
       "      <td>0</td>\n",
       "      <td>Moneyball (2011)</td>\n",
       "      <td>2011</td>\n",
       "    </tr>\n",
       "    <tr>\n",
       "      <th>1</th>\n",
       "      <td>27822</td>\n",
       "      <td>0</td>\n",
       "      <td>0</td>\n",
       "      <td>0</td>\n",
       "      <td>0</td>\n",
       "      <td>0</td>\n",
       "      <td>0</td>\n",
       "      <td>0</td>\n",
       "      <td>0</td>\n",
       "      <td>0</td>\n",
       "      <td>...</td>\n",
       "      <td>0</td>\n",
       "      <td>0</td>\n",
       "      <td>0</td>\n",
       "      <td>0</td>\n",
       "      <td>0</td>\n",
       "      <td>0</td>\n",
       "      <td>0</td>\n",
       "      <td>0</td>\n",
       "      <td>Open Water (2003)</td>\n",
       "      <td>2003</td>\n",
       "    </tr>\n",
       "    <tr>\n",
       "      <th>2</th>\n",
       "      <td>5902</td>\n",
       "      <td>0</td>\n",
       "      <td>0</td>\n",
       "      <td>0</td>\n",
       "      <td>0</td>\n",
       "      <td>0</td>\n",
       "      <td>0</td>\n",
       "      <td>0</td>\n",
       "      <td>0</td>\n",
       "      <td>0</td>\n",
       "      <td>...</td>\n",
       "      <td>0</td>\n",
       "      <td>0</td>\n",
       "      <td>0</td>\n",
       "      <td>0</td>\n",
       "      <td>0</td>\n",
       "      <td>0</td>\n",
       "      <td>0</td>\n",
       "      <td>0</td>\n",
       "      <td>Adaptation. (2002)</td>\n",
       "      <td>2002</td>\n",
       "    </tr>\n",
       "    <tr>\n",
       "      <th>3</th>\n",
       "      <td>71462</td>\n",
       "      <td>0</td>\n",
       "      <td>0</td>\n",
       "      <td>0</td>\n",
       "      <td>0</td>\n",
       "      <td>0</td>\n",
       "      <td>0</td>\n",
       "      <td>0</td>\n",
       "      <td>0</td>\n",
       "      <td>0</td>\n",
       "      <td>...</td>\n",
       "      <td>0</td>\n",
       "      <td>0</td>\n",
       "      <td>0</td>\n",
       "      <td>0</td>\n",
       "      <td>0</td>\n",
       "      <td>0</td>\n",
       "      <td>0</td>\n",
       "      <td>0</td>\n",
       "      <td>The Cove (2009)</td>\n",
       "      <td>2009</td>\n",
       "    </tr>\n",
       "    <tr>\n",
       "      <th>4</th>\n",
       "      <td>118924</td>\n",
       "      <td>0</td>\n",
       "      <td>0</td>\n",
       "      <td>0</td>\n",
       "      <td>0</td>\n",
       "      <td>0</td>\n",
       "      <td>0</td>\n",
       "      <td>0</td>\n",
       "      <td>0</td>\n",
       "      <td>0</td>\n",
       "      <td>...</td>\n",
       "      <td>0</td>\n",
       "      <td>0</td>\n",
       "      <td>0</td>\n",
       "      <td>0</td>\n",
       "      <td>0</td>\n",
       "      <td>0</td>\n",
       "      <td>0</td>\n",
       "      <td>0</td>\n",
       "      <td>Top Five (2014)</td>\n",
       "      <td>2014</td>\n",
       "    </tr>\n",
       "  </tbody>\n",
       "</table>\n",
       "<p>5 rows × 24 columns</p>\n",
       "</div>"
      ],
      "text/plain": [
       "    movid  Fantasy  Adventure  Western  Romance  Mystery  Documentary  \\\n",
       "0   89492        0          0        0        0        0            0   \n",
       "1   27822        0          0        0        0        0            0   \n",
       "2    5902        0          0        0        0        0            0   \n",
       "3   71462        0          0        0        0        0            0   \n",
       "4  118924        0          0        0        0        0            0   \n",
       "\n",
       "   Musical  History  Family  ...   Thriller  Music  Sci-Fi  Action  War  \\\n",
       "0        0        0       0  ...          0      0       0       0    0   \n",
       "1        0        0       0  ...          0      0       0       0    0   \n",
       "2        0        0       0  ...          0      0       0       0    0   \n",
       "3        0        0       0  ...          0      0       0       0    0   \n",
       "4        0        0       0  ...          0      0       0       0    0   \n",
       "\n",
       "   Sport  Biography  Crime               movie  year  \n",
       "0      0          0      0    Moneyball (2011)  2011  \n",
       "1      0          0      0   Open Water (2003)  2003  \n",
       "2      0          0      0  Adaptation. (2002)  2002  \n",
       "3      0          0      0     The Cove (2009)  2009  \n",
       "4      0          0      0     Top Five (2014)  2014  \n",
       "\n",
       "[5 rows x 24 columns]"
      ]
     },
     "execution_count": 19,
     "metadata": {},
     "output_type": "execute_result"
    }
   ],
   "source": [
    "features.head()"
   ]
  },
  {
   "cell_type": "code",
   "execution_count": 20,
   "metadata": {
    "ExecuteTime": {
     "end_time": "2019-02-05T12:14:50.305957Z",
     "start_time": "2019-02-05T12:14:50.287008Z"
    }
   },
   "outputs": [
    {
     "data": {
      "text/html": [
       "<div>\n",
       "<style scoped>\n",
       "    .dataframe tbody tr th:only-of-type {\n",
       "        vertical-align: middle;\n",
       "    }\n",
       "\n",
       "    .dataframe tbody tr th {\n",
       "        vertical-align: top;\n",
       "    }\n",
       "\n",
       "    .dataframe thead th {\n",
       "        text-align: right;\n",
       "    }\n",
       "</style>\n",
       "<table border=\"1\" class=\"dataframe\">\n",
       "  <thead>\n",
       "    <tr style=\"text-align: right;\">\n",
       "      <th></th>\n",
       "      <th>movid</th>\n",
       "      <th>Fantasy</th>\n",
       "      <th>Adventure</th>\n",
       "      <th>Western</th>\n",
       "      <th>Romance</th>\n",
       "      <th>Mystery</th>\n",
       "      <th>Documentary</th>\n",
       "      <th>Musical</th>\n",
       "      <th>History</th>\n",
       "      <th>Family</th>\n",
       "      <th>...</th>\n",
       "      <th>Thriller</th>\n",
       "      <th>Music</th>\n",
       "      <th>Sci-Fi</th>\n",
       "      <th>Action</th>\n",
       "      <th>War</th>\n",
       "      <th>Sport</th>\n",
       "      <th>Biography</th>\n",
       "      <th>Crime</th>\n",
       "      <th>movie</th>\n",
       "      <th>year</th>\n",
       "    </tr>\n",
       "  </thead>\n",
       "  <tbody>\n",
       "    <tr>\n",
       "      <th>295</th>\n",
       "      <td>50445</td>\n",
       "      <td>0</td>\n",
       "      <td>0</td>\n",
       "      <td>0</td>\n",
       "      <td>0</td>\n",
       "      <td>0</td>\n",
       "      <td>0</td>\n",
       "      <td>0</td>\n",
       "      <td>0</td>\n",
       "      <td>0</td>\n",
       "      <td>...</td>\n",
       "      <td>0</td>\n",
       "      <td>0</td>\n",
       "      <td>0</td>\n",
       "      <td>0</td>\n",
       "      <td>0</td>\n",
       "      <td>0</td>\n",
       "      <td>0</td>\n",
       "      <td>0</td>\n",
       "      <td>The Hitcher (2007)</td>\n",
       "      <td>2007</td>\n",
       "    </tr>\n",
       "    <tr>\n",
       "      <th>296</th>\n",
       "      <td>141668</td>\n",
       "      <td>0</td>\n",
       "      <td>0</td>\n",
       "      <td>0</td>\n",
       "      <td>0</td>\n",
       "      <td>0</td>\n",
       "      <td>0</td>\n",
       "      <td>0</td>\n",
       "      <td>0</td>\n",
       "      <td>0</td>\n",
       "      <td>...</td>\n",
       "      <td>0</td>\n",
       "      <td>0</td>\n",
       "      <td>0</td>\n",
       "      <td>0</td>\n",
       "      <td>0</td>\n",
       "      <td>0</td>\n",
       "      <td>0</td>\n",
       "      <td>0</td>\n",
       "      <td>War Room (2015)</td>\n",
       "      <td>2015</td>\n",
       "    </tr>\n",
       "    <tr>\n",
       "      <th>297</th>\n",
       "      <td>617</td>\n",
       "      <td>0</td>\n",
       "      <td>0</td>\n",
       "      <td>0</td>\n",
       "      <td>0</td>\n",
       "      <td>0</td>\n",
       "      <td>0</td>\n",
       "      <td>0</td>\n",
       "      <td>0</td>\n",
       "      <td>0</td>\n",
       "      <td>...</td>\n",
       "      <td>0</td>\n",
       "      <td>0</td>\n",
       "      <td>0</td>\n",
       "      <td>0</td>\n",
       "      <td>0</td>\n",
       "      <td>0</td>\n",
       "      <td>0</td>\n",
       "      <td>0</td>\n",
       "      <td>La flor de mi secreto (1995)</td>\n",
       "      <td>1995</td>\n",
       "    </tr>\n",
       "    <tr>\n",
       "      <th>298</th>\n",
       "      <td>38992</td>\n",
       "      <td>0</td>\n",
       "      <td>0</td>\n",
       "      <td>0</td>\n",
       "      <td>0</td>\n",
       "      <td>0</td>\n",
       "      <td>0</td>\n",
       "      <td>0</td>\n",
       "      <td>0</td>\n",
       "      <td>0</td>\n",
       "      <td>...</td>\n",
       "      <td>0</td>\n",
       "      <td>0</td>\n",
       "      <td>0</td>\n",
       "      <td>0</td>\n",
       "      <td>0</td>\n",
       "      <td>0</td>\n",
       "      <td>0</td>\n",
       "      <td>0</td>\n",
       "      <td>Two for the Money (2005)</td>\n",
       "      <td>2005</td>\n",
       "    </tr>\n",
       "    <tr>\n",
       "      <th>299</th>\n",
       "      <td>4780</td>\n",
       "      <td>0</td>\n",
       "      <td>0</td>\n",
       "      <td>0</td>\n",
       "      <td>0</td>\n",
       "      <td>0</td>\n",
       "      <td>0</td>\n",
       "      <td>0</td>\n",
       "      <td>0</td>\n",
       "      <td>0</td>\n",
       "      <td>...</td>\n",
       "      <td>0</td>\n",
       "      <td>0</td>\n",
       "      <td>0</td>\n",
       "      <td>0</td>\n",
       "      <td>0</td>\n",
       "      <td>0</td>\n",
       "      <td>0</td>\n",
       "      <td>0</td>\n",
       "      <td>Liam (2000)</td>\n",
       "      <td>2000</td>\n",
       "    </tr>\n",
       "  </tbody>\n",
       "</table>\n",
       "<p>5 rows × 24 columns</p>\n",
       "</div>"
      ],
      "text/plain": [
       "      movid  Fantasy  Adventure  Western  Romance  Mystery  Documentary  \\\n",
       "295   50445        0          0        0        0        0            0   \n",
       "296  141668        0          0        0        0        0            0   \n",
       "297     617        0          0        0        0        0            0   \n",
       "298   38992        0          0        0        0        0            0   \n",
       "299    4780        0          0        0        0        0            0   \n",
       "\n",
       "     Musical  History  Family  ...   Thriller  Music  Sci-Fi  Action  War  \\\n",
       "295        0        0       0  ...          0      0       0       0    0   \n",
       "296        0        0       0  ...          0      0       0       0    0   \n",
       "297        0        0       0  ...          0      0       0       0    0   \n",
       "298        0        0       0  ...          0      0       0       0    0   \n",
       "299        0        0       0  ...          0      0       0       0    0   \n",
       "\n",
       "     Sport  Biography  Crime                         movie  year  \n",
       "295      0          0      0            The Hitcher (2007)  2007  \n",
       "296      0          0      0               War Room (2015)  2015  \n",
       "297      0          0      0  La flor de mi secreto (1995)  1995  \n",
       "298      0          0      0      Two for the Money (2005)  2005  \n",
       "299      0          0      0                   Liam (2000)  2000  \n",
       "\n",
       "[5 rows x 24 columns]"
      ]
     },
     "execution_count": 20,
     "metadata": {},
     "output_type": "execute_result"
    }
   ],
   "source": [
    "#features=features[i_cols]\n",
    "features.tail()"
   ]
  },
  {
   "cell_type": "code",
   "execution_count": 21,
   "metadata": {
    "ExecuteTime": {
     "end_time": "2019-02-05T12:15:18.423941Z",
     "start_time": "2019-02-05T12:14:59.878556Z"
    }
   },
   "outputs": [
    {
     "name": "stderr",
     "output_type": "stream",
     "text": [
      "C:\\Users\\Jayant\\Anaconda3\\lib\\site-packages\\ipykernel_launcher.py:6: SettingWithCopyWarning: \n",
      "A value is trying to be set on a copy of a slice from a DataFrame\n",
      "\n",
      "See the caveats in the documentation: http://pandas.pydata.org/pandas-docs/stable/indexing.html#indexing-view-versus-copy\n",
      "  \n"
     ]
    }
   ],
   "source": [
    "for i in range(300):\n",
    "    temp= data['genres'][i].split(',')\n",
    "    for j in range(len(temp)):\n",
    "        #ll=temp[j].strip()\n",
    "        cc=temp[j].strip()\n",
    "        features[cc][i]=1\n",
    "        "
   ]
  },
  {
   "cell_type": "code",
   "execution_count": 341,
   "metadata": {
    "ExecuteTime": {
     "end_time": "2019-02-08T17:02:00.478808Z",
     "start_time": "2019-02-08T17:02:00.475815Z"
    },
    "scrolled": true
   },
   "outputs": [],
   "source": [
    "# features\n"
   ]
  },
  {
   "cell_type": "code",
   "execution_count": 221,
   "metadata": {
    "ExecuteTime": {
     "end_time": "2019-02-06T15:24:18.172581Z",
     "start_time": "2019-02-06T15:24:18.165601Z"
    }
   },
   "outputs": [
    {
     "data": {
      "text/plain": [
       "True"
      ]
     },
     "execution_count": 221,
     "metadata": {},
     "output_type": "execute_result"
    }
   ],
   "source": [
    "5902 in list(features.movid)"
   ]
  },
  {
   "cell_type": "code",
   "execution_count": 23,
   "metadata": {
    "ExecuteTime": {
     "end_time": "2019-02-05T12:15:23.301678Z",
     "start_time": "2019-02-05T12:15:23.243840Z"
    }
   },
   "outputs": [],
   "source": [
    "users=pd.read_csv(\"C:\\\\Users\\\\Jayant\\\\Desktop\\\\precog\\\\ratings.csv\")"
   ]
  },
  {
   "cell_type": "code",
   "execution_count": 394,
   "metadata": {
    "ExecuteTime": {
     "end_time": "2019-02-06T19:14:35.101634Z",
     "start_time": "2019-02-06T19:14:35.093655Z"
    }
   },
   "outputs": [
    {
     "data": {
      "text/html": [
       "<div>\n",
       "<style scoped>\n",
       "    .dataframe tbody tr th:only-of-type {\n",
       "        vertical-align: middle;\n",
       "    }\n",
       "\n",
       "    .dataframe tbody tr th {\n",
       "        vertical-align: top;\n",
       "    }\n",
       "\n",
       "    .dataframe thead th {\n",
       "        text-align: right;\n",
       "    }\n",
       "</style>\n",
       "<table border=\"1\" class=\"dataframe\">\n",
       "  <thead>\n",
       "    <tr style=\"text-align: right;\">\n",
       "      <th></th>\n",
       "      <th>userId</th>\n",
       "      <th>movieId</th>\n",
       "      <th>rating</th>\n",
       "    </tr>\n",
       "  </thead>\n",
       "  <tbody>\n",
       "    <tr>\n",
       "      <th>0</th>\n",
       "      <td>1</td>\n",
       "      <td>1</td>\n",
       "      <td>4.0</td>\n",
       "    </tr>\n",
       "    <tr>\n",
       "      <th>1</th>\n",
       "      <td>1</td>\n",
       "      <td>3</td>\n",
       "      <td>4.0</td>\n",
       "    </tr>\n",
       "    <tr>\n",
       "      <th>2</th>\n",
       "      <td>1</td>\n",
       "      <td>6</td>\n",
       "      <td>4.0</td>\n",
       "    </tr>\n",
       "    <tr>\n",
       "      <th>3</th>\n",
       "      <td>1</td>\n",
       "      <td>47</td>\n",
       "      <td>5.0</td>\n",
       "    </tr>\n",
       "    <tr>\n",
       "      <th>4</th>\n",
       "      <td>1</td>\n",
       "      <td>50</td>\n",
       "      <td>5.0</td>\n",
       "    </tr>\n",
       "  </tbody>\n",
       "</table>\n",
       "</div>"
      ],
      "text/plain": [
       "   userId  movieId  rating\n",
       "0       1        1     4.0\n",
       "1       1        3     4.0\n",
       "2       1        6     4.0\n",
       "3       1       47     5.0\n",
       "4       1       50     5.0"
      ]
     },
     "execution_count": 394,
     "metadata": {},
     "output_type": "execute_result"
    }
   ],
   "source": [
    "\n",
    "users.head()\n"
   ]
  },
  {
   "cell_type": "code",
   "execution_count": 73,
   "metadata": {
    "ExecuteTime": {
     "end_time": "2019-02-05T12:49:30.073593Z",
     "start_time": "2019-02-05T12:49:30.067578Z"
    }
   },
   "outputs": [],
   "source": [
    "del users[\"timestamp\"]"
   ]
  },
  {
   "cell_type": "code",
   "execution_count": 83,
   "metadata": {
    "ExecuteTime": {
     "end_time": "2019-02-05T12:59:01.488315Z",
     "start_time": "2019-02-05T12:59:01.483329Z"
    }
   },
   "outputs": [],
   "source": [
    "useronly130= pd.DataFrame(columns=['userid','movid',\n",
    "                       'rating' ])\n"
   ]
  },
  {
   "cell_type": "code",
   "execution_count": 85,
   "metadata": {
    "ExecuteTime": {
     "end_time": "2019-02-05T13:02:46.828133Z",
     "start_time": "2019-02-05T12:59:23.944797Z"
    }
   },
   "outputs": [],
   "source": [
    "for i in range(0,100836):\n",
    "    if users.userId[i] in idd:\n",
    "        useronly130.loc[len(useronly130)] = list(users.iloc[i])  \n",
    "        \n",
    "        "
   ]
  },
  {
   "cell_type": "code",
   "execution_count": 90,
   "metadata": {
    "ExecuteTime": {
     "end_time": "2019-02-05T13:04:30.093031Z",
     "start_time": "2019-02-05T13:04:29.875049Z"
    }
   },
   "outputs": [],
   "source": [
    "useronly130.to_csv(\"useronly130.csv\")"
   ]
  },
  {
   "cell_type": "code",
   "execution_count": 25,
   "metadata": {
    "ExecuteTime": {
     "end_time": "2019-02-05T12:15:38.682584Z",
     "start_time": "2019-02-05T12:15:38.675603Z"
    }
   },
   "outputs": [],
   "source": [
    "temp=[]\n",
    "for i in range(300):\n",
    "    temp.append(features['movid'][i])"
   ]
  },
  {
   "cell_type": "code",
   "execution_count": 26,
   "metadata": {
    "ExecuteTime": {
     "end_time": "2019-02-05T12:15:47.917064Z",
     "start_time": "2019-02-05T12:15:42.388611Z"
    }
   },
   "outputs": [],
   "source": [
    "userid={}\n",
    "count=0\n",
    "usertemp=1\n",
    "for index, row in users.iterrows():\n",
    "    if row['userId']!=usertemp:\n",
    "        count=0\n",
    "        usertemp=row['userId']\n",
    "    \n",
    "    if row['movieId'] in temp:\n",
    "        count=count+1\n",
    "        \n",
    "    if count>=10 :\n",
    "        userid[row['userId']]=count\n",
    "        \n",
    "    \n",
    "        \n",
    "    "
   ]
  },
  {
   "cell_type": "code",
   "execution_count": 27,
   "metadata": {
    "ExecuteTime": {
     "end_time": "2019-02-05T12:15:51.524268Z",
     "start_time": "2019-02-05T12:15:51.520278Z"
    }
   },
   "outputs": [],
   "source": [
    "import operator\n",
    "sorted_topuser = sorted(userid.items(), key=operator.itemgetter(1),reverse=True)"
   ]
  },
  {
   "cell_type": "code",
   "execution_count": 28,
   "metadata": {
    "ExecuteTime": {
     "end_time": "2019-02-05T12:15:52.514086Z",
     "start_time": "2019-02-05T12:15:52.510097Z"
    }
   },
   "outputs": [],
   "source": [
    "finalusers=sorted_topuser[0:130]"
   ]
  },
  {
   "cell_type": "code",
   "execution_count": 53,
   "metadata": {
    "ExecuteTime": {
     "end_time": "2019-02-05T12:27:59.830335Z",
     "start_time": "2019-02-05T12:27:59.826344Z"
    }
   },
   "outputs": [],
   "source": [
    "idd=[int(finalusers[x][0]) for x in range(len(finalusers))]"
   ]
  },
  {
   "cell_type": "code",
   "execution_count": 329,
   "metadata": {
    "ExecuteTime": {
     "end_time": "2019-02-06T17:47:14.953738Z",
     "start_time": "2019-02-06T17:47:14.940772Z"
    }
   },
   "outputs": [],
   "source": [
    "userframe=pd.DataFrame(columns=list(features.movid))\n",
    "                       "
   ]
  },
  {
   "cell_type": "code",
   "execution_count": 323,
   "metadata": {
    "ExecuteTime": {
     "end_time": "2019-02-06T17:33:48.792059Z",
     "start_time": "2019-02-06T17:33:48.783119Z"
    }
   },
   "outputs": [],
   "source": [
    "userframe.insert(loc=0, column=\"userid\", value=idd)"
   ]
  },
  {
   "cell_type": "code",
   "execution_count": 324,
   "metadata": {
    "ExecuteTime": {
     "end_time": "2019-02-06T17:33:51.296842Z",
     "start_time": "2019-02-06T17:33:51.289732Z"
    }
   },
   "outputs": [
    {
     "data": {
      "text/plain": [
       "(130, 301)"
      ]
     },
     "execution_count": 324,
     "metadata": {},
     "output_type": "execute_result"
    }
   ],
   "source": [
    "userframe.shape"
   ]
  },
  {
   "cell_type": "code",
   "execution_count": 325,
   "metadata": {
    "ExecuteTime": {
     "end_time": "2019-02-06T17:33:53.198492Z",
     "start_time": "2019-02-06T17:33:53.155027Z"
    }
   },
   "outputs": [
    {
     "data": {
      "text/html": [
       "<div>\n",
       "<style scoped>\n",
       "    .dataframe tbody tr th:only-of-type {\n",
       "        vertical-align: middle;\n",
       "    }\n",
       "\n",
       "    .dataframe tbody tr th {\n",
       "        vertical-align: top;\n",
       "    }\n",
       "\n",
       "    .dataframe thead th {\n",
       "        text-align: right;\n",
       "    }\n",
       "</style>\n",
       "<table border=\"1\" class=\"dataframe\">\n",
       "  <thead>\n",
       "    <tr style=\"text-align: right;\">\n",
       "      <th></th>\n",
       "      <th>userid</th>\n",
       "      <th>89492</th>\n",
       "      <th>27822</th>\n",
       "      <th>5902</th>\n",
       "      <th>71462</th>\n",
       "      <th>118924</th>\n",
       "      <th>109191</th>\n",
       "      <th>113345</th>\n",
       "      <th>8035</th>\n",
       "      <th>8835</th>\n",
       "      <th>...</th>\n",
       "      <th>5444</th>\n",
       "      <th>185473</th>\n",
       "      <th>4995</th>\n",
       "      <th>2887</th>\n",
       "      <th>56003</th>\n",
       "      <th>50445</th>\n",
       "      <th>141668</th>\n",
       "      <th>617</th>\n",
       "      <th>38992</th>\n",
       "      <th>4780</th>\n",
       "    </tr>\n",
       "  </thead>\n",
       "  <tbody>\n",
       "    <tr>\n",
       "      <th>0</th>\n",
       "      <td>414</td>\n",
       "      <td>NaN</td>\n",
       "      <td>NaN</td>\n",
       "      <td>NaN</td>\n",
       "      <td>NaN</td>\n",
       "      <td>NaN</td>\n",
       "      <td>NaN</td>\n",
       "      <td>NaN</td>\n",
       "      <td>NaN</td>\n",
       "      <td>NaN</td>\n",
       "      <td>...</td>\n",
       "      <td>NaN</td>\n",
       "      <td>NaN</td>\n",
       "      <td>NaN</td>\n",
       "      <td>NaN</td>\n",
       "      <td>NaN</td>\n",
       "      <td>NaN</td>\n",
       "      <td>NaN</td>\n",
       "      <td>NaN</td>\n",
       "      <td>NaN</td>\n",
       "      <td>NaN</td>\n",
       "    </tr>\n",
       "    <tr>\n",
       "      <th>1</th>\n",
       "      <td>448</td>\n",
       "      <td>NaN</td>\n",
       "      <td>NaN</td>\n",
       "      <td>NaN</td>\n",
       "      <td>NaN</td>\n",
       "      <td>NaN</td>\n",
       "      <td>NaN</td>\n",
       "      <td>NaN</td>\n",
       "      <td>NaN</td>\n",
       "      <td>NaN</td>\n",
       "      <td>...</td>\n",
       "      <td>NaN</td>\n",
       "      <td>NaN</td>\n",
       "      <td>NaN</td>\n",
       "      <td>NaN</td>\n",
       "      <td>NaN</td>\n",
       "      <td>NaN</td>\n",
       "      <td>NaN</td>\n",
       "      <td>NaN</td>\n",
       "      <td>NaN</td>\n",
       "      <td>NaN</td>\n",
       "    </tr>\n",
       "    <tr>\n",
       "      <th>2</th>\n",
       "      <td>599</td>\n",
       "      <td>NaN</td>\n",
       "      <td>NaN</td>\n",
       "      <td>NaN</td>\n",
       "      <td>NaN</td>\n",
       "      <td>NaN</td>\n",
       "      <td>NaN</td>\n",
       "      <td>NaN</td>\n",
       "      <td>NaN</td>\n",
       "      <td>NaN</td>\n",
       "      <td>...</td>\n",
       "      <td>NaN</td>\n",
       "      <td>NaN</td>\n",
       "      <td>NaN</td>\n",
       "      <td>NaN</td>\n",
       "      <td>NaN</td>\n",
       "      <td>NaN</td>\n",
       "      <td>NaN</td>\n",
       "      <td>NaN</td>\n",
       "      <td>NaN</td>\n",
       "      <td>NaN</td>\n",
       "    </tr>\n",
       "    <tr>\n",
       "      <th>3</th>\n",
       "      <td>474</td>\n",
       "      <td>NaN</td>\n",
       "      <td>NaN</td>\n",
       "      <td>NaN</td>\n",
       "      <td>NaN</td>\n",
       "      <td>NaN</td>\n",
       "      <td>NaN</td>\n",
       "      <td>NaN</td>\n",
       "      <td>NaN</td>\n",
       "      <td>NaN</td>\n",
       "      <td>...</td>\n",
       "      <td>NaN</td>\n",
       "      <td>NaN</td>\n",
       "      <td>NaN</td>\n",
       "      <td>NaN</td>\n",
       "      <td>NaN</td>\n",
       "      <td>NaN</td>\n",
       "      <td>NaN</td>\n",
       "      <td>NaN</td>\n",
       "      <td>NaN</td>\n",
       "      <td>NaN</td>\n",
       "    </tr>\n",
       "    <tr>\n",
       "      <th>4</th>\n",
       "      <td>68</td>\n",
       "      <td>NaN</td>\n",
       "      <td>NaN</td>\n",
       "      <td>NaN</td>\n",
       "      <td>NaN</td>\n",
       "      <td>NaN</td>\n",
       "      <td>NaN</td>\n",
       "      <td>NaN</td>\n",
       "      <td>NaN</td>\n",
       "      <td>NaN</td>\n",
       "      <td>...</td>\n",
       "      <td>NaN</td>\n",
       "      <td>NaN</td>\n",
       "      <td>NaN</td>\n",
       "      <td>NaN</td>\n",
       "      <td>NaN</td>\n",
       "      <td>NaN</td>\n",
       "      <td>NaN</td>\n",
       "      <td>NaN</td>\n",
       "      <td>NaN</td>\n",
       "      <td>NaN</td>\n",
       "    </tr>\n",
       "  </tbody>\n",
       "</table>\n",
       "<p>5 rows × 301 columns</p>\n",
       "</div>"
      ],
      "text/plain": [
       "   userid 89492 27822 5902 71462 118924 109191 113345 8035 8835 ...  5444  \\\n",
       "0     414   NaN   NaN  NaN   NaN    NaN    NaN    NaN  NaN  NaN ...   NaN   \n",
       "1     448   NaN   NaN  NaN   NaN    NaN    NaN    NaN  NaN  NaN ...   NaN   \n",
       "2     599   NaN   NaN  NaN   NaN    NaN    NaN    NaN  NaN  NaN ...   NaN   \n",
       "3     474   NaN   NaN  NaN   NaN    NaN    NaN    NaN  NaN  NaN ...   NaN   \n",
       "4      68   NaN   NaN  NaN   NaN    NaN    NaN    NaN  NaN  NaN ...   NaN   \n",
       "\n",
       "  185473 4995 2887 56003 50445 141668  617 38992 4780  \n",
       "0    NaN  NaN  NaN   NaN   NaN    NaN  NaN   NaN  NaN  \n",
       "1    NaN  NaN  NaN   NaN   NaN    NaN  NaN   NaN  NaN  \n",
       "2    NaN  NaN  NaN   NaN   NaN    NaN  NaN   NaN  NaN  \n",
       "3    NaN  NaN  NaN   NaN   NaN    NaN  NaN   NaN  NaN  \n",
       "4    NaN  NaN  NaN   NaN   NaN    NaN  NaN   NaN  NaN  \n",
       "\n",
       "[5 rows x 301 columns]"
      ]
     },
     "execution_count": 325,
     "metadata": {},
     "output_type": "execute_result"
    }
   ],
   "source": [
    "#userframe = userframe.fillna(0)\n",
    "userframe.head()"
   ]
  },
  {
   "cell_type": "code",
   "execution_count": 307,
   "metadata": {
    "ExecuteTime": {
     "end_time": "2019-02-06T17:26:05.565783Z",
     "start_time": "2019-02-06T17:26:05.560796Z"
    }
   },
   "outputs": [],
   "source": [
    "userframe = userframe.set_index(\"userid\", drop = False)"
   ]
  },
  {
   "cell_type": "code",
   "execution_count": 611,
   "metadata": {
    "ExecuteTime": {
     "end_time": "2019-02-07T09:55:25.814918Z",
     "start_time": "2019-02-07T09:55:25.809929Z"
    }
   },
   "outputs": [
    {
     "data": {
      "text/plain": [
       "(100836, 3)"
      ]
     },
     "execution_count": 611,
     "metadata": {},
     "output_type": "execute_result"
    }
   ],
   "source": [
    "users.shape"
   ]
  },
  {
   "cell_type": "code",
   "execution_count": null,
   "metadata": {
    "scrolled": true
   },
   "outputs": [],
   "source": [
    "cc=0\n",
    "for i in range(0,130):\n",
    "    cc=cc+1\n",
    "    temp_us=userframe[\"userid\"][i]\n",
    "    print(temp_us,cc)\n",
    "    for index, info in users.iterrows():\n",
    "        if temp_us==int(info[\"userId\"]):\n",
    "            \n",
    "            userframe.set_value(i, info[\"movieId\"],info[\"rating\"])\n",
    "            \n",
    "            \n",
    "            \n",
    "        "
   ]
  },
  {
   "cell_type": "code",
   "execution_count": 396,
   "metadata": {
    "ExecuteTime": {
     "end_time": "2019-02-06T19:17:21.735334Z",
     "start_time": "2019-02-06T19:17:21.717346Z"
    }
   },
   "outputs": [
    {
     "data": {
      "text/html": [
       "<div>\n",
       "<style scoped>\n",
       "    .dataframe tbody tr th:only-of-type {\n",
       "        vertical-align: middle;\n",
       "    }\n",
       "\n",
       "    .dataframe tbody tr th {\n",
       "        vertical-align: top;\n",
       "    }\n",
       "\n",
       "    .dataframe thead th {\n",
       "        text-align: right;\n",
       "    }\n",
       "</style>\n",
       "<table border=\"1\" class=\"dataframe\">\n",
       "  <thead>\n",
       "    <tr style=\"text-align: right;\">\n",
       "      <th></th>\n",
       "      <th>movid</th>\n",
       "      <th>Fantasy</th>\n",
       "      <th>Adventure</th>\n",
       "      <th>Western</th>\n",
       "      <th>Romance</th>\n",
       "      <th>Mystery</th>\n",
       "      <th>Documentary</th>\n",
       "      <th>Musical</th>\n",
       "      <th>History</th>\n",
       "      <th>Family</th>\n",
       "      <th>...</th>\n",
       "      <th>Thriller</th>\n",
       "      <th>Music</th>\n",
       "      <th>Sci-Fi</th>\n",
       "      <th>Action</th>\n",
       "      <th>War</th>\n",
       "      <th>Sport</th>\n",
       "      <th>Biography</th>\n",
       "      <th>Crime</th>\n",
       "      <th>movie</th>\n",
       "      <th>year</th>\n",
       "    </tr>\n",
       "  </thead>\n",
       "  <tbody>\n",
       "    <tr>\n",
       "      <th>0</th>\n",
       "      <td>89492</td>\n",
       "      <td>0</td>\n",
       "      <td>0</td>\n",
       "      <td>0</td>\n",
       "      <td>0</td>\n",
       "      <td>0</td>\n",
       "      <td>0</td>\n",
       "      <td>0</td>\n",
       "      <td>0</td>\n",
       "      <td>0</td>\n",
       "      <td>...</td>\n",
       "      <td>0</td>\n",
       "      <td>0</td>\n",
       "      <td>0</td>\n",
       "      <td>0</td>\n",
       "      <td>0</td>\n",
       "      <td>1</td>\n",
       "      <td>1</td>\n",
       "      <td>0</td>\n",
       "      <td>Moneyball (2011)</td>\n",
       "      <td>2011</td>\n",
       "    </tr>\n",
       "    <tr>\n",
       "      <th>1</th>\n",
       "      <td>27822</td>\n",
       "      <td>0</td>\n",
       "      <td>1</td>\n",
       "      <td>0</td>\n",
       "      <td>0</td>\n",
       "      <td>0</td>\n",
       "      <td>0</td>\n",
       "      <td>0</td>\n",
       "      <td>0</td>\n",
       "      <td>0</td>\n",
       "      <td>...</td>\n",
       "      <td>0</td>\n",
       "      <td>0</td>\n",
       "      <td>0</td>\n",
       "      <td>0</td>\n",
       "      <td>0</td>\n",
       "      <td>0</td>\n",
       "      <td>0</td>\n",
       "      <td>0</td>\n",
       "      <td>Open Water (2003)</td>\n",
       "      <td>2003</td>\n",
       "    </tr>\n",
       "    <tr>\n",
       "      <th>2</th>\n",
       "      <td>5902</td>\n",
       "      <td>0</td>\n",
       "      <td>0</td>\n",
       "      <td>0</td>\n",
       "      <td>0</td>\n",
       "      <td>0</td>\n",
       "      <td>0</td>\n",
       "      <td>0</td>\n",
       "      <td>0</td>\n",
       "      <td>0</td>\n",
       "      <td>...</td>\n",
       "      <td>0</td>\n",
       "      <td>0</td>\n",
       "      <td>0</td>\n",
       "      <td>0</td>\n",
       "      <td>0</td>\n",
       "      <td>0</td>\n",
       "      <td>0</td>\n",
       "      <td>0</td>\n",
       "      <td>Adaptation. (2002)</td>\n",
       "      <td>2002</td>\n",
       "    </tr>\n",
       "    <tr>\n",
       "      <th>3</th>\n",
       "      <td>71462</td>\n",
       "      <td>0</td>\n",
       "      <td>0</td>\n",
       "      <td>0</td>\n",
       "      <td>0</td>\n",
       "      <td>0</td>\n",
       "      <td>1</td>\n",
       "      <td>0</td>\n",
       "      <td>0</td>\n",
       "      <td>0</td>\n",
       "      <td>...</td>\n",
       "      <td>0</td>\n",
       "      <td>0</td>\n",
       "      <td>0</td>\n",
       "      <td>0</td>\n",
       "      <td>0</td>\n",
       "      <td>0</td>\n",
       "      <td>0</td>\n",
       "      <td>1</td>\n",
       "      <td>The Cove (2009)</td>\n",
       "      <td>2009</td>\n",
       "    </tr>\n",
       "    <tr>\n",
       "      <th>4</th>\n",
       "      <td>118924</td>\n",
       "      <td>0</td>\n",
       "      <td>0</td>\n",
       "      <td>0</td>\n",
       "      <td>1</td>\n",
       "      <td>0</td>\n",
       "      <td>0</td>\n",
       "      <td>0</td>\n",
       "      <td>0</td>\n",
       "      <td>0</td>\n",
       "      <td>...</td>\n",
       "      <td>0</td>\n",
       "      <td>0</td>\n",
       "      <td>0</td>\n",
       "      <td>0</td>\n",
       "      <td>0</td>\n",
       "      <td>0</td>\n",
       "      <td>0</td>\n",
       "      <td>0</td>\n",
       "      <td>Top Five (2014)</td>\n",
       "      <td>2014</td>\n",
       "    </tr>\n",
       "  </tbody>\n",
       "</table>\n",
       "<p>5 rows × 24 columns</p>\n",
       "</div>"
      ],
      "text/plain": [
       "    movid  Fantasy  Adventure  Western  Romance  Mystery  Documentary  \\\n",
       "0   89492        0          0        0        0        0            0   \n",
       "1   27822        0          1        0        0        0            0   \n",
       "2    5902        0          0        0        0        0            0   \n",
       "3   71462        0          0        0        0        0            1   \n",
       "4  118924        0          0        0        1        0            0   \n",
       "\n",
       "   Musical  History  Family  ...   Thriller  Music  Sci-Fi  Action  War  \\\n",
       "0        0        0       0  ...          0      0       0       0    0   \n",
       "1        0        0       0  ...          0      0       0       0    0   \n",
       "2        0        0       0  ...          0      0       0       0    0   \n",
       "3        0        0       0  ...          0      0       0       0    0   \n",
       "4        0        0       0  ...          0      0       0       0    0   \n",
       "\n",
       "   Sport  Biography  Crime               movie  year  \n",
       "0      1          1      0    Moneyball (2011)  2011  \n",
       "1      0          0      0   Open Water (2003)  2003  \n",
       "2      0          0      0  Adaptation. (2002)  2002  \n",
       "3      0          0      1     The Cove (2009)  2009  \n",
       "4      0          0      0     Top Five (2014)  2014  \n",
       "\n",
       "[5 rows x 24 columns]"
      ]
     },
     "execution_count": 396,
     "metadata": {},
     "output_type": "execute_result"
    }
   ],
   "source": [
    "features.head()"
   ]
  },
  {
   "cell_type": "code",
   "execution_count": 397,
   "metadata": {
    "ExecuteTime": {
     "end_time": "2019-02-06T19:18:35.936359Z",
     "start_time": "2019-02-06T19:18:35.930378Z"
    }
   },
   "outputs": [],
   "source": [
    "features.rename(columns={\"movid\":\"movieId\"}, inplace=True)"
   ]
  },
  {
   "cell_type": "code",
   "execution_count": 400,
   "metadata": {
    "ExecuteTime": {
     "end_time": "2019-02-06T19:19:51.288747Z",
     "start_time": "2019-02-06T19:19:51.272762Z"
    }
   },
   "outputs": [],
   "source": [
    "movie_data = pd.merge(users,features, on='movieId')  \n"
   ]
  },
  {
   "cell_type": "code",
   "execution_count": 405,
   "metadata": {
    "ExecuteTime": {
     "end_time": "2019-02-06T19:22:06.062554Z",
     "start_time": "2019-02-06T19:22:06.054575Z"
    }
   },
   "outputs": [
    {
     "data": {
      "text/plain": [
       "movie\n",
       "Moonlight (2016)                     5.00\n",
       "I Can Do Bad All by Myself (2009)    5.00\n",
       "Hellbenders (2012)                   5.00\n",
       "Cherish (2002)                       5.00\n",
       "Hunger (2008)                        4.75\n",
       "Name: rating, dtype: float64"
      ]
     },
     "execution_count": 405,
     "metadata": {},
     "output_type": "execute_result"
    }
   ],
   "source": [
    "movie_data.groupby('movie')['rating'].mean().sort_values(ascending=False).head()  \n"
   ]
  },
  {
   "cell_type": "code",
   "execution_count": 456,
   "metadata": {
    "ExecuteTime": {
     "end_time": "2019-02-06T19:44:52.557805Z",
     "start_time": "2019-02-06T19:44:52.548829Z"
    }
   },
   "outputs": [
    {
     "data": {
      "text/plain": [
       "movie\n",
       "The Lord of the Rings: The Two Towers (2002)    188\n",
       "Aladdin (1992)                                  183\n",
       "Memento (2000)                                  159\n",
       "Good Will Hunting (1997)                        141\n",
       "Kill Bill: Vol. 1 (2003)                        131\n",
       "Name: rating, dtype: int64"
      ]
     },
     "execution_count": 456,
     "metadata": {},
     "output_type": "execute_result"
    }
   ],
   "source": [
    "movie_data.groupby('movie')['rating'].count().sort_values(ascending=False).head()  \n"
   ]
  },
  {
   "cell_type": "code",
   "execution_count": 455,
   "metadata": {
    "ExecuteTime": {
     "end_time": "2019-02-06T19:44:47.790825Z",
     "start_time": "2019-02-06T19:44:47.777809Z"
    }
   },
   "outputs": [
    {
     "data": {
      "text/html": [
       "<div>\n",
       "<style scoped>\n",
       "    .dataframe tbody tr th:only-of-type {\n",
       "        vertical-align: middle;\n",
       "    }\n",
       "\n",
       "    .dataframe tbody tr th {\n",
       "        vertical-align: top;\n",
       "    }\n",
       "\n",
       "    .dataframe thead th {\n",
       "        text-align: right;\n",
       "    }\n",
       "</style>\n",
       "<table border=\"1\" class=\"dataframe\">\n",
       "  <thead>\n",
       "    <tr style=\"text-align: right;\">\n",
       "      <th></th>\n",
       "      <th>rating</th>\n",
       "      <th>rating_counts</th>\n",
       "    </tr>\n",
       "    <tr>\n",
       "      <th>movie</th>\n",
       "      <th></th>\n",
       "      <th></th>\n",
       "    </tr>\n",
       "  </thead>\n",
       "  <tbody>\n",
       "    <tr>\n",
       "      <th>10 Years (2011)</th>\n",
       "      <td>3.50</td>\n",
       "      <td>1</td>\n",
       "    </tr>\n",
       "    <tr>\n",
       "      <th>11:14 (2003)</th>\n",
       "      <td>3.75</td>\n",
       "      <td>4</td>\n",
       "    </tr>\n",
       "    <tr>\n",
       "      <th>3 Days to Kill (2014)</th>\n",
       "      <td>1.00</td>\n",
       "      <td>2</td>\n",
       "    </tr>\n",
       "    <tr>\n",
       "      <th>31 (2016)</th>\n",
       "      <td>3.50</td>\n",
       "      <td>1</td>\n",
       "    </tr>\n",
       "    <tr>\n",
       "      <th>54 (1998)</th>\n",
       "      <td>2.00</td>\n",
       "      <td>5</td>\n",
       "    </tr>\n",
       "  </tbody>\n",
       "</table>\n",
       "</div>"
      ],
      "text/plain": [
       "                       rating  rating_counts\n",
       "movie                                       \n",
       "10 Years (2011)          3.50              1\n",
       "11:14 (2003)             3.75              4\n",
       "3 Days to Kill (2014)    1.00              2\n",
       "31 (2016)                3.50              1\n",
       "54 (1998)                2.00              5"
      ]
     },
     "execution_count": 455,
     "metadata": {},
     "output_type": "execute_result"
    }
   ],
   "source": [
    "ratings_mean_count = pd.DataFrame(movie_data.groupby('movie')['rating'].mean())  \n",
    "ratings_mean_count['rating_counts'] = pd.DataFrame(movie_data.groupby('movie')['rating'].count())  \n",
    "ratings_mean_count.head()\n",
    "#ratings_mean_count.to_csv(\"rat_count.csv\")\n"
   ]
  },
  {
   "cell_type": "code",
   "execution_count": 68,
   "metadata": {
    "ExecuteTime": {
     "end_time": "2019-02-05T12:42:48.005496Z",
     "start_time": "2019-02-05T12:42:48.001059Z"
    },
    "scrolled": true
   },
   "outputs": [],
   "source": [
    "userno=130\n",
    "movieno=300"
   ]
  },
  {
   "cell_type": "code",
   "execution_count": 92,
   "metadata": {
    "ExecuteTime": {
     "end_time": "2019-02-05T13:20:48.650940Z",
     "start_time": "2019-02-05T13:20:48.646950Z"
    }
   },
   "outputs": [],
   "source": [
    "import numpy as np\n"
   ]
  },
  {
   "cell_type": "code",
   "execution_count": 332,
   "metadata": {
    "ExecuteTime": {
     "end_time": "2019-02-06T18:04:31.557149Z",
     "start_time": "2019-02-06T18:04:31.101368Z"
    }
   },
   "outputs": [],
   "source": [
    "userframe=pd.read_csv(\"C:\\\\Users\\\\Jayant\\\\Desktop\\\\precog\\\\userframe.csv\")"
   ]
  },
  {
   "cell_type": "code",
   "execution_count": null,
   "metadata": {
    "scrolled": true
   },
   "outputs": [],
   "source": [
    "del userframe[\"Unnamed: 0\"]\n"
   ]
  },
  {
   "cell_type": "code",
   "execution_count": 344,
   "metadata": {
    "ExecuteTime": {
     "end_time": "2019-02-06T18:15:37.287339Z",
     "start_time": "2019-02-06T18:15:37.265431Z"
    }
   },
   "outputs": [
    {
     "data": {
      "text/html": [
       "<div>\n",
       "<style scoped>\n",
       "    .dataframe tbody tr th:only-of-type {\n",
       "        vertical-align: middle;\n",
       "    }\n",
       "\n",
       "    .dataframe tbody tr th {\n",
       "        vertical-align: top;\n",
       "    }\n",
       "\n",
       "    .dataframe thead th {\n",
       "        text-align: right;\n",
       "    }\n",
       "</style>\n",
       "<table border=\"1\" class=\"dataframe\">\n",
       "  <thead>\n",
       "    <tr style=\"text-align: right;\">\n",
       "      <th></th>\n",
       "      <th>userid</th>\n",
       "      <th>89492</th>\n",
       "      <th>27822</th>\n",
       "      <th>5902</th>\n",
       "      <th>71462</th>\n",
       "      <th>118924</th>\n",
       "      <th>109191</th>\n",
       "      <th>113345</th>\n",
       "      <th>8035</th>\n",
       "      <th>8835</th>\n",
       "      <th>...</th>\n",
       "      <th>5444</th>\n",
       "      <th>185473</th>\n",
       "      <th>4995</th>\n",
       "      <th>2887</th>\n",
       "      <th>56003</th>\n",
       "      <th>50445</th>\n",
       "      <th>141668</th>\n",
       "      <th>617</th>\n",
       "      <th>38992</th>\n",
       "      <th>4780</th>\n",
       "    </tr>\n",
       "  </thead>\n",
       "  <tbody>\n",
       "    <tr>\n",
       "      <th>0</th>\n",
       "      <td>414</td>\n",
       "      <td>4.5</td>\n",
       "      <td>3.0</td>\n",
       "      <td>5.0</td>\n",
       "      <td>NaN</td>\n",
       "      <td>NaN</td>\n",
       "      <td>NaN</td>\n",
       "      <td>NaN</td>\n",
       "      <td>NaN</td>\n",
       "      <td>NaN</td>\n",
       "      <td>...</td>\n",
       "      <td>4.0</td>\n",
       "      <td>NaN</td>\n",
       "      <td>4.0</td>\n",
       "      <td>NaN</td>\n",
       "      <td>NaN</td>\n",
       "      <td>NaN</td>\n",
       "      <td>NaN</td>\n",
       "      <td>NaN</td>\n",
       "      <td>NaN</td>\n",
       "      <td>2.0</td>\n",
       "    </tr>\n",
       "    <tr>\n",
       "      <th>1</th>\n",
       "      <td>448</td>\n",
       "      <td>4.0</td>\n",
       "      <td>NaN</td>\n",
       "      <td>NaN</td>\n",
       "      <td>NaN</td>\n",
       "      <td>3.0</td>\n",
       "      <td>1.5</td>\n",
       "      <td>NaN</td>\n",
       "      <td>NaN</td>\n",
       "      <td>NaN</td>\n",
       "      <td>...</td>\n",
       "      <td>NaN</td>\n",
       "      <td>NaN</td>\n",
       "      <td>NaN</td>\n",
       "      <td>1.0</td>\n",
       "      <td>NaN</td>\n",
       "      <td>NaN</td>\n",
       "      <td>NaN</td>\n",
       "      <td>NaN</td>\n",
       "      <td>NaN</td>\n",
       "      <td>NaN</td>\n",
       "    </tr>\n",
       "    <tr>\n",
       "      <th>2</th>\n",
       "      <td>599</td>\n",
       "      <td>3.5</td>\n",
       "      <td>NaN</td>\n",
       "      <td>3.0</td>\n",
       "      <td>NaN</td>\n",
       "      <td>NaN</td>\n",
       "      <td>NaN</td>\n",
       "      <td>NaN</td>\n",
       "      <td>NaN</td>\n",
       "      <td>NaN</td>\n",
       "      <td>...</td>\n",
       "      <td>NaN</td>\n",
       "      <td>NaN</td>\n",
       "      <td>2.5</td>\n",
       "      <td>NaN</td>\n",
       "      <td>NaN</td>\n",
       "      <td>NaN</td>\n",
       "      <td>NaN</td>\n",
       "      <td>NaN</td>\n",
       "      <td>NaN</td>\n",
       "      <td>NaN</td>\n",
       "    </tr>\n",
       "    <tr>\n",
       "      <th>3</th>\n",
       "      <td>474</td>\n",
       "      <td>NaN</td>\n",
       "      <td>NaN</td>\n",
       "      <td>3.5</td>\n",
       "      <td>NaN</td>\n",
       "      <td>NaN</td>\n",
       "      <td>NaN</td>\n",
       "      <td>NaN</td>\n",
       "      <td>NaN</td>\n",
       "      <td>NaN</td>\n",
       "      <td>...</td>\n",
       "      <td>3.0</td>\n",
       "      <td>NaN</td>\n",
       "      <td>3.5</td>\n",
       "      <td>NaN</td>\n",
       "      <td>NaN</td>\n",
       "      <td>NaN</td>\n",
       "      <td>NaN</td>\n",
       "      <td>NaN</td>\n",
       "      <td>NaN</td>\n",
       "      <td>NaN</td>\n",
       "    </tr>\n",
       "    <tr>\n",
       "      <th>4</th>\n",
       "      <td>68</td>\n",
       "      <td>4.5</td>\n",
       "      <td>NaN</td>\n",
       "      <td>NaN</td>\n",
       "      <td>NaN</td>\n",
       "      <td>NaN</td>\n",
       "      <td>NaN</td>\n",
       "      <td>NaN</td>\n",
       "      <td>NaN</td>\n",
       "      <td>NaN</td>\n",
       "      <td>...</td>\n",
       "      <td>4.5</td>\n",
       "      <td>NaN</td>\n",
       "      <td>3.5</td>\n",
       "      <td>NaN</td>\n",
       "      <td>NaN</td>\n",
       "      <td>NaN</td>\n",
       "      <td>NaN</td>\n",
       "      <td>NaN</td>\n",
       "      <td>NaN</td>\n",
       "      <td>NaN</td>\n",
       "    </tr>\n",
       "  </tbody>\n",
       "</table>\n",
       "<p>5 rows × 301 columns</p>\n",
       "</div>"
      ],
      "text/plain": [
       "   userid  89492  27822  5902  71462  118924  109191  113345  8035  8835  \\\n",
       "0     414    4.5    3.0   5.0    NaN     NaN     NaN     NaN   NaN   NaN   \n",
       "1     448    4.0    NaN   NaN    NaN     3.0     1.5     NaN   NaN   NaN   \n",
       "2     599    3.5    NaN   3.0    NaN     NaN     NaN     NaN   NaN   NaN   \n",
       "3     474    NaN    NaN   3.5    NaN     NaN     NaN     NaN   NaN   NaN   \n",
       "4      68    4.5    NaN   NaN    NaN     NaN     NaN     NaN   NaN   NaN   \n",
       "\n",
       "   ...   5444  185473  4995  2887  56003  50445  141668  617  38992  4780  \n",
       "0  ...    4.0     NaN   4.0   NaN    NaN    NaN     NaN  NaN    NaN   2.0  \n",
       "1  ...    NaN     NaN   NaN   1.0    NaN    NaN     NaN  NaN    NaN   NaN  \n",
       "2  ...    NaN     NaN   2.5   NaN    NaN    NaN     NaN  NaN    NaN   NaN  \n",
       "3  ...    3.0     NaN   3.5   NaN    NaN    NaN     NaN  NaN    NaN   NaN  \n",
       "4  ...    4.5     NaN   3.5   NaN    NaN    NaN     NaN  NaN    NaN   NaN  \n",
       "\n",
       "[5 rows x 301 columns]"
      ]
     },
     "execution_count": 344,
     "metadata": {},
     "output_type": "execute_result"
    }
   ],
   "source": [
    "userframe.head()"
   ]
  },
  {
   "cell_type": "code",
   "execution_count": 352,
   "metadata": {
    "ExecuteTime": {
     "end_time": "2019-02-06T18:22:25.650715Z",
     "start_time": "2019-02-06T18:22:25.645728Z"
    }
   },
   "outputs": [
    {
     "data": {
      "text/plain": [
       "301"
      ]
     },
     "execution_count": 352,
     "metadata": {},
     "output_type": "execute_result"
    }
   ],
   "source": [
    "len(uuc)"
   ]
  },
  {
   "cell_type": "code",
   "execution_count": 358,
   "metadata": {
    "ExecuteTime": {
     "end_time": "2019-02-06T18:30:36.277253Z",
     "start_time": "2019-02-06T18:30:36.273265Z"
    }
   },
   "outputs": [],
   "source": [
    "rename={}\n",
    "uuc=list(userframe.columns)\n",
    "uuc.remove('userid')\n",
    "pp=list(features.movie)\n",
    "for i in range(300):\n",
    "    rename[uuc[i]]=pp[i]\n",
    "    "
   ]
  },
  {
   "cell_type": "code",
   "execution_count": null,
   "metadata": {},
   "outputs": [],
   "source": [
    "rename"
   ]
  },
  {
   "cell_type": "code",
   "execution_count": 360,
   "metadata": {
    "ExecuteTime": {
     "end_time": "2019-02-06T18:30:59.432773Z",
     "start_time": "2019-02-06T18:30:59.427787Z"
    }
   },
   "outputs": [],
   "source": [
    "userframe.rename(columns=rename, inplace=True)"
   ]
  },
  {
   "cell_type": "code",
   "execution_count": 363,
   "metadata": {
    "ExecuteTime": {
     "end_time": "2019-02-06T18:32:05.726932Z",
     "start_time": "2019-02-06T18:32:05.722943Z"
    }
   },
   "outputs": [],
   "source": [
    "userframe = userframe.set_index(\"userid\", drop = False)"
   ]
  },
  {
   "cell_type": "code",
   "execution_count": 366,
   "metadata": {
    "ExecuteTime": {
     "end_time": "2019-02-06T18:32:31.570619Z",
     "start_time": "2019-02-06T18:32:31.540702Z"
    }
   },
   "outputs": [],
   "source": [
    "#userframe.to_csv(\"mm_final.csv\")"
   ]
  },
  {
   "cell_type": "code",
   "execution_count": 335,
   "metadata": {
    "ExecuteTime": {
     "end_time": "2019-02-06T18:06:40.434235Z",
     "start_time": "2019-02-06T18:06:06.154642Z"
    }
   },
   "outputs": [],
   "source": [
    "for column in userframe.columns:\n",
    "    if column=='userid':\n",
    "        continue\n",
    "    \n",
    "    elif int(float(column)) not in tyu:\n",
    "        userframe = userframe.drop(column, axis = 1)"
   ]
  },
  {
   "cell_type": "code",
   "execution_count": 679,
   "metadata": {
    "ExecuteTime": {
     "end_time": "2019-02-07T12:40:18.635932Z",
     "start_time": "2019-02-07T12:40:18.605052Z"
    }
   },
   "outputs": [
    {
     "data": {
      "text/html": [
       "<div>\n",
       "<style scoped>\n",
       "    .dataframe tbody tr th:only-of-type {\n",
       "        vertical-align: middle;\n",
       "    }\n",
       "\n",
       "    .dataframe tbody tr th {\n",
       "        vertical-align: top;\n",
       "    }\n",
       "\n",
       "    .dataframe thead th {\n",
       "        text-align: right;\n",
       "    }\n",
       "</style>\n",
       "<table border=\"1\" class=\"dataframe\">\n",
       "  <thead>\n",
       "    <tr style=\"text-align: right;\">\n",
       "      <th></th>\n",
       "      <th>movieId</th>\n",
       "      <th>Fantasy</th>\n",
       "      <th>Adventure</th>\n",
       "      <th>Western</th>\n",
       "      <th>Romance</th>\n",
       "      <th>Mystery</th>\n",
       "      <th>Documentary</th>\n",
       "      <th>Musical</th>\n",
       "      <th>History</th>\n",
       "      <th>Family</th>\n",
       "      <th>...</th>\n",
       "      <th>Thriller</th>\n",
       "      <th>Music</th>\n",
       "      <th>Sci-Fi</th>\n",
       "      <th>Action</th>\n",
       "      <th>War</th>\n",
       "      <th>Sport</th>\n",
       "      <th>Biography</th>\n",
       "      <th>Crime</th>\n",
       "      <th>movie</th>\n",
       "      <th>year</th>\n",
       "    </tr>\n",
       "  </thead>\n",
       "  <tbody>\n",
       "    <tr>\n",
       "      <th>0</th>\n",
       "      <td>89492</td>\n",
       "      <td>0</td>\n",
       "      <td>0</td>\n",
       "      <td>0</td>\n",
       "      <td>0</td>\n",
       "      <td>0</td>\n",
       "      <td>0</td>\n",
       "      <td>0</td>\n",
       "      <td>0</td>\n",
       "      <td>0</td>\n",
       "      <td>...</td>\n",
       "      <td>0</td>\n",
       "      <td>0</td>\n",
       "      <td>0</td>\n",
       "      <td>0</td>\n",
       "      <td>0</td>\n",
       "      <td>1</td>\n",
       "      <td>1</td>\n",
       "      <td>0</td>\n",
       "      <td>Moneyball (2011)</td>\n",
       "      <td>2011</td>\n",
       "    </tr>\n",
       "    <tr>\n",
       "      <th>1</th>\n",
       "      <td>27822</td>\n",
       "      <td>0</td>\n",
       "      <td>1</td>\n",
       "      <td>0</td>\n",
       "      <td>0</td>\n",
       "      <td>0</td>\n",
       "      <td>0</td>\n",
       "      <td>0</td>\n",
       "      <td>0</td>\n",
       "      <td>0</td>\n",
       "      <td>...</td>\n",
       "      <td>0</td>\n",
       "      <td>0</td>\n",
       "      <td>0</td>\n",
       "      <td>0</td>\n",
       "      <td>0</td>\n",
       "      <td>0</td>\n",
       "      <td>0</td>\n",
       "      <td>0</td>\n",
       "      <td>Open Water (2003)</td>\n",
       "      <td>2003</td>\n",
       "    </tr>\n",
       "    <tr>\n",
       "      <th>2</th>\n",
       "      <td>5902</td>\n",
       "      <td>0</td>\n",
       "      <td>0</td>\n",
       "      <td>0</td>\n",
       "      <td>0</td>\n",
       "      <td>0</td>\n",
       "      <td>0</td>\n",
       "      <td>0</td>\n",
       "      <td>0</td>\n",
       "      <td>0</td>\n",
       "      <td>...</td>\n",
       "      <td>0</td>\n",
       "      <td>0</td>\n",
       "      <td>0</td>\n",
       "      <td>0</td>\n",
       "      <td>0</td>\n",
       "      <td>0</td>\n",
       "      <td>0</td>\n",
       "      <td>0</td>\n",
       "      <td>Adaptation. (2002)</td>\n",
       "      <td>2002</td>\n",
       "    </tr>\n",
       "    <tr>\n",
       "      <th>3</th>\n",
       "      <td>71462</td>\n",
       "      <td>0</td>\n",
       "      <td>0</td>\n",
       "      <td>0</td>\n",
       "      <td>0</td>\n",
       "      <td>0</td>\n",
       "      <td>1</td>\n",
       "      <td>0</td>\n",
       "      <td>0</td>\n",
       "      <td>0</td>\n",
       "      <td>...</td>\n",
       "      <td>0</td>\n",
       "      <td>0</td>\n",
       "      <td>0</td>\n",
       "      <td>0</td>\n",
       "      <td>0</td>\n",
       "      <td>0</td>\n",
       "      <td>0</td>\n",
       "      <td>1</td>\n",
       "      <td>The Cove (2009)</td>\n",
       "      <td>2009</td>\n",
       "    </tr>\n",
       "    <tr>\n",
       "      <th>4</th>\n",
       "      <td>118924</td>\n",
       "      <td>0</td>\n",
       "      <td>0</td>\n",
       "      <td>0</td>\n",
       "      <td>1</td>\n",
       "      <td>0</td>\n",
       "      <td>0</td>\n",
       "      <td>0</td>\n",
       "      <td>0</td>\n",
       "      <td>0</td>\n",
       "      <td>...</td>\n",
       "      <td>0</td>\n",
       "      <td>0</td>\n",
       "      <td>0</td>\n",
       "      <td>0</td>\n",
       "      <td>0</td>\n",
       "      <td>0</td>\n",
       "      <td>0</td>\n",
       "      <td>0</td>\n",
       "      <td>Top Five (2014)</td>\n",
       "      <td>2014</td>\n",
       "    </tr>\n",
       "  </tbody>\n",
       "</table>\n",
       "<p>5 rows × 24 columns</p>\n",
       "</div>"
      ],
      "text/plain": [
       "   movieId  Fantasy  Adventure  Western  Romance  Mystery  Documentary  \\\n",
       "0    89492        0          0        0        0        0            0   \n",
       "1    27822        0          1        0        0        0            0   \n",
       "2     5902        0          0        0        0        0            0   \n",
       "3    71462        0          0        0        0        0            1   \n",
       "4   118924        0          0        0        1        0            0   \n",
       "\n",
       "   Musical  History  Family  ...   Thriller  Music  Sci-Fi  Action  War  \\\n",
       "0        0        0       0  ...          0      0       0       0    0   \n",
       "1        0        0       0  ...          0      0       0       0    0   \n",
       "2        0        0       0  ...          0      0       0       0    0   \n",
       "3        0        0       0  ...          0      0       0       0    0   \n",
       "4        0        0       0  ...          0      0       0       0    0   \n",
       "\n",
       "   Sport  Biography  Crime               movie  year  \n",
       "0      1          1      0    Moneyball (2011)  2011  \n",
       "1      0          0      0   Open Water (2003)  2003  \n",
       "2      0          0      0  Adaptation. (2002)  2002  \n",
       "3      0          0      1     The Cove (2009)  2009  \n",
       "4      0          0      0     Top Five (2014)  2014  \n",
       "\n",
       "[5 rows x 24 columns]"
      ]
     },
     "execution_count": 679,
     "metadata": {},
     "output_type": "execute_result"
    }
   ],
   "source": [
    "features.head()"
   ]
  },
  {
   "cell_type": "code",
   "execution_count": null,
   "metadata": {},
   "outputs": [],
   "source": [
    "db=list(features.movieId)"
   ]
  },
  {
   "cell_type": "code",
   "execution_count": null,
   "metadata": {},
   "outputs": [],
   "source": []
  },
  {
   "cell_type": "markdown",
   "metadata": {},
   "source": [
    "# Item Item Based filtering"
   ]
  },
  {
   "cell_type": "code",
   "execution_count": 2,
   "metadata": {
    "ExecuteTime": {
     "end_time": "2019-02-15T14:18:29.464251Z",
     "start_time": "2019-02-15T14:18:29.443269Z"
    }
   },
   "outputs": [],
   "source": [
    "mov=pd.read_csv(\"C:\\\\Users\\\\Jayant\\\\Desktop\\\\precog\\\\precog_imdb300.csv\")"
   ]
  },
  {
   "cell_type": "code",
   "execution_count": 3,
   "metadata": {
    "ExecuteTime": {
     "end_time": "2019-02-15T14:18:31.729302Z",
     "start_time": "2019-02-15T14:18:31.683429Z"
    },
    "scrolled": false
   },
   "outputs": [
    {
     "data": {
      "text/html": [
       "<div>\n",
       "<style scoped>\n",
       "    .dataframe tbody tr th:only-of-type {\n",
       "        vertical-align: middle;\n",
       "    }\n",
       "\n",
       "    .dataframe tbody tr th {\n",
       "        vertical-align: top;\n",
       "    }\n",
       "\n",
       "    .dataframe thead th {\n",
       "        text-align: right;\n",
       "    }\n",
       "</style>\n",
       "<table border=\"1\" class=\"dataframe\">\n",
       "  <thead>\n",
       "    <tr style=\"text-align: right;\">\n",
       "      <th></th>\n",
       "      <th>userid</th>\n",
       "      <th>Moneyball (2011)</th>\n",
       "      <th>Open Water (2003)</th>\n",
       "      <th>Adaptation. (2002)</th>\n",
       "      <th>The Cove (2009)</th>\n",
       "      <th>Top Five (2014)</th>\n",
       "      <th>Winter's Tale (2014)</th>\n",
       "      <th>Jupiter Ascending (2015)</th>\n",
       "      <th>La sindrome di Stendhal (1996)</th>\n",
       "      <th>Paparazzi (2004)</th>\n",
       "      <th>...</th>\n",
       "      <th>Lilo &amp; Stitch (2002)</th>\n",
       "      <th>Blockers (2018)</th>\n",
       "      <th>A Beautiful Mind (2001)</th>\n",
       "      <th>Simon Sez (1999)</th>\n",
       "      <th>Southland Tales (2006)</th>\n",
       "      <th>The Hitcher (2007)</th>\n",
       "      <th>War Room (2015)</th>\n",
       "      <th>La flor de mi secreto (1995)</th>\n",
       "      <th>Two for the Money (2005)</th>\n",
       "      <th>Liam (2000)</th>\n",
       "    </tr>\n",
       "  </thead>\n",
       "  <tbody>\n",
       "    <tr>\n",
       "      <th>0</th>\n",
       "      <td>414</td>\n",
       "      <td>4.5</td>\n",
       "      <td>3.0</td>\n",
       "      <td>5.0</td>\n",
       "      <td>0</td>\n",
       "      <td>0</td>\n",
       "      <td>0.0</td>\n",
       "      <td>0.0</td>\n",
       "      <td>0.0</td>\n",
       "      <td>0</td>\n",
       "      <td>...</td>\n",
       "      <td>4.0</td>\n",
       "      <td>0</td>\n",
       "      <td>4.0</td>\n",
       "      <td>0</td>\n",
       "      <td>0</td>\n",
       "      <td>0.0</td>\n",
       "      <td>0.0</td>\n",
       "      <td>0.0</td>\n",
       "      <td>0.0</td>\n",
       "      <td>2</td>\n",
       "    </tr>\n",
       "    <tr>\n",
       "      <th>1</th>\n",
       "      <td>448</td>\n",
       "      <td>4.0</td>\n",
       "      <td>0.0</td>\n",
       "      <td>0.0</td>\n",
       "      <td>0</td>\n",
       "      <td>3</td>\n",
       "      <td>1.5</td>\n",
       "      <td>0.0</td>\n",
       "      <td>0.0</td>\n",
       "      <td>0</td>\n",
       "      <td>...</td>\n",
       "      <td>0.0</td>\n",
       "      <td>0</td>\n",
       "      <td>0.0</td>\n",
       "      <td>1</td>\n",
       "      <td>0</td>\n",
       "      <td>0.0</td>\n",
       "      <td>0.0</td>\n",
       "      <td>0.0</td>\n",
       "      <td>0.0</td>\n",
       "      <td>0</td>\n",
       "    </tr>\n",
       "    <tr>\n",
       "      <th>2</th>\n",
       "      <td>599</td>\n",
       "      <td>3.5</td>\n",
       "      <td>0.0</td>\n",
       "      <td>3.0</td>\n",
       "      <td>0</td>\n",
       "      <td>0</td>\n",
       "      <td>0.0</td>\n",
       "      <td>0.0</td>\n",
       "      <td>0.0</td>\n",
       "      <td>0</td>\n",
       "      <td>...</td>\n",
       "      <td>0.0</td>\n",
       "      <td>0</td>\n",
       "      <td>2.5</td>\n",
       "      <td>0</td>\n",
       "      <td>0</td>\n",
       "      <td>0.0</td>\n",
       "      <td>0.0</td>\n",
       "      <td>0.0</td>\n",
       "      <td>0.0</td>\n",
       "      <td>0</td>\n",
       "    </tr>\n",
       "    <tr>\n",
       "      <th>3</th>\n",
       "      <td>474</td>\n",
       "      <td>0.0</td>\n",
       "      <td>0.0</td>\n",
       "      <td>3.5</td>\n",
       "      <td>0</td>\n",
       "      <td>0</td>\n",
       "      <td>0.0</td>\n",
       "      <td>0.0</td>\n",
       "      <td>0.0</td>\n",
       "      <td>0</td>\n",
       "      <td>...</td>\n",
       "      <td>3.0</td>\n",
       "      <td>0</td>\n",
       "      <td>3.5</td>\n",
       "      <td>0</td>\n",
       "      <td>0</td>\n",
       "      <td>0.0</td>\n",
       "      <td>0.0</td>\n",
       "      <td>0.0</td>\n",
       "      <td>0.0</td>\n",
       "      <td>0</td>\n",
       "    </tr>\n",
       "    <tr>\n",
       "      <th>4</th>\n",
       "      <td>68</td>\n",
       "      <td>4.5</td>\n",
       "      <td>0.0</td>\n",
       "      <td>0.0</td>\n",
       "      <td>0</td>\n",
       "      <td>0</td>\n",
       "      <td>0.0</td>\n",
       "      <td>0.0</td>\n",
       "      <td>0.0</td>\n",
       "      <td>0</td>\n",
       "      <td>...</td>\n",
       "      <td>4.5</td>\n",
       "      <td>0</td>\n",
       "      <td>3.5</td>\n",
       "      <td>0</td>\n",
       "      <td>0</td>\n",
       "      <td>0.0</td>\n",
       "      <td>0.0</td>\n",
       "      <td>0.0</td>\n",
       "      <td>0.0</td>\n",
       "      <td>0</td>\n",
       "    </tr>\n",
       "  </tbody>\n",
       "</table>\n",
       "<p>5 rows × 301 columns</p>\n",
       "</div>"
      ],
      "text/plain": [
       "   userid  Moneyball (2011)  Open Water (2003)  Adaptation. (2002)  \\\n",
       "0     414               4.5                3.0                 5.0   \n",
       "1     448               4.0                0.0                 0.0   \n",
       "2     599               3.5                0.0                 3.0   \n",
       "3     474               0.0                0.0                 3.5   \n",
       "4      68               4.5                0.0                 0.0   \n",
       "\n",
       "   The Cove (2009)  Top Five (2014)  Winter's Tale (2014)  \\\n",
       "0                0                0                   0.0   \n",
       "1                0                3                   1.5   \n",
       "2                0                0                   0.0   \n",
       "3                0                0                   0.0   \n",
       "4                0                0                   0.0   \n",
       "\n",
       "   Jupiter Ascending (2015)  La sindrome di Stendhal (1996)  Paparazzi (2004)  \\\n",
       "0                       0.0                             0.0                 0   \n",
       "1                       0.0                             0.0                 0   \n",
       "2                       0.0                             0.0                 0   \n",
       "3                       0.0                             0.0                 0   \n",
       "4                       0.0                             0.0                 0   \n",
       "\n",
       "      ...       Lilo & Stitch (2002)  Blockers (2018)  \\\n",
       "0     ...                        4.0                0   \n",
       "1     ...                        0.0                0   \n",
       "2     ...                        0.0                0   \n",
       "3     ...                        3.0                0   \n",
       "4     ...                        4.5                0   \n",
       "\n",
       "   A Beautiful Mind (2001)  Simon Sez (1999)  Southland Tales (2006)  \\\n",
       "0                      4.0                 0                       0   \n",
       "1                      0.0                 1                       0   \n",
       "2                      2.5                 0                       0   \n",
       "3                      3.5                 0                       0   \n",
       "4                      3.5                 0                       0   \n",
       "\n",
       "   The Hitcher (2007)  War Room (2015)  La flor de mi secreto (1995)  \\\n",
       "0                 0.0              0.0                           0.0   \n",
       "1                 0.0              0.0                           0.0   \n",
       "2                 0.0              0.0                           0.0   \n",
       "3                 0.0              0.0                           0.0   \n",
       "4                 0.0              0.0                           0.0   \n",
       "\n",
       "   Two for the Money (2005)  Liam (2000)  \n",
       "0                       0.0            2  \n",
       "1                       0.0            0  \n",
       "2                       0.0            0  \n",
       "3                       0.0            0  \n",
       "4                       0.0            0  \n",
       "\n",
       "[5 rows x 301 columns]"
      ]
     },
     "execution_count": 3,
     "metadata": {},
     "output_type": "execute_result"
    }
   ],
   "source": [
    "\n",
    "# userdat=pd.read_csv(\"C:\\\\Users\\\\Jayant\\\\Desktop\\\\precog\\\\itemitemuserdat.csv\")\n",
    "# userdat.fillna(0,inplace=True)\n",
    "# del userdat[\"userid.1\"]\n",
    "# userdat.head()\n",
    "# userdat.to_csv(\"itemitemuserdat.csv\")\n",
    "userdat=pd.read_csv(\"C:\\\\Users\\\\Jayant\\\\Desktop\\\\precog\\\\itemitemuserdat.csv\")\n",
    "userdat.head()"
   ]
  },
  {
   "cell_type": "code",
   "execution_count": 4,
   "metadata": {
    "ExecuteTime": {
     "end_time": "2019-02-15T14:18:33.114679Z",
     "start_time": "2019-02-15T14:18:33.108741Z"
    }
   },
   "outputs": [],
   "source": [
    "temp_name=list(userdat.columns)\n",
    "temp_name.remove('userid')\n",
    "\n",
    "\n",
    "index_movie_mapping=dict(enumerate(temp_name))\n",
    "#[k for k,v in a.items() if v == b]\n",
    "#index_movie_mapping"
   ]
  },
  {
   "cell_type": "code",
   "execution_count": null,
   "metadata": {},
   "outputs": [],
   "source": [
    "count=0\n",
    "from IPython.display import Image\n",
    "for pred1 in index_movie_mapping.values():\n",
    "    print('\\033[1m',count,'\\033[0m',\"||\",pred1,mov[mov['movie']==pred1]['genres'].values[0])\n",
    "    count=count+1\n",
    "    display(Image(filename = \"C:\\\\Users\\\\Jayant\\\\Desktop\\\\precog\\\\Posters\\\\\" + str(pred1.replace(\":\", \"\").replace(\"?\",\"\"))+\".jpg\", width=100, height=100))"
   ]
  },
  {
   "cell_type": "code",
   "execution_count": null,
   "metadata": {},
   "outputs": [],
   "source": []
  },
  {
   "cell_type": "code",
   "execution_count": 69,
   "metadata": {
    "ExecuteTime": {
     "end_time": "2019-02-15T09:46:01.945576Z",
     "start_time": "2019-02-15T09:46:01.938592Z"
    }
   },
   "outputs": [
    {
     "name": "stdout",
     "output_type": "stream",
     "text": [
      "[248]\n"
     ]
    }
   ],
   "source": [
    "#test\n",
    "b='Kung Fu Panda 2 (2011)'\n",
    "print([k for k,v in index_movie_mapping.items() if v == b])\n",
    "#255  35\n",
    "#290 248"
   ]
  },
  {
   "cell_type": "code",
   "execution_count": 6,
   "metadata": {
    "ExecuteTime": {
     "end_time": "2019-02-15T14:18:57.796639Z",
     "start_time": "2019-02-15T14:18:48.105941Z"
    }
   },
   "outputs": [
    {
     "name": "stdout",
     "output_type": "stream",
     "text": [
      "\u001b[1m 1 --Enter Movie number you have seen and rate them from 1 to 5 \u001b[0m\n",
      "Enter Movie No.#-->0\n",
      "Plese Rate it!-->4\n",
      "\n",
      "\u001b[1m 2 --Enter Movie number you have seen and rate them from 1 to 5 \u001b[0m\n",
      "Enter Movie No.#-->4\n",
      "Plese Rate it!-->4\n",
      "\n",
      "\u001b[1m 3 --Enter Movie number you have seen and rate them from 1 to 5 \u001b[0m\n",
      "Enter Movie No.#-->3\n",
      "Plese Rate it!-->3\n",
      "\n",
      "\u001b[1m 4 --Enter Movie number you have seen and rate them from 1 to 5 \u001b[0m\n",
      "Enter Movie No.#-->5\n",
      "Plese Rate it!-->5\n",
      "\n"
     ]
    }
   ],
   "source": [
    "m=[]\n",
    "like=[]\n",
    "for x in range(1,5):\n",
    "    \n",
    "    print(\"\\033[1m\",x,\"--Enter Movie number you have seen and rate them from 1 to 5\",\"\\033[0m\")\n",
    "    m.append(int(input(\"Enter Movie No.#-->\")))\n",
    "    like.append(int(input(\"Plese Rate it!-->\")))\n",
    "    print(\"\")"
   ]
  },
  {
   "cell_type": "code",
   "execution_count": 7,
   "metadata": {
    "ExecuteTime": {
     "end_time": "2019-02-15T14:19:05.512814Z",
     "start_time": "2019-02-15T14:19:05.509815Z"
    }
   },
   "outputs": [],
   "source": [
    "customentry=[0 for i in range(300)]\n",
    "###########\n",
    "#taking value from ui\n",
    "#m=[55,5,90,8]\n",
    "customentry[m[0]]=like[0]\n",
    "customentry[m[1]]=like[1]\n",
    "customentry[m[2]]=like[2]\n",
    "customentry[m[3]]=like[3]\n",
    "\n",
    "userid=70801\n",
    "customentry.insert(0,userid)"
   ]
  },
  {
   "cell_type": "code",
   "execution_count": 8,
   "metadata": {
    "ExecuteTime": {
     "end_time": "2019-02-15T14:19:08.175459Z",
     "start_time": "2019-02-15T14:19:08.112589Z"
    }
   },
   "outputs": [
    {
     "data": {
      "text/plain": [
       "Moneyball (2011)        4.0\n",
       "The Cove (2009)         3.0\n",
       "Top Five (2014)         4.0\n",
       "Winter's Tale (2014)    5.0\n",
       "Name: 130, dtype: float64"
      ]
     },
     "execution_count": 8,
     "metadata": {},
     "output_type": "execute_result"
    }
   ],
   "source": [
    "userdat.loc[130] = customentry \n",
    "\n",
    "correlation_matrix = userdat.set_index(\"userid\", drop = True).corr()\n",
    "given_rating = userdat.loc[130].dropna()\n",
    "\n",
    "#130 is my user index and 70801 is userid\n",
    "\n",
    "delete_temp=given_rating[given_rating.values!=0]\n",
    "del delete_temp['userid']\n",
    "delete_temp"
   ]
  },
  {
   "cell_type": "code",
   "execution_count": 9,
   "metadata": {
    "ExecuteTime": {
     "end_time": "2019-02-15T14:19:14.404499Z",
     "start_time": "2019-02-15T14:19:14.396563Z"
    }
   },
   "outputs": [],
   "source": [
    "\n",
    "def itempred(userdat,customentry):\n",
    "    \n",
    "\n",
    "    person_similarity = pd.Series()\n",
    "    \n",
    "    for i in range(1, len(given_rating.index)):\n",
    "\n",
    "        \n",
    "        sims = correlation_matrix[given_rating.index[i]].dropna()\n",
    "        \n",
    "        sims = sims.map(lambda x: x * given_rating[i])\n",
    "        person_similarity = person_similarity.append(sims)\n",
    "        \n",
    "\n",
    "    person_similarity = person_similarity.groupby(person_similarity.index).sum()\n",
    "    #print(person_similarity)\n",
    "\n",
    "    \n",
    "    person_similarity.sort_values(inplace = True, ascending = False)\n",
    "\n",
    "\n",
    "    print('\\033[1m'+\"Top 4 recommendations:\"+'\\033[0m')\n",
    "    \n",
    "    final_result = person_similarity.drop(delete_temp.index, errors='ignore')\n",
    "    #print(list(final_result)[0:4])\n",
    "    return list(final_result.index)[0:4]"
   ]
  },
  {
   "cell_type": "code",
   "execution_count": 10,
   "metadata": {
    "ExecuteTime": {
     "end_time": "2019-02-15T14:19:19.631473Z",
     "start_time": "2019-02-15T14:19:18.435644Z"
    }
   },
   "outputs": [
    {
     "name": "stdout",
     "output_type": "stream",
     "text": [
      "\u001b[1mTop 4 recommendations:\u001b[0m\n",
      "The Maid's Room (2013) ['Thriller']\n"
     ]
    },
    {
     "data": {
      "image/jpeg": "[encoded data removed]",
      "text/plain": [
       "<IPython.core.display.Image object>"
      ]
     },
     "metadata": {
      "image/jpeg": {
       "height": 100,
       "width": 100
      }
     },
     "output_type": "display_data"
    },
    {
     "name": "stdout",
     "output_type": "stream",
     "text": [
      "The Call (2013) ['Crime', 'Drama', 'Horror']\n"
     ]
    },
    {
     "data": {
      "image/jpeg": "[encoded data removed]",
      "text/plain": [
       "<IPython.core.display.Image object>"
      ]
     },
     "metadata": {
      "image/jpeg": {
       "height": 100,
       "width": 100
      }
     },
     "output_type": "display_data"
    },
    {
     "name": "stdout",
     "output_type": "stream",
     "text": [
      "The Man Who Knew Infinity (2015) ['Biography', 'Drama']\n"
     ]
    },
    {
     "data": {
      "image/jpeg": "[encoded data removed]",
      "text/plain": [
       "<IPython.core.display.Image object>"
      ]
     },
     "metadata": {
      "image/jpeg": {
       "height": 100,
       "width": 100
      }
     },
     "output_type": "display_data"
    },
    {
     "name": "stdout",
     "output_type": "stream",
     "text": [
      "I Don't Know How She Does It (2011) ['Comedy', 'Romance']\n"
     ]
    },
    {
     "data": {
      "image/jpeg": "[encoded data removed]",
      "text/plain": [
       "<IPython.core.display.Image object>"
      ]
     },
     "metadata": {
      "image/jpeg": {
       "height": 100,
       "width": 100
      }
     },
     "output_type": "display_data"
    }
   ],
   "source": [
    "myitem_mov=itempred(userdat,customentry)\n",
    "\n",
    "\n",
    "from IPython.display import Image\n",
    "for pred1 in myitem_mov:\n",
    "    print(pred1,mov[mov['movie']==pred1]['genres'].values[0])\n",
    "    \n",
    "    display(Image(filename = \"C:\\\\Users\\\\Jayant\\\\Desktop\\\\precog\\\\Posters\\\\\" + str(pred1.replace(\":\", \"\").replace(\"?\",\"\"))+\".jpg\", width=100, height=100))\n",
    "    "
   ]
  },
  {
   "cell_type": "code",
   "execution_count": 82,
   "metadata": {
    "ExecuteTime": {
     "end_time": "2019-02-11T17:34:19.506619Z",
     "start_time": "2019-02-11T17:34:19.502628Z"
    }
   },
   "outputs": [],
   "source": [
    "# import ipywidgets as widgets\n",
    "# import IPython.display as display\n",
    "# ## Read images from file (because this is binary, maybe you can find how to use ByteIO) but this is more easy\n",
    "# for pred1 in myitem_mov:\n",
    "#     print(pred1,mov[mov['movie']==pred1]['genres'].values[0])\n",
    "    \n",
    "    \n",
    "#     img1 = open(\"C:\\\\Users\\\\Jayant\\\\Desktop\\\\precog\\\\Posters\\\\\" + str(pred1)+ \".jpg\", 'rb').read()\n",
    "                \n",
    "#     img2 = open(\"C:\\\\Users\\\\Jayant\\\\Desktop\\\\precog\\\\Posters\\\\\" + str(pred1)+\".jpg\", 'rb').read()\n",
    "# ## Create image widgets. You can use layout of ipywidgets only with widgets.\n",
    "# ## Set image variable, image format and dimension.\n",
    "#     wi1 = widgets.Image(value=img1, format='png', width=100, height=20)\n",
    "#     wi2 = widgets.Image(value=img2, format='png', width=100, height=20)\n",
    "# ## Side by side thanks to HBox widgets\n",
    "#     sidebyside = widgets.HBox([wi1, wi2])\n",
    "# ## Finally, show.\n",
    "#     display.display(sidebyside)"
   ]
  },
  {
   "cell_type": "code",
   "execution_count": 924,
   "metadata": {
    "ExecuteTime": {
     "end_time": "2019-02-07T17:23:34.575106Z",
     "start_time": "2019-02-07T17:23:34.572107Z"
    }
   },
   "outputs": [],
   "source": [
    "################"
   ]
  },
  {
   "cell_type": "markdown",
   "metadata": {},
   "source": [
    "# matrix factorisation"
   ]
  },
  {
   "cell_type": "code",
   "execution_count": 21,
   "metadata": {
    "ExecuteTime": {
     "end_time": "2019-02-15T14:20:28.987614Z",
     "start_time": "2019-02-15T14:20:28.946724Z"
    }
   },
   "outputs": [
    {
     "data": {
      "text/html": [
       "<div>\n",
       "<style scoped>\n",
       "    .dataframe tbody tr th:only-of-type {\n",
       "        vertical-align: middle;\n",
       "    }\n",
       "\n",
       "    .dataframe tbody tr th {\n",
       "        vertical-align: top;\n",
       "    }\n",
       "\n",
       "    .dataframe thead th {\n",
       "        text-align: right;\n",
       "    }\n",
       "</style>\n",
       "<table border=\"1\" class=\"dataframe\">\n",
       "  <thead>\n",
       "    <tr style=\"text-align: right;\">\n",
       "      <th></th>\n",
       "      <th>userid</th>\n",
       "      <th>Moneyball (2011)</th>\n",
       "      <th>Open Water (2003)</th>\n",
       "      <th>Adaptation. (2002)</th>\n",
       "      <th>The Cove (2009)</th>\n",
       "      <th>Top Five (2014)</th>\n",
       "      <th>Winter's Tale (2014)</th>\n",
       "      <th>Jupiter Ascending (2015)</th>\n",
       "      <th>La sindrome di Stendhal (1996)</th>\n",
       "      <th>Paparazzi (2004)</th>\n",
       "      <th>...</th>\n",
       "      <th>Lilo &amp; Stitch (2002)</th>\n",
       "      <th>Blockers (2018)</th>\n",
       "      <th>A Beautiful Mind (2001)</th>\n",
       "      <th>Simon Sez (1999)</th>\n",
       "      <th>Southland Tales (2006)</th>\n",
       "      <th>The Hitcher (2007)</th>\n",
       "      <th>War Room (2015)</th>\n",
       "      <th>La flor de mi secreto (1995)</th>\n",
       "      <th>Two for the Money (2005)</th>\n",
       "      <th>Liam (2000)</th>\n",
       "    </tr>\n",
       "  </thead>\n",
       "  <tbody>\n",
       "    <tr>\n",
       "      <th>125</th>\n",
       "      <td>325</td>\n",
       "      <td>0.0</td>\n",
       "      <td>0.0</td>\n",
       "      <td>0.0</td>\n",
       "      <td>0</td>\n",
       "      <td>0</td>\n",
       "      <td>0.0</td>\n",
       "      <td>0.0</td>\n",
       "      <td>0.0</td>\n",
       "      <td>0</td>\n",
       "      <td>...</td>\n",
       "      <td>4.0</td>\n",
       "      <td>0</td>\n",
       "      <td>0.0</td>\n",
       "      <td>0</td>\n",
       "      <td>0</td>\n",
       "      <td>0.0</td>\n",
       "      <td>0.0</td>\n",
       "      <td>0.0</td>\n",
       "      <td>0.0</td>\n",
       "      <td>0</td>\n",
       "    </tr>\n",
       "    <tr>\n",
       "      <th>126</th>\n",
       "      <td>326</td>\n",
       "      <td>1.0</td>\n",
       "      <td>0.0</td>\n",
       "      <td>0.0</td>\n",
       "      <td>4</td>\n",
       "      <td>0</td>\n",
       "      <td>0.0</td>\n",
       "      <td>0.0</td>\n",
       "      <td>0.0</td>\n",
       "      <td>0</td>\n",
       "      <td>...</td>\n",
       "      <td>0.0</td>\n",
       "      <td>0</td>\n",
       "      <td>4.5</td>\n",
       "      <td>0</td>\n",
       "      <td>0</td>\n",
       "      <td>0.0</td>\n",
       "      <td>0.0</td>\n",
       "      <td>0.0</td>\n",
       "      <td>0.0</td>\n",
       "      <td>0</td>\n",
       "    </tr>\n",
       "    <tr>\n",
       "      <th>127</th>\n",
       "      <td>372</td>\n",
       "      <td>0.0</td>\n",
       "      <td>0.0</td>\n",
       "      <td>0.0</td>\n",
       "      <td>0</td>\n",
       "      <td>0</td>\n",
       "      <td>0.0</td>\n",
       "      <td>0.0</td>\n",
       "      <td>0.0</td>\n",
       "      <td>0</td>\n",
       "      <td>...</td>\n",
       "      <td>0.0</td>\n",
       "      <td>0</td>\n",
       "      <td>0.0</td>\n",
       "      <td>0</td>\n",
       "      <td>0</td>\n",
       "      <td>0.0</td>\n",
       "      <td>0.0</td>\n",
       "      <td>0.0</td>\n",
       "      <td>0.0</td>\n",
       "      <td>0</td>\n",
       "    </tr>\n",
       "    <tr>\n",
       "      <th>128</th>\n",
       "      <td>419</td>\n",
       "      <td>0.0</td>\n",
       "      <td>4.5</td>\n",
       "      <td>0.0</td>\n",
       "      <td>4</td>\n",
       "      <td>0</td>\n",
       "      <td>0.0</td>\n",
       "      <td>0.0</td>\n",
       "      <td>0.0</td>\n",
       "      <td>0</td>\n",
       "      <td>...</td>\n",
       "      <td>0.0</td>\n",
       "      <td>0</td>\n",
       "      <td>3.5</td>\n",
       "      <td>0</td>\n",
       "      <td>0</td>\n",
       "      <td>0.0</td>\n",
       "      <td>0.0</td>\n",
       "      <td>0.0</td>\n",
       "      <td>0.0</td>\n",
       "      <td>0</td>\n",
       "    </tr>\n",
       "    <tr>\n",
       "      <th>129</th>\n",
       "      <td>420</td>\n",
       "      <td>0.0</td>\n",
       "      <td>0.0</td>\n",
       "      <td>4.0</td>\n",
       "      <td>0</td>\n",
       "      <td>0</td>\n",
       "      <td>0.0</td>\n",
       "      <td>0.0</td>\n",
       "      <td>0.0</td>\n",
       "      <td>0</td>\n",
       "      <td>...</td>\n",
       "      <td>0.0</td>\n",
       "      <td>0</td>\n",
       "      <td>0.0</td>\n",
       "      <td>0</td>\n",
       "      <td>0</td>\n",
       "      <td>0.0</td>\n",
       "      <td>0.0</td>\n",
       "      <td>0.0</td>\n",
       "      <td>0.0</td>\n",
       "      <td>0</td>\n",
       "    </tr>\n",
       "  </tbody>\n",
       "</table>\n",
       "<p>5 rows × 301 columns</p>\n",
       "</div>"
      ],
      "text/plain": [
       "     userid  Moneyball (2011)  Open Water (2003)  Adaptation. (2002)  \\\n",
       "125     325               0.0                0.0                 0.0   \n",
       "126     326               1.0                0.0                 0.0   \n",
       "127     372               0.0                0.0                 0.0   \n",
       "128     419               0.0                4.5                 0.0   \n",
       "129     420               0.0                0.0                 4.0   \n",
       "\n",
       "     The Cove (2009)  Top Five (2014)  Winter's Tale (2014)  \\\n",
       "125                0                0                   0.0   \n",
       "126                4                0                   0.0   \n",
       "127                0                0                   0.0   \n",
       "128                4                0                   0.0   \n",
       "129                0                0                   0.0   \n",
       "\n",
       "     Jupiter Ascending (2015)  La sindrome di Stendhal (1996)  \\\n",
       "125                       0.0                             0.0   \n",
       "126                       0.0                             0.0   \n",
       "127                       0.0                             0.0   \n",
       "128                       0.0                             0.0   \n",
       "129                       0.0                             0.0   \n",
       "\n",
       "     Paparazzi (2004)     ...       Lilo & Stitch (2002)  Blockers (2018)  \\\n",
       "125                 0     ...                        4.0                0   \n",
       "126                 0     ...                        0.0                0   \n",
       "127                 0     ...                        0.0                0   \n",
       "128                 0     ...                        0.0                0   \n",
       "129                 0     ...                        0.0                0   \n",
       "\n",
       "     A Beautiful Mind (2001)  Simon Sez (1999)  Southland Tales (2006)  \\\n",
       "125                      0.0                 0                       0   \n",
       "126                      4.5                 0                       0   \n",
       "127                      0.0                 0                       0   \n",
       "128                      3.5                 0                       0   \n",
       "129                      0.0                 0                       0   \n",
       "\n",
       "     The Hitcher (2007)  War Room (2015)  La flor de mi secreto (1995)  \\\n",
       "125                 0.0              0.0                           0.0   \n",
       "126                 0.0              0.0                           0.0   \n",
       "127                 0.0              0.0                           0.0   \n",
       "128                 0.0              0.0                           0.0   \n",
       "129                 0.0              0.0                           0.0   \n",
       "\n",
       "     Two for the Money (2005)  Liam (2000)  \n",
       "125                       0.0            0  \n",
       "126                       0.0            0  \n",
       "127                       0.0            0  \n",
       "128                       0.0            0  \n",
       "129                       0.0            0  \n",
       "\n",
       "[5 rows x 301 columns]"
      ]
     },
     "execution_count": 21,
     "metadata": {},
     "output_type": "execute_result"
    }
   ],
   "source": [
    "mov=pd.read_csv(\"C:\\\\Users\\\\Jayant\\\\Desktop\\\\precog\\\\precog_imdb300.csv\")\n",
    "userdat=pd.read_csv(\"C:\\\\Users\\\\Jayant\\\\Desktop\\\\precog\\\\itemitemuserdat.csv\")\n",
    "userdat.tail()"
   ]
  },
  {
   "cell_type": "code",
   "execution_count": null,
   "metadata": {},
   "outputs": [],
   "source": [
    "count=0\n",
    "from IPython.display import Image\n",
    "for pred1 in index_movie_mapping.values():\n",
    "    print('\\033[1m',count,'\\033[0m',\"||\",pred1,mov[mov['movie']==pred1]['genres'].values[0])\n",
    "    count=count+1\n",
    "    display(Image(filename = \"C:\\\\Users\\\\Jayant\\\\Desktop\\\\precog\\\\Posters\\\\\" + str(pred1.replace(\":\", \"\").replace(\"?\",\"\"))+\".jpg\", width=100, height=100))"
   ]
  },
  {
   "cell_type": "code",
   "execution_count": 23,
   "metadata": {
    "ExecuteTime": {
     "end_time": "2019-02-15T14:38:14.364055Z",
     "start_time": "2019-02-15T14:38:03.438332Z"
    }
   },
   "outputs": [
    {
     "name": "stdout",
     "output_type": "stream",
     "text": [
      "\u001b[1m 1 --Enter Movie number you have seen and rate them from 1 to 5 \u001b[0m\n",
      "Enter Movie No.#-->3\n",
      "Plese Rate it!-->3\n",
      "\n",
      "\u001b[1m 2 --Enter Movie number you have seen and rate them from 1 to 5 \u001b[0m\n",
      "Enter Movie No.#-->4\n",
      "Plese Rate it!-->4\n",
      "\n",
      "\u001b[1m 3 --Enter Movie number you have seen and rate them from 1 to 5 \u001b[0m\n",
      "Enter Movie No.#-->5\n",
      "Plese Rate it!-->5\n",
      "\n",
      "\u001b[1m 4 --Enter Movie number you have seen and rate them from 1 to 5 \u001b[0m\n",
      "Enter Movie No.#-->6\n",
      "Plese Rate it!-->2\n",
      "\n"
     ]
    }
   ],
   "source": [
    "m=[]\n",
    "like=[]\n",
    "for x in range(1,5):\n",
    "    \n",
    "    print(\"\\033[1m\",x,\"--Enter Movie number you have seen and rate them from 1 to 5\",\"\\033[0m\")\n",
    "    m.append(int(input(\"Enter Movie No.#-->\")))\n",
    "    like.append(int(input(\"Plese Rate it!-->\")))\n",
    "    print(\"\")"
   ]
  },
  {
   "cell_type": "code",
   "execution_count": 24,
   "metadata": {
    "ExecuteTime": {
     "end_time": "2019-02-15T14:38:20.898295Z",
     "start_time": "2019-02-15T14:38:20.869369Z"
    }
   },
   "outputs": [],
   "source": [
    "temp_name=list(userdat.columns)\n",
    "temp_name.remove('userid')\n",
    "\n",
    "\n",
    "index_movie_mapping=dict(enumerate(temp_name))\n",
    "customentry=[0 for i in range(300)]\n",
    "###########\n",
    "#taking value from ui\n",
    "#debugging\n",
    "# m=[55,5,90,8]\n",
    "# customentry[m[0]]=5\n",
    "# customentry[m[1]]=3\n",
    "# customentry[m[2]]=3\n",
    "# customentry[m[3]]=1\n",
    "\n",
    "customentry[m[0]]=like[0]\n",
    "customentry[m[1]]=like[1]\n",
    "customentry[m[2]]=like[2]\n",
    "customentry[m[3]]=like[3]\n",
    "\n",
    "userid=70801\n",
    "customentry.insert(0,userid)\n",
    "userdat.loc[130] = customentry "
   ]
  },
  {
   "cell_type": "code",
   "execution_count": 25,
   "metadata": {
    "ExecuteTime": {
     "end_time": "2019-02-15T14:39:11.440663Z",
     "start_time": "2019-02-15T14:39:11.424690Z"
    }
   },
   "outputs": [
    {
     "data": {
      "text/plain": [
       "The Cove (2009)             3.0\n",
       "Top Five (2014)             4.0\n",
       "Winter's Tale (2014)        5.0\n",
       "Jupiter Ascending (2015)    2.0\n",
       "Name: 130, dtype: float64"
      ]
     },
     "execution_count": 25,
     "metadata": {},
     "output_type": "execute_result"
    }
   ],
   "source": [
    "given_rating = userdat.loc[130].dropna()\n",
    "#130 is my user index and 70801 is userid\n",
    "delete_temp=given_rating[given_rating.values!=0]\n",
    "del delete_temp['userid']\n",
    "delete_temp# movies i have rated"
   ]
  },
  {
   "cell_type": "code",
   "execution_count": 29,
   "metadata": {
    "ExecuteTime": {
     "end_time": "2019-02-15T15:04:11.130943Z",
     "start_time": "2019-02-15T15:04:11.118976Z"
    }
   },
   "outputs": [
    {
     "data": {
      "text/plain": [
       "array([[ 4.5,  3. ,  5. , ...,  0. ,  0. ,  2. ],\n",
       "       [ 4. ,  0. ,  0. , ...,  0. ,  0. ,  0. ],\n",
       "       [ 3.5,  0. ,  3. , ...,  0. ,  0. ,  0. ],\n",
       "       ..., \n",
       "       [ 0. ,  4.5,  0. , ...,  0. ,  0. ,  0. ],\n",
       "       [ 0. ,  0. ,  4. , ...,  0. ,  0. ,  0. ],\n",
       "       [ 0. ,  0. ,  0. , ...,  0. ,  0. ,  0. ]])"
      ]
     },
     "execution_count": 29,
     "metadata": {},
     "output_type": "execute_result"
    }
   ],
   "source": [
    "from scipy.sparse.linalg import svds\n",
    "userdatmatrix= userdat.drop('userid', axis = 1).as_matrix()\n",
    "userdatmatrix"
   ]
  },
  {
   "cell_type": "code",
   "execution_count": 30,
   "metadata": {
    "ExecuteTime": {
     "end_time": "2019-02-15T15:04:12.564857Z",
     "start_time": "2019-02-15T15:04:12.558869Z"
    }
   },
   "outputs": [],
   "source": [
    "user_ratings_mean = np.mean(userdatmatrix, axis = 1)\n",
    "demeaned = userdatmatrix - user_ratings_mean.reshape(-1, 1)\n",
    "#includes cuatom user too"
   ]
  },
  {
   "cell_type": "code",
   "execution_count": 31,
   "metadata": {
    "ExecuteTime": {
     "end_time": "2019-02-15T15:04:13.555355Z",
     "start_time": "2019-02-15T15:04:13.499506Z"
    }
   },
   "outputs": [],
   "source": [
    "u, sigma, Vt = svds(demeaned, k = 60)\n",
    "sigma = np.diag(sigma)\n",
    "predicted_ratings = np.dot(np.dot(u, sigma), Vt) + user_ratings_mean.reshape(-1, 1)\n"
   ]
  },
  {
   "cell_type": "code",
   "execution_count": 369,
   "metadata": {
    "ExecuteTime": {
     "end_time": "2019-02-08T20:01:59.924161Z",
     "start_time": "2019-02-08T20:01:55.284577Z"
    }
   },
   "outputs": [],
   "source": [
    "#130 is my user index manually entried\n"
   ]
  },
  {
   "cell_type": "code",
   "execution_count": 32,
   "metadata": {
    "ExecuteTime": {
     "end_time": "2019-02-15T15:04:15.215740Z",
     "start_time": "2019-02-15T15:04:15.188762Z"
    }
   },
   "outputs": [
    {
     "data": {
      "text/html": [
       "<div>\n",
       "<style scoped>\n",
       "    .dataframe tbody tr th:only-of-type {\n",
       "        vertical-align: middle;\n",
       "    }\n",
       "\n",
       "    .dataframe tbody tr th {\n",
       "        vertical-align: top;\n",
       "    }\n",
       "\n",
       "    .dataframe thead th {\n",
       "        text-align: right;\n",
       "    }\n",
       "</style>\n",
       "<table border=\"1\" class=\"dataframe\">\n",
       "  <thead>\n",
       "    <tr style=\"text-align: right;\">\n",
       "      <th></th>\n",
       "      <th>Moneyball (2011)</th>\n",
       "      <th>Open Water (2003)</th>\n",
       "      <th>Adaptation. (2002)</th>\n",
       "      <th>The Cove (2009)</th>\n",
       "      <th>Top Five (2014)</th>\n",
       "      <th>Winter's Tale (2014)</th>\n",
       "      <th>Jupiter Ascending (2015)</th>\n",
       "      <th>La sindrome di Stendhal (1996)</th>\n",
       "      <th>Paparazzi (2004)</th>\n",
       "      <th>EverAfter (1998)</th>\n",
       "      <th>...</th>\n",
       "      <th>Lilo &amp; Stitch (2002)</th>\n",
       "      <th>Blockers (2018)</th>\n",
       "      <th>A Beautiful Mind (2001)</th>\n",
       "      <th>Simon Sez (1999)</th>\n",
       "      <th>Southland Tales (2006)</th>\n",
       "      <th>The Hitcher (2007)</th>\n",
       "      <th>War Room (2015)</th>\n",
       "      <th>La flor de mi secreto (1995)</th>\n",
       "      <th>Two for the Money (2005)</th>\n",
       "      <th>Liam (2000)</th>\n",
       "    </tr>\n",
       "  </thead>\n",
       "  <tbody>\n",
       "    <tr>\n",
       "      <th>126</th>\n",
       "      <td>1.154932</td>\n",
       "      <td>0.215678</td>\n",
       "      <td>0.211554</td>\n",
       "      <td>1.504033</td>\n",
       "      <td>0.289693</td>\n",
       "      <td>0.210497</td>\n",
       "      <td>-0.028462</td>\n",
       "      <td>0.028479</td>\n",
       "      <td>0.007849</td>\n",
       "      <td>-0.120619</td>\n",
       "      <td>...</td>\n",
       "      <td>-0.102155</td>\n",
       "      <td>0.215094</td>\n",
       "      <td>4.045835</td>\n",
       "      <td>0.005869</td>\n",
       "      <td>-0.043594</td>\n",
       "      <td>0.217643</td>\n",
       "      <td>0.017720</td>\n",
       "      <td>0.101719</td>\n",
       "      <td>-0.185213</td>\n",
       "      <td>0.001640</td>\n",
       "    </tr>\n",
       "    <tr>\n",
       "      <th>127</th>\n",
       "      <td>-0.086349</td>\n",
       "      <td>-0.107620</td>\n",
       "      <td>0.274957</td>\n",
       "      <td>-0.212592</td>\n",
       "      <td>-0.140119</td>\n",
       "      <td>-0.133045</td>\n",
       "      <td>-0.188711</td>\n",
       "      <td>0.003844</td>\n",
       "      <td>-0.079765</td>\n",
       "      <td>0.510759</td>\n",
       "      <td>...</td>\n",
       "      <td>0.140521</td>\n",
       "      <td>0.029793</td>\n",
       "      <td>-0.052483</td>\n",
       "      <td>-0.022917</td>\n",
       "      <td>0.132745</td>\n",
       "      <td>0.018472</td>\n",
       "      <td>-0.017913</td>\n",
       "      <td>-0.058743</td>\n",
       "      <td>0.162298</td>\n",
       "      <td>0.108391</td>\n",
       "    </tr>\n",
       "    <tr>\n",
       "      <th>128</th>\n",
       "      <td>-0.038247</td>\n",
       "      <td>2.116270</td>\n",
       "      <td>-0.108340</td>\n",
       "      <td>2.498879</td>\n",
       "      <td>0.691933</td>\n",
       "      <td>0.493782</td>\n",
       "      <td>0.085429</td>\n",
       "      <td>-0.171846</td>\n",
       "      <td>-0.118858</td>\n",
       "      <td>-0.516710</td>\n",
       "      <td>...</td>\n",
       "      <td>0.527370</td>\n",
       "      <td>0.376655</td>\n",
       "      <td>3.899017</td>\n",
       "      <td>0.075372</td>\n",
       "      <td>0.173983</td>\n",
       "      <td>0.009225</td>\n",
       "      <td>0.060677</td>\n",
       "      <td>0.124274</td>\n",
       "      <td>0.197868</td>\n",
       "      <td>0.086104</td>\n",
       "    </tr>\n",
       "    <tr>\n",
       "      <th>129</th>\n",
       "      <td>-0.295119</td>\n",
       "      <td>0.008192</td>\n",
       "      <td>2.672694</td>\n",
       "      <td>0.118614</td>\n",
       "      <td>0.103391</td>\n",
       "      <td>0.068797</td>\n",
       "      <td>0.064168</td>\n",
       "      <td>-0.024013</td>\n",
       "      <td>-0.173737</td>\n",
       "      <td>-0.026177</td>\n",
       "      <td>...</td>\n",
       "      <td>0.168678</td>\n",
       "      <td>0.135195</td>\n",
       "      <td>0.088667</td>\n",
       "      <td>0.014977</td>\n",
       "      <td>0.043627</td>\n",
       "      <td>-0.240018</td>\n",
       "      <td>0.004028</td>\n",
       "      <td>-0.193776</td>\n",
       "      <td>0.094938</td>\n",
       "      <td>-0.090785</td>\n",
       "    </tr>\n",
       "    <tr>\n",
       "      <th>130</th>\n",
       "      <td>-0.118960</td>\n",
       "      <td>0.410478</td>\n",
       "      <td>-0.125152</td>\n",
       "      <td>0.972971</td>\n",
       "      <td>0.682317</td>\n",
       "      <td>0.466530</td>\n",
       "      <td>0.239288</td>\n",
       "      <td>-0.008226</td>\n",
       "      <td>-0.064177</td>\n",
       "      <td>-0.205006</td>\n",
       "      <td>...</td>\n",
       "      <td>0.173553</td>\n",
       "      <td>0.099586</td>\n",
       "      <td>0.019378</td>\n",
       "      <td>0.141829</td>\n",
       "      <td>-0.012578</td>\n",
       "      <td>-0.039080</td>\n",
       "      <td>0.085589</td>\n",
       "      <td>0.065994</td>\n",
       "      <td>0.091977</td>\n",
       "      <td>0.028824</td>\n",
       "    </tr>\n",
       "  </tbody>\n",
       "</table>\n",
       "<p>5 rows × 300 columns</p>\n",
       "</div>"
      ],
      "text/plain": [
       "     Moneyball (2011)  Open Water (2003)  Adaptation. (2002)  The Cove (2009)  \\\n",
       "126          1.154932           0.215678            0.211554         1.504033   \n",
       "127         -0.086349          -0.107620            0.274957        -0.212592   \n",
       "128         -0.038247           2.116270           -0.108340         2.498879   \n",
       "129         -0.295119           0.008192            2.672694         0.118614   \n",
       "130         -0.118960           0.410478           -0.125152         0.972971   \n",
       "\n",
       "     Top Five (2014)  Winter's Tale (2014)  Jupiter Ascending (2015)  \\\n",
       "126         0.289693              0.210497                 -0.028462   \n",
       "127        -0.140119             -0.133045                 -0.188711   \n",
       "128         0.691933              0.493782                  0.085429   \n",
       "129         0.103391              0.068797                  0.064168   \n",
       "130         0.682317              0.466530                  0.239288   \n",
       "\n",
       "     La sindrome di Stendhal (1996)  Paparazzi (2004)  EverAfter (1998)  \\\n",
       "126                        0.028479          0.007849         -0.120619   \n",
       "127                        0.003844         -0.079765          0.510759   \n",
       "128                       -0.171846         -0.118858         -0.516710   \n",
       "129                       -0.024013         -0.173737         -0.026177   \n",
       "130                       -0.008226         -0.064177         -0.205006   \n",
       "\n",
       "        ...       Lilo & Stitch (2002)  Blockers (2018)  \\\n",
       "126     ...                  -0.102155         0.215094   \n",
       "127     ...                   0.140521         0.029793   \n",
       "128     ...                   0.527370         0.376655   \n",
       "129     ...                   0.168678         0.135195   \n",
       "130     ...                   0.173553         0.099586   \n",
       "\n",
       "     A Beautiful Mind (2001)  Simon Sez (1999)  Southland Tales (2006)  \\\n",
       "126                 4.045835          0.005869               -0.043594   \n",
       "127                -0.052483         -0.022917                0.132745   \n",
       "128                 3.899017          0.075372                0.173983   \n",
       "129                 0.088667          0.014977                0.043627   \n",
       "130                 0.019378          0.141829               -0.012578   \n",
       "\n",
       "     The Hitcher (2007)  War Room (2015)  La flor de mi secreto (1995)  \\\n",
       "126            0.217643         0.017720                      0.101719   \n",
       "127            0.018472        -0.017913                     -0.058743   \n",
       "128            0.009225         0.060677                      0.124274   \n",
       "129           -0.240018         0.004028                     -0.193776   \n",
       "130           -0.039080         0.085589                      0.065994   \n",
       "\n",
       "     Two for the Money (2005)  Liam (2000)  \n",
       "126                 -0.185213     0.001640  \n",
       "127                  0.162298     0.108391  \n",
       "128                  0.197868     0.086104  \n",
       "129                  0.094938    -0.090785  \n",
       "130                  0.091977     0.028824  \n",
       "\n",
       "[5 rows x 300 columns]"
      ]
     },
     "execution_count": 32,
     "metadata": {},
     "output_type": "execute_result"
    }
   ],
   "source": [
    "\n",
    "df_preds = pd.DataFrame(predicted_ratings, columns = index_movie_mapping.values())\n",
    "df_preds.tail()"
   ]
  },
  {
   "cell_type": "code",
   "execution_count": 33,
   "metadata": {
    "ExecuteTime": {
     "end_time": "2019-02-15T15:04:16.443659Z",
     "start_time": "2019-02-15T15:04:16.435680Z"
    }
   },
   "outputs": [],
   "source": [
    "def recommend_matrixmov(ratings_df,movies_df):\n",
    "    \n",
    "    user_data = ratings_df[ratings_df.userid == (userid)]\n",
    "    user_full = (user_data.merge(movies_df, how = 'left', left_on = 'movieid', right_on = 'movieid').sort_values(['rating'], ascending=False))\n",
    "    \n",
    "    sp = df_preds.iloc[130].sort_values(ascending=False)\n",
    "                 \n",
    "   \n",
    "    top_select = (movies_df[~movies_df['movieid'].isin(user_full['movieid'])].merge(pd.DataFrame(sp).reset_index(), how = 'left',\n",
    "         \n",
    "               left_on = 'movieid',right_on = 'movieid').rename(columns = {130: 'Predictions'}).sort_values('Predictions', ascending = False).\n",
    "                       iloc[:4, :-1])#change 4 to see top numbr of movie recos\n",
    "                      \n",
    "               \n",
    "    return top_select"
   ]
  },
  {
   "cell_type": "code",
   "execution_count": null,
   "metadata": {
    "scrolled": true
   },
   "outputs": [],
   "source": [
    "top_recos = recommend_matrixmov(ratings_df,movies_df)\n",
    "top_recos"
   ]
  },
  {
   "cell_type": "code",
   "execution_count": null,
   "metadata": {},
   "outputs": [],
   "source": [
    "########################################################################"
   ]
  },
  {
   "cell_type": "code",
   "execution_count": 4,
   "metadata": {
    "ExecuteTime": {
     "end_time": "2019-02-08T11:58:45.821277Z",
     "start_time": "2019-02-08T11:58:45.799291Z"
    }
   },
   "outputs": [],
   "source": []
  },
  {
   "cell_type": "code",
   "execution_count": 5,
   "metadata": {
    "ExecuteTime": {
     "end_time": "2019-02-08T11:58:47.449210Z",
     "start_time": "2019-02-08T11:58:47.437282Z"
    }
   },
   "outputs": [
    {
     "data": {
      "text/html": [
       "<div>\n",
       "<style scoped>\n",
       "    .dataframe tbody tr th:only-of-type {\n",
       "        vertical-align: middle;\n",
       "    }\n",
       "\n",
       "    .dataframe tbody tr th {\n",
       "        vertical-align: top;\n",
       "    }\n",
       "\n",
       "    .dataframe thead th {\n",
       "        text-align: right;\n",
       "    }\n",
       "</style>\n",
       "<table border=\"1\" class=\"dataframe\">\n",
       "  <thead>\n",
       "    <tr style=\"text-align: right;\">\n",
       "      <th></th>\n",
       "      <th>userid</th>\n",
       "      <th>movid</th>\n",
       "      <th>rating</th>\n",
       "    </tr>\n",
       "  </thead>\n",
       "  <tbody>\n",
       "    <tr>\n",
       "      <th>0</th>\n",
       "      <td>6</td>\n",
       "      <td>11</td>\n",
       "      <td>4.0</td>\n",
       "    </tr>\n",
       "    <tr>\n",
       "      <th>1</th>\n",
       "      <td>6</td>\n",
       "      <td>17</td>\n",
       "      <td>4.0</td>\n",
       "    </tr>\n",
       "    <tr>\n",
       "      <th>2</th>\n",
       "      <td>6</td>\n",
       "      <td>207</td>\n",
       "      <td>4.0</td>\n",
       "    </tr>\n",
       "    <tr>\n",
       "      <th>3</th>\n",
       "      <td>6</td>\n",
       "      <td>225</td>\n",
       "      <td>4.0</td>\n",
       "    </tr>\n",
       "    <tr>\n",
       "      <th>4</th>\n",
       "      <td>6</td>\n",
       "      <td>435</td>\n",
       "      <td>3.0</td>\n",
       "    </tr>\n",
       "  </tbody>\n",
       "</table>\n",
       "</div>"
      ],
      "text/plain": [
       "   userid  movid  rating\n",
       "0       6     11     4.0\n",
       "1       6     17     4.0\n",
       "2       6    207     4.0\n",
       "3       6    225     4.0\n",
       "4       6    435     3.0"
      ]
     },
     "execution_count": 5,
     "metadata": {},
     "output_type": "execute_result"
    }
   ],
   "source": [
    "\n",
    "ratings.head()"
   ]
  },
  {
   "cell_type": "markdown",
   "metadata": {},
   "source": [
    "## user user filtering "
   ]
  },
  {
   "cell_type": "code",
   "execution_count": 51,
   "metadata": {
    "ExecuteTime": {
     "end_time": "2019-02-15T09:42:32.611038Z",
     "start_time": "2019-02-15T09:42:32.595082Z"
    }
   },
   "outputs": [
    {
     "data": {
      "text/html": [
       "<div>\n",
       "<style scoped>\n",
       "    .dataframe tbody tr th:only-of-type {\n",
       "        vertical-align: middle;\n",
       "    }\n",
       "\n",
       "    .dataframe tbody tr th {\n",
       "        vertical-align: top;\n",
       "    }\n",
       "\n",
       "    .dataframe thead th {\n",
       "        text-align: right;\n",
       "    }\n",
       "</style>\n",
       "<table border=\"1\" class=\"dataframe\">\n",
       "  <thead>\n",
       "    <tr style=\"text-align: right;\">\n",
       "      <th></th>\n",
       "      <th>Unnamed: 0</th>\n",
       "      <th>genres</th>\n",
       "      <th>imdb</th>\n",
       "      <th>imdb_id</th>\n",
       "      <th>metascore</th>\n",
       "      <th>movid</th>\n",
       "      <th>movie</th>\n",
       "      <th>plot</th>\n",
       "      <th>votes</th>\n",
       "      <th>year</th>\n",
       "    </tr>\n",
       "  </thead>\n",
       "  <tbody>\n",
       "    <tr>\n",
       "      <th>0</th>\n",
       "      <td>0</td>\n",
       "      <td>['Biography', 'Drama', 'Sport']</td>\n",
       "      <td>7.6</td>\n",
       "      <td>1210166</td>\n",
       "      <td>87</td>\n",
       "      <td>89492</td>\n",
       "      <td>Moneyball (2011)</td>\n",
       "      <td>Oakland A's general manager Billy Beane's succ...</td>\n",
       "      <td>320711</td>\n",
       "      <td>2011</td>\n",
       "    </tr>\n",
       "    <tr>\n",
       "      <th>1</th>\n",
       "      <td>1</td>\n",
       "      <td>['Adventure', 'Drama', 'Horror']</td>\n",
       "      <td>5.7</td>\n",
       "      <td>374102</td>\n",
       "      <td>63</td>\n",
       "      <td>27822</td>\n",
       "      <td>Open Water (2003)</td>\n",
       "      <td>Based on the true story of two scuba divers ac...</td>\n",
       "      <td>47529</td>\n",
       "      <td>2003</td>\n",
       "    </tr>\n",
       "    <tr>\n",
       "      <th>2</th>\n",
       "      <td>2</td>\n",
       "      <td>['Comedy', 'Drama']</td>\n",
       "      <td>7.7</td>\n",
       "      <td>268126</td>\n",
       "      <td>83</td>\n",
       "      <td>5902</td>\n",
       "      <td>Adaptation. (2002)</td>\n",
       "      <td>A lovelorn screenwriter becomes desperate as h...</td>\n",
       "      <td>163178</td>\n",
       "      <td>2002</td>\n",
       "    </tr>\n",
       "    <tr>\n",
       "      <th>3</th>\n",
       "      <td>3</td>\n",
       "      <td>['Documentary', 'Crime']</td>\n",
       "      <td>8.4</td>\n",
       "      <td>1313104</td>\n",
       "      <td>84</td>\n",
       "      <td>71462</td>\n",
       "      <td>The Cove (2009)</td>\n",
       "      <td>Using state-of-the-art equipment, a group of a...</td>\n",
       "      <td>44744</td>\n",
       "      <td>2009</td>\n",
       "    </tr>\n",
       "    <tr>\n",
       "      <th>4</th>\n",
       "      <td>4</td>\n",
       "      <td>['Comedy', 'Romance']</td>\n",
       "      <td>6.4</td>\n",
       "      <td>2784678</td>\n",
       "      <td>81</td>\n",
       "      <td>118924</td>\n",
       "      <td>Top Five (2014)</td>\n",
       "      <td>A comedian tries to make it as a serious actor...</td>\n",
       "      <td>24539</td>\n",
       "      <td>2014</td>\n",
       "    </tr>\n",
       "  </tbody>\n",
       "</table>\n",
       "</div>"
      ],
      "text/plain": [
       "   Unnamed: 0                            genres  imdb  imdb_id  metascore  \\\n",
       "0           0   ['Biography', 'Drama', 'Sport']   7.6  1210166         87   \n",
       "1           1  ['Adventure', 'Drama', 'Horror']   5.7   374102         63   \n",
       "2           2               ['Comedy', 'Drama']   7.7   268126         83   \n",
       "3           3          ['Documentary', 'Crime']   8.4  1313104         84   \n",
       "4           4             ['Comedy', 'Romance']   6.4  2784678         81   \n",
       "\n",
       "    movid               movie  \\\n",
       "0   89492    Moneyball (2011)   \n",
       "1   27822   Open Water (2003)   \n",
       "2    5902  Adaptation. (2002)   \n",
       "3   71462     The Cove (2009)   \n",
       "4  118924     Top Five (2014)   \n",
       "\n",
       "                                                plot   votes  year  \n",
       "0  Oakland A's general manager Billy Beane's succ...  320711  2011  \n",
       "1  Based on the true story of two scuba divers ac...   47529  2003  \n",
       "2  A lovelorn screenwriter becomes desperate as h...  163178  2002  \n",
       "3  Using state-of-the-art equipment, a group of a...   44744  2009  \n",
       "4  A comedian tries to make it as a serious actor...   24539  2014  "
      ]
     },
     "execution_count": 51,
     "metadata": {},
     "output_type": "execute_result"
    }
   ],
   "source": [
    "mov.head()"
   ]
  },
  {
   "cell_type": "code",
   "execution_count": null,
   "metadata": {},
   "outputs": [],
   "source": []
  },
  {
   "cell_type": "code",
   "execution_count": 11,
   "metadata": {
    "ExecuteTime": {
     "end_time": "2019-02-15T14:19:35.914346Z",
     "start_time": "2019-02-15T14:19:35.870463Z"
    },
    "scrolled": true
   },
   "outputs": [
    {
     "data": {
      "text/html": [
       "<div>\n",
       "<style scoped>\n",
       "    .dataframe tbody tr th:only-of-type {\n",
       "        vertical-align: middle;\n",
       "    }\n",
       "\n",
       "    .dataframe tbody tr th {\n",
       "        vertical-align: top;\n",
       "    }\n",
       "\n",
       "    .dataframe thead th {\n",
       "        text-align: right;\n",
       "    }\n",
       "</style>\n",
       "<table border=\"1\" class=\"dataframe\">\n",
       "  <thead>\n",
       "    <tr style=\"text-align: right;\">\n",
       "      <th></th>\n",
       "      <th>userid</th>\n",
       "      <th>Moneyball (2011)</th>\n",
       "      <th>Open Water (2003)</th>\n",
       "      <th>Adaptation. (2002)</th>\n",
       "      <th>The Cove (2009)</th>\n",
       "      <th>Top Five (2014)</th>\n",
       "      <th>Winter's Tale (2014)</th>\n",
       "      <th>Jupiter Ascending (2015)</th>\n",
       "      <th>La sindrome di Stendhal (1996)</th>\n",
       "      <th>Paparazzi (2004)</th>\n",
       "      <th>...</th>\n",
       "      <th>Lilo &amp; Stitch (2002)</th>\n",
       "      <th>Blockers (2018)</th>\n",
       "      <th>A Beautiful Mind (2001)</th>\n",
       "      <th>Simon Sez (1999)</th>\n",
       "      <th>Southland Tales (2006)</th>\n",
       "      <th>The Hitcher (2007)</th>\n",
       "      <th>War Room (2015)</th>\n",
       "      <th>La flor de mi secreto (1995)</th>\n",
       "      <th>Two for the Money (2005)</th>\n",
       "      <th>Liam (2000)</th>\n",
       "    </tr>\n",
       "  </thead>\n",
       "  <tbody>\n",
       "    <tr>\n",
       "      <th>125</th>\n",
       "      <td>325</td>\n",
       "      <td>0.0</td>\n",
       "      <td>0.0</td>\n",
       "      <td>0.0</td>\n",
       "      <td>0</td>\n",
       "      <td>0</td>\n",
       "      <td>0.0</td>\n",
       "      <td>0.0</td>\n",
       "      <td>0.0</td>\n",
       "      <td>0</td>\n",
       "      <td>...</td>\n",
       "      <td>4.0</td>\n",
       "      <td>0</td>\n",
       "      <td>0.0</td>\n",
       "      <td>0</td>\n",
       "      <td>0</td>\n",
       "      <td>0.0</td>\n",
       "      <td>0.0</td>\n",
       "      <td>0.0</td>\n",
       "      <td>0.0</td>\n",
       "      <td>0</td>\n",
       "    </tr>\n",
       "    <tr>\n",
       "      <th>126</th>\n",
       "      <td>326</td>\n",
       "      <td>1.0</td>\n",
       "      <td>0.0</td>\n",
       "      <td>0.0</td>\n",
       "      <td>4</td>\n",
       "      <td>0</td>\n",
       "      <td>0.0</td>\n",
       "      <td>0.0</td>\n",
       "      <td>0.0</td>\n",
       "      <td>0</td>\n",
       "      <td>...</td>\n",
       "      <td>0.0</td>\n",
       "      <td>0</td>\n",
       "      <td>4.5</td>\n",
       "      <td>0</td>\n",
       "      <td>0</td>\n",
       "      <td>0.0</td>\n",
       "      <td>0.0</td>\n",
       "      <td>0.0</td>\n",
       "      <td>0.0</td>\n",
       "      <td>0</td>\n",
       "    </tr>\n",
       "    <tr>\n",
       "      <th>127</th>\n",
       "      <td>372</td>\n",
       "      <td>0.0</td>\n",
       "      <td>0.0</td>\n",
       "      <td>0.0</td>\n",
       "      <td>0</td>\n",
       "      <td>0</td>\n",
       "      <td>0.0</td>\n",
       "      <td>0.0</td>\n",
       "      <td>0.0</td>\n",
       "      <td>0</td>\n",
       "      <td>...</td>\n",
       "      <td>0.0</td>\n",
       "      <td>0</td>\n",
       "      <td>0.0</td>\n",
       "      <td>0</td>\n",
       "      <td>0</td>\n",
       "      <td>0.0</td>\n",
       "      <td>0.0</td>\n",
       "      <td>0.0</td>\n",
       "      <td>0.0</td>\n",
       "      <td>0</td>\n",
       "    </tr>\n",
       "    <tr>\n",
       "      <th>128</th>\n",
       "      <td>419</td>\n",
       "      <td>0.0</td>\n",
       "      <td>4.5</td>\n",
       "      <td>0.0</td>\n",
       "      <td>4</td>\n",
       "      <td>0</td>\n",
       "      <td>0.0</td>\n",
       "      <td>0.0</td>\n",
       "      <td>0.0</td>\n",
       "      <td>0</td>\n",
       "      <td>...</td>\n",
       "      <td>0.0</td>\n",
       "      <td>0</td>\n",
       "      <td>3.5</td>\n",
       "      <td>0</td>\n",
       "      <td>0</td>\n",
       "      <td>0.0</td>\n",
       "      <td>0.0</td>\n",
       "      <td>0.0</td>\n",
       "      <td>0.0</td>\n",
       "      <td>0</td>\n",
       "    </tr>\n",
       "    <tr>\n",
       "      <th>129</th>\n",
       "      <td>420</td>\n",
       "      <td>0.0</td>\n",
       "      <td>0.0</td>\n",
       "      <td>4.0</td>\n",
       "      <td>0</td>\n",
       "      <td>0</td>\n",
       "      <td>0.0</td>\n",
       "      <td>0.0</td>\n",
       "      <td>0.0</td>\n",
       "      <td>0</td>\n",
       "      <td>...</td>\n",
       "      <td>0.0</td>\n",
       "      <td>0</td>\n",
       "      <td>0.0</td>\n",
       "      <td>0</td>\n",
       "      <td>0</td>\n",
       "      <td>0.0</td>\n",
       "      <td>0.0</td>\n",
       "      <td>0.0</td>\n",
       "      <td>0.0</td>\n",
       "      <td>0</td>\n",
       "    </tr>\n",
       "  </tbody>\n",
       "</table>\n",
       "<p>5 rows × 301 columns</p>\n",
       "</div>"
      ],
      "text/plain": [
       "     userid  Moneyball (2011)  Open Water (2003)  Adaptation. (2002)  \\\n",
       "125     325               0.0                0.0                 0.0   \n",
       "126     326               1.0                0.0                 0.0   \n",
       "127     372               0.0                0.0                 0.0   \n",
       "128     419               0.0                4.5                 0.0   \n",
       "129     420               0.0                0.0                 4.0   \n",
       "\n",
       "     The Cove (2009)  Top Five (2014)  Winter's Tale (2014)  \\\n",
       "125                0                0                   0.0   \n",
       "126                4                0                   0.0   \n",
       "127                0                0                   0.0   \n",
       "128                4                0                   0.0   \n",
       "129                0                0                   0.0   \n",
       "\n",
       "     Jupiter Ascending (2015)  La sindrome di Stendhal (1996)  \\\n",
       "125                       0.0                             0.0   \n",
       "126                       0.0                             0.0   \n",
       "127                       0.0                             0.0   \n",
       "128                       0.0                             0.0   \n",
       "129                       0.0                             0.0   \n",
       "\n",
       "     Paparazzi (2004)     ...       Lilo & Stitch (2002)  Blockers (2018)  \\\n",
       "125                 0     ...                        4.0                0   \n",
       "126                 0     ...                        0.0                0   \n",
       "127                 0     ...                        0.0                0   \n",
       "128                 0     ...                        0.0                0   \n",
       "129                 0     ...                        0.0                0   \n",
       "\n",
       "     A Beautiful Mind (2001)  Simon Sez (1999)  Southland Tales (2006)  \\\n",
       "125                      0.0                 0                       0   \n",
       "126                      4.5                 0                       0   \n",
       "127                      0.0                 0                       0   \n",
       "128                      3.5                 0                       0   \n",
       "129                      0.0                 0                       0   \n",
       "\n",
       "     The Hitcher (2007)  War Room (2015)  La flor de mi secreto (1995)  \\\n",
       "125                 0.0              0.0                           0.0   \n",
       "126                 0.0              0.0                           0.0   \n",
       "127                 0.0              0.0                           0.0   \n",
       "128                 0.0              0.0                           0.0   \n",
       "129                 0.0              0.0                           0.0   \n",
       "\n",
       "     Two for the Money (2005)  Liam (2000)  \n",
       "125                       0.0            0  \n",
       "126                       0.0            0  \n",
       "127                       0.0            0  \n",
       "128                       0.0            0  \n",
       "129                       0.0            0  \n",
       "\n",
       "[5 rows x 301 columns]"
      ]
     },
     "execution_count": 11,
     "metadata": {},
     "output_type": "execute_result"
    }
   ],
   "source": [
    "mov=pd.read_csv(\"C:\\\\Users\\\\Jayant\\\\Desktop\\\\precog\\\\precog_imdb300.csv\")\n",
    "userdat=pd.read_csv(\"C:\\\\Users\\\\Jayant\\\\Desktop\\\\precog\\\\itemitemuserdat.csv\")\n",
    "userdat.tail()\n"
   ]
  },
  {
   "cell_type": "code",
   "execution_count": null,
   "metadata": {},
   "outputs": [],
   "source": [
    "count=0\n",
    "from IPython.display import Image\n",
    "for pred1 in index_movie_mapping.values():\n",
    "    print('\\033[1m',count,'\\033[0m',\"||\",pred1,mov[mov['movie']==pred1]['genres'].values[0])\n",
    "    count=count+1\n",
    "    display(Image(filename = \"C:\\\\Users\\\\Jayant\\\\Desktop\\\\precog\\\\Posters\\\\\" + str(pred1.replace(\":\", \"\").replace(\"?\",\"\"))+\".jpg\", width=100, height=100))"
   ]
  },
  {
   "cell_type": "code",
   "execution_count": 12,
   "metadata": {
    "ExecuteTime": {
     "end_time": "2019-02-15T14:19:52.989243Z",
     "start_time": "2019-02-15T14:19:40.648536Z"
    }
   },
   "outputs": [
    {
     "name": "stdout",
     "output_type": "stream",
     "text": [
      "\u001b[1m 1 --Enter Movie number you have seen and rate them from 1 to 5 \u001b[0m\n",
      "Enter Movie No.#-->2\n",
      "Plese Rate it!-->3\n",
      "\n",
      "\u001b[1m 2 --Enter Movie number you have seen and rate them from 1 to 5 \u001b[0m\n",
      "Enter Movie No.#-->4\n",
      "Plese Rate it!-->5\n",
      "\n",
      "\u001b[1m 3 --Enter Movie number you have seen and rate them from 1 to 5 \u001b[0m\n",
      "Enter Movie No.#-->6\n",
      "Plese Rate it!-->2\n",
      "\n",
      "\u001b[1m 4 --Enter Movie number you have seen and rate them from 1 to 5 \u001b[0m\n",
      "Enter Movie No.#-->88\n",
      "Plese Rate it!-->3\n",
      "\n"
     ]
    }
   ],
   "source": [
    "m=[]\n",
    "like=[]\n",
    "for x in range(1,5):\n",
    "    \n",
    "    print(\"\\033[1m\",x,\"--Enter Movie number you have seen and rate them from 1 to 5\",\"\\033[0m\")\n",
    "    m.append(int(input(\"Enter Movie No.#-->\")))\n",
    "    like.append(int(input(\"Plese Rate it!-->\")))\n",
    "    print(\"\")"
   ]
  },
  {
   "cell_type": "code",
   "execution_count": 13,
   "metadata": {
    "ExecuteTime": {
     "end_time": "2019-02-15T14:19:57.786729Z",
     "start_time": "2019-02-15T14:19:57.757807Z"
    }
   },
   "outputs": [],
   "source": [
    "# np.savetxt(\"foo.csv\", user_similarity, delimiter=\",\")\n",
    "customentry=[0 for i in range(300)]\n",
    "###########\n",
    "#taking value from ui of indexes and values\n",
    "\n",
    "#130 is my user index and 70801 is userid\n",
    "\n",
    "#m=[55,5,90,8]\n",
    "customentry[m[0]]=like[0]\n",
    "customentry[m[1]]=like[1]\n",
    "customentry[m[2]]=like[2]\n",
    "customentry[m[3]]=like[3]\n",
    "##########\n",
    "\n",
    "\n",
    "userid=70801\n",
    "customentry.insert(0,userid)\n",
    "userdat.loc[130] = customentry "
   ]
  },
  {
   "cell_type": "code",
   "execution_count": 296,
   "metadata": {
    "ExecuteTime": {
     "end_time": "2019-02-08T16:33:42.707220Z",
     "start_time": "2019-02-08T16:33:42.705226Z"
    }
   },
   "outputs": [],
   "source": [
    "# userdat.tail()\n"
   ]
  },
  {
   "cell_type": "code",
   "execution_count": 14,
   "metadata": {
    "ExecuteTime": {
     "end_time": "2019-02-15T14:19:59.828811Z",
     "start_time": "2019-02-15T14:19:59.817841Z"
    }
   },
   "outputs": [
    {
     "data": {
      "text/plain": [
       "Adaptation. (2002)                                           3.0\n",
       "Top Five (2014)                                              5.0\n",
       "Jupiter Ascending (2015)                                     2.0\n",
       "Il divo - La spettacolare vita di Giulio Andreotti (2008)    3.0\n",
       "Name: 130, dtype: float64"
      ]
     },
     "execution_count": 14,
     "metadata": {},
     "output_type": "execute_result"
    }
   ],
   "source": [
    "given_rating = userdat.loc[130].dropna()\n",
    "#130 is my user index and 70801 is userid\n",
    "delete_temp=given_rating[given_rating.values!=0]\n",
    "del delete_temp['userid']\n",
    "delete_temp# movies i have rated"
   ]
  },
  {
   "cell_type": "code",
   "execution_count": 15,
   "metadata": {
    "ExecuteTime": {
     "end_time": "2019-02-15T14:20:01.553762Z",
     "start_time": "2019-02-15T14:20:01.547778Z"
    }
   },
   "outputs": [
    {
     "data": {
      "text/plain": [
       "(131, 300)"
      ]
     },
     "execution_count": 15,
     "metadata": {},
     "output_type": "execute_result"
    }
   ],
   "source": [
    "userdatmatrix= userdat.drop('userid', axis = 1).as_matrix()\n",
    "userdatmatrix.shape"
   ]
  },
  {
   "cell_type": "code",
   "execution_count": 16,
   "metadata": {
    "ExecuteTime": {
     "end_time": "2019-02-15T14:20:02.506699Z",
     "start_time": "2019-02-15T14:20:02.464814Z"
    }
   },
   "outputs": [],
   "source": [
    "correlation_matrix = userdat.set_index(\"userid\", drop = True)\n",
    "correlation_matrix.T.corr()\n",
    "\n",
    "user_similarity = correlation_matrix.T.corr().as_matrix()\n",
    "\n"
   ]
  },
  {
   "cell_type": "code",
   "execution_count": 17,
   "metadata": {
    "ExecuteTime": {
     "end_time": "2019-02-15T14:20:03.662650Z",
     "start_time": "2019-02-15T14:20:03.573919Z"
    }
   },
   "outputs": [],
   "source": [
    "def predict_user(userdatmatrix, user_similarity):\n",
    "    \n",
    "    mean_user_rating = userdatmatrix.mean(axis=1)\n",
    "\n",
    "    ratings_diff = (userdatmatrix - mean_user_rating[:, np.newaxis])\n",
    "    denom=np.array([np.abs(user_similarity).sum(axis=1)]).T\n",
    "    pred = mean_user_rating[:, np.newaxis] + user_similarity.dot(ratings_diff) /denom\n",
    "    return pred\n",
    "\n",
    "user_prediction = predict_user(userdatmatrix, user_similarity)"
   ]
  },
  {
   "cell_type": "code",
   "execution_count": 293,
   "metadata": {
    "ExecuteTime": {
     "end_time": "2019-02-08T16:33:16.822523Z",
     "start_time": "2019-02-08T16:33:16.816571Z"
    }
   },
   "outputs": [],
   "source": [
    "\n",
    "# user_prediction[130].max()\n",
    "# indices = np.where(user_prediction[130] == user_prediction[130].max())\n",
    "# indices"
   ]
  },
  {
   "cell_type": "code",
   "execution_count": 18,
   "metadata": {
    "ExecuteTime": {
     "end_time": "2019-02-15T14:20:06.092548Z",
     "start_time": "2019-02-15T14:20:06.086565Z"
    }
   },
   "outputs": [],
   "source": [
    "from operator import itemgetter\n",
    "temp_map=dict(enumerate(user_prediction[130]))\n",
    "\n",
    "temp_map=sorted(temp_map.items(), key=itemgetter(1),reverse=True)\n",
    "top_10=[index for index,value in temp_map][0:10]\n",
    "#print(top_10)\n",
    "final_4=[]\n",
    "count=0\n",
    "for x in top_10:\n",
    "    if count==4:\n",
    "        break\n",
    "    if x in m:\n",
    "        continue\n",
    "    else:\n",
    "        final_4.append(x)\n",
    "        count=count+1\n",
    "        \n",
    "        \n",
    "user_10_mov=[index_movie_mapping[f] for f in top_10]  \n",
    "# user_10_mov\n",
    "\n",
    "\n",
    "temp_name=list(userdat.columns)\n",
    "temp_name.remove('userid')\n",
    "\n",
    "\n",
    "index_movie_mapping=dict(enumerate(temp_name))\n",
    "#[k for k,v in a.items() if v == b]\n",
    "\n",
    "user_4_mov=[index_movie_mapping[f] for f in final_4]"
   ]
  },
  {
   "cell_type": "code",
   "execution_count": 19,
   "metadata": {
    "ExecuteTime": {
     "end_time": "2019-02-15T14:20:08.769484Z",
     "start_time": "2019-02-15T14:20:08.765496Z"
    }
   },
   "outputs": [],
   "source": [
    "from IPython.display import HTML, display\n"
   ]
  },
  {
   "cell_type": "code",
   "execution_count": 20,
   "metadata": {
    "ExecuteTime": {
     "end_time": "2019-02-15T14:20:09.811196Z",
     "start_time": "2019-02-15T14:20:09.790223Z"
    },
    "scrolled": false
   },
   "outputs": [
    {
     "name": "stdout",
     "output_type": "stream",
     "text": [
      "\u001b[1mTop 4 recommendations:\u001b[0m\n",
      "Secretary (2002) ['Comedy', 'Drama', 'Romance']\n"
     ]
    },
    {
     "data": {
      "image/jpeg": "[encoded data removed]",
      "text/plain": [
       "<IPython.core.display.Image object>"
      ]
     },
     "metadata": {
      "image/jpeg": {
       "height": 100,
       "width": 100
      }
     },
     "output_type": "display_data"
    },
    {
     "name": "stdout",
     "output_type": "stream",
     "text": [
      "The Life Aquatic with Steve Zissou (2004) ['Action', 'Adventure', 'Comedy']\n"
     ]
    },
    {
     "data": {
      "image/jpeg": "[encoded data removed]",
      "text/plain": [
       "<IPython.core.display.Image object>"
      ]
     },
     "metadata": {
      "image/jpeg": {
       "height": 100,
       "width": 100
      }
     },
     "output_type": "display_data"
    },
    {
     "name": "stdout",
     "output_type": "stream",
     "text": [
      "The Player (1992) ['Comedy', 'Crime', 'Drama']\n"
     ]
    },
    {
     "data": {
      "image/jpeg": "[encoded data removed]",
      "text/plain": [
       "<IPython.core.display.Image object>"
      ]
     },
     "metadata": {
      "image/jpeg": {
       "height": 100,
       "width": 100
      }
     },
     "output_type": "display_data"
    },
    {
     "name": "stdout",
     "output_type": "stream",
     "text": [
      "Wonder Boys (2000) ['Comedy', 'Drama']\n"
     ]
    },
    {
     "data": {
      "image/jpeg": "[encoded data removed]",
      "text/plain": [
       "<IPython.core.display.Image object>"
      ]
     },
     "metadata": {
      "image/jpeg": {
       "height": 100,
       "width": 100
      }
     },
     "output_type": "display_data"
    }
   ],
   "source": [
    "from IPython.display import Image\n",
    "print('\\033[1m'+\"Top 4 recommendations:\"+'\\033[0m')\n",
    "\n",
    "for pred in user_4_mov:\n",
    "    \n",
    "    print(pred,mov[mov['movie']==pred]['genres'].values[0])\n",
    "    display(Image(filename = \"C:\\\\Users\\\\Jayant\\\\Desktop\\\\precog\\\\Posters\\\\\" + str(pred.replace(\":\", \"\").replace(\"?\",\"\"))+\".jpg\", width=100, height=100))\n",
    "    "
   ]
  },
  {
   "cell_type": "code",
   "execution_count": 40,
   "metadata": {
    "ExecuteTime": {
     "end_time": "2019-02-15T09:28:56.889688Z",
     "start_time": "2019-02-15T09:28:56.885699Z"
    }
   },
   "outputs": [],
   "source": [
    " \n",
    "########################references used#######3\n",
    "# https://towardsdatascience.com/various-implementations-of-collaborative-filtering-100385c6dfe0\n",
    "#https://docs.scipy.org/doc/scipy/reference/generated/scipy.sparse.linalg.svds.html\n",
    "#https://en.wikipedia.org/wiki/Collaborative_filtering\n",
    "#http://recommender-systems.org/collaborative-filtering/\n",
    "#https://pandas.pydata.org/pandas-docs/stable/\n",
    "#https://www.analyticsvidhya.com/blog/2016/06/quick-guide-build-recommendation-engine-python/\n",
    "#https://data36.com/pandas-tutorial-3-important-data-formatting-methods-merge-sort-reset_index-fillna/"
   ]
  },
  {
   "cell_type": "code",
   "execution_count": null,
   "metadata": {},
   "outputs": [],
   "source": []
  },
  {
   "cell_type": "code",
   "execution_count": null,
   "metadata": {},
   "outputs": [],
   "source": []
  },
  {
   "cell_type": "code",
   "execution_count": null,
   "metadata": {},
   "outputs": [],
   "source": []
  },
  {
   "cell_type": "code",
   "execution_count": null,
   "metadata": {},
   "outputs": [],
   "source": []
  }
 ],
 "metadata": {
  "kernelspec": {
   "display_name": "Python 3",
   "language": "python",
   "name": "python3"
  },
  "language_info": {
   "codemirror_mode": {
    "name": "ipython",
    "version": 3
   },
   "file_extension": ".py",
   "mimetype": "text/x-python",
   "name": "python",
   "nbconvert_exporter": "python",
   "pygments_lexer": "ipython3",
   "version": "3.6.5"
  },
  "varInspector": {
   "cols": {
    "lenName": 16,
    "lenType": 16,
    "lenVar": 40
   },
   "kernels_config": {
    "python": {
     "delete_cmd_postfix": "",
     "delete_cmd_prefix": "del ",
     "library": "var_list.py",
     "varRefreshCmd": "print(var_dic_list())"
    },
    "r": {
     "delete_cmd_postfix": ") ",
     "delete_cmd_prefix": "rm(",
     "library": "var_list.r",
     "varRefreshCmd": "cat(var_dic_list()) "
    }
   },
   "types_to_exclude": [
    "module",
    "function",
    "builtin_function_or_method",
    "instance",
    "_Feature"
   ],
   "window_display": false
  }
 },
 "nbformat": 4,
 "nbformat_minor": 2
}
