{
 "cells": [
  {
   "cell_type": "code",
   "execution_count": 2,
   "metadata": {
    "ExecuteTime": {
     "end_time": "2019-03-06T15:40:55.949432Z",
     "start_time": "2019-03-06T15:40:54.050726Z"
    }
   },
   "outputs": [],
   "source": [
    "import pandas as pd  \n",
    "import numpy as np\n",
    "from sklearn.metrics.pairwise import linear_kernel, cosine_similarity\n",
    "\n"
   ]
  },
  {
   "cell_type": "code",
   "execution_count": 12,
   "metadata": {
    "ExecuteTime": {
     "end_time": "2019-03-06T15:44:21.280002Z",
     "start_time": "2019-03-06T15:44:21.276012Z"
    }
   },
   "outputs": [],
   "source": [
    "# ##store image in mongodb  \n",
    "# import gridfs\n",
    "# from pymongo import MongoClient\n",
    "# import urllib.parse\n",
    "# import os\n",
    "# username = urllib.parse.quote_plus('jayantj1j')\n",
    "#password= urllib.parse.quote_plus(\"\")\n",
    "# password= urllib.parse.quote_plus(\"")\n",
    "\n",
    "# db=MongoClient(\"mongodb://%s:%s@mflix-shard-00-00-sgqip.mongodb.net:27017,mflix-shard-00-01-sgqip.mongodb.net:27017,mflix-shard-00-02-sgqip.mongodb.net:27017/mflix?ssl=true&replicaSet=mflix-shard-0&authSource=admin&retryWrites=true\" % (username, password))\n",
    "# fs = gridfs.GridFS(db.mflix)\n",
    "# for pred1 in index_movie_mapping.values():\n",
    "       \n",
    "#     filename = \"C:\\\\Users\\\\Jayant\\\\Desktop\\\\precog\\\\Posters\\\\\" + str(pred1.replace(\":\", \"\").replace(\"?\",\"\"))+\".jpg\"\n",
    "\n",
    "#     #fileID = fs.put(open(filename,encoding=\"utf8\"))\n",
    "#     with open(filename, 'rb') as f:\n",
    "#         contents = f.read()\n",
    "#         fileID=fs.put(contents,filename=str(pred1.replace(\":\", \"\").replace(\"?\",\"\")))\n",
    "#     out = fs.get(fileID)\n",
    "#     out.length"
   ]
  },
  {
   "cell_type": "code",
   "execution_count": 21,
   "metadata": {
    "ExecuteTime": {
     "end_time": "2019-03-06T17:26:12.609672Z",
     "start_time": "2019-03-06T17:26:10.830656Z"
    }
   },
   "outputs": [],
   "source": [
    "import sys\n",
    "import bson   \n",
    "from io import StringIO\n",
    "import gridfs\n",
    "from pymongo import MongoClient\n",
    "import urllib.parse\n",
    "import os\n",
    "username = urllib.parse.quote_plus('jayantj1j')\n",
    "\n",
    "\n",
    "\n",
    "db=MongoClient(\"mongodb://%s:%s@mflix-shard-00-00-sgqip.mongodb.net:27017,mflix-shard-00-01-sgqip.mongodb.net:27017,mflix-shard-00-02-sgqip.mongodb.net:27017/mflix?ssl=true&replicaSet=mflix-shard-0&authSource=admin&retryWrites=true\" % (username, password))\n",
    "fs = gridfs.GridFS(db.mflix)\n",
    "\n",
    "from bson.binary import Binary\n",
    "\n",
    "from PIL import Image\n",
    "\n",
    "file = fs.find_one({'filename': '3 Days to Kill (2014)'})\n",
    "\n",
    "\n",
    "# data = fs.get_last_version('3 Days to Kill (2014)').read()\n",
    "\n",
    "from bson import Regex\n",
    "for f in fs.find({'filename': '3 Days to Kill (2014)'}):\n",
    "    data = f.read()\n",
    "data\n",
    "import base64\n",
    "import codecs\n",
    "fh=open(\"C:\\\\Users\\\\Jayant\\\\Desktop\\\\precog\\\\nirav.jpeg\",\"wb\")\n",
    "fh.write(codecs.decode(data,'base64'))\n",
    "fh.close()"
   ]
  },
  {
   "cell_type": "code",
   "execution_count": 83,
   "metadata": {
    "ExecuteTime": {
     "end_time": "2019-03-03T04:55:47.834965Z",
     "start_time": "2019-03-03T04:55:46.294063Z"
    },
    "scrolled": true
   },
   "outputs": [
    {
     "name": "stdout",
     "output_type": "stream",
     "text": [
      "Database(MongoClient(host=['mflix-shard-00-02-sgqip.mongodb.net:27017', 'mflix-shard-00-01-sgqip.mongodb.net:27017', 'mflix-shard-00-00-sgqip.mongodb.net:27017'], document_class=dict, tz_aware=False, connect=True, ssl=True, replicaset='mflix-shard-0', authsource='admin', retrywrites=True), 'mflix')\n"
     ]
    },
    {
     "data": {
      "text/html": [
       "<div>\n",
       "<style scoped>\n",
       "    .dataframe tbody tr th:only-of-type {\n",
       "        vertical-align: middle;\n",
       "    }\n",
       "\n",
       "    .dataframe tbody tr th {\n",
       "        vertical-align: top;\n",
       "    }\n",
       "\n",
       "    .dataframe thead th {\n",
       "        text-align: right;\n",
       "    }\n",
       "</style>\n",
       "<table border=\"1\" class=\"dataframe\">\n",
       "  <thead>\n",
       "    <tr style=\"text-align: right;\">\n",
       "      <th></th>\n",
       "      <th>Unnamed: 0</th>\n",
       "      <th>genres</th>\n",
       "      <th>imdb</th>\n",
       "      <th>movid</th>\n",
       "      <th>movie</th>\n",
       "    </tr>\n",
       "  </thead>\n",
       "  <tbody>\n",
       "    <tr>\n",
       "      <th>0</th>\n",
       "      <td>0</td>\n",
       "      <td>['Biography', 'Drama', 'Sport']</td>\n",
       "      <td>7.6</td>\n",
       "      <td>89492</td>\n",
       "      <td>Moneyball (2011)</td>\n",
       "    </tr>\n",
       "    <tr>\n",
       "      <th>1</th>\n",
       "      <td>1</td>\n",
       "      <td>['Adventure', 'Drama', 'Horror']</td>\n",
       "      <td>5.7</td>\n",
       "      <td>27822</td>\n",
       "      <td>Open Water (2003)</td>\n",
       "    </tr>\n",
       "    <tr>\n",
       "      <th>2</th>\n",
       "      <td>2</td>\n",
       "      <td>['Comedy', 'Drama']</td>\n",
       "      <td>7.7</td>\n",
       "      <td>5902</td>\n",
       "      <td>Adaptation. (2002)</td>\n",
       "    </tr>\n",
       "    <tr>\n",
       "      <th>3</th>\n",
       "      <td>3</td>\n",
       "      <td>['Documentary', 'Crime']</td>\n",
       "      <td>8.4</td>\n",
       "      <td>71462</td>\n",
       "      <td>The Cove (2009)</td>\n",
       "    </tr>\n",
       "    <tr>\n",
       "      <th>4</th>\n",
       "      <td>4</td>\n",
       "      <td>['Comedy', 'Romance']</td>\n",
       "      <td>6.4</td>\n",
       "      <td>118924</td>\n",
       "      <td>Top Five (2014)</td>\n",
       "    </tr>\n",
       "  </tbody>\n",
       "</table>\n",
       "</div>"
      ],
      "text/plain": [
       "   Unnamed: 0                            genres  imdb   movid  \\\n",
       "0           0   ['Biography', 'Drama', 'Sport']   7.6   89492   \n",
       "1           1  ['Adventure', 'Drama', 'Horror']   5.7   27822   \n",
       "2           2               ['Comedy', 'Drama']   7.7    5902   \n",
       "3           3          ['Documentary', 'Crime']   8.4   71462   \n",
       "4           4             ['Comedy', 'Romance']   6.4  118924   \n",
       "\n",
       "                movie  \n",
       "0    Moneyball (2011)  \n",
       "1   Open Water (2003)  \n",
       "2  Adaptation. (2002)  \n",
       "3     The Cove (2009)  \n",
       "4     Top Five (2014)  "
      ]
     },
     "execution_count": 83,
     "metadata": {},
     "output_type": "execute_result"
    }
   ],
   "source": [
    "from pymongo import MongoClient\n",
    "import urllib.parse\n",
    "\n",
    "username = urllib.parse.quote_plus('jayantj1j')\n",
    "\n",
    "mypass=\"\"\n",
    "password = urllib.parse.quote_plus(mypass)\n",
    "client=MongoClient(\"mongodb://%s:%s@mflix-shard-00-00-sgqip.mongodb.net:27017,mflix-shard-00-01-sgqip.mongodb.net:27017,mflix-shard-00-02-sgqip.mongodb.net:27017/mflix?ssl=true&replicaSet=mflix-shard-0&authSource=admin&retryWrites=true\" % (username, password))\n",
    "print(client.mflix)\n",
    "collection = client   \n",
    "mov1 = pd.DataFrame(list(collection.mflix.mov.find({}, {'_id': False})))\n",
    "\n",
    "mov1.head()\n"
   ]
  },
  {
   "cell_type": "code",
   "execution_count": 84,
   "metadata": {
    "ExecuteTime": {
     "end_time": "2019-03-03T04:56:03.226708Z",
     "start_time": "2019-03-03T04:56:01.352018Z"
    }
   },
   "outputs": [
    {
     "data": {
      "text/html": [
       "<div>\n",
       "<style scoped>\n",
       "    .dataframe tbody tr th:only-of-type {\n",
       "        vertical-align: middle;\n",
       "    }\n",
       "\n",
       "    .dataframe tbody tr th {\n",
       "        vertical-align: top;\n",
       "    }\n",
       "\n",
       "    .dataframe thead th {\n",
       "        text-align: right;\n",
       "    }\n",
       "</style>\n",
       "<table border=\"1\" class=\"dataframe\">\n",
       "  <thead>\n",
       "    <tr style=\"text-align: right;\">\n",
       "      <th></th>\n",
       "      <th>10 Years (2011)</th>\n",
       "      <th>11:14 (2003)</th>\n",
       "      <th>3 Days to Kill (2014)</th>\n",
       "      <th>31 (2016)</th>\n",
       "      <th>54 (1998)</th>\n",
       "      <th>A Beautiful Mind (2001)</th>\n",
       "      <th>A Dog's Purpose (2017)</th>\n",
       "      <th>A Quiet Place (2018)</th>\n",
       "      <th>A Walk in the Clouds (1995)</th>\n",
       "      <th>About Last Night (2014)</th>\n",
       "      <th>...</th>\n",
       "      <th>We Need to Talk About Kevin (2011)</th>\n",
       "      <th>Why Him? (2016)</th>\n",
       "      <th>Winter's Tale (2014)</th>\n",
       "      <th>Wonder (2017)</th>\n",
       "      <th>Wonder Boys (2000)</th>\n",
       "      <th>World's Greatest Dad (2009)</th>\n",
       "      <th>Yoru wa mijikashi aruke yo otome (2017)</th>\n",
       "      <th>Your Highness (2011)</th>\n",
       "      <th>Zhao shi gu er (2010)</th>\n",
       "      <th>userid</th>\n",
       "    </tr>\n",
       "  </thead>\n",
       "  <tbody>\n",
       "    <tr>\n",
       "      <th>125</th>\n",
       "      <td>0.0</td>\n",
       "      <td>0</td>\n",
       "      <td>0.0</td>\n",
       "      <td>0.0</td>\n",
       "      <td>0</td>\n",
       "      <td>0.0</td>\n",
       "      <td>0.0</td>\n",
       "      <td>0.0</td>\n",
       "      <td>0.0</td>\n",
       "      <td>0.0</td>\n",
       "      <td>...</td>\n",
       "      <td>0.0</td>\n",
       "      <td>0.0</td>\n",
       "      <td>0.0</td>\n",
       "      <td>0</td>\n",
       "      <td>0.0</td>\n",
       "      <td>0.0</td>\n",
       "      <td>0</td>\n",
       "      <td>0.0</td>\n",
       "      <td>0.0</td>\n",
       "      <td>325</td>\n",
       "    </tr>\n",
       "    <tr>\n",
       "      <th>126</th>\n",
       "      <td>0.0</td>\n",
       "      <td>0</td>\n",
       "      <td>0.0</td>\n",
       "      <td>0.0</td>\n",
       "      <td>0</td>\n",
       "      <td>4.5</td>\n",
       "      <td>0.0</td>\n",
       "      <td>0.0</td>\n",
       "      <td>0.0</td>\n",
       "      <td>0.0</td>\n",
       "      <td>...</td>\n",
       "      <td>0.0</td>\n",
       "      <td>0.0</td>\n",
       "      <td>0.0</td>\n",
       "      <td>0</td>\n",
       "      <td>0.0</td>\n",
       "      <td>0.0</td>\n",
       "      <td>0</td>\n",
       "      <td>0.0</td>\n",
       "      <td>0.0</td>\n",
       "      <td>326</td>\n",
       "    </tr>\n",
       "    <tr>\n",
       "      <th>127</th>\n",
       "      <td>0.0</td>\n",
       "      <td>0</td>\n",
       "      <td>0.0</td>\n",
       "      <td>0.0</td>\n",
       "      <td>0</td>\n",
       "      <td>0.0</td>\n",
       "      <td>0.0</td>\n",
       "      <td>0.0</td>\n",
       "      <td>0.0</td>\n",
       "      <td>0.0</td>\n",
       "      <td>...</td>\n",
       "      <td>0.0</td>\n",
       "      <td>0.0</td>\n",
       "      <td>0.0</td>\n",
       "      <td>0</td>\n",
       "      <td>0.0</td>\n",
       "      <td>0.0</td>\n",
       "      <td>0</td>\n",
       "      <td>0.0</td>\n",
       "      <td>0.0</td>\n",
       "      <td>372</td>\n",
       "    </tr>\n",
       "    <tr>\n",
       "      <th>128</th>\n",
       "      <td>0.0</td>\n",
       "      <td>0</td>\n",
       "      <td>0.0</td>\n",
       "      <td>0.0</td>\n",
       "      <td>0</td>\n",
       "      <td>3.5</td>\n",
       "      <td>0.0</td>\n",
       "      <td>0.0</td>\n",
       "      <td>0.0</td>\n",
       "      <td>0.0</td>\n",
       "      <td>...</td>\n",
       "      <td>0.0</td>\n",
       "      <td>0.0</td>\n",
       "      <td>0.0</td>\n",
       "      <td>0</td>\n",
       "      <td>0.0</td>\n",
       "      <td>0.0</td>\n",
       "      <td>0</td>\n",
       "      <td>0.0</td>\n",
       "      <td>0.0</td>\n",
       "      <td>419</td>\n",
       "    </tr>\n",
       "    <tr>\n",
       "      <th>129</th>\n",
       "      <td>0.0</td>\n",
       "      <td>0</td>\n",
       "      <td>0.0</td>\n",
       "      <td>0.0</td>\n",
       "      <td>0</td>\n",
       "      <td>0.0</td>\n",
       "      <td>0.0</td>\n",
       "      <td>0.0</td>\n",
       "      <td>0.0</td>\n",
       "      <td>0.0</td>\n",
       "      <td>...</td>\n",
       "      <td>0.0</td>\n",
       "      <td>0.0</td>\n",
       "      <td>0.0</td>\n",
       "      <td>0</td>\n",
       "      <td>0.0</td>\n",
       "      <td>0.0</td>\n",
       "      <td>0</td>\n",
       "      <td>0.0</td>\n",
       "      <td>0.0</td>\n",
       "      <td>420</td>\n",
       "    </tr>\n",
       "  </tbody>\n",
       "</table>\n",
       "<p>5 rows × 301 columns</p>\n",
       "</div>"
      ],
      "text/plain": [
       "     10 Years (2011)  11:14 (2003)  3 Days to Kill (2014)  31 (2016)  \\\n",
       "125              0.0             0                    0.0        0.0   \n",
       "126              0.0             0                    0.0        0.0   \n",
       "127              0.0             0                    0.0        0.0   \n",
       "128              0.0             0                    0.0        0.0   \n",
       "129              0.0             0                    0.0        0.0   \n",
       "\n",
       "     54 (1998)  A Beautiful Mind (2001)  A Dog's Purpose (2017)  \\\n",
       "125          0                      0.0                     0.0   \n",
       "126          0                      4.5                     0.0   \n",
       "127          0                      0.0                     0.0   \n",
       "128          0                      3.5                     0.0   \n",
       "129          0                      0.0                     0.0   \n",
       "\n",
       "     A Quiet Place (2018)  A Walk in the Clouds (1995)  \\\n",
       "125                   0.0                          0.0   \n",
       "126                   0.0                          0.0   \n",
       "127                   0.0                          0.0   \n",
       "128                   0.0                          0.0   \n",
       "129                   0.0                          0.0   \n",
       "\n",
       "     About Last Night (2014)   ...    We Need to Talk About Kevin (2011)  \\\n",
       "125                      0.0   ...                                   0.0   \n",
       "126                      0.0   ...                                   0.0   \n",
       "127                      0.0   ...                                   0.0   \n",
       "128                      0.0   ...                                   0.0   \n",
       "129                      0.0   ...                                   0.0   \n",
       "\n",
       "     Why Him? (2016)  Winter's Tale (2014)  Wonder (2017)  Wonder Boys (2000)  \\\n",
       "125              0.0                   0.0              0                 0.0   \n",
       "126              0.0                   0.0              0                 0.0   \n",
       "127              0.0                   0.0              0                 0.0   \n",
       "128              0.0                   0.0              0                 0.0   \n",
       "129              0.0                   0.0              0                 0.0   \n",
       "\n",
       "     World's Greatest Dad (2009)  Yoru wa mijikashi aruke yo otome (2017)  \\\n",
       "125                          0.0                                        0   \n",
       "126                          0.0                                        0   \n",
       "127                          0.0                                        0   \n",
       "128                          0.0                                        0   \n",
       "129                          0.0                                        0   \n",
       "\n",
       "     Your Highness (2011)  Zhao shi gu er (2010)  userid  \n",
       "125                   0.0                    0.0     325  \n",
       "126                   0.0                    0.0     326  \n",
       "127                   0.0                    0.0     372  \n",
       "128                   0.0                    0.0     419  \n",
       "129                   0.0                    0.0     420  \n",
       "\n",
       "[5 rows x 301 columns]"
      ]
     },
     "execution_count": 84,
     "metadata": {},
     "output_type": "execute_result"
    }
   ],
   "source": [
    "userdat1 = pd.DataFrame(list(collection.mflix.userdat.find({}, {'_id': False})))\n",
    "\n",
    "userdat1.tail()"
   ]
  },
  {
   "cell_type": "code",
   "execution_count": null,
   "metadata": {},
   "outputs": [],
   "source": [
    "import pymongo\n",
    "import pandas as pd\n",
    "from pymongo import MongoClient\n",
    "client = MongoClient()\n",
    "db = client.database_name\n",
    "collection = db.collection_name\n",
    "data = pd.DataFrame(list(collection.find()))"
   ]
  },
  {
   "cell_type": "code",
   "execution_count": 3,
   "metadata": {
    "ExecuteTime": {
     "end_time": "2019-02-15T09:01:10.650984Z",
     "start_time": "2019-02-15T09:01:10.628001Z"
    }
   },
   "outputs": [],
   "source": [
    "mov=pd.read_csv(\"C:\\\\Users\\\\Jayant\\\\Desktop\\\\precog\\\\precog_imdb300.csv\")\n",
    "   "
   ]
  },
  {
   "cell_type": "code",
   "execution_count": 4,
   "metadata": {
    "ExecuteTime": {
     "end_time": "2019-02-15T09:01:12.963560Z",
     "start_time": "2019-02-15T09:01:12.946605Z"
    },
    "scrolled": true
   },
   "outputs": [
    {
     "data": {
      "text/html": [
       "<div>\n",
       "<style scoped>\n",
       "    .dataframe tbody tr th:only-of-type {\n",
       "        vertical-align: middle;\n",
       "    }\n",
       "\n",
       "    .dataframe tbody tr th {\n",
       "        vertical-align: top;\n",
       "    }\n",
       "\n",
       "    .dataframe thead th {\n",
       "        text-align: right;\n",
       "    }\n",
       "</style>\n",
       "<table border=\"1\" class=\"dataframe\">\n",
       "  <thead>\n",
       "    <tr style=\"text-align: right;\">\n",
       "      <th></th>\n",
       "      <th>genres</th>\n",
       "      <th>imdb</th>\n",
       "      <th>imdb_id</th>\n",
       "      <th>metascore</th>\n",
       "      <th>movid</th>\n",
       "      <th>movie</th>\n",
       "      <th>plot</th>\n",
       "      <th>votes</th>\n",
       "      <th>year</th>\n",
       "    </tr>\n",
       "  </thead>\n",
       "  <tbody>\n",
       "    <tr>\n",
       "      <th>0</th>\n",
       "      <td>['Biography', 'Drama', 'Sport']</td>\n",
       "      <td>7.6</td>\n",
       "      <td>1210166</td>\n",
       "      <td>87</td>\n",
       "      <td>89492</td>\n",
       "      <td>Moneyball (2011)</td>\n",
       "      <td>Oakland A's general manager Billy Beane's succ...</td>\n",
       "      <td>320711</td>\n",
       "      <td>2011</td>\n",
       "    </tr>\n",
       "    <tr>\n",
       "      <th>1</th>\n",
       "      <td>['Adventure', 'Drama', 'Horror']</td>\n",
       "      <td>5.7</td>\n",
       "      <td>374102</td>\n",
       "      <td>63</td>\n",
       "      <td>27822</td>\n",
       "      <td>Open Water (2003)</td>\n",
       "      <td>Based on the true story of two scuba divers ac...</td>\n",
       "      <td>47529</td>\n",
       "      <td>2003</td>\n",
       "    </tr>\n",
       "    <tr>\n",
       "      <th>2</th>\n",
       "      <td>['Comedy', 'Drama']</td>\n",
       "      <td>7.7</td>\n",
       "      <td>268126</td>\n",
       "      <td>83</td>\n",
       "      <td>5902</td>\n",
       "      <td>Adaptation. (2002)</td>\n",
       "      <td>A lovelorn screenwriter becomes desperate as h...</td>\n",
       "      <td>163178</td>\n",
       "      <td>2002</td>\n",
       "    </tr>\n",
       "    <tr>\n",
       "      <th>3</th>\n",
       "      <td>['Documentary', 'Crime']</td>\n",
       "      <td>8.4</td>\n",
       "      <td>1313104</td>\n",
       "      <td>84</td>\n",
       "      <td>71462</td>\n",
       "      <td>The Cove (2009)</td>\n",
       "      <td>Using state-of-the-art equipment, a group of a...</td>\n",
       "      <td>44744</td>\n",
       "      <td>2009</td>\n",
       "    </tr>\n",
       "    <tr>\n",
       "      <th>4</th>\n",
       "      <td>['Comedy', 'Romance']</td>\n",
       "      <td>6.4</td>\n",
       "      <td>2784678</td>\n",
       "      <td>81</td>\n",
       "      <td>118924</td>\n",
       "      <td>Top Five (2014)</td>\n",
       "      <td>A comedian tries to make it as a serious actor...</td>\n",
       "      <td>24539</td>\n",
       "      <td>2014</td>\n",
       "    </tr>\n",
       "  </tbody>\n",
       "</table>\n",
       "</div>"
      ],
      "text/plain": [
       "                             genres  imdb  imdb_id  metascore   movid  \\\n",
       "0   ['Biography', 'Drama', 'Sport']   7.6  1210166         87   89492   \n",
       "1  ['Adventure', 'Drama', 'Horror']   5.7   374102         63   27822   \n",
       "2               ['Comedy', 'Drama']   7.7   268126         83    5902   \n",
       "3          ['Documentary', 'Crime']   8.4  1313104         84   71462   \n",
       "4             ['Comedy', 'Romance']   6.4  2784678         81  118924   \n",
       "\n",
       "                movie                                               plot  \\\n",
       "0    Moneyball (2011)  Oakland A's general manager Billy Beane's succ...   \n",
       "1   Open Water (2003)  Based on the true story of two scuba divers ac...   \n",
       "2  Adaptation. (2002)  A lovelorn screenwriter becomes desperate as h...   \n",
       "3     The Cove (2009)  Using state-of-the-art equipment, a group of a...   \n",
       "4     Top Five (2014)  A comedian tries to make it as a serious actor...   \n",
       "\n",
       "    votes  year  \n",
       "0  320711  2011  \n",
       "1   47529  2003  \n",
       "2  163178  2002  \n",
       "3   44744  2009  \n",
       "4   24539  2014  "
      ]
     },
     "execution_count": 4,
     "metadata": {},
     "output_type": "execute_result"
    }
   ],
   "source": [
    "mov.head()"
   ]
  },
  {
   "cell_type": "code",
   "execution_count": 355,
   "metadata": {
    "ExecuteTime": {
     "end_time": "2019-02-08T19:19:46.857507Z",
     "start_time": "2019-02-08T19:19:46.845571Z"
    }
   },
   "outputs": [
    {
     "data": {
      "text/plain": [
       "0    ['Biography', 'Drama', 'Sport']\n",
       "Name: genres, dtype: object"
      ]
     },
     "execution_count": 355,
     "metadata": {},
     "output_type": "execute_result"
    }
   ],
   "source": [
    "mov[mov['movie']=='Moneyball (2011)']['genres']"
   ]
  },
  {
   "cell_type": "code",
   "execution_count": 4,
   "metadata": {
    "ExecuteTime": {
     "end_time": "2019-02-05T12:13:51.262564Z",
     "start_time": "2019-02-05T12:13:51.258573Z"
    }
   },
   "outputs": [],
   "source": [
    "del mov['Unnamed: 0']\n"
   ]
  },
  {
   "cell_type": "code",
   "execution_count": 6,
   "metadata": {
    "ExecuteTime": {
     "end_time": "2019-02-05T12:13:55.019843Z",
     "start_time": "2019-02-05T12:13:55.013857Z"
    }
   },
   "outputs": [],
   "source": [
    "mov=mov[['movid','imdb_id','movie',\n",
    " \n",
    " 'imdb',\n",
    " \n",
    " 'metascore','year','genres',\n",
    " \n",
    " 'plot',\n",
    " 'votes',\n",
    " ]]"
   ]
  },
  {
   "cell_type": "code",
   "execution_count": 11,
   "metadata": {
    "ExecuteTime": {
     "end_time": "2019-02-05T12:14:16.142856Z",
     "start_time": "2019-02-05T12:14:16.129888Z"
    }
   },
   "outputs": [
    {
     "data": {
      "text/html": [
       "<div>\n",
       "<style scoped>\n",
       "    .dataframe tbody tr th:only-of-type {\n",
       "        vertical-align: middle;\n",
       "    }\n",
       "\n",
       "    .dataframe tbody tr th {\n",
       "        vertical-align: top;\n",
       "    }\n",
       "\n",
       "    .dataframe thead th {\n",
       "        text-align: right;\n",
       "    }\n",
       "</style>\n",
       "<table border=\"1\" class=\"dataframe\">\n",
       "  <thead>\n",
       "    <tr style=\"text-align: right;\">\n",
       "      <th></th>\n",
       "      <th>movid</th>\n",
       "      <th>imdb_id</th>\n",
       "      <th>movie</th>\n",
       "      <th>imdb</th>\n",
       "      <th>metascore</th>\n",
       "      <th>year</th>\n",
       "      <th>genres</th>\n",
       "      <th>plot</th>\n",
       "      <th>votes</th>\n",
       "    </tr>\n",
       "  </thead>\n",
       "  <tbody>\n",
       "    <tr>\n",
       "      <th>0</th>\n",
       "      <td>89492</td>\n",
       "      <td>1210166</td>\n",
       "      <td>Moneyball (2011)</td>\n",
       "      <td>7.6</td>\n",
       "      <td>87</td>\n",
       "      <td>2011</td>\n",
       "      <td>[Biography, Drama, Sport]</td>\n",
       "      <td>Oakland A's general manager Billy Beane's succ...</td>\n",
       "      <td>320711</td>\n",
       "    </tr>\n",
       "    <tr>\n",
       "      <th>1</th>\n",
       "      <td>27822</td>\n",
       "      <td>374102</td>\n",
       "      <td>Open Water (2003)</td>\n",
       "      <td>5.7</td>\n",
       "      <td>63</td>\n",
       "      <td>2003</td>\n",
       "      <td>[Adventure, Drama, Horror]</td>\n",
       "      <td>Based on the true story of two scuba divers ac...</td>\n",
       "      <td>47529</td>\n",
       "    </tr>\n",
       "    <tr>\n",
       "      <th>2</th>\n",
       "      <td>5902</td>\n",
       "      <td>268126</td>\n",
       "      <td>Adaptation. (2002)</td>\n",
       "      <td>7.7</td>\n",
       "      <td>83</td>\n",
       "      <td>2002</td>\n",
       "      <td>[Comedy, Drama]</td>\n",
       "      <td>A lovelorn screenwriter becomes desperate as h...</td>\n",
       "      <td>163178</td>\n",
       "    </tr>\n",
       "    <tr>\n",
       "      <th>3</th>\n",
       "      <td>71462</td>\n",
       "      <td>1313104</td>\n",
       "      <td>The Cove (2009)</td>\n",
       "      <td>8.4</td>\n",
       "      <td>84</td>\n",
       "      <td>2009</td>\n",
       "      <td>[Documentary, Crime]</td>\n",
       "      <td>Using state-of-the-art equipment, a group of a...</td>\n",
       "      <td>44744</td>\n",
       "    </tr>\n",
       "    <tr>\n",
       "      <th>4</th>\n",
       "      <td>118924</td>\n",
       "      <td>2784678</td>\n",
       "      <td>Top Five (2014)</td>\n",
       "      <td>6.4</td>\n",
       "      <td>81</td>\n",
       "      <td>2014</td>\n",
       "      <td>[Comedy, Romance]</td>\n",
       "      <td>A comedian tries to make it as a serious actor...</td>\n",
       "      <td>24539</td>\n",
       "    </tr>\n",
       "  </tbody>\n",
       "</table>\n",
       "</div>"
      ],
      "text/plain": [
       "    movid  imdb_id               movie  imdb  metascore  year  \\\n",
       "0   89492  1210166    Moneyball (2011)   7.6         87  2011   \n",
       "1   27822   374102   Open Water (2003)   5.7         63  2003   \n",
       "2    5902   268126  Adaptation. (2002)   7.7         83  2002   \n",
       "3   71462  1313104     The Cove (2009)   8.4         84  2009   \n",
       "4  118924  2784678     Top Five (2014)   6.4         81  2014   \n",
       "\n",
       "                       genres  \\\n",
       "0   [Biography, Drama, Sport]   \n",
       "1  [Adventure, Drama, Horror]   \n",
       "2             [Comedy, Drama]   \n",
       "3        [Documentary, Crime]   \n",
       "4           [Comedy, Romance]   \n",
       "\n",
       "                                                plot   votes  \n",
       "0  Oakland A's general manager Billy Beane's succ...  320711  \n",
       "1  Based on the true story of two scuba divers ac...   47529  \n",
       "2  A lovelorn screenwriter becomes desperate as h...  163178  \n",
       "3  Using state-of-the-art equipment, a group of a...   44744  \n",
       "4  A comedian tries to make it as a serious actor...   24539  "
      ]
     },
     "execution_count": 11,
     "metadata": {},
     "output_type": "execute_result"
    }
   ],
   "source": [
    "mov.head()"
   ]
  },
  {
   "cell_type": "code",
   "execution_count": null,
   "metadata": {},
   "outputs": [],
   "source": [
    "mov['genres']=mov['genres'].apply(ast.literal_eval)\n",
    "#mov['genres'].apply(', '.join)\n",
    "mov"
   ]
  },
  {
   "cell_type": "code",
   "execution_count": 38,
   "metadata": {
    "ExecuteTime": {
     "end_time": "2019-03-02T16:38:44.027101Z",
     "start_time": "2019-03-02T16:38:44.017128Z"
    },
    "scrolled": true
   },
   "outputs": [],
   "source": [
    "temp=pd.DataFrame({'genres': mov.genres,'movid':mov.movid,'movie': mov.movie,'imdb':mov.imdb })\n",
    "                       \n",
    "                      \n",
    "temp.head()\n",
    "temp.to_csv(\"mov.csv\")"
   ]
  },
  {
   "cell_type": "code",
   "execution_count": 51,
   "metadata": {
    "ExecuteTime": {
     "end_time": "2019-02-04T17:11:17.099621Z",
     "start_time": "2019-02-04T17:11:17.088598Z"
    }
   },
   "outputs": [],
   "source": [
    "#mov.to_csv('file_namejj.csv')\n"
   ]
  },
  {
   "cell_type": "code",
   "execution_count": 13,
   "metadata": {
    "ExecuteTime": {
     "end_time": "2019-02-05T12:14:26.145790Z",
     "start_time": "2019-02-05T12:14:26.123797Z"
    }
   },
   "outputs": [
    {
     "data": {
      "text/html": [
       "<div>\n",
       "<style scoped>\n",
       "    .dataframe tbody tr th:only-of-type {\n",
       "        vertical-align: middle;\n",
       "    }\n",
       "\n",
       "    .dataframe tbody tr th {\n",
       "        vertical-align: top;\n",
       "    }\n",
       "\n",
       "    .dataframe thead th {\n",
       "        text-align: right;\n",
       "    }\n",
       "</style>\n",
       "<table border=\"1\" class=\"dataframe\">\n",
       "  <thead>\n",
       "    <tr style=\"text-align: right;\">\n",
       "      <th></th>\n",
       "      <th>movid</th>\n",
       "      <th>imdb_id</th>\n",
       "      <th>movie</th>\n",
       "      <th>imdb</th>\n",
       "      <th>metascore</th>\n",
       "      <th>year</th>\n",
       "      <th>genres</th>\n",
       "      <th>plot</th>\n",
       "      <th>votes</th>\n",
       "    </tr>\n",
       "  </thead>\n",
       "  <tbody>\n",
       "    <tr>\n",
       "      <th>0</th>\n",
       "      <td>89492</td>\n",
       "      <td>1210166</td>\n",
       "      <td>Moneyball (2011)</td>\n",
       "      <td>7.6</td>\n",
       "      <td>87</td>\n",
       "      <td>2011</td>\n",
       "      <td>Biography, Drama, Sport</td>\n",
       "      <td>Oakland A's general manager Billy Beane's succ...</td>\n",
       "      <td>320711</td>\n",
       "    </tr>\n",
       "    <tr>\n",
       "      <th>1</th>\n",
       "      <td>27822</td>\n",
       "      <td>374102</td>\n",
       "      <td>Open Water (2003)</td>\n",
       "      <td>5.7</td>\n",
       "      <td>63</td>\n",
       "      <td>2003</td>\n",
       "      <td>Adventure, Drama, Horror</td>\n",
       "      <td>Based on the true story of two scuba divers ac...</td>\n",
       "      <td>47529</td>\n",
       "    </tr>\n",
       "    <tr>\n",
       "      <th>2</th>\n",
       "      <td>5902</td>\n",
       "      <td>268126</td>\n",
       "      <td>Adaptation. (2002)</td>\n",
       "      <td>7.7</td>\n",
       "      <td>83</td>\n",
       "      <td>2002</td>\n",
       "      <td>Comedy, Drama</td>\n",
       "      <td>A lovelorn screenwriter becomes desperate as h...</td>\n",
       "      <td>163178</td>\n",
       "    </tr>\n",
       "    <tr>\n",
       "      <th>3</th>\n",
       "      <td>71462</td>\n",
       "      <td>1313104</td>\n",
       "      <td>The Cove (2009)</td>\n",
       "      <td>8.4</td>\n",
       "      <td>84</td>\n",
       "      <td>2009</td>\n",
       "      <td>Documentary, Crime</td>\n",
       "      <td>Using state-of-the-art equipment, a group of a...</td>\n",
       "      <td>44744</td>\n",
       "    </tr>\n",
       "    <tr>\n",
       "      <th>4</th>\n",
       "      <td>118924</td>\n",
       "      <td>2784678</td>\n",
       "      <td>Top Five (2014)</td>\n",
       "      <td>6.4</td>\n",
       "      <td>81</td>\n",
       "      <td>2014</td>\n",
       "      <td>Comedy, Romance</td>\n",
       "      <td>A comedian tries to make it as a serious actor...</td>\n",
       "      <td>24539</td>\n",
       "    </tr>\n",
       "  </tbody>\n",
       "</table>\n",
       "</div>"
      ],
      "text/plain": [
       "    movid  imdb_id               movie  imdb  metascore  year  \\\n",
       "0   89492  1210166    Moneyball (2011)   7.6         87  2011   \n",
       "1   27822   374102   Open Water (2003)   5.7         63  2003   \n",
       "2    5902   268126  Adaptation. (2002)   7.7         83  2002   \n",
       "3   71462  1313104     The Cove (2009)   8.4         84  2009   \n",
       "4  118924  2784678     Top Five (2014)   6.4         81  2014   \n",
       "\n",
       "                     genres  \\\n",
       "0   Biography, Drama, Sport   \n",
       "1  Adventure, Drama, Horror   \n",
       "2             Comedy, Drama   \n",
       "3        Documentary, Crime   \n",
       "4           Comedy, Romance   \n",
       "\n",
       "                                                plot   votes  \n",
       "0  Oakland A's general manager Billy Beane's succ...  320711  \n",
       "1  Based on the true story of two scuba divers ac...   47529  \n",
       "2  A lovelorn screenwriter becomes desperate as h...  163178  \n",
       "3  Using state-of-the-art equipment, a group of a...   44744  \n",
       "4  A comedian tries to make it as a serious actor...   24539  "
      ]
     },
     "execution_count": 13,
     "metadata": {},
     "output_type": "execute_result"
    }
   ],
   "source": [
    "data=pd.read_csv(\"C:\\\\Users\\\\Jayant\\\\Desktop\\\\precog\\\\rearr_imdb300.csv\")\n",
    "del data['Unnamed: 0']\n",
    "data['genres']=data['genres'].apply(ast.literal_eval)\n",
    "\n",
    "data['genres']=data['genres'].apply(lambda x: ', '.join(x))\n",
    "data.head()"
   ]
  },
  {
   "cell_type": "code",
   "execution_count": 14,
   "metadata": {
    "ExecuteTime": {
     "end_time": "2019-02-05T12:14:32.733393Z",
     "start_time": "2019-02-05T12:14:32.727409Z"
    }
   },
   "outputs": [
    {
     "data": {
      "text/plain": [
       "['Drama', ' History']"
      ]
     },
     "execution_count": 14,
     "metadata": {},
     "output_type": "execute_result"
    }
   ],
   "source": [
    "data['genres'][10].split(',')"
   ]
  },
  {
   "cell_type": "code",
   "execution_count": 15,
   "metadata": {
    "ExecuteTime": {
     "end_time": "2019-02-05T12:14:35.475169Z",
     "start_time": "2019-02-05T12:14:35.468149Z"
    }
   },
   "outputs": [],
   "source": [
    "a=set()\n",
    "for i in range(300):\n",
    "    temp= data['genres'][i].split(',')\n",
    "    for j in range(len(temp)):\n",
    "        #ll=temp[j].strip()\n",
    "        a.add(temp[j].strip())\n",
    "        \n",
    "   "
   ]
  },
  {
   "cell_type": "code",
   "execution_count": 16,
   "metadata": {
    "ExecuteTime": {
     "end_time": "2019-02-05T12:14:38.196908Z",
     "start_time": "2019-02-05T12:14:38.190957Z"
    }
   },
   "outputs": [
    {
     "data": {
      "text/plain": [
       "{'Action',\n",
       " 'Adventure',\n",
       " 'Animation',\n",
       " 'Biography',\n",
       " 'Comedy',\n",
       " 'Crime',\n",
       " 'Documentary',\n",
       " 'Drama',\n",
       " 'Family',\n",
       " 'Fantasy',\n",
       " 'History',\n",
       " 'Horror',\n",
       " 'Music',\n",
       " 'Musical',\n",
       " 'Mystery',\n",
       " 'Romance',\n",
       " 'Sci-Fi',\n",
       " 'Sport',\n",
       " 'Thriller',\n",
       " 'War',\n",
       " 'Western'}"
      ]
     },
     "execution_count": 16,
     "metadata": {},
     "output_type": "execute_result"
    }
   ],
   "source": [
    "a"
   ]
  },
  {
   "cell_type": "code",
   "execution_count": 17,
   "metadata": {
    "ExecuteTime": {
     "end_time": "2019-02-05T12:14:40.940224Z",
     "start_time": "2019-02-05T12:14:40.933208Z"
    }
   },
   "outputs": [],
   "source": [
    "i_cols = ['movid', 'movie' ,'year', 'Action',\n",
    " 'Adventure',\n",
    " 'Animation',\n",
    " 'Biography',\n",
    " 'Comedy',\n",
    " 'Crime',\n",
    " 'Documentary',\n",
    " 'Drama',\n",
    " 'Family',\n",
    " 'Fantasy',\n",
    " 'History',\n",
    " 'Horror',\n",
    " 'Music',\n",
    " 'Musical',\n",
    " 'Mystery',\n",
    " 'Romance',\n",
    " 'Sci-Fi',\n",
    " 'Sport',\n",
    " 'Thriller',\n",
    " 'War',\n",
    " 'Western']"
   ]
  },
  {
   "cell_type": "code",
   "execution_count": 18,
   "metadata": {
    "ExecuteTime": {
     "end_time": "2019-02-05T12:14:43.187611Z",
     "start_time": "2019-02-05T12:14:43.173620Z"
    }
   },
   "outputs": [],
   "source": [
    "features= pd.DataFrame({'movid':data.movid,'movie': data.movie,\n",
    "                       'year': data.year\n",
    "                       })\n",
    "for x in a:\n",
    "    \n",
    "    features.insert(1,x, 0)"
   ]
  },
  {
   "cell_type": "code",
   "execution_count": 19,
   "metadata": {
    "ExecuteTime": {
     "end_time": "2019-02-05T12:14:47.271237Z",
     "start_time": "2019-02-05T12:14:47.252286Z"
    },
    "scrolled": true
   },
   "outputs": [
    {
     "data": {
      "text/html": [
       "<div>\n",
       "<style scoped>\n",
       "    .dataframe tbody tr th:only-of-type {\n",
       "        vertical-align: middle;\n",
       "    }\n",
       "\n",
       "    .dataframe tbody tr th {\n",
       "        vertical-align: top;\n",
       "    }\n",
       "\n",
       "    .dataframe thead th {\n",
       "        text-align: right;\n",
       "    }\n",
       "</style>\n",
       "<table border=\"1\" class=\"dataframe\">\n",
       "  <thead>\n",
       "    <tr style=\"text-align: right;\">\n",
       "      <th></th>\n",
       "      <th>movid</th>\n",
       "      <th>Fantasy</th>\n",
       "      <th>Adventure</th>\n",
       "      <th>Western</th>\n",
       "      <th>Romance</th>\n",
       "      <th>Mystery</th>\n",
       "      <th>Documentary</th>\n",
       "      <th>Musical</th>\n",
       "      <th>History</th>\n",
       "      <th>Family</th>\n",
       "      <th>...</th>\n",
       "      <th>Thriller</th>\n",
       "      <th>Music</th>\n",
       "      <th>Sci-Fi</th>\n",
       "      <th>Action</th>\n",
       "      <th>War</th>\n",
       "      <th>Sport</th>\n",
       "      <th>Biography</th>\n",
       "      <th>Crime</th>\n",
       "      <th>movie</th>\n",
       "      <th>year</th>\n",
       "    </tr>\n",
       "  </thead>\n",
       "  <tbody>\n",
       "    <tr>\n",
       "      <th>0</th>\n",
       "      <td>89492</td>\n",
       "      <td>0</td>\n",
       "      <td>0</td>\n",
       "      <td>0</td>\n",
       "      <td>0</td>\n",
       "      <td>0</td>\n",
       "      <td>0</td>\n",
       "      <td>0</td>\n",
       "      <td>0</td>\n",
       "      <td>0</td>\n",
       "      <td>...</td>\n",
       "      <td>0</td>\n",
       "      <td>0</td>\n",
       "      <td>0</td>\n",
       "      <td>0</td>\n",
       "      <td>0</td>\n",
       "      <td>0</td>\n",
       "      <td>0</td>\n",
       "      <td>0</td>\n",
       "      <td>Moneyball (2011)</td>\n",
       "      <td>2011</td>\n",
       "    </tr>\n",
       "    <tr>\n",
       "      <th>1</th>\n",
       "      <td>27822</td>\n",
       "      <td>0</td>\n",
       "      <td>0</td>\n",
       "      <td>0</td>\n",
       "      <td>0</td>\n",
       "      <td>0</td>\n",
       "      <td>0</td>\n",
       "      <td>0</td>\n",
       "      <td>0</td>\n",
       "      <td>0</td>\n",
       "      <td>...</td>\n",
       "      <td>0</td>\n",
       "      <td>0</td>\n",
       "      <td>0</td>\n",
       "      <td>0</td>\n",
       "      <td>0</td>\n",
       "      <td>0</td>\n",
       "      <td>0</td>\n",
       "      <td>0</td>\n",
       "      <td>Open Water (2003)</td>\n",
       "      <td>2003</td>\n",
       "    </tr>\n",
       "    <tr>\n",
       "      <th>2</th>\n",
       "      <td>5902</td>\n",
       "      <td>0</td>\n",
       "      <td>0</td>\n",
       "      <td>0</td>\n",
       "      <td>0</td>\n",
       "      <td>0</td>\n",
       "      <td>0</td>\n",
       "      <td>0</td>\n",
       "      <td>0</td>\n",
       "      <td>0</td>\n",
       "      <td>...</td>\n",
       "      <td>0</td>\n",
       "      <td>0</td>\n",
       "      <td>0</td>\n",
       "      <td>0</td>\n",
       "      <td>0</td>\n",
       "      <td>0</td>\n",
       "      <td>0</td>\n",
       "      <td>0</td>\n",
       "      <td>Adaptation. (2002)</td>\n",
       "      <td>2002</td>\n",
       "    </tr>\n",
       "    <tr>\n",
       "      <th>3</th>\n",
       "      <td>71462</td>\n",
       "      <td>0</td>\n",
       "      <td>0</td>\n",
       "      <td>0</td>\n",
       "      <td>0</td>\n",
       "      <td>0</td>\n",
       "      <td>0</td>\n",
       "      <td>0</td>\n",
       "      <td>0</td>\n",
       "      <td>0</td>\n",
       "      <td>...</td>\n",
       "      <td>0</td>\n",
       "      <td>0</td>\n",
       "      <td>0</td>\n",
       "      <td>0</td>\n",
       "      <td>0</td>\n",
       "      <td>0</td>\n",
       "      <td>0</td>\n",
       "      <td>0</td>\n",
       "      <td>The Cove (2009)</td>\n",
       "      <td>2009</td>\n",
       "    </tr>\n",
       "    <tr>\n",
       "      <th>4</th>\n",
       "      <td>118924</td>\n",
       "      <td>0</td>\n",
       "      <td>0</td>\n",
       "      <td>0</td>\n",
       "      <td>0</td>\n",
       "      <td>0</td>\n",
       "      <td>0</td>\n",
       "      <td>0</td>\n",
       "      <td>0</td>\n",
       "      <td>0</td>\n",
       "      <td>...</td>\n",
       "      <td>0</td>\n",
       "      <td>0</td>\n",
       "      <td>0</td>\n",
       "      <td>0</td>\n",
       "      <td>0</td>\n",
       "      <td>0</td>\n",
       "      <td>0</td>\n",
       "      <td>0</td>\n",
       "      <td>Top Five (2014)</td>\n",
       "      <td>2014</td>\n",
       "    </tr>\n",
       "  </tbody>\n",
       "</table>\n",
       "<p>5 rows × 24 columns</p>\n",
       "</div>"
      ],
      "text/plain": [
       "    movid  Fantasy  Adventure  Western  Romance  Mystery  Documentary  \\\n",
       "0   89492        0          0        0        0        0            0   \n",
       "1   27822        0          0        0        0        0            0   \n",
       "2    5902        0          0        0        0        0            0   \n",
       "3   71462        0          0        0        0        0            0   \n",
       "4  118924        0          0        0        0        0            0   \n",
       "\n",
       "   Musical  History  Family  ...   Thriller  Music  Sci-Fi  Action  War  \\\n",
       "0        0        0       0  ...          0      0       0       0    0   \n",
       "1        0        0       0  ...          0      0       0       0    0   \n",
       "2        0        0       0  ...          0      0       0       0    0   \n",
       "3        0        0       0  ...          0      0       0       0    0   \n",
       "4        0        0       0  ...          0      0       0       0    0   \n",
       "\n",
       "   Sport  Biography  Crime               movie  year  \n",
       "0      0          0      0    Moneyball (2011)  2011  \n",
       "1      0          0      0   Open Water (2003)  2003  \n",
       "2      0          0      0  Adaptation. (2002)  2002  \n",
       "3      0          0      0     The Cove (2009)  2009  \n",
       "4      0          0      0     Top Five (2014)  2014  \n",
       "\n",
       "[5 rows x 24 columns]"
      ]
     },
     "execution_count": 19,
     "metadata": {},
     "output_type": "execute_result"
    }
   ],
   "source": [
    "features.head()"
   ]
  },
  {
   "cell_type": "code",
   "execution_count": 20,
   "metadata": {
    "ExecuteTime": {
     "end_time": "2019-02-05T12:14:50.305957Z",
     "start_time": "2019-02-05T12:14:50.287008Z"
    }
   },
   "outputs": [
    {
     "data": {
      "text/html": [
       "<div>\n",
       "<style scoped>\n",
       "    .dataframe tbody tr th:only-of-type {\n",
       "        vertical-align: middle;\n",
       "    }\n",
       "\n",
       "    .dataframe tbody tr th {\n",
       "        vertical-align: top;\n",
       "    }\n",
       "\n",
       "    .dataframe thead th {\n",
       "        text-align: right;\n",
       "    }\n",
       "</style>\n",
       "<table border=\"1\" class=\"dataframe\">\n",
       "  <thead>\n",
       "    <tr style=\"text-align: right;\">\n",
       "      <th></th>\n",
       "      <th>movid</th>\n",
       "      <th>Fantasy</th>\n",
       "      <th>Adventure</th>\n",
       "      <th>Western</th>\n",
       "      <th>Romance</th>\n",
       "      <th>Mystery</th>\n",
       "      <th>Documentary</th>\n",
       "      <th>Musical</th>\n",
       "      <th>History</th>\n",
       "      <th>Family</th>\n",
       "      <th>...</th>\n",
       "      <th>Thriller</th>\n",
       "      <th>Music</th>\n",
       "      <th>Sci-Fi</th>\n",
       "      <th>Action</th>\n",
       "      <th>War</th>\n",
       "      <th>Sport</th>\n",
       "      <th>Biography</th>\n",
       "      <th>Crime</th>\n",
       "      <th>movie</th>\n",
       "      <th>year</th>\n",
       "    </tr>\n",
       "  </thead>\n",
       "  <tbody>\n",
       "    <tr>\n",
       "      <th>295</th>\n",
       "      <td>50445</td>\n",
       "      <td>0</td>\n",
       "      <td>0</td>\n",
       "      <td>0</td>\n",
       "      <td>0</td>\n",
       "      <td>0</td>\n",
       "      <td>0</td>\n",
       "      <td>0</td>\n",
       "      <td>0</td>\n",
       "      <td>0</td>\n",
       "      <td>...</td>\n",
       "      <td>0</td>\n",
       "      <td>0</td>\n",
       "      <td>0</td>\n",
       "      <td>0</td>\n",
       "      <td>0</td>\n",
       "      <td>0</td>\n",
       "      <td>0</td>\n",
       "      <td>0</td>\n",
       "      <td>The Hitcher (2007)</td>\n",
       "      <td>2007</td>\n",
       "    </tr>\n",
       "    <tr>\n",
       "      <th>296</th>\n",
       "      <td>141668</td>\n",
       "      <td>0</td>\n",
       "      <td>0</td>\n",
       "      <td>0</td>\n",
       "      <td>0</td>\n",
       "      <td>0</td>\n",
       "      <td>0</td>\n",
       "      <td>0</td>\n",
       "      <td>0</td>\n",
       "      <td>0</td>\n",
       "      <td>...</td>\n",
       "      <td>0</td>\n",
       "      <td>0</td>\n",
       "      <td>0</td>\n",
       "      <td>0</td>\n",
       "      <td>0</td>\n",
       "      <td>0</td>\n",
       "      <td>0</td>\n",
       "      <td>0</td>\n",
       "      <td>War Room (2015)</td>\n",
       "      <td>2015</td>\n",
       "    </tr>\n",
       "    <tr>\n",
       "      <th>297</th>\n",
       "      <td>617</td>\n",
       "      <td>0</td>\n",
       "      <td>0</td>\n",
       "      <td>0</td>\n",
       "      <td>0</td>\n",
       "      <td>0</td>\n",
       "      <td>0</td>\n",
       "      <td>0</td>\n",
       "      <td>0</td>\n",
       "      <td>0</td>\n",
       "      <td>...</td>\n",
       "      <td>0</td>\n",
       "      <td>0</td>\n",
       "      <td>0</td>\n",
       "      <td>0</td>\n",
       "      <td>0</td>\n",
       "      <td>0</td>\n",
       "      <td>0</td>\n",
       "      <td>0</td>\n",
       "      <td>La flor de mi secreto (1995)</td>\n",
       "      <td>1995</td>\n",
       "    </tr>\n",
       "    <tr>\n",
       "      <th>298</th>\n",
       "      <td>38992</td>\n",
       "      <td>0</td>\n",
       "      <td>0</td>\n",
       "      <td>0</td>\n",
       "      <td>0</td>\n",
       "      <td>0</td>\n",
       "      <td>0</td>\n",
       "      <td>0</td>\n",
       "      <td>0</td>\n",
       "      <td>0</td>\n",
       "      <td>...</td>\n",
       "      <td>0</td>\n",
       "      <td>0</td>\n",
       "      <td>0</td>\n",
       "      <td>0</td>\n",
       "      <td>0</td>\n",
       "      <td>0</td>\n",
       "      <td>0</td>\n",
       "      <td>0</td>\n",
       "      <td>Two for the Money (2005)</td>\n",
       "      <td>2005</td>\n",
       "    </tr>\n",
       "    <tr>\n",
       "      <th>299</th>\n",
       "      <td>4780</td>\n",
       "      <td>0</td>\n",
       "      <td>0</td>\n",
       "      <td>0</td>\n",
       "      <td>0</td>\n",
       "      <td>0</td>\n",
       "      <td>0</td>\n",
       "      <td>0</td>\n",
       "      <td>0</td>\n",
       "      <td>0</td>\n",
       "      <td>...</td>\n",
       "      <td>0</td>\n",
       "      <td>0</td>\n",
       "      <td>0</td>\n",
       "      <td>0</td>\n",
       "      <td>0</td>\n",
       "      <td>0</td>\n",
       "      <td>0</td>\n",
       "      <td>0</td>\n",
       "      <td>Liam (2000)</td>\n",
       "      <td>2000</td>\n",
       "    </tr>\n",
       "  </tbody>\n",
       "</table>\n",
       "<p>5 rows × 24 columns</p>\n",
       "</div>"
      ],
      "text/plain": [
       "      movid  Fantasy  Adventure  Western  Romance  Mystery  Documentary  \\\n",
       "295   50445        0          0        0        0        0            0   \n",
       "296  141668        0          0        0        0        0            0   \n",
       "297     617        0          0        0        0        0            0   \n",
       "298   38992        0          0        0        0        0            0   \n",
       "299    4780        0          0        0        0        0            0   \n",
       "\n",
       "     Musical  History  Family  ...   Thriller  Music  Sci-Fi  Action  War  \\\n",
       "295        0        0       0  ...          0      0       0       0    0   \n",
       "296        0        0       0  ...          0      0       0       0    0   \n",
       "297        0        0       0  ...          0      0       0       0    0   \n",
       "298        0        0       0  ...          0      0       0       0    0   \n",
       "299        0        0       0  ...          0      0       0       0    0   \n",
       "\n",
       "     Sport  Biography  Crime                         movie  year  \n",
       "295      0          0      0            The Hitcher (2007)  2007  \n",
       "296      0          0      0               War Room (2015)  2015  \n",
       "297      0          0      0  La flor de mi secreto (1995)  1995  \n",
       "298      0          0      0      Two for the Money (2005)  2005  \n",
       "299      0          0      0                   Liam (2000)  2000  \n",
       "\n",
       "[5 rows x 24 columns]"
      ]
     },
     "execution_count": 20,
     "metadata": {},
     "output_type": "execute_result"
    }
   ],
   "source": [
    "#features=features[i_cols]\n",
    "features.tail()"
   ]
  },
  {
   "cell_type": "code",
   "execution_count": 21,
   "metadata": {
    "ExecuteTime": {
     "end_time": "2019-02-05T12:15:18.423941Z",
     "start_time": "2019-02-05T12:14:59.878556Z"
    }
   },
   "outputs": [
    {
     "name": "stderr",
     "output_type": "stream",
     "text": [
      "C:\\Users\\Jayant\\Anaconda3\\lib\\site-packages\\ipykernel_launcher.py:6: SettingWithCopyWarning: \n",
      "A value is trying to be set on a copy of a slice from a DataFrame\n",
      "\n",
      "See the caveats in the documentation: http://pandas.pydata.org/pandas-docs/stable/indexing.html#indexing-view-versus-copy\n",
      "  \n"
     ]
    }
   ],
   "source": [
    "for i in range(300):\n",
    "    temp= data['genres'][i].split(',')\n",
    "    for j in range(len(temp)):\n",
    "        #ll=temp[j].strip()\n",
    "        cc=temp[j].strip()\n",
    "        features[cc][i]=1\n",
    "        "
   ]
  },
  {
   "cell_type": "code",
   "execution_count": 341,
   "metadata": {
    "ExecuteTime": {
     "end_time": "2019-02-08T17:02:00.478808Z",
     "start_time": "2019-02-08T17:02:00.475815Z"
    },
    "scrolled": true
   },
   "outputs": [],
   "source": [
    "# features\n"
   ]
  },
  {
   "cell_type": "code",
   "execution_count": 221,
   "metadata": {
    "ExecuteTime": {
     "end_time": "2019-02-06T15:24:18.172581Z",
     "start_time": "2019-02-06T15:24:18.165601Z"
    }
   },
   "outputs": [
    {
     "data": {
      "text/plain": [
       "True"
      ]
     },
     "execution_count": 221,
     "metadata": {},
     "output_type": "execute_result"
    }
   ],
   "source": [
    "5902 in list(features.movid)"
   ]
  },
  {
   "cell_type": "code",
   "execution_count": 23,
   "metadata": {
    "ExecuteTime": {
     "end_time": "2019-02-05T12:15:23.301678Z",
     "start_time": "2019-02-05T12:15:23.243840Z"
    }
   },
   "outputs": [],
   "source": [
    "users=pd.read_csv(\"C:\\\\Users\\\\Jayant\\\\Desktop\\\\precog\\\\ratings.csv\")"
   ]
  },
  {
   "cell_type": "code",
   "execution_count": 394,
   "metadata": {
    "ExecuteTime": {
     "end_time": "2019-02-06T19:14:35.101634Z",
     "start_time": "2019-02-06T19:14:35.093655Z"
    }
   },
   "outputs": [
    {
     "data": {
      "text/html": [
       "<div>\n",
       "<style scoped>\n",
       "    .dataframe tbody tr th:only-of-type {\n",
       "        vertical-align: middle;\n",
       "    }\n",
       "\n",
       "    .dataframe tbody tr th {\n",
       "        vertical-align: top;\n",
       "    }\n",
       "\n",
       "    .dataframe thead th {\n",
       "        text-align: right;\n",
       "    }\n",
       "</style>\n",
       "<table border=\"1\" class=\"dataframe\">\n",
       "  <thead>\n",
       "    <tr style=\"text-align: right;\">\n",
       "      <th></th>\n",
       "      <th>userId</th>\n",
       "      <th>movieId</th>\n",
       "      <th>rating</th>\n",
       "    </tr>\n",
       "  </thead>\n",
       "  <tbody>\n",
       "    <tr>\n",
       "      <th>0</th>\n",
       "      <td>1</td>\n",
       "      <td>1</td>\n",
       "      <td>4.0</td>\n",
       "    </tr>\n",
       "    <tr>\n",
       "      <th>1</th>\n",
       "      <td>1</td>\n",
       "      <td>3</td>\n",
       "      <td>4.0</td>\n",
       "    </tr>\n",
       "    <tr>\n",
       "      <th>2</th>\n",
       "      <td>1</td>\n",
       "      <td>6</td>\n",
       "      <td>4.0</td>\n",
       "    </tr>\n",
       "    <tr>\n",
       "      <th>3</th>\n",
       "      <td>1</td>\n",
       "      <td>47</td>\n",
       "      <td>5.0</td>\n",
       "    </tr>\n",
       "    <tr>\n",
       "      <th>4</th>\n",
       "      <td>1</td>\n",
       "      <td>50</td>\n",
       "      <td>5.0</td>\n",
       "    </tr>\n",
       "  </tbody>\n",
       "</table>\n",
       "</div>"
      ],
      "text/plain": [
       "   userId  movieId  rating\n",
       "0       1        1     4.0\n",
       "1       1        3     4.0\n",
       "2       1        6     4.0\n",
       "3       1       47     5.0\n",
       "4       1       50     5.0"
      ]
     },
     "execution_count": 394,
     "metadata": {},
     "output_type": "execute_result"
    }
   ],
   "source": [
    "\n",
    "users.head()\n"
   ]
  },
  {
   "cell_type": "code",
   "execution_count": 73,
   "metadata": {
    "ExecuteTime": {
     "end_time": "2019-02-05T12:49:30.073593Z",
     "start_time": "2019-02-05T12:49:30.067578Z"
    }
   },
   "outputs": [],
   "source": [
    "del users[\"timestamp\"]"
   ]
  },
  {
   "cell_type": "code",
   "execution_count": 83,
   "metadata": {
    "ExecuteTime": {
     "end_time": "2019-02-05T12:59:01.488315Z",
     "start_time": "2019-02-05T12:59:01.483329Z"
    }
   },
   "outputs": [],
   "source": [
    "useronly130= pd.DataFrame(columns=['userid','movid',\n",
    "                       'rating' ])\n"
   ]
  },
  {
   "cell_type": "code",
   "execution_count": 85,
   "metadata": {
    "ExecuteTime": {
     "end_time": "2019-02-05T13:02:46.828133Z",
     "start_time": "2019-02-05T12:59:23.944797Z"
    }
   },
   "outputs": [],
   "source": [
    "for i in range(0,100836):\n",
    "    if users.userId[i] in idd:\n",
    "        useronly130.loc[len(useronly130)] = list(users.iloc[i])  \n",
    "        \n",
    "        "
   ]
  },
  {
   "cell_type": "code",
   "execution_count": 90,
   "metadata": {
    "ExecuteTime": {
     "end_time": "2019-02-05T13:04:30.093031Z",
     "start_time": "2019-02-05T13:04:29.875049Z"
    }
   },
   "outputs": [],
   "source": [
    "useronly130.to_csv(\"useronly130.csv\")"
   ]
  },
  {
   "cell_type": "code",
   "execution_count": 25,
   "metadata": {
    "ExecuteTime": {
     "end_time": "2019-02-05T12:15:38.682584Z",
     "start_time": "2019-02-05T12:15:38.675603Z"
    }
   },
   "outputs": [],
   "source": [
    "temp=[]\n",
    "for i in range(300):\n",
    "    temp.append(features['movid'][i])"
   ]
  },
  {
   "cell_type": "code",
   "execution_count": 26,
   "metadata": {
    "ExecuteTime": {
     "end_time": "2019-02-05T12:15:47.917064Z",
     "start_time": "2019-02-05T12:15:42.388611Z"
    }
   },
   "outputs": [],
   "source": [
    "userid={}\n",
    "count=0\n",
    "usertemp=1\n",
    "for index, row in users.iterrows():\n",
    "    if row['userId']!=usertemp:\n",
    "        count=0\n",
    "        usertemp=row['userId']\n",
    "    \n",
    "    if row['movieId'] in temp:\n",
    "        count=count+1\n",
    "        \n",
    "    if count>=10 :\n",
    "        userid[row['userId']]=count\n",
    "        \n",
    "    \n",
    "        \n",
    "    "
   ]
  },
  {
   "cell_type": "code",
   "execution_count": 27,
   "metadata": {
    "ExecuteTime": {
     "end_time": "2019-02-05T12:15:51.524268Z",
     "start_time": "2019-02-05T12:15:51.520278Z"
    }
   },
   "outputs": [],
   "source": [
    "import operator\n",
    "sorted_topuser = sorted(userid.items(), key=operator.itemgetter(1),reverse=True)"
   ]
  },
  {
   "cell_type": "code",
   "execution_count": 28,
   "metadata": {
    "ExecuteTime": {
     "end_time": "2019-02-05T12:15:52.514086Z",
     "start_time": "2019-02-05T12:15:52.510097Z"
    }
   },
   "outputs": [],
   "source": [
    "finalusers=sorted_topuser[0:130]"
   ]
  },
  {
   "cell_type": "code",
   "execution_count": 53,
   "metadata": {
    "ExecuteTime": {
     "end_time": "2019-02-05T12:27:59.830335Z",
     "start_time": "2019-02-05T12:27:59.826344Z"
    }
   },
   "outputs": [],
   "source": [
    "idd=[int(finalusers[x][0]) for x in range(len(finalusers))]"
   ]
  },
  {
   "cell_type": "code",
   "execution_count": 329,
   "metadata": {
    "ExecuteTime": {
     "end_time": "2019-02-06T17:47:14.953738Z",
     "start_time": "2019-02-06T17:47:14.940772Z"
    }
   },
   "outputs": [],
   "source": [
    "userframe=pd.DataFrame(columns=list(features.movid))\n",
    "                       "
   ]
  },
  {
   "cell_type": "code",
   "execution_count": 323,
   "metadata": {
    "ExecuteTime": {
     "end_time": "2019-02-06T17:33:48.792059Z",
     "start_time": "2019-02-06T17:33:48.783119Z"
    }
   },
   "outputs": [],
   "source": [
    "userframe.insert(loc=0, column=\"userid\", value=idd)"
   ]
  },
  {
   "cell_type": "code",
   "execution_count": 324,
   "metadata": {
    "ExecuteTime": {
     "end_time": "2019-02-06T17:33:51.296842Z",
     "start_time": "2019-02-06T17:33:51.289732Z"
    }
   },
   "outputs": [
    {
     "data": {
      "text/plain": [
       "(130, 301)"
      ]
     },
     "execution_count": 324,
     "metadata": {},
     "output_type": "execute_result"
    }
   ],
   "source": [
    "userframe.shape"
   ]
  },
  {
   "cell_type": "code",
   "execution_count": 325,
   "metadata": {
    "ExecuteTime": {
     "end_time": "2019-02-06T17:33:53.198492Z",
     "start_time": "2019-02-06T17:33:53.155027Z"
    }
   },
   "outputs": [
    {
     "data": {
      "text/html": [
       "<div>\n",
       "<style scoped>\n",
       "    .dataframe tbody tr th:only-of-type {\n",
       "        vertical-align: middle;\n",
       "    }\n",
       "\n",
       "    .dataframe tbody tr th {\n",
       "        vertical-align: top;\n",
       "    }\n",
       "\n",
       "    .dataframe thead th {\n",
       "        text-align: right;\n",
       "    }\n",
       "</style>\n",
       "<table border=\"1\" class=\"dataframe\">\n",
       "  <thead>\n",
       "    <tr style=\"text-align: right;\">\n",
       "      <th></th>\n",
       "      <th>userid</th>\n",
       "      <th>89492</th>\n",
       "      <th>27822</th>\n",
       "      <th>5902</th>\n",
       "      <th>71462</th>\n",
       "      <th>118924</th>\n",
       "      <th>109191</th>\n",
       "      <th>113345</th>\n",
       "      <th>8035</th>\n",
       "      <th>8835</th>\n",
       "      <th>...</th>\n",
       "      <th>5444</th>\n",
       "      <th>185473</th>\n",
       "      <th>4995</th>\n",
       "      <th>2887</th>\n",
       "      <th>56003</th>\n",
       "      <th>50445</th>\n",
       "      <th>141668</th>\n",
       "      <th>617</th>\n",
       "      <th>38992</th>\n",
       "      <th>4780</th>\n",
       "    </tr>\n",
       "  </thead>\n",
       "  <tbody>\n",
       "    <tr>\n",
       "      <th>0</th>\n",
       "      <td>414</td>\n",
       "      <td>NaN</td>\n",
       "      <td>NaN</td>\n",
       "      <td>NaN</td>\n",
       "      <td>NaN</td>\n",
       "      <td>NaN</td>\n",
       "      <td>NaN</td>\n",
       "      <td>NaN</td>\n",
       "      <td>NaN</td>\n",
       "      <td>NaN</td>\n",
       "      <td>...</td>\n",
       "      <td>NaN</td>\n",
       "      <td>NaN</td>\n",
       "      <td>NaN</td>\n",
       "      <td>NaN</td>\n",
       "      <td>NaN</td>\n",
       "      <td>NaN</td>\n",
       "      <td>NaN</td>\n",
       "      <td>NaN</td>\n",
       "      <td>NaN</td>\n",
       "      <td>NaN</td>\n",
       "    </tr>\n",
       "    <tr>\n",
       "      <th>1</th>\n",
       "      <td>448</td>\n",
       "      <td>NaN</td>\n",
       "      <td>NaN</td>\n",
       "      <td>NaN</td>\n",
       "      <td>NaN</td>\n",
       "      <td>NaN</td>\n",
       "      <td>NaN</td>\n",
       "      <td>NaN</td>\n",
       "      <td>NaN</td>\n",
       "      <td>NaN</td>\n",
       "      <td>...</td>\n",
       "      <td>NaN</td>\n",
       "      <td>NaN</td>\n",
       "      <td>NaN</td>\n",
       "      <td>NaN</td>\n",
       "      <td>NaN</td>\n",
       "      <td>NaN</td>\n",
       "      <td>NaN</td>\n",
       "      <td>NaN</td>\n",
       "      <td>NaN</td>\n",
       "      <td>NaN</td>\n",
       "    </tr>\n",
       "    <tr>\n",
       "      <th>2</th>\n",
       "      <td>599</td>\n",
       "      <td>NaN</td>\n",
       "      <td>NaN</td>\n",
       "      <td>NaN</td>\n",
       "      <td>NaN</td>\n",
       "      <td>NaN</td>\n",
       "      <td>NaN</td>\n",
       "      <td>NaN</td>\n",
       "      <td>NaN</td>\n",
       "      <td>NaN</td>\n",
       "      <td>...</td>\n",
       "      <td>NaN</td>\n",
       "      <td>NaN</td>\n",
       "      <td>NaN</td>\n",
       "      <td>NaN</td>\n",
       "      <td>NaN</td>\n",
       "      <td>NaN</td>\n",
       "      <td>NaN</td>\n",
       "      <td>NaN</td>\n",
       "      <td>NaN</td>\n",
       "      <td>NaN</td>\n",
       "    </tr>\n",
       "    <tr>\n",
       "      <th>3</th>\n",
       "      <td>474</td>\n",
       "      <td>NaN</td>\n",
       "      <td>NaN</td>\n",
       "      <td>NaN</td>\n",
       "      <td>NaN</td>\n",
       "      <td>NaN</td>\n",
       "      <td>NaN</td>\n",
       "      <td>NaN</td>\n",
       "      <td>NaN</td>\n",
       "      <td>NaN</td>\n",
       "      <td>...</td>\n",
       "      <td>NaN</td>\n",
       "      <td>NaN</td>\n",
       "      <td>NaN</td>\n",
       "      <td>NaN</td>\n",
       "      <td>NaN</td>\n",
       "      <td>NaN</td>\n",
       "      <td>NaN</td>\n",
       "      <td>NaN</td>\n",
       "      <td>NaN</td>\n",
       "      <td>NaN</td>\n",
       "    </tr>\n",
       "    <tr>\n",
       "      <th>4</th>\n",
       "      <td>68</td>\n",
       "      <td>NaN</td>\n",
       "      <td>NaN</td>\n",
       "      <td>NaN</td>\n",
       "      <td>NaN</td>\n",
       "      <td>NaN</td>\n",
       "      <td>NaN</td>\n",
       "      <td>NaN</td>\n",
       "      <td>NaN</td>\n",
       "      <td>NaN</td>\n",
       "      <td>...</td>\n",
       "      <td>NaN</td>\n",
       "      <td>NaN</td>\n",
       "      <td>NaN</td>\n",
       "      <td>NaN</td>\n",
       "      <td>NaN</td>\n",
       "      <td>NaN</td>\n",
       "      <td>NaN</td>\n",
       "      <td>NaN</td>\n",
       "      <td>NaN</td>\n",
       "      <td>NaN</td>\n",
       "    </tr>\n",
       "  </tbody>\n",
       "</table>\n",
       "<p>5 rows × 301 columns</p>\n",
       "</div>"
      ],
      "text/plain": [
       "   userid 89492 27822 5902 71462 118924 109191 113345 8035 8835 ...  5444  \\\n",
       "0     414   NaN   NaN  NaN   NaN    NaN    NaN    NaN  NaN  NaN ...   NaN   \n",
       "1     448   NaN   NaN  NaN   NaN    NaN    NaN    NaN  NaN  NaN ...   NaN   \n",
       "2     599   NaN   NaN  NaN   NaN    NaN    NaN    NaN  NaN  NaN ...   NaN   \n",
       "3     474   NaN   NaN  NaN   NaN    NaN    NaN    NaN  NaN  NaN ...   NaN   \n",
       "4      68   NaN   NaN  NaN   NaN    NaN    NaN    NaN  NaN  NaN ...   NaN   \n",
       "\n",
       "  185473 4995 2887 56003 50445 141668  617 38992 4780  \n",
       "0    NaN  NaN  NaN   NaN   NaN    NaN  NaN   NaN  NaN  \n",
       "1    NaN  NaN  NaN   NaN   NaN    NaN  NaN   NaN  NaN  \n",
       "2    NaN  NaN  NaN   NaN   NaN    NaN  NaN   NaN  NaN  \n",
       "3    NaN  NaN  NaN   NaN   NaN    NaN  NaN   NaN  NaN  \n",
       "4    NaN  NaN  NaN   NaN   NaN    NaN  NaN   NaN  NaN  \n",
       "\n",
       "[5 rows x 301 columns]"
      ]
     },
     "execution_count": 325,
     "metadata": {},
     "output_type": "execute_result"
    }
   ],
   "source": [
    "#userframe = userframe.fillna(0)\n",
    "userframe.head()"
   ]
  },
  {
   "cell_type": "code",
   "execution_count": 307,
   "metadata": {
    "ExecuteTime": {
     "end_time": "2019-02-06T17:26:05.565783Z",
     "start_time": "2019-02-06T17:26:05.560796Z"
    }
   },
   "outputs": [],
   "source": [
    "userframe = userframe.set_index(\"userid\", drop = False)"
   ]
  },
  {
   "cell_type": "code",
   "execution_count": 611,
   "metadata": {
    "ExecuteTime": {
     "end_time": "2019-02-07T09:55:25.814918Z",
     "start_time": "2019-02-07T09:55:25.809929Z"
    }
   },
   "outputs": [
    {
     "data": {
      "text/plain": [
       "(100836, 3)"
      ]
     },
     "execution_count": 611,
     "metadata": {},
     "output_type": "execute_result"
    }
   ],
   "source": [
    "users.shape"
   ]
  },
  {
   "cell_type": "code",
   "execution_count": null,
   "metadata": {
    "scrolled": true
   },
   "outputs": [],
   "source": [
    "cc=0\n",
    "for i in range(0,130):\n",
    "    cc=cc+1\n",
    "    temp_us=userframe[\"userid\"][i]\n",
    "    print(temp_us,cc)\n",
    "    for index, info in users.iterrows():\n",
    "        if temp_us==int(info[\"userId\"]):\n",
    "            \n",
    "            userframe.set_value(i, info[\"movieId\"],info[\"rating\"])\n",
    "            \n",
    "            \n",
    "            \n",
    "        "
   ]
  },
  {
   "cell_type": "code",
   "execution_count": 396,
   "metadata": {
    "ExecuteTime": {
     "end_time": "2019-02-06T19:17:21.735334Z",
     "start_time": "2019-02-06T19:17:21.717346Z"
    }
   },
   "outputs": [
    {
     "data": {
      "text/html": [
       "<div>\n",
       "<style scoped>\n",
       "    .dataframe tbody tr th:only-of-type {\n",
       "        vertical-align: middle;\n",
       "    }\n",
       "\n",
       "    .dataframe tbody tr th {\n",
       "        vertical-align: top;\n",
       "    }\n",
       "\n",
       "    .dataframe thead th {\n",
       "        text-align: right;\n",
       "    }\n",
       "</style>\n",
       "<table border=\"1\" class=\"dataframe\">\n",
       "  <thead>\n",
       "    <tr style=\"text-align: right;\">\n",
       "      <th></th>\n",
       "      <th>movid</th>\n",
       "      <th>Fantasy</th>\n",
       "      <th>Adventure</th>\n",
       "      <th>Western</th>\n",
       "      <th>Romance</th>\n",
       "      <th>Mystery</th>\n",
       "      <th>Documentary</th>\n",
       "      <th>Musical</th>\n",
       "      <th>History</th>\n",
       "      <th>Family</th>\n",
       "      <th>...</th>\n",
       "      <th>Thriller</th>\n",
       "      <th>Music</th>\n",
       "      <th>Sci-Fi</th>\n",
       "      <th>Action</th>\n",
       "      <th>War</th>\n",
       "      <th>Sport</th>\n",
       "      <th>Biography</th>\n",
       "      <th>Crime</th>\n",
       "      <th>movie</th>\n",
       "      <th>year</th>\n",
       "    </tr>\n",
       "  </thead>\n",
       "  <tbody>\n",
       "    <tr>\n",
       "      <th>0</th>\n",
       "      <td>89492</td>\n",
       "      <td>0</td>\n",
       "      <td>0</td>\n",
       "      <td>0</td>\n",
       "      <td>0</td>\n",
       "      <td>0</td>\n",
       "      <td>0</td>\n",
       "      <td>0</td>\n",
       "      <td>0</td>\n",
       "      <td>0</td>\n",
       "      <td>...</td>\n",
       "      <td>0</td>\n",
       "      <td>0</td>\n",
       "      <td>0</td>\n",
       "      <td>0</td>\n",
       "      <td>0</td>\n",
       "      <td>1</td>\n",
       "      <td>1</td>\n",
       "      <td>0</td>\n",
       "      <td>Moneyball (2011)</td>\n",
       "      <td>2011</td>\n",
       "    </tr>\n",
       "    <tr>\n",
       "      <th>1</th>\n",
       "      <td>27822</td>\n",
       "      <td>0</td>\n",
       "      <td>1</td>\n",
       "      <td>0</td>\n",
       "      <td>0</td>\n",
       "      <td>0</td>\n",
       "      <td>0</td>\n",
       "      <td>0</td>\n",
       "      <td>0</td>\n",
       "      <td>0</td>\n",
       "      <td>...</td>\n",
       "      <td>0</td>\n",
       "      <td>0</td>\n",
       "      <td>0</td>\n",
       "      <td>0</td>\n",
       "      <td>0</td>\n",
       "      <td>0</td>\n",
       "      <td>0</td>\n",
       "      <td>0</td>\n",
       "      <td>Open Water (2003)</td>\n",
       "      <td>2003</td>\n",
       "    </tr>\n",
       "    <tr>\n",
       "      <th>2</th>\n",
       "      <td>5902</td>\n",
       "      <td>0</td>\n",
       "      <td>0</td>\n",
       "      <td>0</td>\n",
       "      <td>0</td>\n",
       "      <td>0</td>\n",
       "      <td>0</td>\n",
       "      <td>0</td>\n",
       "      <td>0</td>\n",
       "      <td>0</td>\n",
       "      <td>...</td>\n",
       "      <td>0</td>\n",
       "      <td>0</td>\n",
       "      <td>0</td>\n",
       "      <td>0</td>\n",
       "      <td>0</td>\n",
       "      <td>0</td>\n",
       "      <td>0</td>\n",
       "      <td>0</td>\n",
       "      <td>Adaptation. (2002)</td>\n",
       "      <td>2002</td>\n",
       "    </tr>\n",
       "    <tr>\n",
       "      <th>3</th>\n",
       "      <td>71462</td>\n",
       "      <td>0</td>\n",
       "      <td>0</td>\n",
       "      <td>0</td>\n",
       "      <td>0</td>\n",
       "      <td>0</td>\n",
       "      <td>1</td>\n",
       "      <td>0</td>\n",
       "      <td>0</td>\n",
       "      <td>0</td>\n",
       "      <td>...</td>\n",
       "      <td>0</td>\n",
       "      <td>0</td>\n",
       "      <td>0</td>\n",
       "      <td>0</td>\n",
       "      <td>0</td>\n",
       "      <td>0</td>\n",
       "      <td>0</td>\n",
       "      <td>1</td>\n",
       "      <td>The Cove (2009)</td>\n",
       "      <td>2009</td>\n",
       "    </tr>\n",
       "    <tr>\n",
       "      <th>4</th>\n",
       "      <td>118924</td>\n",
       "      <td>0</td>\n",
       "      <td>0</td>\n",
       "      <td>0</td>\n",
       "      <td>1</td>\n",
       "      <td>0</td>\n",
       "      <td>0</td>\n",
       "      <td>0</td>\n",
       "      <td>0</td>\n",
       "      <td>0</td>\n",
       "      <td>...</td>\n",
       "      <td>0</td>\n",
       "      <td>0</td>\n",
       "      <td>0</td>\n",
       "      <td>0</td>\n",
       "      <td>0</td>\n",
       "      <td>0</td>\n",
       "      <td>0</td>\n",
       "      <td>0</td>\n",
       "      <td>Top Five (2014)</td>\n",
       "      <td>2014</td>\n",
       "    </tr>\n",
       "  </tbody>\n",
       "</table>\n",
       "<p>5 rows × 24 columns</p>\n",
       "</div>"
      ],
      "text/plain": [
       "    movid  Fantasy  Adventure  Western  Romance  Mystery  Documentary  \\\n",
       "0   89492        0          0        0        0        0            0   \n",
       "1   27822        0          1        0        0        0            0   \n",
       "2    5902        0          0        0        0        0            0   \n",
       "3   71462        0          0        0        0        0            1   \n",
       "4  118924        0          0        0        1        0            0   \n",
       "\n",
       "   Musical  History  Family  ...   Thriller  Music  Sci-Fi  Action  War  \\\n",
       "0        0        0       0  ...          0      0       0       0    0   \n",
       "1        0        0       0  ...          0      0       0       0    0   \n",
       "2        0        0       0  ...          0      0       0       0    0   \n",
       "3        0        0       0  ...          0      0       0       0    0   \n",
       "4        0        0       0  ...          0      0       0       0    0   \n",
       "\n",
       "   Sport  Biography  Crime               movie  year  \n",
       "0      1          1      0    Moneyball (2011)  2011  \n",
       "1      0          0      0   Open Water (2003)  2003  \n",
       "2      0          0      0  Adaptation. (2002)  2002  \n",
       "3      0          0      1     The Cove (2009)  2009  \n",
       "4      0          0      0     Top Five (2014)  2014  \n",
       "\n",
       "[5 rows x 24 columns]"
      ]
     },
     "execution_count": 396,
     "metadata": {},
     "output_type": "execute_result"
    }
   ],
   "source": [
    "features.head()"
   ]
  },
  {
   "cell_type": "code",
   "execution_count": 397,
   "metadata": {
    "ExecuteTime": {
     "end_time": "2019-02-06T19:18:35.936359Z",
     "start_time": "2019-02-06T19:18:35.930378Z"
    }
   },
   "outputs": [],
   "source": [
    "features.rename(columns={\"movid\":\"movieId\"}, inplace=True)"
   ]
  },
  {
   "cell_type": "code",
   "execution_count": 400,
   "metadata": {
    "ExecuteTime": {
     "end_time": "2019-02-06T19:19:51.288747Z",
     "start_time": "2019-02-06T19:19:51.272762Z"
    }
   },
   "outputs": [],
   "source": [
    "movie_data = pd.merge(users,features, on='movieId')  \n"
   ]
  },
  {
   "cell_type": "code",
   "execution_count": 405,
   "metadata": {
    "ExecuteTime": {
     "end_time": "2019-02-06T19:22:06.062554Z",
     "start_time": "2019-02-06T19:22:06.054575Z"
    }
   },
   "outputs": [
    {
     "data": {
      "text/plain": [
       "movie\n",
       "Moonlight (2016)                     5.00\n",
       "I Can Do Bad All by Myself (2009)    5.00\n",
       "Hellbenders (2012)                   5.00\n",
       "Cherish (2002)                       5.00\n",
       "Hunger (2008)                        4.75\n",
       "Name: rating, dtype: float64"
      ]
     },
     "execution_count": 405,
     "metadata": {},
     "output_type": "execute_result"
    }
   ],
   "source": [
    "movie_data.groupby('movie')['rating'].mean().sort_values(ascending=False).head()  \n"
   ]
  },
  {
   "cell_type": "code",
   "execution_count": 456,
   "metadata": {
    "ExecuteTime": {
     "end_time": "2019-02-06T19:44:52.557805Z",
     "start_time": "2019-02-06T19:44:52.548829Z"
    }
   },
   "outputs": [
    {
     "data": {
      "text/plain": [
       "movie\n",
       "The Lord of the Rings: The Two Towers (2002)    188\n",
       "Aladdin (1992)                                  183\n",
       "Memento (2000)                                  159\n",
       "Good Will Hunting (1997)                        141\n",
       "Kill Bill: Vol. 1 (2003)                        131\n",
       "Name: rating, dtype: int64"
      ]
     },
     "execution_count": 456,
     "metadata": {},
     "output_type": "execute_result"
    }
   ],
   "source": [
    "movie_data.groupby('movie')['rating'].count().sort_values(ascending=False).head()  \n"
   ]
  },
  {
   "cell_type": "code",
   "execution_count": 455,
   "metadata": {
    "ExecuteTime": {
     "end_time": "2019-02-06T19:44:47.790825Z",
     "start_time": "2019-02-06T19:44:47.777809Z"
    }
   },
   "outputs": [
    {
     "data": {
      "text/html": [
       "<div>\n",
       "<style scoped>\n",
       "    .dataframe tbody tr th:only-of-type {\n",
       "        vertical-align: middle;\n",
       "    }\n",
       "\n",
       "    .dataframe tbody tr th {\n",
       "        vertical-align: top;\n",
       "    }\n",
       "\n",
       "    .dataframe thead th {\n",
       "        text-align: right;\n",
       "    }\n",
       "</style>\n",
       "<table border=\"1\" class=\"dataframe\">\n",
       "  <thead>\n",
       "    <tr style=\"text-align: right;\">\n",
       "      <th></th>\n",
       "      <th>rating</th>\n",
       "      <th>rating_counts</th>\n",
       "    </tr>\n",
       "    <tr>\n",
       "      <th>movie</th>\n",
       "      <th></th>\n",
       "      <th></th>\n",
       "    </tr>\n",
       "  </thead>\n",
       "  <tbody>\n",
       "    <tr>\n",
       "      <th>10 Years (2011)</th>\n",
       "      <td>3.50</td>\n",
       "      <td>1</td>\n",
       "    </tr>\n",
       "    <tr>\n",
       "      <th>11:14 (2003)</th>\n",
       "      <td>3.75</td>\n",
       "      <td>4</td>\n",
       "    </tr>\n",
       "    <tr>\n",
       "      <th>3 Days to Kill (2014)</th>\n",
       "      <td>1.00</td>\n",
       "      <td>2</td>\n",
       "    </tr>\n",
       "    <tr>\n",
       "      <th>31 (2016)</th>\n",
       "      <td>3.50</td>\n",
       "      <td>1</td>\n",
       "    </tr>\n",
       "    <tr>\n",
       "      <th>54 (1998)</th>\n",
       "      <td>2.00</td>\n",
       "      <td>5</td>\n",
       "    </tr>\n",
       "  </tbody>\n",
       "</table>\n",
       "</div>"
      ],
      "text/plain": [
       "                       rating  rating_counts\n",
       "movie                                       \n",
       "10 Years (2011)          3.50              1\n",
       "11:14 (2003)             3.75              4\n",
       "3 Days to Kill (2014)    1.00              2\n",
       "31 (2016)                3.50              1\n",
       "54 (1998)                2.00              5"
      ]
     },
     "execution_count": 455,
     "metadata": {},
     "output_type": "execute_result"
    }
   ],
   "source": [
    "ratings_mean_count = pd.DataFrame(movie_data.groupby('movie')['rating'].mean())  \n",
    "ratings_mean_count['rating_counts'] = pd.DataFrame(movie_data.groupby('movie')['rating'].count())  \n",
    "ratings_mean_count.head()\n",
    "#ratings_mean_count.to_csv(\"rat_count.csv\")\n"
   ]
  },
  {
   "cell_type": "code",
   "execution_count": 68,
   "metadata": {
    "ExecuteTime": {
     "end_time": "2019-02-05T12:42:48.005496Z",
     "start_time": "2019-02-05T12:42:48.001059Z"
    },
    "scrolled": true
   },
   "outputs": [],
   "source": [
    "userno=130\n",
    "movieno=300"
   ]
  },
  {
   "cell_type": "code",
   "execution_count": 92,
   "metadata": {
    "ExecuteTime": {
     "end_time": "2019-02-05T13:20:48.650940Z",
     "start_time": "2019-02-05T13:20:48.646950Z"
    }
   },
   "outputs": [],
   "source": [
    "import numpy as np\n"
   ]
  },
  {
   "cell_type": "code",
   "execution_count": 332,
   "metadata": {
    "ExecuteTime": {
     "end_time": "2019-02-06T18:04:31.557149Z",
     "start_time": "2019-02-06T18:04:31.101368Z"
    }
   },
   "outputs": [],
   "source": [
    "userframe=pd.read_csv(\"C:\\\\Users\\\\Jayant\\\\Desktop\\\\precog\\\\userframe.csv\")"
   ]
  },
  {
   "cell_type": "code",
   "execution_count": null,
   "metadata": {
    "scrolled": true
   },
   "outputs": [],
   "source": [
    "del userframe[\"Unnamed: 0\"]\n"
   ]
  },
  {
   "cell_type": "code",
   "execution_count": 344,
   "metadata": {
    "ExecuteTime": {
     "end_time": "2019-02-06T18:15:37.287339Z",
     "start_time": "2019-02-06T18:15:37.265431Z"
    }
   },
   "outputs": [
    {
     "data": {
      "text/html": [
       "<div>\n",
       "<style scoped>\n",
       "    .dataframe tbody tr th:only-of-type {\n",
       "        vertical-align: middle;\n",
       "    }\n",
       "\n",
       "    .dataframe tbody tr th {\n",
       "        vertical-align: top;\n",
       "    }\n",
       "\n",
       "    .dataframe thead th {\n",
       "        text-align: right;\n",
       "    }\n",
       "</style>\n",
       "<table border=\"1\" class=\"dataframe\">\n",
       "  <thead>\n",
       "    <tr style=\"text-align: right;\">\n",
       "      <th></th>\n",
       "      <th>userid</th>\n",
       "      <th>89492</th>\n",
       "      <th>27822</th>\n",
       "      <th>5902</th>\n",
       "      <th>71462</th>\n",
       "      <th>118924</th>\n",
       "      <th>109191</th>\n",
       "      <th>113345</th>\n",
       "      <th>8035</th>\n",
       "      <th>8835</th>\n",
       "      <th>...</th>\n",
       "      <th>5444</th>\n",
       "      <th>185473</th>\n",
       "      <th>4995</th>\n",
       "      <th>2887</th>\n",
       "      <th>56003</th>\n",
       "      <th>50445</th>\n",
       "      <th>141668</th>\n",
       "      <th>617</th>\n",
       "      <th>38992</th>\n",
       "      <th>4780</th>\n",
       "    </tr>\n",
       "  </thead>\n",
       "  <tbody>\n",
       "    <tr>\n",
       "      <th>0</th>\n",
       "      <td>414</td>\n",
       "      <td>4.5</td>\n",
       "      <td>3.0</td>\n",
       "      <td>5.0</td>\n",
       "      <td>NaN</td>\n",
       "      <td>NaN</td>\n",
       "      <td>NaN</td>\n",
       "      <td>NaN</td>\n",
       "      <td>NaN</td>\n",
       "      <td>NaN</td>\n",
       "      <td>...</td>\n",
       "      <td>4.0</td>\n",
       "      <td>NaN</td>\n",
       "      <td>4.0</td>\n",
       "      <td>NaN</td>\n",
       "      <td>NaN</td>\n",
       "      <td>NaN</td>\n",
       "      <td>NaN</td>\n",
       "      <td>NaN</td>\n",
       "      <td>NaN</td>\n",
       "      <td>2.0</td>\n",
       "    </tr>\n",
       "    <tr>\n",
       "      <th>1</th>\n",
       "      <td>448</td>\n",
       "      <td>4.0</td>\n",
       "      <td>NaN</td>\n",
       "      <td>NaN</td>\n",
       "      <td>NaN</td>\n",
       "      <td>3.0</td>\n",
       "      <td>1.5</td>\n",
       "      <td>NaN</td>\n",
       "      <td>NaN</td>\n",
       "      <td>NaN</td>\n",
       "      <td>...</td>\n",
       "      <td>NaN</td>\n",
       "      <td>NaN</td>\n",
       "      <td>NaN</td>\n",
       "      <td>1.0</td>\n",
       "      <td>NaN</td>\n",
       "      <td>NaN</td>\n",
       "      <td>NaN</td>\n",
       "      <td>NaN</td>\n",
       "      <td>NaN</td>\n",
       "      <td>NaN</td>\n",
       "    </tr>\n",
       "    <tr>\n",
       "      <th>2</th>\n",
       "      <td>599</td>\n",
       "      <td>3.5</td>\n",
       "      <td>NaN</td>\n",
       "      <td>3.0</td>\n",
       "      <td>NaN</td>\n",
       "      <td>NaN</td>\n",
       "      <td>NaN</td>\n",
       "      <td>NaN</td>\n",
       "      <td>NaN</td>\n",
       "      <td>NaN</td>\n",
       "      <td>...</td>\n",
       "      <td>NaN</td>\n",
       "      <td>NaN</td>\n",
       "      <td>2.5</td>\n",
       "      <td>NaN</td>\n",
       "      <td>NaN</td>\n",
       "      <td>NaN</td>\n",
       "      <td>NaN</td>\n",
       "      <td>NaN</td>\n",
       "      <td>NaN</td>\n",
       "      <td>NaN</td>\n",
       "    </tr>\n",
       "    <tr>\n",
       "      <th>3</th>\n",
       "      <td>474</td>\n",
       "      <td>NaN</td>\n",
       "      <td>NaN</td>\n",
       "      <td>3.5</td>\n",
       "      <td>NaN</td>\n",
       "      <td>NaN</td>\n",
       "      <td>NaN</td>\n",
       "      <td>NaN</td>\n",
       "      <td>NaN</td>\n",
       "      <td>NaN</td>\n",
       "      <td>...</td>\n",
       "      <td>3.0</td>\n",
       "      <td>NaN</td>\n",
       "      <td>3.5</td>\n",
       "      <td>NaN</td>\n",
       "      <td>NaN</td>\n",
       "      <td>NaN</td>\n",
       "      <td>NaN</td>\n",
       "      <td>NaN</td>\n",
       "      <td>NaN</td>\n",
       "      <td>NaN</td>\n",
       "    </tr>\n",
       "    <tr>\n",
       "      <th>4</th>\n",
       "      <td>68</td>\n",
       "      <td>4.5</td>\n",
       "      <td>NaN</td>\n",
       "      <td>NaN</td>\n",
       "      <td>NaN</td>\n",
       "      <td>NaN</td>\n",
       "      <td>NaN</td>\n",
       "      <td>NaN</td>\n",
       "      <td>NaN</td>\n",
       "      <td>NaN</td>\n",
       "      <td>...</td>\n",
       "      <td>4.5</td>\n",
       "      <td>NaN</td>\n",
       "      <td>3.5</td>\n",
       "      <td>NaN</td>\n",
       "      <td>NaN</td>\n",
       "      <td>NaN</td>\n",
       "      <td>NaN</td>\n",
       "      <td>NaN</td>\n",
       "      <td>NaN</td>\n",
       "      <td>NaN</td>\n",
       "    </tr>\n",
       "  </tbody>\n",
       "</table>\n",
       "<p>5 rows × 301 columns</p>\n",
       "</div>"
      ],
      "text/plain": [
       "   userid  89492  27822  5902  71462  118924  109191  113345  8035  8835  \\\n",
       "0     414    4.5    3.0   5.0    NaN     NaN     NaN     NaN   NaN   NaN   \n",
       "1     448    4.0    NaN   NaN    NaN     3.0     1.5     NaN   NaN   NaN   \n",
       "2     599    3.5    NaN   3.0    NaN     NaN     NaN     NaN   NaN   NaN   \n",
       "3     474    NaN    NaN   3.5    NaN     NaN     NaN     NaN   NaN   NaN   \n",
       "4      68    4.5    NaN   NaN    NaN     NaN     NaN     NaN   NaN   NaN   \n",
       "\n",
       "   ...   5444  185473  4995  2887  56003  50445  141668  617  38992  4780  \n",
       "0  ...    4.0     NaN   4.0   NaN    NaN    NaN     NaN  NaN    NaN   2.0  \n",
       "1  ...    NaN     NaN   NaN   1.0    NaN    NaN     NaN  NaN    NaN   NaN  \n",
       "2  ...    NaN     NaN   2.5   NaN    NaN    NaN     NaN  NaN    NaN   NaN  \n",
       "3  ...    3.0     NaN   3.5   NaN    NaN    NaN     NaN  NaN    NaN   NaN  \n",
       "4  ...    4.5     NaN   3.5   NaN    NaN    NaN     NaN  NaN    NaN   NaN  \n",
       "\n",
       "[5 rows x 301 columns]"
      ]
     },
     "execution_count": 344,
     "metadata": {},
     "output_type": "execute_result"
    }
   ],
   "source": [
    "userframe.head()"
   ]
  },
  {
   "cell_type": "code",
   "execution_count": 352,
   "metadata": {
    "ExecuteTime": {
     "end_time": "2019-02-06T18:22:25.650715Z",
     "start_time": "2019-02-06T18:22:25.645728Z"
    }
   },
   "outputs": [
    {
     "data": {
      "text/plain": [
       "301"
      ]
     },
     "execution_count": 352,
     "metadata": {},
     "output_type": "execute_result"
    }
   ],
   "source": [
    "len(uuc)"
   ]
  },
  {
   "cell_type": "code",
   "execution_count": 358,
   "metadata": {
    "ExecuteTime": {
     "end_time": "2019-02-06T18:30:36.277253Z",
     "start_time": "2019-02-06T18:30:36.273265Z"
    }
   },
   "outputs": [],
   "source": [
    "rename={}\n",
    "uuc=list(userframe.columns)\n",
    "uuc.remove('userid')\n",
    "pp=list(features.movie)\n",
    "for i in range(300):\n",
    "    rename[uuc[i]]=pp[i]\n",
    "    "
   ]
  },
  {
   "cell_type": "code",
   "execution_count": null,
   "metadata": {},
   "outputs": [],
   "source": [
    "rename"
   ]
  },
  {
   "cell_type": "code",
   "execution_count": 360,
   "metadata": {
    "ExecuteTime": {
     "end_time": "2019-02-06T18:30:59.432773Z",
     "start_time": "2019-02-06T18:30:59.427787Z"
    }
   },
   "outputs": [],
   "source": [
    "userframe.rename(columns=rename, inplace=True)"
   ]
  },
  {
   "cell_type": "code",
   "execution_count": 363,
   "metadata": {
    "ExecuteTime": {
     "end_time": "2019-02-06T18:32:05.726932Z",
     "start_time": "2019-02-06T18:32:05.722943Z"
    }
   },
   "outputs": [],
   "source": [
    "userframe = userframe.set_index(\"userid\", drop = False)"
   ]
  },
  {
   "cell_type": "code",
   "execution_count": 366,
   "metadata": {
    "ExecuteTime": {
     "end_time": "2019-02-06T18:32:31.570619Z",
     "start_time": "2019-02-06T18:32:31.540702Z"
    }
   },
   "outputs": [],
   "source": [
    "#userframe.to_csv(\"mm_final.csv\")"
   ]
  },
  {
   "cell_type": "code",
   "execution_count": 335,
   "metadata": {
    "ExecuteTime": {
     "end_time": "2019-02-06T18:06:40.434235Z",
     "start_time": "2019-02-06T18:06:06.154642Z"
    }
   },
   "outputs": [],
   "source": [
    "for column in userframe.columns:\n",
    "    if column=='userid':\n",
    "        continue\n",
    "    \n",
    "    elif int(float(column)) not in tyu:\n",
    "        userframe = userframe.drop(column, axis = 1)"
   ]
  },
  {
   "cell_type": "code",
   "execution_count": 679,
   "metadata": {
    "ExecuteTime": {
     "end_time": "2019-02-07T12:40:18.635932Z",
     "start_time": "2019-02-07T12:40:18.605052Z"
    }
   },
   "outputs": [
    {
     "data": {
      "text/html": [
       "<div>\n",
       "<style scoped>\n",
       "    .dataframe tbody tr th:only-of-type {\n",
       "        vertical-align: middle;\n",
       "    }\n",
       "\n",
       "    .dataframe tbody tr th {\n",
       "        vertical-align: top;\n",
       "    }\n",
       "\n",
       "    .dataframe thead th {\n",
       "        text-align: right;\n",
       "    }\n",
       "</style>\n",
       "<table border=\"1\" class=\"dataframe\">\n",
       "  <thead>\n",
       "    <tr style=\"text-align: right;\">\n",
       "      <th></th>\n",
       "      <th>movieId</th>\n",
       "      <th>Fantasy</th>\n",
       "      <th>Adventure</th>\n",
       "      <th>Western</th>\n",
       "      <th>Romance</th>\n",
       "      <th>Mystery</th>\n",
       "      <th>Documentary</th>\n",
       "      <th>Musical</th>\n",
       "      <th>History</th>\n",
       "      <th>Family</th>\n",
       "      <th>...</th>\n",
       "      <th>Thriller</th>\n",
       "      <th>Music</th>\n",
       "      <th>Sci-Fi</th>\n",
       "      <th>Action</th>\n",
       "      <th>War</th>\n",
       "      <th>Sport</th>\n",
       "      <th>Biography</th>\n",
       "      <th>Crime</th>\n",
       "      <th>movie</th>\n",
       "      <th>year</th>\n",
       "    </tr>\n",
       "  </thead>\n",
       "  <tbody>\n",
       "    <tr>\n",
       "      <th>0</th>\n",
       "      <td>89492</td>\n",
       "      <td>0</td>\n",
       "      <td>0</td>\n",
       "      <td>0</td>\n",
       "      <td>0</td>\n",
       "      <td>0</td>\n",
       "      <td>0</td>\n",
       "      <td>0</td>\n",
       "      <td>0</td>\n",
       "      <td>0</td>\n",
       "      <td>...</td>\n",
       "      <td>0</td>\n",
       "      <td>0</td>\n",
       "      <td>0</td>\n",
       "      <td>0</td>\n",
       "      <td>0</td>\n",
       "      <td>1</td>\n",
       "      <td>1</td>\n",
       "      <td>0</td>\n",
       "      <td>Moneyball (2011)</td>\n",
       "      <td>2011</td>\n",
       "    </tr>\n",
       "    <tr>\n",
       "      <th>1</th>\n",
       "      <td>27822</td>\n",
       "      <td>0</td>\n",
       "      <td>1</td>\n",
       "      <td>0</td>\n",
       "      <td>0</td>\n",
       "      <td>0</td>\n",
       "      <td>0</td>\n",
       "      <td>0</td>\n",
       "      <td>0</td>\n",
       "      <td>0</td>\n",
       "      <td>...</td>\n",
       "      <td>0</td>\n",
       "      <td>0</td>\n",
       "      <td>0</td>\n",
       "      <td>0</td>\n",
       "      <td>0</td>\n",
       "      <td>0</td>\n",
       "      <td>0</td>\n",
       "      <td>0</td>\n",
       "      <td>Open Water (2003)</td>\n",
       "      <td>2003</td>\n",
       "    </tr>\n",
       "    <tr>\n",
       "      <th>2</th>\n",
       "      <td>5902</td>\n",
       "      <td>0</td>\n",
       "      <td>0</td>\n",
       "      <td>0</td>\n",
       "      <td>0</td>\n",
       "      <td>0</td>\n",
       "      <td>0</td>\n",
       "      <td>0</td>\n",
       "      <td>0</td>\n",
       "      <td>0</td>\n",
       "      <td>...</td>\n",
       "      <td>0</td>\n",
       "      <td>0</td>\n",
       "      <td>0</td>\n",
       "      <td>0</td>\n",
       "      <td>0</td>\n",
       "      <td>0</td>\n",
       "      <td>0</td>\n",
       "      <td>0</td>\n",
       "      <td>Adaptation. (2002)</td>\n",
       "      <td>2002</td>\n",
       "    </tr>\n",
       "    <tr>\n",
       "      <th>3</th>\n",
       "      <td>71462</td>\n",
       "      <td>0</td>\n",
       "      <td>0</td>\n",
       "      <td>0</td>\n",
       "      <td>0</td>\n",
       "      <td>0</td>\n",
       "      <td>1</td>\n",
       "      <td>0</td>\n",
       "      <td>0</td>\n",
       "      <td>0</td>\n",
       "      <td>...</td>\n",
       "      <td>0</td>\n",
       "      <td>0</td>\n",
       "      <td>0</td>\n",
       "      <td>0</td>\n",
       "      <td>0</td>\n",
       "      <td>0</td>\n",
       "      <td>0</td>\n",
       "      <td>1</td>\n",
       "      <td>The Cove (2009)</td>\n",
       "      <td>2009</td>\n",
       "    </tr>\n",
       "    <tr>\n",
       "      <th>4</th>\n",
       "      <td>118924</td>\n",
       "      <td>0</td>\n",
       "      <td>0</td>\n",
       "      <td>0</td>\n",
       "      <td>1</td>\n",
       "      <td>0</td>\n",
       "      <td>0</td>\n",
       "      <td>0</td>\n",
       "      <td>0</td>\n",
       "      <td>0</td>\n",
       "      <td>...</td>\n",
       "      <td>0</td>\n",
       "      <td>0</td>\n",
       "      <td>0</td>\n",
       "      <td>0</td>\n",
       "      <td>0</td>\n",
       "      <td>0</td>\n",
       "      <td>0</td>\n",
       "      <td>0</td>\n",
       "      <td>Top Five (2014)</td>\n",
       "      <td>2014</td>\n",
       "    </tr>\n",
       "  </tbody>\n",
       "</table>\n",
       "<p>5 rows × 24 columns</p>\n",
       "</div>"
      ],
      "text/plain": [
       "   movieId  Fantasy  Adventure  Western  Romance  Mystery  Documentary  \\\n",
       "0    89492        0          0        0        0        0            0   \n",
       "1    27822        0          1        0        0        0            0   \n",
       "2     5902        0          0        0        0        0            0   \n",
       "3    71462        0          0        0        0        0            1   \n",
       "4   118924        0          0        0        1        0            0   \n",
       "\n",
       "   Musical  History  Family  ...   Thriller  Music  Sci-Fi  Action  War  \\\n",
       "0        0        0       0  ...          0      0       0       0    0   \n",
       "1        0        0       0  ...          0      0       0       0    0   \n",
       "2        0        0       0  ...          0      0       0       0    0   \n",
       "3        0        0       0  ...          0      0       0       0    0   \n",
       "4        0        0       0  ...          0      0       0       0    0   \n",
       "\n",
       "   Sport  Biography  Crime               movie  year  \n",
       "0      1          1      0    Moneyball (2011)  2011  \n",
       "1      0          0      0   Open Water (2003)  2003  \n",
       "2      0          0      0  Adaptation. (2002)  2002  \n",
       "3      0          0      1     The Cove (2009)  2009  \n",
       "4      0          0      0     Top Five (2014)  2014  \n",
       "\n",
       "[5 rows x 24 columns]"
      ]
     },
     "execution_count": 679,
     "metadata": {},
     "output_type": "execute_result"
    }
   ],
   "source": [
    "features.head()"
   ]
  },
  {
   "cell_type": "code",
   "execution_count": null,
   "metadata": {},
   "outputs": [],
   "source": [
    "db=list(features.movieId)"
   ]
  },
  {
   "cell_type": "code",
   "execution_count": null,
   "metadata": {},
   "outputs": [],
   "source": []
  },
  {
   "cell_type": "markdown",
   "metadata": {},
   "source": [
    "# Item Item Based filtering"
   ]
  },
  {
   "cell_type": "code",
   "execution_count": 157,
   "metadata": {
    "ExecuteTime": {
     "end_time": "2019-03-04T09:01:42.223854Z",
     "start_time": "2019-03-04T09:01:42.208860Z"
    }
   },
   "outputs": [
    {
     "data": {
      "text/html": [
       "<div>\n",
       "<style scoped>\n",
       "    .dataframe tbody tr th:only-of-type {\n",
       "        vertical-align: middle;\n",
       "    }\n",
       "\n",
       "    .dataframe tbody tr th {\n",
       "        vertical-align: top;\n",
       "    }\n",
       "\n",
       "    .dataframe thead th {\n",
       "        text-align: right;\n",
       "    }\n",
       "</style>\n",
       "<table border=\"1\" class=\"dataframe\">\n",
       "  <thead>\n",
       "    <tr style=\"text-align: right;\">\n",
       "      <th></th>\n",
       "      <th>Unnamed: 0</th>\n",
       "      <th>genres</th>\n",
       "      <th>imdb</th>\n",
       "      <th>imdb_id</th>\n",
       "      <th>metascore</th>\n",
       "      <th>movid</th>\n",
       "      <th>movie</th>\n",
       "      <th>plot</th>\n",
       "      <th>votes</th>\n",
       "      <th>year</th>\n",
       "    </tr>\n",
       "  </thead>\n",
       "  <tbody>\n",
       "    <tr>\n",
       "      <th>0</th>\n",
       "      <td>0</td>\n",
       "      <td>['Biography', 'Drama', 'Sport']</td>\n",
       "      <td>7.6</td>\n",
       "      <td>1210166</td>\n",
       "      <td>87</td>\n",
       "      <td>89492</td>\n",
       "      <td>Moneyball (2011)</td>\n",
       "      <td>Oakland A's general manager Billy Beane's succ...</td>\n",
       "      <td>320711</td>\n",
       "      <td>2011</td>\n",
       "    </tr>\n",
       "    <tr>\n",
       "      <th>1</th>\n",
       "      <td>1</td>\n",
       "      <td>['Adventure', 'Drama', 'Horror']</td>\n",
       "      <td>5.7</td>\n",
       "      <td>374102</td>\n",
       "      <td>63</td>\n",
       "      <td>27822</td>\n",
       "      <td>Open Water (2003)</td>\n",
       "      <td>Based on the true story of two scuba divers ac...</td>\n",
       "      <td>47529</td>\n",
       "      <td>2003</td>\n",
       "    </tr>\n",
       "    <tr>\n",
       "      <th>2</th>\n",
       "      <td>2</td>\n",
       "      <td>['Comedy', 'Drama']</td>\n",
       "      <td>7.7</td>\n",
       "      <td>268126</td>\n",
       "      <td>83</td>\n",
       "      <td>5902</td>\n",
       "      <td>Adaptation (2002)</td>\n",
       "      <td>A lovelorn screenwriter becomes desperate as h...</td>\n",
       "      <td>163178</td>\n",
       "      <td>2002</td>\n",
       "    </tr>\n",
       "    <tr>\n",
       "      <th>3</th>\n",
       "      <td>3</td>\n",
       "      <td>['Documentary', 'Crime']</td>\n",
       "      <td>8.4</td>\n",
       "      <td>1313104</td>\n",
       "      <td>84</td>\n",
       "      <td>71462</td>\n",
       "      <td>The Cove (2009)</td>\n",
       "      <td>Using state-of-the-art equipment, a group of a...</td>\n",
       "      <td>44744</td>\n",
       "      <td>2009</td>\n",
       "    </tr>\n",
       "    <tr>\n",
       "      <th>4</th>\n",
       "      <td>4</td>\n",
       "      <td>['Comedy', 'Romance']</td>\n",
       "      <td>6.4</td>\n",
       "      <td>2784678</td>\n",
       "      <td>81</td>\n",
       "      <td>118924</td>\n",
       "      <td>Top Five (2014)</td>\n",
       "      <td>A comedian tries to make it as a serious actor...</td>\n",
       "      <td>24539</td>\n",
       "      <td>2014</td>\n",
       "    </tr>\n",
       "  </tbody>\n",
       "</table>\n",
       "</div>"
      ],
      "text/plain": [
       "   Unnamed: 0                            genres  imdb  imdb_id  metascore  \\\n",
       "0           0   ['Biography', 'Drama', 'Sport']   7.6  1210166         87   \n",
       "1           1  ['Adventure', 'Drama', 'Horror']   5.7   374102         63   \n",
       "2           2               ['Comedy', 'Drama']   7.7   268126         83   \n",
       "3           3          ['Documentary', 'Crime']   8.4  1313104         84   \n",
       "4           4             ['Comedy', 'Romance']   6.4  2784678         81   \n",
       "\n",
       "    movid              movie  \\\n",
       "0   89492   Moneyball (2011)   \n",
       "1   27822  Open Water (2003)   \n",
       "2    5902  Adaptation (2002)   \n",
       "3   71462    The Cove (2009)   \n",
       "4  118924    Top Five (2014)   \n",
       "\n",
       "                                                plot   votes  year  \n",
       "0  Oakland A's general manager Billy Beane's succ...  320711  2011  \n",
       "1  Based on the true story of two scuba divers ac...   47529  2003  \n",
       "2  A lovelorn screenwriter becomes desperate as h...  163178  2002  \n",
       "3  Using state-of-the-art equipment, a group of a...   44744  2009  \n",
       "4  A comedian tries to make it as a serious actor...   24539  2014  "
      ]
     },
     "execution_count": 157,
     "metadata": {},
     "output_type": "execute_result"
    }
   ],
   "source": [
    "mov=pd.read_csv(\"C:\\\\Users\\\\Jayant\\\\Desktop\\\\precog\\\\precog_imdb300.csv\")\n",
    "mov.head()"
   ]
  },
  {
   "cell_type": "code",
   "execution_count": 156,
   "metadata": {
    "ExecuteTime": {
     "end_time": "2019-03-04T09:01:39.836142Z",
     "start_time": "2019-03-04T09:01:39.802230Z"
    },
    "scrolled": true
   },
   "outputs": [
    {
     "data": {
      "text/html": [
       "<div>\n",
       "<style scoped>\n",
       "    .dataframe tbody tr th:only-of-type {\n",
       "        vertical-align: middle;\n",
       "    }\n",
       "\n",
       "    .dataframe tbody tr th {\n",
       "        vertical-align: top;\n",
       "    }\n",
       "\n",
       "    .dataframe thead th {\n",
       "        text-align: right;\n",
       "    }\n",
       "</style>\n",
       "<table border=\"1\" class=\"dataframe\">\n",
       "  <thead>\n",
       "    <tr style=\"text-align: right;\">\n",
       "      <th></th>\n",
       "      <th>userid</th>\n",
       "      <th>Moneyball (2011)</th>\n",
       "      <th>Open Water (2003)</th>\n",
       "      <th>Adaptation (2002)</th>\n",
       "      <th>The Cove (2009)</th>\n",
       "      <th>Top Five (2014)</th>\n",
       "      <th>Winter's Tale (2014)</th>\n",
       "      <th>Jupiter Ascending (2015)</th>\n",
       "      <th>La sindrome di Stendhal (1996)</th>\n",
       "      <th>Paparazzi (2004)</th>\n",
       "      <th>...</th>\n",
       "      <th>Lilo &amp; Stitch (2002)</th>\n",
       "      <th>Blockers (2018)</th>\n",
       "      <th>A Beautiful Mind (2001)</th>\n",
       "      <th>Simon Sez (1999)</th>\n",
       "      <th>Southland Tales (2006)</th>\n",
       "      <th>The Hitcher (2007)</th>\n",
       "      <th>War Room (2015)</th>\n",
       "      <th>La flor de mi secreto (1995)</th>\n",
       "      <th>Two for the Money (2005)</th>\n",
       "      <th>Liam (2000)</th>\n",
       "    </tr>\n",
       "  </thead>\n",
       "  <tbody>\n",
       "    <tr>\n",
       "      <th>0</th>\n",
       "      <td>414</td>\n",
       "      <td>4.5</td>\n",
       "      <td>3.0</td>\n",
       "      <td>5.0</td>\n",
       "      <td>0</td>\n",
       "      <td>0</td>\n",
       "      <td>0.0</td>\n",
       "      <td>0.0</td>\n",
       "      <td>0.0</td>\n",
       "      <td>0</td>\n",
       "      <td>...</td>\n",
       "      <td>4.0</td>\n",
       "      <td>0</td>\n",
       "      <td>4.0</td>\n",
       "      <td>0</td>\n",
       "      <td>0</td>\n",
       "      <td>0.0</td>\n",
       "      <td>0.0</td>\n",
       "      <td>0.0</td>\n",
       "      <td>0.0</td>\n",
       "      <td>2</td>\n",
       "    </tr>\n",
       "    <tr>\n",
       "      <th>1</th>\n",
       "      <td>448</td>\n",
       "      <td>4.0</td>\n",
       "      <td>0.0</td>\n",
       "      <td>0.0</td>\n",
       "      <td>0</td>\n",
       "      <td>3</td>\n",
       "      <td>1.5</td>\n",
       "      <td>0.0</td>\n",
       "      <td>0.0</td>\n",
       "      <td>0</td>\n",
       "      <td>...</td>\n",
       "      <td>0.0</td>\n",
       "      <td>0</td>\n",
       "      <td>0.0</td>\n",
       "      <td>1</td>\n",
       "      <td>0</td>\n",
       "      <td>0.0</td>\n",
       "      <td>0.0</td>\n",
       "      <td>0.0</td>\n",
       "      <td>0.0</td>\n",
       "      <td>0</td>\n",
       "    </tr>\n",
       "    <tr>\n",
       "      <th>2</th>\n",
       "      <td>599</td>\n",
       "      <td>3.5</td>\n",
       "      <td>0.0</td>\n",
       "      <td>3.0</td>\n",
       "      <td>0</td>\n",
       "      <td>0</td>\n",
       "      <td>0.0</td>\n",
       "      <td>0.0</td>\n",
       "      <td>0.0</td>\n",
       "      <td>0</td>\n",
       "      <td>...</td>\n",
       "      <td>0.0</td>\n",
       "      <td>0</td>\n",
       "      <td>2.5</td>\n",
       "      <td>0</td>\n",
       "      <td>0</td>\n",
       "      <td>0.0</td>\n",
       "      <td>0.0</td>\n",
       "      <td>0.0</td>\n",
       "      <td>0.0</td>\n",
       "      <td>0</td>\n",
       "    </tr>\n",
       "    <tr>\n",
       "      <th>3</th>\n",
       "      <td>474</td>\n",
       "      <td>0.0</td>\n",
       "      <td>0.0</td>\n",
       "      <td>3.5</td>\n",
       "      <td>0</td>\n",
       "      <td>0</td>\n",
       "      <td>0.0</td>\n",
       "      <td>0.0</td>\n",
       "      <td>0.0</td>\n",
       "      <td>0</td>\n",
       "      <td>...</td>\n",
       "      <td>3.0</td>\n",
       "      <td>0</td>\n",
       "      <td>3.5</td>\n",
       "      <td>0</td>\n",
       "      <td>0</td>\n",
       "      <td>0.0</td>\n",
       "      <td>0.0</td>\n",
       "      <td>0.0</td>\n",
       "      <td>0.0</td>\n",
       "      <td>0</td>\n",
       "    </tr>\n",
       "    <tr>\n",
       "      <th>4</th>\n",
       "      <td>68</td>\n",
       "      <td>4.5</td>\n",
       "      <td>0.0</td>\n",
       "      <td>0.0</td>\n",
       "      <td>0</td>\n",
       "      <td>0</td>\n",
       "      <td>0.0</td>\n",
       "      <td>0.0</td>\n",
       "      <td>0.0</td>\n",
       "      <td>0</td>\n",
       "      <td>...</td>\n",
       "      <td>4.5</td>\n",
       "      <td>0</td>\n",
       "      <td>3.5</td>\n",
       "      <td>0</td>\n",
       "      <td>0</td>\n",
       "      <td>0.0</td>\n",
       "      <td>0.0</td>\n",
       "      <td>0.0</td>\n",
       "      <td>0.0</td>\n",
       "      <td>0</td>\n",
       "    </tr>\n",
       "  </tbody>\n",
       "</table>\n",
       "<p>5 rows × 301 columns</p>\n",
       "</div>"
      ],
      "text/plain": [
       "   userid  Moneyball (2011)  Open Water (2003)  Adaptation (2002)  \\\n",
       "0     414               4.5                3.0                5.0   \n",
       "1     448               4.0                0.0                0.0   \n",
       "2     599               3.5                0.0                3.0   \n",
       "3     474               0.0                0.0                3.5   \n",
       "4      68               4.5                0.0                0.0   \n",
       "\n",
       "   The Cove (2009)  Top Five (2014)  Winter's Tale (2014)  \\\n",
       "0                0                0                   0.0   \n",
       "1                0                3                   1.5   \n",
       "2                0                0                   0.0   \n",
       "3                0                0                   0.0   \n",
       "4                0                0                   0.0   \n",
       "\n",
       "   Jupiter Ascending (2015)  La sindrome di Stendhal (1996)  Paparazzi (2004)  \\\n",
       "0                       0.0                             0.0                 0   \n",
       "1                       0.0                             0.0                 0   \n",
       "2                       0.0                             0.0                 0   \n",
       "3                       0.0                             0.0                 0   \n",
       "4                       0.0                             0.0                 0   \n",
       "\n",
       "      ...       Lilo & Stitch (2002)  Blockers (2018)  \\\n",
       "0     ...                        4.0                0   \n",
       "1     ...                        0.0                0   \n",
       "2     ...                        0.0                0   \n",
       "3     ...                        3.0                0   \n",
       "4     ...                        4.5                0   \n",
       "\n",
       "   A Beautiful Mind (2001)  Simon Sez (1999)  Southland Tales (2006)  \\\n",
       "0                      4.0                 0                       0   \n",
       "1                      0.0                 1                       0   \n",
       "2                      2.5                 0                       0   \n",
       "3                      3.5                 0                       0   \n",
       "4                      3.5                 0                       0   \n",
       "\n",
       "   The Hitcher (2007)  War Room (2015)  La flor de mi secreto (1995)  \\\n",
       "0                 0.0              0.0                           0.0   \n",
       "1                 0.0              0.0                           0.0   \n",
       "2                 0.0              0.0                           0.0   \n",
       "3                 0.0              0.0                           0.0   \n",
       "4                 0.0              0.0                           0.0   \n",
       "\n",
       "   Two for the Money (2005)  Liam (2000)  \n",
       "0                       0.0            2  \n",
       "1                       0.0            0  \n",
       "2                       0.0            0  \n",
       "3                       0.0            0  \n",
       "4                       0.0            0  \n",
       "\n",
       "[5 rows x 301 columns]"
      ]
     },
     "execution_count": 156,
     "metadata": {},
     "output_type": "execute_result"
    }
   ],
   "source": [
    "\n",
    "# userdat=pd.read_csv(\"C:\\\\Users\\\\Jayant\\\\Desktop\\\\precog\\\\itemitemuserdat.csv\")\n",
    "# userdat.fillna(0,inplace=True)\n",
    "# del userdat[\"userid.1\"]\n",
    "# userdat.head()\n",
    "# userdat.to_csv(\"itemitemuserdat.csv\")\n",
    "userdat=pd.read_csv(\"C:\\\\Users\\\\Jayant\\\\Desktop\\\\precog\\\\itemitemuserdat.csv\")\n",
    "userdat.head()  "
   ]
  },
  {
   "cell_type": "code",
   "execution_count": null,
   "metadata": {},
   "outputs": [],
   "source": [
    "\n",
    " "
   ]
  },
  {
   "cell_type": "code",
   "execution_count": 158,
   "metadata": {
    "ExecuteTime": {
     "end_time": "2019-03-04T09:01:44.029741Z",
     "start_time": "2019-03-04T09:01:44.026748Z"
    }
   },
   "outputs": [],
   "source": [
    "temp_name=list(userdat.columns)\n",
    "temp_name.remove('userid')\n",
    "\n",
    "\n",
    "index_movie_mapping=dict(enumerate(temp_name))\n",
    "#[k for k,v in a.items() if v == b]\n",
    "#index_movie_mapping"
   ]
  },
  {
   "cell_type": "code",
   "execution_count": null,
   "metadata": {},
   "outputs": [],
   "source": [
    "count=0\n",
    "from IPython.display import Image\n",
    "for pred1 in index_movie_mapping.values():\n",
    "    print('\\033[1m',count,'\\033[0m',\"||\",pred1,mov[mov['movie']==pred1]['genres'].values[0])\n",
    "    count=count+1\n",
    "    display(Image(filename = \"C:\\\\Users\\\\Jayant\\\\Desktop\\\\precog\\\\Posters\\\\\" + str(pred1.replace(\":\", \"\").replace(\"?\",\"\"))+\".jpg\", width=100, height=100))"
   ]
  },
  {
   "cell_type": "code",
   "execution_count": null,
   "metadata": {},
   "outputs": [],
   "source": []
  },
  {
   "cell_type": "code",
   "execution_count": 69,
   "metadata": {
    "ExecuteTime": {
     "end_time": "2019-02-15T09:46:01.945576Z",
     "start_time": "2019-02-15T09:46:01.938592Z"
    }
   },
   "outputs": [
    {
     "name": "stdout",
     "output_type": "stream",
     "text": [
      "[248]\n"
     ]
    }
   ],
   "source": [
    "#test\n",
    "b='Kung Fu Panda 2 (2011)'\n",
    "print([k for k,v in index_movie_mapping.items() if v == b])\n",
    "#255  35\n",
    "#290 248"
   ]
  },
  {
   "cell_type": "code",
   "execution_count": 129,
   "metadata": {
    "ExecuteTime": {
     "end_time": "2019-03-04T08:52:13.493988Z",
     "start_time": "2019-03-04T08:51:55.098811Z"
    }
   },
   "outputs": [
    {
     "name": "stdout",
     "output_type": "stream",
     "text": [
      "\u001b[1m 1 --Enter Movie number you have seen and rate them from 1 to 5 \u001b[0m\n",
      "Enter Movie No.#-->4 \n",
      "Plese Rate it!-->5\n",
      "\n",
      "\u001b[1m 2 --Enter Movie number you have seen and rate them from 1 to 5 \u001b[0m\n",
      "Enter Movie No.#-->6\n",
      "Plese Rate it!-->5\n",
      "\n",
      "\u001b[1m 3 --Enter Movie number you have seen and rate them from 1 to 5 \u001b[0m\n",
      "Enter Movie No.#-->8\n",
      "Plese Rate it!-->3\n",
      "\n",
      "\u001b[1m 4 --Enter Movie number you have seen and rate them from 1 to 5 \u001b[0m\n",
      "Enter Movie No.#-->9\n",
      "Plese Rate it!-->5\n",
      "\n"
     ]
    }
   ],
   "source": [
    "m=[]\n",
    "like=[]\n",
    "for x in range(1,5):\n",
    "    \n",
    "    print(\"\\033[1m\",x,\"--Enter Movie number you have seen and rate them from 1 to 5\",\"\\033[0m\")\n",
    "    m.append(int(input(\"Enter Movie No.#-->\")))\n",
    "    like.append(int(input(\"Plese Rate it!-->\")))\n",
    "    print(\"\")"
   ]
  },
  {
   "cell_type": "code",
   "execution_count": 159,
   "metadata": {
    "ExecuteTime": {
     "end_time": "2019-03-04T09:01:49.125489Z",
     "start_time": "2019-03-04T09:01:49.121462Z"
    }
   },
   "outputs": [],
   "source": [
    "customentry=[0 for i in range(300)]\n",
    "###########\n",
    "#taking value from ui\n",
    "#m=[55,5,90,8]\n",
    "customentry[m[0]]=like[0]\n",
    "customentry[m[1]]=like[1]\n",
    "customentry[m[2]]=like[2]\n",
    "customentry[m[3]]=like[3]\n",
    "\n",
    "userid=70801\n",
    "customentry.insert(0,userid)"
   ]
  },
  {
   "cell_type": "code",
   "execution_count": null,
   "metadata": {},
   "outputs": [],
   "source": []
  },
  {
   "cell_type": "code",
   "execution_count": 160,
   "metadata": {
    "ExecuteTime": {
     "end_time": "2019-03-04T09:01:51.319003Z",
     "start_time": "2019-03-04T09:01:51.262155Z"
    }
   },
   "outputs": [
    {
     "data": {
      "text/plain": [
       "Top Five (2014)             5.0\n",
       "Jupiter Ascending (2015)    5.0\n",
       "Paparazzi (2004)            3.0\n",
       "EverAfter (1998)            5.0\n",
       "Name: 130, dtype: float64"
      ]
     },
     "execution_count": 160,
     "metadata": {},
     "output_type": "execute_result"
    }
   ],
   "source": [
    "userdat.loc[130] = customentry \n",
    "\n",
    "correlation_matrix = userdat.set_index(\"userid\", drop = True).corr()\n",
    "given_rating = userdat.loc[130].dropna()\n",
    "\n",
    "#130 is my user index and 70801 is userid\n",
    "\n",
    "delete_temp=given_rating[given_rating.values!=0]\n",
    "del delete_temp['userid']\n",
    "delete_temp"
   ]
  },
  {
   "cell_type": "code",
   "execution_count": 161,
   "metadata": {
    "ExecuteTime": {
     "end_time": "2019-03-04T09:01:53.338089Z",
     "start_time": "2019-03-04T09:01:53.333104Z"
    }
   },
   "outputs": [],
   "source": [
    "\n",
    "def itempred(userdat,customentry):\n",
    "    \n",
    "\n",
    "    person_similarity = pd.Series()\n",
    "    \n",
    "    for i in range(1, len(given_rating.index)):\n",
    "\n",
    "        \n",
    "        sims = correlation_matrix[given_rating.index[i]].dropna()\n",
    "        \n",
    "        sims = sims.map(lambda x: x * given_rating[i])\n",
    "        person_similarity = person_similarity.append(sims)\n",
    "        \n",
    "\n",
    "    person_similarity = person_similarity.groupby(person_similarity.index).sum()\n",
    "    #print(person_similarity)\n",
    "\n",
    "    \n",
    "    person_similarity.sort_values(inplace = True, ascending = False)\n",
    "\n",
    "\n",
    "    print('\\033[1m'+\"Top 4 recommendations:\"+'\\033[0m')\n",
    "    \n",
    "    final_result = person_similarity.drop(delete_temp.index, errors='ignore')\n",
    "    #print(list(final_result)[0:4])\n",
    "    return list(final_result.index)[0:4]"
   ]
  },
  {
   "cell_type": "code",
   "execution_count": 163,
   "metadata": {
    "ExecuteTime": {
     "end_time": "2019-03-04T09:02:12.149930Z",
     "start_time": "2019-03-04T09:02:10.927201Z"
    }
   },
   "outputs": [
    {
     "name": "stdout",
     "output_type": "stream",
     "text": [
      "\u001b[1mTop 4 recommendations:\u001b[0m\n",
      "Ashby (2015) ['Comedy', 'Drama', 'Romance']\n"
     ]
    },
    {
     "data": {
      "image/jpeg": "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\n",
      "text/plain": [
       "<IPython.core.display.Image object>"
      ]
     },
     "metadata": {
      "image/jpeg": {
       "height": 100,
       "width": 100
      }
     },
     "output_type": "display_data"
    },
    {
     "name": "stdout",
     "output_type": "stream",
     "text": [
      "About Last Night (2014) ['Comedy', 'Romance']\n"
     ]
    },
    {
     "data": {
      "image/jpeg": "/9j/4AAQSkZJRgABAQAAAQABAAD/2wBDABALDA4MChAODQ4SERATGCgaGBYWGDEjJR0oOjM9PDkzODdASFxOQERXRTc4UG1RV19iZ2hnPk1xeXBkeFxlZ2P/2wBDARESEhgVGC8aGi9jQjhCY2NjY2NjY2NjY2NjY2NjY2NjY2NjY2NjY2NjY2NjY2NjY2NjY2NjY2NjY2NjY2NjY2P/wAARCAEMALYDASIAAhEBAxEB/8QAHwAAAQUBAQEBAQEAAAAAAAAAAAECAwQFBgcICQoL/8QAtRAAAgEDAwIEAwUFBAQAAAF9AQIDAAQRBRIhMUEGE1FhByJxFDKBkaEII0KxwRVS0fAkM2JyggkKFhcYGRolJicoKSo0NTY3ODk6Q0RFRkdISUpTVFVWV1hZWmNkZWZnaGlqc3R1dnd4eXqDhIWGh4iJipKTlJWWl5iZmqKjpKWmp6ipqrKztLW2t7i5usLDxMXGx8jJytLT1NXW19jZ2uHi4+Tl5ufo6erx8vP09fb3+Pn6/8QAHwEAAwEBAQEBAQEBAQAAAAAAAAECAwQFBgcICQoL/8QAtREAAgECBAQDBAcFBAQAAQJ3AAECAxEEBSExBhJBUQdhcRMiMoEIFEKRobHBCSMzUvAVYnLRChYkNOEl8RcYGRomJygpKjU2Nzg5OkNERUZHSElKU1RVVldYWVpjZGVmZ2hpanN0dXZ3eHl6goOEhYaHiImKkpOUlZaXmJmaoqOkpaanqKmqsrO0tba3uLm6wsPExcbHyMnK0tPU1dbX2Nna4uPk5ebn6Onq8vP09fb3+Pn6/9oADAMBAAIRAxEAPwDOZm3t8x6+tJub+8350N99vqaERpG2RqWbBOB7c17J4gbm/vH86Nzf3j+dSyWdxEu548ADOAwJ67emc9eKWaxurcAzQlQV3ZyMYyB/Mj86XNHuNRk9EiHc394/nRub+8fzo2nGaCpGaXNHuUqVRq/K/uDc394/nRub+8fzp8dtPMqNFEzK8nlKR3b0p5sbpc7oSCM5BIzj1x6e9O6JsyHc394/nRub+8fzqRbS4fBWI4JAB6DJG4c/TmmPE8blHGGAz1zxRdAoyeyE3N/eP50bm/vH86NppY4nlk2RjLYJ5IHA68mi8e43CaV2mJub+8350bm/vH86maxulco0W1gMkMwGPrzxTXtLhEV3hYK4LKfUDH+IouhWl2I9zf3j+dG5v7x/OlkikikaORSrqcMp7Gm4NF49x8k7Xsxdzf3j+dG5v7x/OkPHWpzY3ahswnKgkrkZAHfHXHvRdCs9iHc394/nRub+8fzpXidHZHXDKcEehpNppc8e5fsatr8r+5hub+8fzo3N/eP50bSaSmmnsTKE46yTRLAzeYfmPT1opsH+sP0oqJbjjsNb77fU1NYO8d7G0TbHGcN6cGoW++31NS2f/H3H+P8AKrexMfiRrL5oMTI6J5W7aApK8kk8E46n+VV7y4eOyMYkV4xGsRXbyApyD161JKdgJU1h6ncbY3kzggVzO1tTvirNWKc+tCJ9kcQf1JOKiOusf+Xdf++qyGJZix6k5Na/hjS21bVUiIPkp80h9BXG6ji+ZHarzXJJ6Fy28Ty2sGyOFOpbk55OP6DH4mnnxVNNcidrOHzxwkoZhj9cVTtNN/tzWbkWS+Ta+YzA4wEXPAqreRxpeTQ2SiWPdtUpk5I4JHfGc0e2k3uR9XglsdLY+IbmacJLHEOAD3LHAG7PXOAB1rU/s+HUGEhn2NtwSATuxwM5NcJHMyoMf62Prng11WgX3mRgseg6elb0586t1MpQ9nJSiW7PSUulcvOUKuVA25yAcZ61ZttIFvcCRbkb+VG6MEHPtmnaW5a0Z2OA0jkfnWgEWRcZ57fWq+G9gnJ1Lc7vYjfTmlIaSYOOPlZWIyOAeW9CfzprW0qsGaeMgKAF8rgYOQQM9f0xVmKfcpVuHTqPWs3V7vyoGIOMc5pLmbsQ4xWpn6x9ktojc3N4XuCAqokYHmEfQ4HGKwV1GSTAW3zn3qCWUSP9ol+Zm+6D/CKu2LI0gbaT7etc1Sq7+6d1GL5eVvTsPhuESTffW7rF6gEgn36fpXQRSed/xMo5k81yP3gU/MAQQMZx2A9eKisZI7oGBoSy9GKrkD61VMX9nTzWitmP78f49a0o1pSajIxr4eMbzj8y1DoyS7ybo5H+znOfxqQaEpOPtJ/74/8Ar0/SJN9wyE8bc5rSThiT3rWSVyI1qiSSk9DNPh1cN/pTcD+5/wDXrngciu76qf8Adrg16VtQ6nJi5OVm2Swf6w/SiiD/AFh+lFay3OWOw1vvt9TUln/x9x/j/Ko2++31NSWn/H0n4/yqnsKPxIuTuRkVga2/+jkepxW/cYI5rndcGU+XoDXLP4WejD4jEUFmCqCSTgAd67mysp9L0P7HaqTf6iNhP9xe5/Kuc8OwZu/tLLlYumfX/P8AOvRNKVby2kuoyftLAoSRkR+nHpXmTbvZHoQilHmZzt+ItL05dDsP9dLzcyjqF9Pqav6NpdlBb7oogJCMbjyax9R0250O7EtxMtyszFjcYwu70PoavWerzwzRQmO2dZAGDJuzgnAI7VLNVboZPi2w+x3EN7Gm0SZR8D+L/wDV/Kk0QbYXIzg1P4zEjCOSTDBn2/eyY8e3bP8ASprG2NvaktwQP0//AFV2YVdTjxT1sa2mkJaLGMFxk4PfntWmGG37pU+hrKtm4QAbcDpWsCCnIrokc0SCf94Mo22ZRkH1rntfmc2bfKVPQ+1dBeIGiypw68iuc1iTfas7HJA6e9OOwnuYB+ZYwJAmQAM461c0wNJePYzkiQAhNvdvQ1mxMGiAfqpxVmxnjhuQ4QsfXPTFedNbo9Gm9mdL4ZlubS6mS/QQBeEJHA9eKuaukd0y3EAZG24UH+LJqCFp7zybiTZ5mMSICefQ881pamd1skiRqXVeFI4z2qIN30NJpW1KeiPtuPJYfMVIGeua2JHC3AX2rnYbkRatBOSMHIJ/CtWBvMkkuZWxEDx716klrc8qL0NRWBVselcIvSuxhuRNuCdx0FccvStKCtcwxLvYmg/1h+lFEH+sP0orSW5zx2GN99vqadAds6mmt99vqaaW2jd6VT2FH4kXJnBFZV/GJo2jTlm4Ue9LcX8cKfM3J7Va0m1kuHE8q7c/dHoK4qtRRierRpOUh9raC2tY4E6jlj6mtSxlntZvMibaMYdSOoplyYbKNpJpBGq8knrXO6hrbXULQ2qGKBuGY/eYf0rzUmz020tDoUvtP1S5uLVIwlnIQCqnAYg53CrOuyxWCWzRs81xKdglfkgAcZP+e9cXayeVIhRsDNdRBqkpdIv3eD/FK2BSatoEdSr4jvIJNEiTO6a4cZ46YPJz3H+NNjuG/s2K3PLlVjVvVen6dPyrN8S3bXWskGSOQQrtyn3c96fptzvKwSIdiHep646jj2rtwyUVbucOJ95+h0lsQZBuOcCtYFSlYVrIY2zgMvqK2UlQrxXTJHLFla6kZO+RXOanMkhKgcZyfetfVbiPLBWw47HvXLXUwBPOTRshpXZnSDY5A71JZOBcBnOAD6VXlbc5NN3FelccknsdUZWOy02WOZJXa5uFOMnONo+gq/NdtNYjb8zmPdkenrXKWWpXU1qunpjYWyc8frXVQIiacY0O44wzVh8LOpPnRjwMs00SFtqxZ3n0ArQur8y4jiwIxwq1nnTZFVljb5WOTnvUCWc9uDiRSB1JOK7liKb6nDLDTXQ6KG6FtZ/uzl34LelYg6VXlvnUBPLbHqBkVZPFdVKUZXscGJi42uPg/wBYfpRRB/rD9KKuW5hHYa332+pqrqLFNPlYHBGP5irTffb6mkFqL5hbMSFc8ke3P9KKjtBvyHSV6kV5ozND0pr+cTT/AOoQ9/4jXZwlIoy+AqoODVgTWKQx2giVUWLaNqHJYAAdPcGuc1e7ZUNmWOW6jBK4z7V4cnzM+mpQVuxzmsX7X99I4YmMH5ff3qK2QzLtHBFasukRiM7YWHQg85A6nP4ZxVASk3i+RCVGAqrt6n/9ea0TVrIzlDkfNJrUnhsLgkAMufer4u77SFO+K3c4+VmOaoLfy+ZujO1eM8ZA/GoZmN1NjcXY9gc5qLN7g3b4Sm0ryGRnOWdtzH3p7TTIkewugQcHp3zWtZWsCt58gWVYjhokIyfWtq7srd5I4mgfZcqCI1Yb0B7/AIVTqWYo0XJGNpOrFpFilba5PB7N/hXQNqaQQF5Og7d81gXGiG00W7aUDz4LnYrj+IDg4/nVG5vmmt4I3/1ij5mPf0rqhXvF36HHKjZo0Lq6k1CXk4x0206LTgF+ccnpVW1PluMfWtpZiYw+w7Om7HH51xVKkpPVndTpwitEULO3tGmnsbqDfJLEzRSA8xkAkfyrGjtWMhBBwD6VsG01BNVF5NazQxZCq7IcAe57VUe+i+0hFBYbsHHahNrYUoxerLsFgjWTyxjbLGMjHetiwuYYdIhlmcLvzkE1Vl+zwIz2UzmIxgsG6hu6/wCfWqd5LENNtrby1Mhcuzkcrj+EH8f5VF7mtrLQuT3xYbLblT/GRVO6iItwd5Y5yeaYku1Rj8qv20f2hMYPp0pBe5BpwDjoOPWkqe5QaZLFu4V81DXp4D7Xy/U8nMvsfP8AQfB/rD9KKIP9YfpRXbLc82Ow1vvt9TUlo2y5Rs4xn+VRt99vqadAu6ZVxnPaip/Dl6DpO1SL80bQ1gRRmV0YhE2kLKR0x93+7059cmqVnrt899Dd3MI+yswYxo5wvyquNvbldw9zVHUIZYlE0alQvUVTzPKBO0mEP93gV43ux3uezKrJvZHYJqoMaLjCL3835z06t36fkcVBPetI+59hQdI9/wAvRAOPbZkfU1z8ZWE/MwZTjJfpUoNvuCREuxPfv/8AWqOaN9Lh7V/yot3uorPFPavBlZ+HYNyeACTxyflGOmKg0nSbS3AY7S3qxrNu7tIQUhJdgfmYc/gKhGolVzdbVPZV/l/9eteRNatlKpJbRRsXFsLuC5t3MEc9u4likVcFx3BPfj+VOvDHNp9hfRSYuLbCOvdlJ/of50zT9ZsGZFubdPNbrlBtHoK2mh0jUw1swW3c8pJAdrDIp+yj3G68+yINZjFxYSPB9nCuo8x2kJYeoVcY5PvWIljpVki3N/G9xngRq3J+gHStCDSJ9NvgL0CdUyVGeJB61TY2yyteXjNDbhvliBILfh6Cs1y35dSfbSf2UYhL7iyI209AR0FWmvZvscdvAXkh3bnjdSpB9jUk2tJc3B8qJIoRySg6D8fxFUpNVkaWQRkKrDqf4T7VpyQ7sftai6I0o77UHZZrW+maYDaYZuOB2B6VYh1O2vneLVbQJPnAmVNrfnWCNSmcKJJBw2TgkcfhzXQaHq1o0qJcW5kiLbCzxg8noc0ezh3Ye2qdkTz6XbGz2294GEg4yBkfXmsq5tmj01hLkyxSAKR3B6/yFamo2xW6aFQEBOVKjGR26U5IJLUbpBG6j7wZRms5KMN7k/WJPojHtdwxhD9TXRaaFVl3OoH1qi6xPdPLbqTGRzGf4fcVSmhd2PlOcj06Go5oX1uUq80tkW/F0bNPZ+WQ6bmJ2nODxUB61BDCxADPJkHn5jU9elgnF83L5fqedjZubjdf1oSQf6w/SiiD/WH6UV1y3OSOwxvvt9TVnSkMupwoOpz/ACNVm++31NWdKuYrLUobmfd5Ued20ZPQj+tOfwP0CHxr1Ni909zE6juMVyL2l3aytE3Kn5cEdq7GTxVZzOI4LKeR24GQAKxbrWrhpXVdPRSpx8zZ/pXkT5ZK9z1UpbGbfI7WiJtJbqR7VCqvGoLPhiu1fYVoPLNMQ0iopxngdBWbdK7vKynKoMk9MCs6a1KS1K8+Rt8pScsVGO3qfrVVxEkyb/mjB5IPX1q3BeG3MkkY3LGdoz09M/59qq74ZXO75WZvvdgK2LGwp5k4SNiS2WUkdcDj+tavh/zEv45/vOMhFJ6E+v4VkqGtLqNyM7GHHrXQ2MKwrLcoC0bEuG5PB5qJy5UVCPM7HoCGLUEid1xLAeh9D1H+fSsHVPD41XX4numIso1JdFOCT2H41paBNcTRP50ewKqkHaRvyMgj1FaF5G32WWSEhZtvykruwexxSXw3CVlOxzepaXYraNDFaiNW7qMY9K42+0OaGaNLcNL5nH411mktqt9eFZ55AiFt4YZ3Ad/QZJxj2NaRKediNVwP4sVldp3R1OKkrM5q08PWwhSxniDXMylhNk5U8/l0/Gud052hvgssbtztdV+9ivQ1jlinM4AOSEJ745P8/wCdcz4l0uWz8QwXVrFuS4IKqP7w6j8f61cG+pnVirKxqX2GgtZwSDgoARg4B4PPPeqc0sjA/MSWPPvVnxDI9ilnvG5TGMsTzuPP8qqaNMNR1FYlQ7UG5j6VumtmcT3NKWD7LpTSIAGwFLA881Xs4wtt5s64RRhR3Y1q6jAZrqz06Po2ZZT6DtWfqlz5l6be1h3QW42qR/Ee5qJRp7yDVkMZO0nbyazxVr7WyjmEgfWqtduE5PecTixSa5bksH+sP0oog/1h+lFdMtznjsMb77fU1JabftSbsbec5+lRt99vqaY7vGheP7w6UVP4cvRjp/xF6nUjTYSqGGXErJvA28dFOP8Ax6sKKYeZIWBY7qkd7CRI2a+aImNFZkkxscqoI245HLEnPbFR6rHp8NuJrC7dp8j5XYfMOQeOx6H8TXj82h7UOVP3lcdM4aJgiHLeprAnCQXHlPIzA/NKevbgfrVxpXjiVSx3uMsSeaoTyQxu+xixY5HuR1NVG/UpuFvdjb5jXuLZbCW2MRSUuTnrn0rOICsAehHWtG6sTDG0kvLsiuAORzyKpoyiExy8q2SpHVTVGZd0Ui6vRbTqsiupA3dj2NbHhu6ntJpA6syGXCrj354+oNZGnGK2mjuAwDxtznOGFdTLeW1jqCzbwY7uLzFdefLPdh7dz+NTJXRcHaR09ncve3JlthD9iRQgZG6nHI4HY471oKcGszQlgitHjhUBwcyH1bmr27miOxNSzloYVzrLN9qSaCawtlHDzDa0jH0HfvWas0kErxt95Tg102oWzTKbiEKZwuzLdFXuRXFX2oR+fL5b+Y5OAQOWPTpWFRWZ1UpJrQ1Bq2/EPU9yO1dFaGC5hjZlVnQgjPY1wtksiFhMhST+JWGCD7itK0vpbWTnJX2pRk07FSjdXIvHitb+XC0ZCSSmSOQcjG3kfhVjwjZGz0trmUfNO2V4/hFb2mz3W3deOMyDIjPRR6VaNtHJDttiibRhEH3fp7V2JW1Z58o9jMkkEQeRuLq4XCDui+tYzxNauMdCDjmo3XUHv5hcRutyGwVJzge3tU0NrcXc0ofKrH8ufU1hUhKctNghJR1ZmXBYkcYGaZU93DcwPiWEqc8HsagrtwMeVSv5HHjHfl+ZJB/rD9KKSD/WH6UV2S3OWOw1vvt9TUU5xAxqVvvt9TTH3bTsIDdiaKn8OXox0/4kfUpW6eezKcjjIOKtyW4aWN2BAUY6UsSXLt/ricdQvFNmDhyDuJRdxya8dLQ9d7kNyxlndBjYRtqhNEglMcQ3yMBgj9f60PcSSOy5xjr7imRTPaCTKjfIpBLDsf8A9VWi7BcmVYy5cmN/kX/aI6n6U6+0yWC2juUBljkG9nXBC57VZitPP0yB59+A3ylBkheeMepOfyrX06xxE7CEpF/CjHkD3HvzWkYORDaRzWn4kmEbEhSME9eK6uCxgnsI4XziIeWZD1CZyQPqOK5jUrdLW8YwtsYfNs6Y+n+Fbnh69uL7zrQhTCE3bmHK9iKlqzsx30uddo0mZpwBjcM1p55rD0MeVdeUCSAm3J9q26HuRHYlRsVBa6XptnOZ7ayiSUnO/GSPpnp+FPBpZrhbaBpnGQMAL/eYnAH50rXK1Wxm+IbO3mkSUYS5KFmbttGBk/mB/wDqrLtoks0F1cDexYLCh7senH6n0FXkt5p7yae5bLSMNo7BV6D8CWP41j316r6tK4/1WnxDYD0Mj8A/l/OqhTXNzFucuXlJr/VSLtLZSd4y8jY+6B2qxpuqSmZhuA+QYVhhc5xnI5GciuT+0F7mSUH7zYX1wOlaFlNmRgRgFCCMc1tZGZ2SSw6o+4oYb6AYaMnJZfY9xmq9pD5Ub8nLOTWYty8Za4Rv30cLSAjuVUnP6YIrZnuobeASKjBXUSINvHzDOM1HLZmc9rmffn7Xfw2SHd5Y3OK5oV0OkzttndgBLMTmTGQBXOr0rowy+JnHiXsiaD/WH6UUkH+sP0oreW5hHYa332+pqawgS6vY4JCwRs5K9eATULffb6mmSSSQxtJCxWRehHWnP4HfsOmm6kUt7m4mmQRNuT7QcerD/CqV9GiS5EBJcH5mb9DTI7TVp7OGeG7VjMpZYzJhiBjPX2OfwrPWeecBjJlMZJY15snBrc9qGGrOXR/P/gFDy4/MAGcl+fp1NUb6QTXDNHyp6AVuYYQu7Im9e+B0qDDo2PLhGRnAQetT7nc1eHrdvx/4BqWCybYYo1JjjjCNtGdzd8e3vWmHCsY2JD4xtCk4+p6VjpJiy828lKwj5Qv94+gFV4bi8u22WNsRGPuhiT/9YVt7WmkYyw9Rb2+//gFfXFnvb1IIo2YxqcALyc1s6HP9rtIyqpGNuyTyxjcwGcn34/Gqc9vqMOWuIB05ZSD/APXp0pe2tIzbHy88kLwOfao54SfMmWsPVa2X3/8AAOi8PmJ9TdAhDqpwSa6Qwt6V5YNQu0l3RSmNh1YdakGs6oXI+3TkAE/fPpUtxfUj2FWK1S+//gHpwhbPSqep2zyXNmSwEURZyv8AefGF/AAsfriuE06XxDqQ3wag4iP8bOR+laY07V948/WHY+ozUOpTi9X+A40ar1t+Ju3dxHGmwNy3GQOlcObkSvqBB5e6DAf7K5I/kKbq8+radcmOecuuco5Gc+9VtOlury6WFY4wzjdkoBkdzW0Zwa0ZDhU5uVr8SWGPZbtJ2H86s2e8jPOccVRuby5ilkgIjwjYI28U06hciIMCgP8Auiq54B7OpqrL7/8AgHXaccuZJ13xpG2QBjPGP6gV00oE9rbjb8pG3A6YrzyC8uZLVGaZsuPmGevNTRX16Qw+1S4T7uHPFJyje9zR4WrKNrL7/wDgHcSTLanyliAXb2rhV6U9ru7Y5a4kYn1Y0ldNBp3sebjKE6XLz9bj4P8AWH6UUsH+sP0orWW5yx2GN99vqaiuDiBj9Klb77fU1FcZ8hscGip8D9C6H8aHqvzNCKC9htbK4iv/AC/nRI2eMeWm/PRj127eeODSjQHWKPF20SyjP7+HZ5Yyf9Zydue3XJqrYXWixrDLKsq3Y/1mNxVT0yPcbQfq/tV6D+xtUZ7q6kXy03CbzZX3BRu2bOcknC5zxzxzxXkn0rm4vR/gNj0XZBM8txKyiN32GIB4yFJHmcnaCRx1yPSufUvK2/P1NbMJ0WSKTMKQuFUqGMhQnJ3bsZOAAuMdz+TdSbSfJkbTPkCMNmd+ZFI569MH6UGkZSbtK5kurT3qxOSUQAKPrya6ezIt0UbThRyFGa5+1t5JTFcdGYjr3GfWtyGBL6FB57QuAc4bbXPUepG7bJLq5t7yJpUlZAgIbeuD+VYjktYHhl2N8pYYOO1abnTEgaGacJv53sDknsR7fWqMoT+ziUm82NzuBxg59eeaKTs/UuO6Kdn5bPtkAJxmojGwnLxKcjkZNOWApkg4JGQajUE7m5yO1dBTWlmbWl38VjYx7kZbZXKlx0Uk5579xz9Ktahd3iTL9nVBGV37mXqPYk/pWZoRQidJY94Yb05wCR1H+fStO48UWpVUtbaecJw0iplRj+dcs4+/ojNPlVie6sl1KwRLoEDIbj+VUbiKODW7NQEDCNwka9l6D+RrQt9TW+jSRSVTPOVKnP41zX2W81XxNLJY/IIHAMp4VMcf06UqekrvoFSVkutzNvARe3AYbTvPHpTXXFuMnqa6fUvC812z3ENyrXTclCm1WPsc8VgX9vJabYJ4ykgHKsOldMakZ/CzNxavcs2xzZxflU0Q/wBZ+FQWpzZRkdiasRH5n/CtDpj8KH4p5phPFPNdmF6njZt9j5/oPg/1h+lFEH+sP0orolueTHYa332+pqC8/wCPSTnHT+dTt99vqar3wzZSAe386KnwP0Ko/wAWPqvzMxZ9oG1AG7n1p0jB3C7Qo9agbg4APsfSnIcrtIye1eUfTuT2L9sS3mKecDg1CmVU7vu1NYr87L3xSTleFU5HfPrR0NVtct2EztbtbhgqY3c9uasRvGY2RX+cKeM9aZpdm4t5Z7i2aSEkKwU4dB/eHp+PFXF8NpdIZdJ1NZZh8y28y7G+mc//AFqxmrsiomlzW0LUU9isIbUpASRxjAUDsOQf6VkNEhN2YpN8P/LM4wFB5x+WPSo4bjWo7n+yf7OWS56KkkY3AeuT296kt9wsphIR5jE7gvQHpxRTg09RU2pPToVERpBtzwKaVKsxQ89KkU7TtHSmg5dvWtTdobbSGHdHJkIwxWpbanb2FoIAYIUIyQ/LD8AOtZM3J55zWVcThpCI0VV9NopSipI56tT2drHRf2kb6cR2ituY7Y8jG49s+3eup06yjsLNbWL7q8u5/iPdjVTw7pf9naAJ5yDJclXRQuSox6++ap+KtRaG2j06Jtst1985xhM4x+P9DXm1k5TVOIlUvHmZla74lN1I9vYySRwKcB0O0ye5PXHtWNBKZlME7lmP+qZm6Nnp+NV3im3TMYj+7OZCq/KmTjtwOaYoLqxABCjJ5xxnH9a74QUFZHM5tu7Ny0BW1Mbffjchl7ipUPzt9Kw7W4aG6V2YkNw2T1Fbi8SMPatlqdlKfNH0HE1Mark1YPWu3DdTys2+x8/0JIP9YfpRSQf6w/Sit5bnkx2Gt99vqagvBm0kAOOn86nb77fU0x4hOhiLbQ3eifwP0Lofxo+q/MyNrELk8jpTjHu5xg1eOmgHmYf99AU4WUOfmnX/AL6ryrM+p5bkFj8svXIxWpp9hDE3mS4ZycjPQVDo1vHLet5f3EOBnnPvW3Mi7CMg/h0rCpUtoiokludkoaNikg+6wOKqapMYNkkMUUN2rblmAwpx6r0z7iprKXCtG4yoPGag1IJcWu+JFmaJwQpPAOe4rBSdyubldzIXWLlGPm3cryPnc6Z74zz+A4HpT0liCFMDLL98HIz6VZ1m0W41PzYlChgpIUcE7QCR7ZqhJbSIGUKeexreMle5n7SXYao2yYJ603KRz4f7vc0rL0bPOAcVHncTnqK2Nr3QXzrFbyOucYwhrHsYjNfQRhQxaRRhuh571q6kUNnm3BJGN+ewqDwxEZtftF9HDn/gPP8ASh6I4cRrUSPS7uVHhifeohRN+5RgYxz/ACrz575b+9e9kVsySthdwAChcKOOeh9hXQ+I71o9D8reQ1yGC89EHJ/oPxrg2ZlULgpxg4yN3Oef0/IVyUI80pVH1JqPlSiT38h84xpKWXHzAAgZ6ke/NQQSNFOjo21gepp0r+aiP5eCo2s+Sd59Tn24/Coa6lsc73LF3HFFIFifeCoYkDAGewzyR9a17VzJDEx6lMH8Ky8pJYDcxZ4uFAwMAn3PP4D+LrxirekyZjaM9VOR9DVQ3OmhK0rdy6TzVo9aqMatnrXdhupw5t9j5/oPg/1h+lFLB/rD9KK3lueVHYY332+pqOZDJEyKcE96kb77fU0lU1dWYoycZKS3RS+xy9d65pRZuB99cmrlJWP1amdv9o1+6+4fprCzOZOcf3RVt75CpCq3PrVDcKs/ZG/sv+0N42eb5W3vnGc1lLBUOv5jjmGI6W+4nF7GIVGH3k/NgDge1OF/DhtyNvPG8AfMPcVnA5pM0fUaPb8Sf7Qr9/wNODWbi3jQRBfkOACM5X69qj1LUpNQK7xjb0OOao5HHvQTt60/qVHz+8P7Qr+X3DblPPuTIAEUgAgeuOf1qJrY5+UjHvWhfWbWLQq7h/OiWUY7A9v0oms2h0+3vC4KTlgFHUYOKpUKWhp/aGJWmmnkZgtJFO5XAPermjrDp141zIgLFSo8sdOlM3CjNN4Wm1YzeYV3vb7iPWo5tRkg8lwkcUIjwx6nqT/L8qqppgZmMhSP9zsGBvywAAPOMZxnPbsK2Es2fTJL4OoSOQRle5J71WJx1qY4WilZESxdbdmYdKIszEpBlLhtxbgDBBGMZPPvUH9i3H/PSL8z/hW0CCwHrU15CtrctCs8c6rj95GcqeKr6tT2J+s1bXMW10qaJ2EkqCN1Kttycj6cd8H8KfbabLb3LOrr5fIHPOO2a0C4FWtSs2065EEjq5KB8r70fV6aZUcVWXvLoZxt5D/EtWTVi1s2urW6uFdVW2UMwPVs+n5VWHNawhGN1EmvXqVrOp8iWD/WH6UUkH+sP0ooluYx2Gt99vqabTm++31NNqyAq/odnHfatFDPzEMsy/3sDpVCpbW4ltLmO4gYCSM5Geh9qUk2mkVBpSTZqp4jmmuljlt4GsWYKLcRj5RnjHvWtqd0NPtL2VII3cXoEe5chG8tfmx+f51jjV9OScXcWlKt3ndkyEoG9cVI/iKKVbiOawEsVxL5jq0nQbQMA465XOa5nTbatHQ6lUSTvIdbXL+ILS6t75UNxBEZYrgKARjsfal1HU5dEuv7P01I4ooAu8soJlJAOT+dUrjU4FspLTTbU2sc3+tdnLMw9PYVJ/a1ldIh1SwNxcRrtEqSFd4H96q5He9tOwudWtza9zTNvB9iu76GJYxdWJkaMDhW7ke1Zeit5elapKoUvGsbKSM4IY0i67N/aLXMkMbQNF5Btxwoj9BTpNWs0sLmysbAwxzgZcyFmzn37UKMkrNb2Bzg3e+1ybxRdyzCxjfbta3SU4XB3HOfw9qt6daw3Oj6e9wvmRWyzTGP+/g8D9aw9RvRftbkR+X5MKxdc5x3/Wp4NZltbeyjt0Cvas5LE5EgY8gim6cuRJf1uSqkedt/1sW7DxBcXepW8N1DBJbySqqxhB+7OeCPpV6GfbPd2+nS28d6LtzLFMMeeuTgA/0rNi1fTra4F1a6SEn3ZO6UlV9do/ziga5bSyiW7sPMkhmaWAq+3bk5wfXBqZQb2iXGolvIsi9uI/Dd6hiSEpcGLy9o+QHqP161V8NskaajK8SSiO2LbHGQcc4qtLqjTWNzBLGDJcT+cXBwB7YqOwvhZRXaGPf9piMWc42571fI+Vq25n7Rcyd9jSgvZNa069S+SNpLdBLFIq4K89PpV7UhFp09/qiQpJMJUhhDL8sZ2KS2Pxrn7C9FlFdRmPf9oj2Zzjb71rWl9Nql9fvHBFLDMimSzkkwz4GMqcdRj+VRODi79P8Ahi4TUlbr/wAOLpuqSanFfR3sUUkyWrskwQBgMcj+VSaxrM2nXsEVvFFtMSGUsuTJx0J9MU+Ix2Gl30n9nGwheJowZnLSSORgADsP8+tYGp3v9o3Kz+X5W1FTbnPSiMFKV7aDnNwjvqdI0jaY2sw2gRYolSWNdoIBbr+HtXIj19a1rnXBcSX7/Zyv2yNUxvzs2/hzWSOBWlKLje/9aGNaala39akkH+sP0oog/wBYfpRVS3IjsNb77fU0iqWYKOp6Urffb6mk6HI61ZJL9lmPAUenUVOIYfkDRnJ64P51V86X/no350eZJ/fbj3pWY9Cx9lQYYq2M8jI6U94IQwHlEe2e1VPNlxjzGx9aVZHaRd0jAE4LZ6CizC6LAgQN80ZIZvl57f8A6qVoYVYgpjHYmopJAlw48x2QH5SD2pkrRvyC7N6tSswLDW8TYCIwyeoNJ9njVGyjE5wpJ7n/AOvUCyYUZkkDD06AUGX5MCSUnsD0zRZj0LBgjIISMlsjv2pXghUZ8o4PTmovNiESYkl805356D0x696iMrbh87lQeee1FmBZe3ixtCMG7mgQwHBWPIx/eqPz4s/8tsHtupkfzOFhyq4y43Yz60agTmCJY2Zo2wBnOaRYozKymB8DkAZzj6VHdFlc7WYRN0UtmmCRs7vMO71zUydlc0p0/aO10vUnNupVttvLkcfdPFJFFHwAr+ajc/wtUfnSD/lo350zcd+7d8397PNT7TyNvqrulzJFyVROySTGWXBxl3JPp6+tRrBGGZmX5c469DUHmNtxvOM560F2YFS5KnqCaamS8O9Ltf0rllLeJsDyieOxqj3OOlS+YwAw546c1FVQlcyq0/Z21T9CSD/WH6UUsH+sP0ooluRHYY332+pptOb77fU02rICiiigAooooAKKKKACiiigAooooAKKKKACiiigAooopgFFFFABRRRSAkg/1h+lFLB/rD9KKiW5cdj/2Q==\n",
      "text/plain": [
       "<IPython.core.display.Image object>"
      ]
     },
     "metadata": {
      "image/jpeg": {
       "height": 100,
       "width": 100
      }
     },
     "output_type": "display_data"
    },
    {
     "name": "stdout",
     "output_type": "stream",
     "text": [
      "Sex Drive (2008) ['Adventure', 'Comedy', 'Romance']\n"
     ]
    },
    {
     "data": {
      "image/jpeg": "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\n",
      "text/plain": [
       "<IPython.core.display.Image object>"
      ]
     },
     "metadata": {
      "image/jpeg": {
       "height": 100,
       "width": 100
      }
     },
     "output_type": "display_data"
    },
    {
     "name": "stdout",
     "output_type": "stream",
     "text": [
      "St Vincent (2014) ['Comedy', 'Drama']\n"
     ]
    },
    {
     "data": {
      "image/jpeg": "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\n",
      "text/plain": [
       "<IPython.core.display.Image object>"
      ]
     },
     "metadata": {
      "image/jpeg": {
       "height": 100,
       "width": 100
      }
     },
     "output_type": "display_data"
    }
   ],
   "source": [
    "myitem_mov=itempred(userdat,customentry)\n",
    "\n",
    "myitem_mov\n",
    "from IPython.display import Image\n",
    "for pred1 in myitem_mov:\n",
    "    print(pred1,mov[mov['movie']==pred1]['genres'].values[0])\n",
    "    \n",
    "    display(Image(filename = \"C:\\\\Users\\\\Jayant\\\\Desktop\\\\precog\\\\Posters\\\\\" + str(pred1.replace(\":\", \"\").replace(\"?\",\"\"))+\".jpg\", width=100, height=100))\n",
    "    "
   ]
  },
  {
   "cell_type": "code",
   "execution_count": 82,
   "metadata": {
    "ExecuteTime": {
     "end_time": "2019-02-11T17:34:19.506619Z",
     "start_time": "2019-02-11T17:34:19.502628Z"
    }
   },
   "outputs": [],
   "source": [
    "# import ipywidgets as widgets\n",
    "# import IPython.display as display\n",
    "# ## Read images from file (because this is binary, maybe you can find how to use ByteIO) but this is more easy\n",
    "# for pred1 in myitem_mov:\n",
    "#     print(pred1,mov[mov['movie']==pred1]['genres'].values[0])\n",
    "    \n",
    "    \n",
    "#     img1 = open(\"C:\\\\Users\\\\Jayant\\\\Desktop\\\\precog\\\\Posters\\\\\" + str(pred1)+ \".jpg\", 'rb').read()\n",
    "                \n",
    "#     img2 = open(\"C:\\\\Users\\\\Jayant\\\\Desktop\\\\precog\\\\Posters\\\\\" + str(pred1)+\".jpg\", 'rb').read()\n",
    "# ## Create image widgets. You can use layout of ipywidgets only with widgets.\n",
    "# ## Set image variable, image format and dimension.\n",
    "#     wi1 = widgets.Image(value=img1, format='png', width=100, height=20)\n",
    "#     wi2 = widgets.Image(value=img2, format='png', width=100, height=20)\n",
    "# ## Side by side thanks to HBox widgets\n",
    "#     sidebyside = widgets.HBox([wi1, wi2])\n",
    "# ## Finally, show.\n",
    "#     display.display(sidebyside)"
   ]
  },
  {
   "cell_type": "code",
   "execution_count": 924,
   "metadata": {
    "ExecuteTime": {
     "end_time": "2019-02-07T17:23:34.575106Z",
     "start_time": "2019-02-07T17:23:34.572107Z"
    }
   },
   "outputs": [],
   "source": [
    "################"
   ]
  },
  {
   "cell_type": "markdown",
   "metadata": {},
   "source": [
    "# matrix factorisation"
   ]
  },
  {
   "cell_type": "code",
   "execution_count": null,
   "metadata": {},
   "outputs": [],
   "source": []
  },
  {
   "cell_type": "code",
   "execution_count": 63,
   "metadata": {
    "ExecuteTime": {
     "end_time": "2019-03-02T17:33:58.065256Z",
     "start_time": "2019-03-02T17:33:58.026361Z"
    },
    "scrolled": true
   },
   "outputs": [
    {
     "data": {
      "text/html": [
       "<div>\n",
       "<style scoped>\n",
       "    .dataframe tbody tr th:only-of-type {\n",
       "        vertical-align: middle;\n",
       "    }\n",
       "\n",
       "    .dataframe tbody tr th {\n",
       "        vertical-align: top;\n",
       "    }\n",
       "\n",
       "    .dataframe thead th {\n",
       "        text-align: right;\n",
       "    }\n",
       "</style>\n",
       "<table border=\"1\" class=\"dataframe\">\n",
       "  <thead>\n",
       "    <tr style=\"text-align: right;\">\n",
       "      <th></th>\n",
       "      <th>userid</th>\n",
       "      <th>Moneyball (2011)</th>\n",
       "      <th>Open Water (2003)</th>\n",
       "      <th>Adaptation (2002)</th>\n",
       "      <th>The Cove (2009)</th>\n",
       "      <th>Top Five (2014)</th>\n",
       "      <th>Winter's Tale (2014)</th>\n",
       "      <th>Jupiter Ascending (2015)</th>\n",
       "      <th>La sindrome di Stendhal (1996)</th>\n",
       "      <th>Paparazzi (2004)</th>\n",
       "      <th>...</th>\n",
       "      <th>Lilo &amp; Stitch (2002)</th>\n",
       "      <th>Blockers (2018)</th>\n",
       "      <th>A Beautiful Mind (2001)</th>\n",
       "      <th>Simon Sez (1999)</th>\n",
       "      <th>Southland Tales (2006)</th>\n",
       "      <th>The Hitcher (2007)</th>\n",
       "      <th>War Room (2015)</th>\n",
       "      <th>La flor de mi secreto (1995)</th>\n",
       "      <th>Two for the Money (2005)</th>\n",
       "      <th>Liam (2000)</th>\n",
       "    </tr>\n",
       "  </thead>\n",
       "  <tbody>\n",
       "    <tr>\n",
       "      <th>125</th>\n",
       "      <td>325</td>\n",
       "      <td>0.0</td>\n",
       "      <td>0.0</td>\n",
       "      <td>0.0</td>\n",
       "      <td>0</td>\n",
       "      <td>0</td>\n",
       "      <td>0.0</td>\n",
       "      <td>0.0</td>\n",
       "      <td>0.0</td>\n",
       "      <td>0</td>\n",
       "      <td>...</td>\n",
       "      <td>4.0</td>\n",
       "      <td>0</td>\n",
       "      <td>0.0</td>\n",
       "      <td>0</td>\n",
       "      <td>0</td>\n",
       "      <td>0.0</td>\n",
       "      <td>0.0</td>\n",
       "      <td>0.0</td>\n",
       "      <td>0.0</td>\n",
       "      <td>0</td>\n",
       "    </tr>\n",
       "    <tr>\n",
       "      <th>126</th>\n",
       "      <td>326</td>\n",
       "      <td>1.0</td>\n",
       "      <td>0.0</td>\n",
       "      <td>0.0</td>\n",
       "      <td>4</td>\n",
       "      <td>0</td>\n",
       "      <td>0.0</td>\n",
       "      <td>0.0</td>\n",
       "      <td>0.0</td>\n",
       "      <td>0</td>\n",
       "      <td>...</td>\n",
       "      <td>0.0</td>\n",
       "      <td>0</td>\n",
       "      <td>4.5</td>\n",
       "      <td>0</td>\n",
       "      <td>0</td>\n",
       "      <td>0.0</td>\n",
       "      <td>0.0</td>\n",
       "      <td>0.0</td>\n",
       "      <td>0.0</td>\n",
       "      <td>0</td>\n",
       "    </tr>\n",
       "    <tr>\n",
       "      <th>127</th>\n",
       "      <td>372</td>\n",
       "      <td>0.0</td>\n",
       "      <td>0.0</td>\n",
       "      <td>0.0</td>\n",
       "      <td>0</td>\n",
       "      <td>0</td>\n",
       "      <td>0.0</td>\n",
       "      <td>0.0</td>\n",
       "      <td>0.0</td>\n",
       "      <td>0</td>\n",
       "      <td>...</td>\n",
       "      <td>0.0</td>\n",
       "      <td>0</td>\n",
       "      <td>0.0</td>\n",
       "      <td>0</td>\n",
       "      <td>0</td>\n",
       "      <td>0.0</td>\n",
       "      <td>0.0</td>\n",
       "      <td>0.0</td>\n",
       "      <td>0.0</td>\n",
       "      <td>0</td>\n",
       "    </tr>\n",
       "    <tr>\n",
       "      <th>128</th>\n",
       "      <td>419</td>\n",
       "      <td>0.0</td>\n",
       "      <td>4.5</td>\n",
       "      <td>0.0</td>\n",
       "      <td>4</td>\n",
       "      <td>0</td>\n",
       "      <td>0.0</td>\n",
       "      <td>0.0</td>\n",
       "      <td>0.0</td>\n",
       "      <td>0</td>\n",
       "      <td>...</td>\n",
       "      <td>0.0</td>\n",
       "      <td>0</td>\n",
       "      <td>3.5</td>\n",
       "      <td>0</td>\n",
       "      <td>0</td>\n",
       "      <td>0.0</td>\n",
       "      <td>0.0</td>\n",
       "      <td>0.0</td>\n",
       "      <td>0.0</td>\n",
       "      <td>0</td>\n",
       "    </tr>\n",
       "    <tr>\n",
       "      <th>129</th>\n",
       "      <td>420</td>\n",
       "      <td>0.0</td>\n",
       "      <td>0.0</td>\n",
       "      <td>4.0</td>\n",
       "      <td>0</td>\n",
       "      <td>0</td>\n",
       "      <td>0.0</td>\n",
       "      <td>0.0</td>\n",
       "      <td>0.0</td>\n",
       "      <td>0</td>\n",
       "      <td>...</td>\n",
       "      <td>0.0</td>\n",
       "      <td>0</td>\n",
       "      <td>0.0</td>\n",
       "      <td>0</td>\n",
       "      <td>0</td>\n",
       "      <td>0.0</td>\n",
       "      <td>0.0</td>\n",
       "      <td>0.0</td>\n",
       "      <td>0.0</td>\n",
       "      <td>0</td>\n",
       "    </tr>\n",
       "  </tbody>\n",
       "</table>\n",
       "<p>5 rows × 301 columns</p>\n",
       "</div>"
      ],
      "text/plain": [
       "     userid  Moneyball (2011)  Open Water (2003)  Adaptation (2002)  \\\n",
       "125     325               0.0                0.0                0.0   \n",
       "126     326               1.0                0.0                0.0   \n",
       "127     372               0.0                0.0                0.0   \n",
       "128     419               0.0                4.5                0.0   \n",
       "129     420               0.0                0.0                4.0   \n",
       "\n",
       "     The Cove (2009)  Top Five (2014)  Winter's Tale (2014)  \\\n",
       "125                0                0                   0.0   \n",
       "126                4                0                   0.0   \n",
       "127                0                0                   0.0   \n",
       "128                4                0                   0.0   \n",
       "129                0                0                   0.0   \n",
       "\n",
       "     Jupiter Ascending (2015)  La sindrome di Stendhal (1996)  \\\n",
       "125                       0.0                             0.0   \n",
       "126                       0.0                             0.0   \n",
       "127                       0.0                             0.0   \n",
       "128                       0.0                             0.0   \n",
       "129                       0.0                             0.0   \n",
       "\n",
       "     Paparazzi (2004)     ...       Lilo & Stitch (2002)  Blockers (2018)  \\\n",
       "125                 0     ...                        4.0                0   \n",
       "126                 0     ...                        0.0                0   \n",
       "127                 0     ...                        0.0                0   \n",
       "128                 0     ...                        0.0                0   \n",
       "129                 0     ...                        0.0                0   \n",
       "\n",
       "     A Beautiful Mind (2001)  Simon Sez (1999)  Southland Tales (2006)  \\\n",
       "125                      0.0                 0                       0   \n",
       "126                      4.5                 0                       0   \n",
       "127                      0.0                 0                       0   \n",
       "128                      3.5                 0                       0   \n",
       "129                      0.0                 0                       0   \n",
       "\n",
       "     The Hitcher (2007)  War Room (2015)  La flor de mi secreto (1995)  \\\n",
       "125                 0.0              0.0                           0.0   \n",
       "126                 0.0              0.0                           0.0   \n",
       "127                 0.0              0.0                           0.0   \n",
       "128                 0.0              0.0                           0.0   \n",
       "129                 0.0              0.0                           0.0   \n",
       "\n",
       "     Two for the Money (2005)  Liam (2000)  \n",
       "125                       0.0            0  \n",
       "126                       0.0            0  \n",
       "127                       0.0            0  \n",
       "128                       0.0            0  \n",
       "129                       0.0            0  \n",
       "\n",
       "[5 rows x 301 columns]"
      ]
     },
     "execution_count": 63,
     "metadata": {},
     "output_type": "execute_result"
    }
   ],
   "source": [
    "mov=pd.read_csv(\"C:\\\\Users\\\\Jayant\\\\Desktop\\\\precog\\\\precog_imdb300.csv\")\n",
    "userdat=pd.read_csv(\"C:\\\\Users\\\\Jayant\\\\Desktop\\\\precog\\\\itemitemuserdat.csv\")\n",
    "temp_name=list(userdat.columns)\n",
    "temp_name.remove('userid')\n",
    "\n",
    "\n",
    "index_movie_mapping=dict(enumerate(temp_name))\n",
    "customentry=[0 for i in range(300)]\n",
    "userdat.tail()\n"
   ]
  },
  {
   "cell_type": "code",
   "execution_count": null,
   "metadata": {},
   "outputs": [],
   "source": []
  },
  {
   "cell_type": "code",
   "execution_count": null,
   "metadata": {},
   "outputs": [],
   "source": [
    "count=0\n",
    "from IPython.display import Image\n",
    "for pred1 in index_movie_mapping.values():\n",
    "    print('\\033[1m',count,'\\033[0m',\"||\",pred1,mov[mov['movie']==pred1]['genres'].values[0])\n",
    "    count=count+1\n",
    "    display(Image(filename = \"C:\\\\Users\\\\Jayant\\\\Desktop\\\\precog\\\\Posters\\\\\" + str(pred1.replace(\":\", \"\").replace(\"?\",\"\"))+\".jpg\", width=100, height=100))"
   ]
  },
  {
   "cell_type": "code",
   "execution_count": 71,
   "metadata": {
    "ExecuteTime": {
     "end_time": "2019-03-02T14:36:27.019973Z",
     "start_time": "2019-03-02T14:36:08.663127Z"
    }
   },
   "outputs": [
    {
     "name": "stdout",
     "output_type": "stream",
     "text": [
      "\u001b[1m 1 --Enter Movie number you have seen and rate them from 1 to 5 \u001b[0m\n",
      "Enter Movie No.#-->16\n",
      "Plese Rate it!-->4\n",
      "\n",
      "\u001b[1m 2 --Enter Movie number you have seen and rate them from 1 to 5 \u001b[0m\n",
      "Enter Movie No.#-->19\n",
      "Plese Rate it!-->2\n",
      "\n",
      "\u001b[1m 3 --Enter Movie number you have seen and rate them from 1 to 5 \u001b[0m\n",
      "Enter Movie No.#-->55\n",
      "Plese Rate it!-->2\n",
      "\n",
      "\u001b[1m 4 --Enter Movie number you have seen and rate them from 1 to 5 \u001b[0m\n",
      "Enter Movie No.#-->100\n",
      "Plese Rate it!-->5\n",
      "\n"
     ]
    }
   ],
   "source": [
    "m=[]\n",
    "like=[]\n",
    "for x in range(1,5):\n",
    "    \n",
    "    print(\"\\033[1m\",x,\"--Enter Movie number you have seen and rate them from 1 to 5\",\"\\033[0m\")\n",
    "    m.append(int(input(\"Enter Movie No.#-->\")))\n",
    "    like.append(int(input(\"Plese Rate it!-->\")))\n",
    "    print(\"\")"
   ]
  },
  {
   "cell_type": "code",
   "execution_count": 76,
   "metadata": {
    "ExecuteTime": {
     "end_time": "2019-03-02T14:37:19.977896Z",
     "start_time": "2019-03-02T14:37:19.951916Z"
    }
   },
   "outputs": [],
   "source": [
    "\n",
    "###########\n",
    "#taking value from ui\n",
    "#debugging\n",
    "# m=[55,5,90,8]\n",
    "# customentry[m[0]]=5\n",
    "# customentry[m[1]]=3\n",
    "# customentry[m[2]]=3\n",
    "# customentry[m[3]]=1\n",
    "\n",
    "customentry[m[0]]=like[0]\n",
    "customentry[m[1]]=like[1]\n",
    "customentry[m[2]]=like[2]\n",
    "customentry[m[3]]=like[3]\n",
    "\n",
    "userid=70801\n",
    "customentry.insert(0,userid)\n",
    "userdat.loc[130] = customentry "
   ]
  },
  {
   "cell_type": "code",
   "execution_count": 77,
   "metadata": {
    "ExecuteTime": {
     "end_time": "2019-03-02T14:37:23.630716Z",
     "start_time": "2019-03-02T14:37:23.613766Z"
    }
   },
   "outputs": [
    {
     "data": {
      "text/plain": [
       "Jakob the Liar (1999)      4.0\n",
       "The Replacements (2000)    2.0\n",
       "Redbelt (2008)             2.0\n",
       "Fido (2006)                5.0\n",
       "Name: 130, dtype: float64"
      ]
     },
     "execution_count": 77,
     "metadata": {},
     "output_type": "execute_result"
    }
   ],
   "source": [
    "given_rating = userdat.loc[130].dropna()\n",
    "#130 is my user index and 70801 is userid\n",
    "delete_temp=given_rating[given_rating.values!=0]\n",
    "del delete_temp['userid']\n",
    "delete_temp# movies i have rated"
   ]
  },
  {
   "cell_type": "code",
   "execution_count": null,
   "metadata": {},
   "outputs": [],
   "source": []
  },
  {
   "cell_type": "code",
   "execution_count": 78,
   "metadata": {
    "ExecuteTime": {
     "end_time": "2019-03-02T14:37:28.373624Z",
     "start_time": "2019-03-02T14:37:28.346743Z"
    }
   },
   "outputs": [
    {
     "data": {
      "text/html": [
       "<div>\n",
       "<style scoped>\n",
       "    .dataframe tbody tr th:only-of-type {\n",
       "        vertical-align: middle;\n",
       "    }\n",
       "\n",
       "    .dataframe tbody tr th {\n",
       "        vertical-align: top;\n",
       "    }\n",
       "\n",
       "    .dataframe thead th {\n",
       "        text-align: right;\n",
       "    }\n",
       "</style>\n",
       "<table border=\"1\" class=\"dataframe\">\n",
       "  <thead>\n",
       "    <tr style=\"text-align: right;\">\n",
       "      <th></th>\n",
       "      <th>userid</th>\n",
       "      <th>Moneyball (2011)</th>\n",
       "      <th>Open Water (2003)</th>\n",
       "      <th>Adaptation. (2002)</th>\n",
       "      <th>The Cove (2009)</th>\n",
       "      <th>Top Five (2014)</th>\n",
       "      <th>Winter's Tale (2014)</th>\n",
       "      <th>Jupiter Ascending (2015)</th>\n",
       "      <th>La sindrome di Stendhal (1996)</th>\n",
       "      <th>Paparazzi (2004)</th>\n",
       "      <th>...</th>\n",
       "      <th>Lilo &amp; Stitch (2002)</th>\n",
       "      <th>Blockers (2018)</th>\n",
       "      <th>A Beautiful Mind (2001)</th>\n",
       "      <th>Simon Sez (1999)</th>\n",
       "      <th>Southland Tales (2006)</th>\n",
       "      <th>The Hitcher (2007)</th>\n",
       "      <th>War Room (2015)</th>\n",
       "      <th>La flor de mi secreto (1995)</th>\n",
       "      <th>Two for the Money (2005)</th>\n",
       "      <th>Liam (2000)</th>\n",
       "    </tr>\n",
       "  </thead>\n",
       "  <tbody>\n",
       "    <tr>\n",
       "      <th>130</th>\n",
       "      <td>70801</td>\n",
       "      <td>0.0</td>\n",
       "      <td>0.0</td>\n",
       "      <td>0.0</td>\n",
       "      <td>0</td>\n",
       "      <td>0</td>\n",
       "      <td>0.0</td>\n",
       "      <td>0.0</td>\n",
       "      <td>0.0</td>\n",
       "      <td>0</td>\n",
       "      <td>...</td>\n",
       "      <td>0.0</td>\n",
       "      <td>0</td>\n",
       "      <td>0.0</td>\n",
       "      <td>0</td>\n",
       "      <td>0</td>\n",
       "      <td>0.0</td>\n",
       "      <td>0.0</td>\n",
       "      <td>0.0</td>\n",
       "      <td>0.0</td>\n",
       "      <td>0</td>\n",
       "    </tr>\n",
       "  </tbody>\n",
       "</table>\n",
       "<p>1 rows × 301 columns</p>\n",
       "</div>"
      ],
      "text/plain": [
       "     userid  Moneyball (2011)  Open Water (2003)  Adaptation. (2002)  \\\n",
       "130   70801               0.0                0.0                 0.0   \n",
       "\n",
       "     The Cove (2009)  Top Five (2014)  Winter's Tale (2014)  \\\n",
       "130                0                0                   0.0   \n",
       "\n",
       "     Jupiter Ascending (2015)  La sindrome di Stendhal (1996)  \\\n",
       "130                       0.0                             0.0   \n",
       "\n",
       "     Paparazzi (2004)     ...       Lilo & Stitch (2002)  Blockers (2018)  \\\n",
       "130                 0     ...                        0.0                0   \n",
       "\n",
       "     A Beautiful Mind (2001)  Simon Sez (1999)  Southland Tales (2006)  \\\n",
       "130                      0.0                 0                       0   \n",
       "\n",
       "     The Hitcher (2007)  War Room (2015)  La flor de mi secreto (1995)  \\\n",
       "130                 0.0              0.0                           0.0   \n",
       "\n",
       "     Two for the Money (2005)  Liam (2000)  \n",
       "130                       0.0            0  \n",
       "\n",
       "[1 rows x 301 columns]"
      ]
     },
     "execution_count": 78,
     "metadata": {},
     "output_type": "execute_result"
    }
   ],
   "source": [
    "userdat.tail()\n",
    "ratings_df=userdat[userdat.userid == (70801)]\n",
    "ratings_df"
   ]
  },
  {
   "cell_type": "code",
   "execution_count": 79,
   "metadata": {
    "ExecuteTime": {
     "end_time": "2019-03-02T14:37:32.583298Z",
     "start_time": "2019-03-02T14:37:32.576319Z"
    }
   },
   "outputs": [
    {
     "data": {
      "text/plain": [
       "array([[ 4.5,  3. ,  5. , ...,  0. ,  0. ,  2. ],\n",
       "       [ 4. ,  0. ,  0. , ...,  0. ,  0. ,  0. ],\n",
       "       [ 3.5,  0. ,  3. , ...,  0. ,  0. ,  0. ],\n",
       "       ..., \n",
       "       [ 0. ,  4.5,  0. , ...,  0. ,  0. ,  0. ],\n",
       "       [ 0. ,  0. ,  4. , ...,  0. ,  0. ,  0. ],\n",
       "       [ 0. ,  0. ,  0. , ...,  0. ,  0. ,  0. ]])"
      ]
     },
     "execution_count": 79,
     "metadata": {},
     "output_type": "execute_result"
    }
   ],
   "source": [
    "from scipy.sparse.linalg import svds\n",
    "userdatmatrix= userdat.drop('userid', axis = 1).as_matrix()\n",
    "userdatmatrix"
   ]
  },
  {
   "cell_type": "code",
   "execution_count": 80,
   "metadata": {
    "ExecuteTime": {
     "end_time": "2019-03-02T14:37:33.748314Z",
     "start_time": "2019-03-02T14:37:33.744307Z"
    }
   },
   "outputs": [],
   "source": [
    "user_ratings_mean = np.mean(userdatmatrix, axis = 1)\n",
    "demeaned = userdatmatrix - user_ratings_mean.reshape(-1, 1)\n",
    "#includes cuatom user too\n"
   ]
  },
  {
   "cell_type": "code",
   "execution_count": 81,
   "metadata": {
    "ExecuteTime": {
     "end_time": "2019-03-02T14:37:35.508564Z",
     "start_time": "2019-03-02T14:37:35.491611Z"
    }
   },
   "outputs": [],
   "source": [
    "u, sigma, Vt = svds(demeaned, k = 60)\n",
    "sigma = np.diag(sigma)\n",
    "predicted_ratings = np.dot(np.dot(u, sigma), Vt) + user_ratings_mean.reshape(-1, 1)\n"
   ]
  },
  {
   "cell_type": "code",
   "execution_count": 369,
   "metadata": {
    "ExecuteTime": {
     "end_time": "2019-02-08T20:01:59.924161Z",
     "start_time": "2019-02-08T20:01:55.284577Z"
    }
   },
   "outputs": [],
   "source": [
    "#130 is my user index manually entried\n"
   ]
  },
  {
   "cell_type": "code",
   "execution_count": 82,
   "metadata": {
    "ExecuteTime": {
     "end_time": "2019-03-02T14:37:38.530134Z",
     "start_time": "2019-03-02T14:37:38.509190Z"
    }
   },
   "outputs": [
    {
     "data": {
      "text/html": [
       "<div>\n",
       "<style scoped>\n",
       "    .dataframe tbody tr th:only-of-type {\n",
       "        vertical-align: middle;\n",
       "    }\n",
       "\n",
       "    .dataframe tbody tr th {\n",
       "        vertical-align: top;\n",
       "    }\n",
       "\n",
       "    .dataframe thead th {\n",
       "        text-align: right;\n",
       "    }\n",
       "</style>\n",
       "<table border=\"1\" class=\"dataframe\">\n",
       "  <thead>\n",
       "    <tr style=\"text-align: right;\">\n",
       "      <th></th>\n",
       "      <th>Moneyball (2011)</th>\n",
       "      <th>Open Water (2003)</th>\n",
       "      <th>Adaptation. (2002)</th>\n",
       "      <th>The Cove (2009)</th>\n",
       "      <th>Top Five (2014)</th>\n",
       "      <th>Winter's Tale (2014)</th>\n",
       "      <th>Jupiter Ascending (2015)</th>\n",
       "      <th>La sindrome di Stendhal (1996)</th>\n",
       "      <th>Paparazzi (2004)</th>\n",
       "      <th>EverAfter (1998)</th>\n",
       "      <th>...</th>\n",
       "      <th>Lilo &amp; Stitch (2002)</th>\n",
       "      <th>Blockers (2018)</th>\n",
       "      <th>A Beautiful Mind (2001)</th>\n",
       "      <th>Simon Sez (1999)</th>\n",
       "      <th>Southland Tales (2006)</th>\n",
       "      <th>The Hitcher (2007)</th>\n",
       "      <th>War Room (2015)</th>\n",
       "      <th>La flor de mi secreto (1995)</th>\n",
       "      <th>Two for the Money (2005)</th>\n",
       "      <th>Liam (2000)</th>\n",
       "    </tr>\n",
       "  </thead>\n",
       "  <tbody>\n",
       "    <tr>\n",
       "      <th>126</th>\n",
       "      <td>1.173805</td>\n",
       "      <td>0.155638</td>\n",
       "      <td>0.261786</td>\n",
       "      <td>1.294464</td>\n",
       "      <td>0.099595</td>\n",
       "      <td>0.006603</td>\n",
       "      <td>-0.118743</td>\n",
       "      <td>0.052708</td>\n",
       "      <td>0.035962</td>\n",
       "      <td>-0.126306</td>\n",
       "      <td>...</td>\n",
       "      <td>-0.117407</td>\n",
       "      <td>0.218877</td>\n",
       "      <td>4.054503</td>\n",
       "      <td>0.003071</td>\n",
       "      <td>-0.025251</td>\n",
       "      <td>0.250045</td>\n",
       "      <td>0.018715</td>\n",
       "      <td>0.102722</td>\n",
       "      <td>-0.192498</td>\n",
       "      <td>0.006204</td>\n",
       "    </tr>\n",
       "    <tr>\n",
       "      <th>127</th>\n",
       "      <td>-0.112599</td>\n",
       "      <td>-0.102003</td>\n",
       "      <td>0.293170</td>\n",
       "      <td>-0.147468</td>\n",
       "      <td>-0.074063</td>\n",
       "      <td>-0.040422</td>\n",
       "      <td>-0.149267</td>\n",
       "      <td>0.003798</td>\n",
       "      <td>-0.065777</td>\n",
       "      <td>0.521206</td>\n",
       "      <td>...</td>\n",
       "      <td>0.144364</td>\n",
       "      <td>0.017584</td>\n",
       "      <td>-0.021607</td>\n",
       "      <td>-0.027804</td>\n",
       "      <td>0.138662</td>\n",
       "      <td>0.018651</td>\n",
       "      <td>-0.019123</td>\n",
       "      <td>-0.048735</td>\n",
       "      <td>0.157381</td>\n",
       "      <td>0.111094</td>\n",
       "    </tr>\n",
       "    <tr>\n",
       "      <th>128</th>\n",
       "      <td>0.069110</td>\n",
       "      <td>2.010574</td>\n",
       "      <td>-0.151646</td>\n",
       "      <td>2.064703</td>\n",
       "      <td>0.340828</td>\n",
       "      <td>0.098911</td>\n",
       "      <td>-0.085078</td>\n",
       "      <td>-0.142960</td>\n",
       "      <td>-0.111858</td>\n",
       "      <td>-0.539221</td>\n",
       "      <td>...</td>\n",
       "      <td>0.495079</td>\n",
       "      <td>0.415644</td>\n",
       "      <td>3.853372</td>\n",
       "      <td>0.084197</td>\n",
       "      <td>0.192859</td>\n",
       "      <td>0.028800</td>\n",
       "      <td>0.068928</td>\n",
       "      <td>0.103092</td>\n",
       "      <td>0.225168</td>\n",
       "      <td>0.090062</td>\n",
       "    </tr>\n",
       "    <tr>\n",
       "      <th>129</th>\n",
       "      <td>-0.328988</td>\n",
       "      <td>0.001551</td>\n",
       "      <td>2.820065</td>\n",
       "      <td>0.165993</td>\n",
       "      <td>0.076421</td>\n",
       "      <td>0.005124</td>\n",
       "      <td>0.027423</td>\n",
       "      <td>0.014646</td>\n",
       "      <td>-0.152362</td>\n",
       "      <td>-0.041470</td>\n",
       "      <td>...</td>\n",
       "      <td>0.145353</td>\n",
       "      <td>0.115378</td>\n",
       "      <td>0.069289</td>\n",
       "      <td>0.004713</td>\n",
       "      <td>0.056645</td>\n",
       "      <td>-0.184748</td>\n",
       "      <td>-0.006522</td>\n",
       "      <td>-0.198151</td>\n",
       "      <td>0.044744</td>\n",
       "      <td>-0.097943</td>\n",
       "    </tr>\n",
       "    <tr>\n",
       "      <th>130</th>\n",
       "      <td>0.418324</td>\n",
       "      <td>-0.135456</td>\n",
       "      <td>0.045530</td>\n",
       "      <td>0.071136</td>\n",
       "      <td>0.118496</td>\n",
       "      <td>0.064710</td>\n",
       "      <td>0.055809</td>\n",
       "      <td>0.093141</td>\n",
       "      <td>-0.041295</td>\n",
       "      <td>-0.005127</td>\n",
       "      <td>...</td>\n",
       "      <td>0.001951</td>\n",
       "      <td>0.034109</td>\n",
       "      <td>-0.081774</td>\n",
       "      <td>0.044484</td>\n",
       "      <td>-0.044086</td>\n",
       "      <td>-0.017370</td>\n",
       "      <td>0.000812</td>\n",
       "      <td>-0.139405</td>\n",
       "      <td>0.130915</td>\n",
       "      <td>-0.007078</td>\n",
       "    </tr>\n",
       "  </tbody>\n",
       "</table>\n",
       "<p>5 rows × 300 columns</p>\n",
       "</div>"
      ],
      "text/plain": [
       "     Moneyball (2011)  Open Water (2003)  Adaptation. (2002)  The Cove (2009)  \\\n",
       "126          1.173805           0.155638            0.261786         1.294464   \n",
       "127         -0.112599          -0.102003            0.293170        -0.147468   \n",
       "128          0.069110           2.010574           -0.151646         2.064703   \n",
       "129         -0.328988           0.001551            2.820065         0.165993   \n",
       "130          0.418324          -0.135456            0.045530         0.071136   \n",
       "\n",
       "     Top Five (2014)  Winter's Tale (2014)  Jupiter Ascending (2015)  \\\n",
       "126         0.099595              0.006603                 -0.118743   \n",
       "127        -0.074063             -0.040422                 -0.149267   \n",
       "128         0.340828              0.098911                 -0.085078   \n",
       "129         0.076421              0.005124                  0.027423   \n",
       "130         0.118496              0.064710                  0.055809   \n",
       "\n",
       "     La sindrome di Stendhal (1996)  Paparazzi (2004)  EverAfter (1998)  \\\n",
       "126                        0.052708          0.035962         -0.126306   \n",
       "127                        0.003798         -0.065777          0.521206   \n",
       "128                       -0.142960         -0.111858         -0.539221   \n",
       "129                        0.014646         -0.152362         -0.041470   \n",
       "130                        0.093141         -0.041295         -0.005127   \n",
       "\n",
       "        ...       Lilo & Stitch (2002)  Blockers (2018)  \\\n",
       "126     ...                  -0.117407         0.218877   \n",
       "127     ...                   0.144364         0.017584   \n",
       "128     ...                   0.495079         0.415644   \n",
       "129     ...                   0.145353         0.115378   \n",
       "130     ...                   0.001951         0.034109   \n",
       "\n",
       "     A Beautiful Mind (2001)  Simon Sez (1999)  Southland Tales (2006)  \\\n",
       "126                 4.054503          0.003071               -0.025251   \n",
       "127                -0.021607         -0.027804                0.138662   \n",
       "128                 3.853372          0.084197                0.192859   \n",
       "129                 0.069289          0.004713                0.056645   \n",
       "130                -0.081774          0.044484               -0.044086   \n",
       "\n",
       "     The Hitcher (2007)  War Room (2015)  La flor de mi secreto (1995)  \\\n",
       "126            0.250045         0.018715                      0.102722   \n",
       "127            0.018651        -0.019123                     -0.048735   \n",
       "128            0.028800         0.068928                      0.103092   \n",
       "129           -0.184748        -0.006522                     -0.198151   \n",
       "130           -0.017370         0.000812                     -0.139405   \n",
       "\n",
       "     Two for the Money (2005)  Liam (2000)  \n",
       "126                 -0.192498     0.006204  \n",
       "127                  0.157381     0.111094  \n",
       "128                  0.225168     0.090062  \n",
       "129                  0.044744    -0.097943  \n",
       "130                  0.130915    -0.007078  \n",
       "\n",
       "[5 rows x 300 columns]"
      ]
     },
     "execution_count": 82,
     "metadata": {},
     "output_type": "execute_result"
    }
   ],
   "source": [
    "df_preds = pd.DataFrame(predicted_ratings, columns = index_movie_mapping.values())\n",
    "df_preds.tail()"
   ]
  },
  {
   "cell_type": "code",
   "execution_count": null,
   "metadata": {},
   "outputs": [],
   "source": []
  },
  {
   "cell_type": "code",
   "execution_count": 93,
   "metadata": {
    "ExecuteTime": {
     "end_time": "2019-03-02T14:46:57.067768Z",
     "start_time": "2019-03-02T14:46:57.062781Z"
    }
   },
   "outputs": [],
   "source": [
    "def recommend_matrixmov(ratings_df,movies_df):\n",
    "    \n",
    "    user_data = ratings_df\n",
    "    #user_full = (user_data.merge(movies_df, how = 'left', left_on = 'movid', right_on = 'movid').sort_values(['rating'], ascending=False))\n",
    "    \n",
    "    sp = df_preds.iloc[130].sort_values(ascending=False)\n",
    "    top_select=[]\n",
    "    cou=0\n",
    "    for name,value in dict(sp).items():\n",
    "        if cou==4:\n",
    "            break\n",
    "        if name in delete_temp.index:\n",
    "            continue\n",
    "        else:\n",
    "            top_select.append(name)\n",
    "            cou+=1\n",
    "    \n",
    "                 \n",
    "   \n",
    "#     top_select = (movies_df[~movies_df['movid'].isin(user_full['movid'])].merge(pd.DataFrame(sp).reset_index(), how = 'left',\n",
    "         \n",
    "#                left_on = 'movid',right_on = 'movid').rename(columns = {130: 'Predictions'}).sort_values('Predictions', ascending = False).\n",
    "#                        iloc[:4, :-1])#change 4 to see top numbr of movie recos\n",
    "                      \n",
    "               \n",
    "    return top_select"
   ]
  },
  {
   "cell_type": "code",
   "execution_count": 94,
   "metadata": {
    "ExecuteTime": {
     "end_time": "2019-03-02T14:46:58.194934Z",
     "start_time": "2019-03-02T14:46:58.188912Z"
    },
    "scrolled": true
   },
   "outputs": [],
   "source": [
    "top_recos = recommend_matrixmov(ratings_df,mov)\n",
    "\n",
    "\n",
    "    "
   ]
  },
  {
   "cell_type": "code",
   "execution_count": 89,
   "metadata": {
    "ExecuteTime": {
     "end_time": "2019-03-02T14:45:07.309267Z",
     "start_time": "2019-03-02T14:45:07.289322Z"
    }
   },
   "outputs": [
    {
     "name": "stdout",
     "output_type": "stream",
     "text": [
      "\u001b[1mTop 4 recommendations:\u001b[0m\n",
      "Pay It Forward (2000) ['Drama']\n"
     ]
    },
    {
     "data": {
      "image/jpeg": "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\n",
      "text/plain": [
       "<IPython.core.display.Image object>"
      ]
     },
     "metadata": {
      "image/jpeg": {
       "height": 100,
       "width": 100
      }
     },
     "output_type": "display_data"
    },
    {
     "name": "stdout",
     "output_type": "stream",
     "text": [
      "Evita (1996) ['Biography', 'Drama', 'History']\n"
     ]
    },
    {
     "data": {
      "image/jpeg": "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\n",
      "text/plain": [
       "<IPython.core.display.Image object>"
      ]
     },
     "metadata": {
      "image/jpeg": {
       "height": 100,
       "width": 100
      }
     },
     "output_type": "display_data"
    },
    {
     "name": "stdout",
     "output_type": "stream",
     "text": [
      "Payback (1999) ['Action', 'Crime', 'Drama']\n"
     ]
    },
    {
     "data": {
      "image/jpeg": "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\n",
      "text/plain": [
       "<IPython.core.display.Image object>"
      ]
     },
     "metadata": {
      "image/jpeg": {
       "height": 100,
       "width": 100
      }
     },
     "output_type": "display_data"
    },
    {
     "name": "stdout",
     "output_type": "stream",
     "text": [
      "The Imaginarium of Doctor Parnassus (2009) ['Adventure', 'Comedy', 'Fantasy']\n"
     ]
    },
    {
     "data": {
      "image/jpeg": "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\n",
      "text/plain": [
       "<IPython.core.display.Image object>"
      ]
     },
     "metadata": {
      "image/jpeg": {
       "height": 100,
       "width": 100
      }
     },
     "output_type": "display_data"
    }
   ],
   "source": [
    "from IPython.display import Image\n",
    "print('\\033[1m'+\"Top 4 recommendations:\"+'\\033[0m')\n",
    "   \n",
    "for pred in top_recos:\n",
    "    \n",
    "    print(pred,mov[mov['movie']==pred]['genres'].values[0])\n",
    "    display(Image(filename = \"C:\\\\Users\\\\Jayant\\\\Desktop\\\\precog\\\\Posters\\\\\" + str(pred.replace(\":\", \"\").replace(\"?\",\"\"))+\".jpg\", width=100, height=100))\n"
   ]
  },
  {
   "cell_type": "code",
   "execution_count": 70,
   "metadata": {
    "ExecuteTime": {
     "end_time": "2019-03-02T14:34:15.628392Z",
     "start_time": "2019-03-02T14:34:15.623406Z"
    }
   },
   "outputs": [],
   "source": [
    "########################################################################"
   ]
  },
  {
   "cell_type": "code",
   "execution_count": null,
   "metadata": {},
   "outputs": [],
   "source": []
  },
  {
   "cell_type": "markdown",
   "metadata": {},
   "source": [
    "## user user filtering "
   ]
  },
  {
   "cell_type": "code",
   "execution_count": 51,
   "metadata": {
    "ExecuteTime": {
     "end_time": "2019-02-15T09:42:32.611038Z",
     "start_time": "2019-02-15T09:42:32.595082Z"
    }
   },
   "outputs": [
    {
     "data": {
      "text/html": [
       "<div>\n",
       "<style scoped>\n",
       "    .dataframe tbody tr th:only-of-type {\n",
       "        vertical-align: middle;\n",
       "    }\n",
       "\n",
       "    .dataframe tbody tr th {\n",
       "        vertical-align: top;\n",
       "    }\n",
       "\n",
       "    .dataframe thead th {\n",
       "        text-align: right;\n",
       "    }\n",
       "</style>\n",
       "<table border=\"1\" class=\"dataframe\">\n",
       "  <thead>\n",
       "    <tr style=\"text-align: right;\">\n",
       "      <th></th>\n",
       "      <th>Unnamed: 0</th>\n",
       "      <th>genres</th>\n",
       "      <th>imdb</th>\n",
       "      <th>imdb_id</th>\n",
       "      <th>metascore</th>\n",
       "      <th>movid</th>\n",
       "      <th>movie</th>\n",
       "      <th>plot</th>\n",
       "      <th>votes</th>\n",
       "      <th>year</th>\n",
       "    </tr>\n",
       "  </thead>\n",
       "  <tbody>\n",
       "    <tr>\n",
       "      <th>0</th>\n",
       "      <td>0</td>\n",
       "      <td>['Biography', 'Drama', 'Sport']</td>\n",
       "      <td>7.6</td>\n",
       "      <td>1210166</td>\n",
       "      <td>87</td>\n",
       "      <td>89492</td>\n",
       "      <td>Moneyball (2011)</td>\n",
       "      <td>Oakland A's general manager Billy Beane's succ...</td>\n",
       "      <td>320711</td>\n",
       "      <td>2011</td>\n",
       "    </tr>\n",
       "    <tr>\n",
       "      <th>1</th>\n",
       "      <td>1</td>\n",
       "      <td>['Adventure', 'Drama', 'Horror']</td>\n",
       "      <td>5.7</td>\n",
       "      <td>374102</td>\n",
       "      <td>63</td>\n",
       "      <td>27822</td>\n",
       "      <td>Open Water (2003)</td>\n",
       "      <td>Based on the true story of two scuba divers ac...</td>\n",
       "      <td>47529</td>\n",
       "      <td>2003</td>\n",
       "    </tr>\n",
       "    <tr>\n",
       "      <th>2</th>\n",
       "      <td>2</td>\n",
       "      <td>['Comedy', 'Drama']</td>\n",
       "      <td>7.7</td>\n",
       "      <td>268126</td>\n",
       "      <td>83</td>\n",
       "      <td>5902</td>\n",
       "      <td>Adaptation. (2002)</td>\n",
       "      <td>A lovelorn screenwriter becomes desperate as h...</td>\n",
       "      <td>163178</td>\n",
       "      <td>2002</td>\n",
       "    </tr>\n",
       "    <tr>\n",
       "      <th>3</th>\n",
       "      <td>3</td>\n",
       "      <td>['Documentary', 'Crime']</td>\n",
       "      <td>8.4</td>\n",
       "      <td>1313104</td>\n",
       "      <td>84</td>\n",
       "      <td>71462</td>\n",
       "      <td>The Cove (2009)</td>\n",
       "      <td>Using state-of-the-art equipment, a group of a...</td>\n",
       "      <td>44744</td>\n",
       "      <td>2009</td>\n",
       "    </tr>\n",
       "    <tr>\n",
       "      <th>4</th>\n",
       "      <td>4</td>\n",
       "      <td>['Comedy', 'Romance']</td>\n",
       "      <td>6.4</td>\n",
       "      <td>2784678</td>\n",
       "      <td>81</td>\n",
       "      <td>118924</td>\n",
       "      <td>Top Five (2014)</td>\n",
       "      <td>A comedian tries to make it as a serious actor...</td>\n",
       "      <td>24539</td>\n",
       "      <td>2014</td>\n",
       "    </tr>\n",
       "  </tbody>\n",
       "</table>\n",
       "</div>"
      ],
      "text/plain": [
       "   Unnamed: 0                            genres  imdb  imdb_id  metascore  \\\n",
       "0           0   ['Biography', 'Drama', 'Sport']   7.6  1210166         87   \n",
       "1           1  ['Adventure', 'Drama', 'Horror']   5.7   374102         63   \n",
       "2           2               ['Comedy', 'Drama']   7.7   268126         83   \n",
       "3           3          ['Documentary', 'Crime']   8.4  1313104         84   \n",
       "4           4             ['Comedy', 'Romance']   6.4  2784678         81   \n",
       "\n",
       "    movid               movie  \\\n",
       "0   89492    Moneyball (2011)   \n",
       "1   27822   Open Water (2003)   \n",
       "2    5902  Adaptation. (2002)   \n",
       "3   71462     The Cove (2009)   \n",
       "4  118924     Top Five (2014)   \n",
       "\n",
       "                                                plot   votes  year  \n",
       "0  Oakland A's general manager Billy Beane's succ...  320711  2011  \n",
       "1  Based on the true story of two scuba divers ac...   47529  2003  \n",
       "2  A lovelorn screenwriter becomes desperate as h...  163178  2002  \n",
       "3  Using state-of-the-art equipment, a group of a...   44744  2009  \n",
       "4  A comedian tries to make it as a serious actor...   24539  2014  "
      ]
     },
     "execution_count": 51,
     "metadata": {},
     "output_type": "execute_result"
    }
   ],
   "source": [
    "mov.head()"
   ]
  },
  {
   "cell_type": "code",
   "execution_count": null,
   "metadata": {},
   "outputs": [],
   "source": []
  },
  {
   "cell_type": "code",
   "execution_count": 111,
   "metadata": {
    "ExecuteTime": {
     "end_time": "2019-03-04T08:12:56.178538Z",
     "start_time": "2019-03-04T08:12:56.129670Z"
    },
    "scrolled": true
   },
   "outputs": [
    {
     "data": {
      "text/html": [
       "<div>\n",
       "<style scoped>\n",
       "    .dataframe tbody tr th:only-of-type {\n",
       "        vertical-align: middle;\n",
       "    }\n",
       "\n",
       "    .dataframe tbody tr th {\n",
       "        vertical-align: top;\n",
       "    }\n",
       "\n",
       "    .dataframe thead th {\n",
       "        text-align: right;\n",
       "    }\n",
       "</style>\n",
       "<table border=\"1\" class=\"dataframe\">\n",
       "  <thead>\n",
       "    <tr style=\"text-align: right;\">\n",
       "      <th></th>\n",
       "      <th>userid</th>\n",
       "      <th>Moneyball (2011)</th>\n",
       "      <th>Open Water (2003)</th>\n",
       "      <th>Adaptation (2002)</th>\n",
       "      <th>The Cove (2009)</th>\n",
       "      <th>Top Five (2014)</th>\n",
       "      <th>Winter's Tale (2014)</th>\n",
       "      <th>Jupiter Ascending (2015)</th>\n",
       "      <th>La sindrome di Stendhal (1996)</th>\n",
       "      <th>Paparazzi (2004)</th>\n",
       "      <th>...</th>\n",
       "      <th>Lilo &amp; Stitch (2002)</th>\n",
       "      <th>Blockers (2018)</th>\n",
       "      <th>A Beautiful Mind (2001)</th>\n",
       "      <th>Simon Sez (1999)</th>\n",
       "      <th>Southland Tales (2006)</th>\n",
       "      <th>The Hitcher (2007)</th>\n",
       "      <th>War Room (2015)</th>\n",
       "      <th>La flor de mi secreto (1995)</th>\n",
       "      <th>Two for the Money (2005)</th>\n",
       "      <th>Liam (2000)</th>\n",
       "    </tr>\n",
       "  </thead>\n",
       "  <tbody>\n",
       "    <tr>\n",
       "      <th>125</th>\n",
       "      <td>325</td>\n",
       "      <td>0.0</td>\n",
       "      <td>0.0</td>\n",
       "      <td>0.0</td>\n",
       "      <td>0</td>\n",
       "      <td>0</td>\n",
       "      <td>0.0</td>\n",
       "      <td>0.0</td>\n",
       "      <td>0.0</td>\n",
       "      <td>0</td>\n",
       "      <td>...</td>\n",
       "      <td>4.0</td>\n",
       "      <td>0</td>\n",
       "      <td>0.0</td>\n",
       "      <td>0</td>\n",
       "      <td>0</td>\n",
       "      <td>0.0</td>\n",
       "      <td>0.0</td>\n",
       "      <td>0.0</td>\n",
       "      <td>0.0</td>\n",
       "      <td>0</td>\n",
       "    </tr>\n",
       "    <tr>\n",
       "      <th>126</th>\n",
       "      <td>326</td>\n",
       "      <td>1.0</td>\n",
       "      <td>0.0</td>\n",
       "      <td>0.0</td>\n",
       "      <td>4</td>\n",
       "      <td>0</td>\n",
       "      <td>0.0</td>\n",
       "      <td>0.0</td>\n",
       "      <td>0.0</td>\n",
       "      <td>0</td>\n",
       "      <td>...</td>\n",
       "      <td>0.0</td>\n",
       "      <td>0</td>\n",
       "      <td>4.5</td>\n",
       "      <td>0</td>\n",
       "      <td>0</td>\n",
       "      <td>0.0</td>\n",
       "      <td>0.0</td>\n",
       "      <td>0.0</td>\n",
       "      <td>0.0</td>\n",
       "      <td>0</td>\n",
       "    </tr>\n",
       "    <tr>\n",
       "      <th>127</th>\n",
       "      <td>372</td>\n",
       "      <td>0.0</td>\n",
       "      <td>0.0</td>\n",
       "      <td>0.0</td>\n",
       "      <td>0</td>\n",
       "      <td>0</td>\n",
       "      <td>0.0</td>\n",
       "      <td>0.0</td>\n",
       "      <td>0.0</td>\n",
       "      <td>0</td>\n",
       "      <td>...</td>\n",
       "      <td>0.0</td>\n",
       "      <td>0</td>\n",
       "      <td>0.0</td>\n",
       "      <td>0</td>\n",
       "      <td>0</td>\n",
       "      <td>0.0</td>\n",
       "      <td>0.0</td>\n",
       "      <td>0.0</td>\n",
       "      <td>0.0</td>\n",
       "      <td>0</td>\n",
       "    </tr>\n",
       "    <tr>\n",
       "      <th>128</th>\n",
       "      <td>419</td>\n",
       "      <td>0.0</td>\n",
       "      <td>4.5</td>\n",
       "      <td>0.0</td>\n",
       "      <td>4</td>\n",
       "      <td>0</td>\n",
       "      <td>0.0</td>\n",
       "      <td>0.0</td>\n",
       "      <td>0.0</td>\n",
       "      <td>0</td>\n",
       "      <td>...</td>\n",
       "      <td>0.0</td>\n",
       "      <td>0</td>\n",
       "      <td>3.5</td>\n",
       "      <td>0</td>\n",
       "      <td>0</td>\n",
       "      <td>0.0</td>\n",
       "      <td>0.0</td>\n",
       "      <td>0.0</td>\n",
       "      <td>0.0</td>\n",
       "      <td>0</td>\n",
       "    </tr>\n",
       "    <tr>\n",
       "      <th>129</th>\n",
       "      <td>420</td>\n",
       "      <td>0.0</td>\n",
       "      <td>0.0</td>\n",
       "      <td>4.0</td>\n",
       "      <td>0</td>\n",
       "      <td>0</td>\n",
       "      <td>0.0</td>\n",
       "      <td>0.0</td>\n",
       "      <td>0.0</td>\n",
       "      <td>0</td>\n",
       "      <td>...</td>\n",
       "      <td>0.0</td>\n",
       "      <td>0</td>\n",
       "      <td>0.0</td>\n",
       "      <td>0</td>\n",
       "      <td>0</td>\n",
       "      <td>0.0</td>\n",
       "      <td>0.0</td>\n",
       "      <td>0.0</td>\n",
       "      <td>0.0</td>\n",
       "      <td>0</td>\n",
       "    </tr>\n",
       "  </tbody>\n",
       "</table>\n",
       "<p>5 rows × 301 columns</p>\n",
       "</div>"
      ],
      "text/plain": [
       "     userid  Moneyball (2011)  Open Water (2003)  Adaptation (2002)  \\\n",
       "125     325               0.0                0.0                0.0   \n",
       "126     326               1.0                0.0                0.0   \n",
       "127     372               0.0                0.0                0.0   \n",
       "128     419               0.0                4.5                0.0   \n",
       "129     420               0.0                0.0                4.0   \n",
       "\n",
       "     The Cove (2009)  Top Five (2014)  Winter's Tale (2014)  \\\n",
       "125                0                0                   0.0   \n",
       "126                4                0                   0.0   \n",
       "127                0                0                   0.0   \n",
       "128                4                0                   0.0   \n",
       "129                0                0                   0.0   \n",
       "\n",
       "     Jupiter Ascending (2015)  La sindrome di Stendhal (1996)  \\\n",
       "125                       0.0                             0.0   \n",
       "126                       0.0                             0.0   \n",
       "127                       0.0                             0.0   \n",
       "128                       0.0                             0.0   \n",
       "129                       0.0                             0.0   \n",
       "\n",
       "     Paparazzi (2004)     ...       Lilo & Stitch (2002)  Blockers (2018)  \\\n",
       "125                 0     ...                        4.0                0   \n",
       "126                 0     ...                        0.0                0   \n",
       "127                 0     ...                        0.0                0   \n",
       "128                 0     ...                        0.0                0   \n",
       "129                 0     ...                        0.0                0   \n",
       "\n",
       "     A Beautiful Mind (2001)  Simon Sez (1999)  Southland Tales (2006)  \\\n",
       "125                      0.0                 0                       0   \n",
       "126                      4.5                 0                       0   \n",
       "127                      0.0                 0                       0   \n",
       "128                      3.5                 0                       0   \n",
       "129                      0.0                 0                       0   \n",
       "\n",
       "     The Hitcher (2007)  War Room (2015)  La flor de mi secreto (1995)  \\\n",
       "125                 0.0              0.0                           0.0   \n",
       "126                 0.0              0.0                           0.0   \n",
       "127                 0.0              0.0                           0.0   \n",
       "128                 0.0              0.0                           0.0   \n",
       "129                 0.0              0.0                           0.0   \n",
       "\n",
       "     Two for the Money (2005)  Liam (2000)  \n",
       "125                       0.0            0  \n",
       "126                       0.0            0  \n",
       "127                       0.0            0  \n",
       "128                       0.0            0  \n",
       "129                       0.0            0  \n",
       "\n",
       "[5 rows x 301 columns]"
      ]
     },
     "execution_count": 111,
     "metadata": {},
     "output_type": "execute_result"
    }
   ],
   "source": [
    "mov=pd.read_csv(\"C:\\\\Users\\\\Jayant\\\\Desktop\\\\precog\\\\precog_imdb300.csv\")\n",
    "userdat=pd.read_csv(\"C:\\\\Users\\\\Jayant\\\\Desktop\\\\precog\\\\itemitemuserdat.csv\")\n",
    "\n",
    "temp_name=list(userdat.columns)\n",
    "temp_name.remove('userid')\n",
    "\n",
    "\n",
    "index_movie_mapping=dict(enumerate(temp_name))\n",
    "userdat.tail()"
   ]
  },
  {
   "cell_type": "code",
   "execution_count": null,
   "metadata": {},
   "outputs": [],
   "source": [
    "count=0\n",
    "from IPython.display import Image\n",
    "for pred1 in index_movie_mapping.values():\n",
    "    print('\\033[1m',count,'\\033[0m',\"||\",pred1,mov[mov['movie']==pred1]['genres'].values[0])\n",
    "    count=count+1\n",
    "    display(Image(filename = \"C:\\\\Users\\\\Jayant\\\\Desktop\\\\precog\\\\Posters\\\\\" + str(pred1.replace(\":\", \"\").replace(\"?\",\"\"))+\".jpg\", width=100, height=100))"
   ]
  },
  {
   "cell_type": "code",
   "execution_count": 112,
   "metadata": {
    "ExecuteTime": {
     "end_time": "2019-03-04T08:13:18.002930Z",
     "start_time": "2019-03-04T08:13:07.493047Z"
    }
   },
   "outputs": [
    {
     "name": "stdout",
     "output_type": "stream",
     "text": [
      "\u001b[1m 1 --Enter Movie number you have seen and rate them from 1 to 5 \u001b[0m\n",
      "Enter Movie No.#-->3\n",
      "Plese Rate it!-->3\n",
      "\n",
      "\u001b[1m 2 --Enter Movie number you have seen and rate them from 1 to 5 \u001b[0m\n",
      "Enter Movie No.#-->44\n",
      "Plese Rate it!-->3\n",
      "\n",
      "\u001b[1m 3 --Enter Movie number you have seen and rate them from 1 to 5 \u001b[0m\n",
      "Enter Movie No.#-->22\n",
      "Plese Rate it!-->3\n",
      "\n",
      "\u001b[1m 4 --Enter Movie number you have seen and rate them from 1 to 5 \u001b[0m\n",
      "Enter Movie No.#-->21\n",
      "Plese Rate it!-->1\n",
      "\n"
     ]
    }
   ],
   "source": [
    "m=[]\n",
    "like=[]\n",
    "for x in range(1,5):\n",
    "    \n",
    "    print(\"\\033[1m\",x,\"--Enter Movie number you have seen and rate them from 1 to 5\",\"\\033[0m\")\n",
    "    m.append(int(input(\"Enter Movie No.#-->\")))\n",
    "    like.append(int(input(\"Plese Rate it!-->\")))\n",
    "    print(\"\")"
   ]
  },
  {
   "cell_type": "code",
   "execution_count": 113,
   "metadata": {
    "ExecuteTime": {
     "end_time": "2019-03-04T08:13:23.670193Z",
     "start_time": "2019-03-04T08:13:23.627334Z"
    }
   },
   "outputs": [],
   "source": [
    "# np.savetxt(\"foo.csv\", user_similarity, delimiter=\",\")\n",
    "customentry=[0 for i in range(300)]\n",
    "###########\n",
    "#taking value from ui of indexes and values\n",
    "\n",
    "#130 is my user index and 70801 is userid\n",
    "\n",
    "#m=[55,5,90,8]\n",
    "customentry[m[0]]=like[0]\n",
    "customentry[m[1]]=like[1]\n",
    "customentry[m[2]]=like[2]\n",
    "customentry[m[3]]=like[3]\n",
    "##########\n",
    "\n",
    "\n",
    "userid=70801\n",
    "customentry.insert(0,userid)\n",
    "userdat.loc[130] = customentry "
   ]
  },
  {
   "cell_type": "code",
   "execution_count": 296,
   "metadata": {
    "ExecuteTime": {
     "end_time": "2019-02-08T16:33:42.707220Z",
     "start_time": "2019-02-08T16:33:42.705226Z"
    }
   },
   "outputs": [],
   "source": [
    "# userdat.tail()\n"
   ]
  },
  {
   "cell_type": "code",
   "execution_count": 114,
   "metadata": {
    "ExecuteTime": {
     "end_time": "2019-03-04T08:13:25.809802Z",
     "start_time": "2019-03-04T08:13:25.787913Z"
    }
   },
   "outputs": [
    {
     "data": {
      "text/plain": [
       "The Cove (2009)             3.0\n",
       "The Ghost Writer (2010)     1.0\n",
       "Finding Neverland (2004)    3.0\n",
       "Elsa & Fred (2014)          3.0\n",
       "Name: 130, dtype: float64"
      ]
     },
     "execution_count": 114,
     "metadata": {},
     "output_type": "execute_result"
    }
   ],
   "source": [
    "given_rating = userdat.loc[130].dropna()\n",
    "#130 is my user index and 70801 is userid\n",
    "delete_temp=given_rating[given_rating.values!=0]\n",
    "del delete_temp['userid']\n",
    "delete_temp# movies i have rated"
   ]
  },
  {
   "cell_type": "code",
   "execution_count": 115,
   "metadata": {
    "ExecuteTime": {
     "end_time": "2019-03-04T08:13:26.992461Z",
     "start_time": "2019-03-04T08:13:26.984483Z"
    }
   },
   "outputs": [
    {
     "data": {
      "text/plain": [
       "(131, 300)"
      ]
     },
     "execution_count": 115,
     "metadata": {},
     "output_type": "execute_result"
    }
   ],
   "source": [
    "userdatmatrix= userdat.drop('userid', axis = 1).as_matrix()\n",
    "userdatmatrix.shape"
   ]
  },
  {
   "cell_type": "code",
   "execution_count": 116,
   "metadata": {
    "ExecuteTime": {
     "end_time": "2019-03-04T08:13:30.189668Z",
     "start_time": "2019-03-04T08:13:30.149742Z"
    }
   },
   "outputs": [],
   "source": [
    "correlation_matrix = userdat.set_index(\"userid\", drop = True)\n",
    "correlation_matrix.T.corr()\n",
    "\n",
    "user_similarity = correlation_matrix.T.corr().as_matrix()\n",
    "\n"
   ]
  },
  {
   "cell_type": "code",
   "execution_count": 117,
   "metadata": {
    "ExecuteTime": {
     "end_time": "2019-03-04T08:13:31.122814Z",
     "start_time": "2019-03-04T08:13:31.090900Z"
    }
   },
   "outputs": [],
   "source": [
    "def predict_user(userdatmatrix, user_similarity):\n",
    "    \n",
    "    mean_user_rating = userdatmatrix.mean(axis=1)\n",
    "\n",
    "    ratings_diff = (userdatmatrix - mean_user_rating[:, np.newaxis])\n",
    "    denom=np.array([np.abs(user_similarity).sum(axis=1)]).T\n",
    "    pred = mean_user_rating[:, np.newaxis] + user_similarity.dot(ratings_diff) /denom\n",
    "    return pred\n",
    "\n",
    "user_prediction = predict_user(userdatmatrix, user_similarity)"
   ]
  },
  {
   "cell_type": "code",
   "execution_count": 293,
   "metadata": {
    "ExecuteTime": {
     "end_time": "2019-02-08T16:33:16.822523Z",
     "start_time": "2019-02-08T16:33:16.816571Z"
    }
   },
   "outputs": [],
   "source": [
    "\n",
    "# user_prediction[130].max()\n",
    "# indices = np.where(user_prediction[130] == user_prediction[130].max())\n",
    "# indices"
   ]
  },
  {
   "cell_type": "code",
   "execution_count": 118,
   "metadata": {
    "ExecuteTime": {
     "end_time": "2019-03-04T08:13:33.534246Z",
     "start_time": "2019-03-04T08:13:33.525307Z"
    }
   },
   "outputs": [],
   "source": [
    "from operator import itemgetter\n",
    "temp_map=dict(enumerate(user_prediction[130]))\n",
    "\n",
    "temp_map=sorted(temp_map.items(), key=itemgetter(1),reverse=True)\n",
    "top_10=[index for index,value in temp_map][0:10]\n",
    "#print(top_10)\n",
    "final_4=[]\n",
    "count=0\n",
    "for x in top_10:\n",
    "    if count==4:\n",
    "        break\n",
    "    if x in m:\n",
    "        continue\n",
    "    else:\n",
    "        final_4.append(x)\n",
    "        count=count+1\n",
    "        \n",
    "        \n",
    "user_10_mov=[index_movie_mapping[f] for f in top_10]  \n",
    "# user_10_mov\n",
    "\n",
    "\n",
    "temp_name=list(userdat.columns)\n",
    "temp_name.remove('userid')\n",
    "\n",
    "\n",
    "index_movie_mapping=dict(enumerate(temp_name))\n",
    "#[k for k,v in a.items() if v == b]\n",
    "\n",
    "user_4_mov=[index_movie_mapping[f] for f in final_4]"
   ]
  },
  {
   "cell_type": "code",
   "execution_count": 119,
   "metadata": {
    "ExecuteTime": {
     "end_time": "2019-03-04T08:13:35.230223Z",
     "start_time": "2019-03-04T08:13:35.225236Z"
    }
   },
   "outputs": [
    {
     "data": {
      "text/plain": [
       "['A Beautiful Mind (2001)',\n",
       " 'Memento (2000)',\n",
       " 'Big Fish (2003)',\n",
       " 'Kill Bill: Vol 1 (2003)']"
      ]
     },
     "execution_count": 119,
     "metadata": {},
     "output_type": "execute_result"
    }
   ],
   "source": [
    "from IPython.display import HTML, display\n",
    "user_4_mov"
   ]
  },
  {
   "cell_type": "code",
   "execution_count": 120,
   "metadata": {
    "ExecuteTime": {
     "end_time": "2019-03-04T08:13:36.699369Z",
     "start_time": "2019-03-04T08:13:36.678424Z"
    },
    "scrolled": false
   },
   "outputs": [
    {
     "name": "stdout",
     "output_type": "stream",
     "text": [
      "\u001b[1mTop 4 recommendations:\u001b[0m\n",
      "A Beautiful Mind (2001) ['Biography', 'Drama']\n"
     ]
    },
    {
     "data": {
      "image/jpeg": "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\n",
      "text/plain": [
       "<IPython.core.display.Image object>"
      ]
     },
     "metadata": {
      "image/jpeg": {
       "height": 100,
       "width": 100
      }
     },
     "output_type": "display_data"
    },
    {
     "name": "stdout",
     "output_type": "stream",
     "text": [
      "Memento (2000) ['Mystery', 'Thriller']\n"
     ]
    },
    {
     "data": {
      "image/jpeg": "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\n",
      "text/plain": [
       "<IPython.core.display.Image object>"
      ]
     },
     "metadata": {
      "image/jpeg": {
       "height": 100,
       "width": 100
      }
     },
     "output_type": "display_data"
    },
    {
     "name": "stdout",
     "output_type": "stream",
     "text": [
      "Big Fish (2003) ['Adventure', 'Drama', 'Fantasy']\n"
     ]
    },
    {
     "data": {
      "image/jpeg": "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\n",
      "text/plain": [
       "<IPython.core.display.Image object>"
      ]
     },
     "metadata": {
      "image/jpeg": {
       "height": 100,
       "width": 100
      }
     },
     "output_type": "display_data"
    },
    {
     "name": "stdout",
     "output_type": "stream",
     "text": [
      "Kill Bill: Vol 1 (2003) ['Action', 'Crime', 'Thriller']\n"
     ]
    },
    {
     "data": {
      "image/jpeg": "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\n",
      "text/plain": [
       "<IPython.core.display.Image object>"
      ]
     },
     "metadata": {
      "image/jpeg": {
       "height": 100,
       "width": 100
      }
     },
     "output_type": "display_data"
    }
   ],
   "source": [
    "from IPython.display import Image\n",
    "print('\\033[1m'+\"Top 4 recommendations:\"+'\\033[0m')\n",
    "\n",
    "for pred in user_4_mov:\n",
    "    \n",
    "    print(pred,mov[mov['movie']==pred]['genres'].values[0])\n",
    "    display(Image(filename = \"C:\\\\Users\\\\Jayant\\\\Desktop\\\\precog\\\\Posters\\\\\" + str(pred.replace(\":\", \"\").replace(\"?\",\"\"))+\".jpg\", width=100, height=100))\n",
    "    "
   ]
  },
  {
   "cell_type": "code",
   "execution_count": 40,
   "metadata": {
    "ExecuteTime": {
     "end_time": "2019-02-15T09:28:56.889688Z",
     "start_time": "2019-02-15T09:28:56.885699Z"
    }
   },
   "outputs": [],
   "source": [
    " \n",
    "########################references used#######3\n",
    "# https://towardsdatascience.com/various-implementations-of-collaborative-filtering-100385c6dfe0\n",
    "#https://docs.scipy.org/doc/scipy/reference/generated/scipy.sparse.linalg.svds.html\n",
    "#https://en.wikipedia.org/wiki/Collaborative_filtering\n",
    "#http://recommender-systems.org/collaborative-filtering/\n",
    "#https://pandas.pydata.org/pandas-docs/stable/\n",
    "#https://www.analyticsvidhya.com/blog/2016/06/quick-guide-build-recommendation-engine-python/\n",
    "#https://data36.com/pandas-tutorial-3-important-data-formatting-methods-merge-sort-reset_index-fillna/"
   ]
  },
  {
   "cell_type": "code",
   "execution_count": 183,
   "metadata": {
    "ExecuteTime": {
     "end_time": "2019-03-04T15:47:32.240569Z",
     "start_time": "2019-03-04T15:47:32.211647Z"
    }
   },
   "outputs": [],
   "source": []
  }
 ],
 "metadata": {
  "kernelspec": {
   "display_name": "Python 3",
   "language": "python",
   "name": "python3"
  },
  "language_info": {
   "codemirror_mode": {
    "name": "ipython",
    "version": 3
   },
   "file_extension": ".py",
   "mimetype": "text/x-python",
   "name": "python",
   "nbconvert_exporter": "python",
   "pygments_lexer": "ipython3",
   "version": "3.6.5"
  },
  "varInspector": {
   "cols": {
    "lenName": 16,
    "lenType": 16,
    "lenVar": 40
   },
   "kernels_config": {
    "python": {
     "delete_cmd_postfix": "",
     "delete_cmd_prefix": "del ",
     "library": "var_list.py",
     "varRefreshCmd": "print(var_dic_list())"
    },
    "r": {
     "delete_cmd_postfix": ") ",
     "delete_cmd_prefix": "rm(",
     "library": "var_list.r",
     "varRefreshCmd": "cat(var_dic_list()) "
    }
   },
   "types_to_exclude": [
    "module",
    "function",
    "builtin_function_or_method",
    "instance",
    "_Feature"
   ],
   "window_display": false
  }
 },
 "nbformat": 4,
 "nbformat_minor": 2
}
